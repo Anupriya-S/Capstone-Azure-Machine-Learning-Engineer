{
  "cells": [
    {
      "cell_type": "markdown",
      "source": [
        "# Automated ML\n",
        "\n",
        "TODO: Import Dependencies. In the cell below, import all the dependencies that you will need to complete the project."
      ],
      "metadata": {}
    },
    {
      "cell_type": "code",
      "source": [
        "from azureml.core.workspace import Workspace\n",
        "from azureml.core.experiment import Experiment\n",
        "from azureml.core.compute import ComputeTarget, AmlCompute\n",
        "from azureml.core.compute_target import ComputeTargetException\n",
        "from azureml.core.dataset import Dataset\n",
        "from train import clean_data\n",
        "from azureml.train.automl import AutoMLConfig\n",
        "from azureml.widgets import RunDetails\n",
        "import pandas as pd\n",
        "from azureml.core.model import Model\n",
        "from azureml.core.model import InferenceConfig\n",
        "from azureml.core.webservice import AciWebservice\n",
        "import json\n",
        "import requests\n",
        "import joblib"
      ],
      "outputs": [],
      "execution_count": 43,
      "metadata": {
        "gather": {
          "logged": 1612220105673
        },
        "jupyter": {
          "outputs_hidden": false,
          "source_hidden": false
        },
        "nteract": {
          "transient": {
            "deleting": false
          }
        }
      }
    },
    {
      "cell_type": "markdown",
      "source": [
        "## Dataset\n",
        "\n",
        "### Overview\n",
        "TODO: In this markdown cell, give an overview of the dataset you are using. Also mention the task you will be performing.\n",
        "\n",
        "\n",
        "TODO: Get data. In the cell below, write code to access the data you will be using in this project. Remember that the dataset needs to be external."
      ],
      "metadata": {}
    },
    {
      "cell_type": "code",
      "source": [
        "ws = Workspace.from_config()\n",
        "\n",
        "# choose a name for experiment\n",
        "experiment_name = 'capstone_automl'\n",
        "\n",
        "exp = Experiment(ws, experiment_name)\n",
        "\n",
        "print('Workspace name: ' + ws.name, \n",
        "      'Azure region: ' + ws.location, \n",
        "      'Subscription id: ' + ws.subscription_id, \n",
        "      'Resource group: ' + ws.resource_group, sep = '\\n')\n",
        "\n",
        "run = exp.start_logging()"
      ],
      "outputs": [
        {
          "output_type": "stream",
          "name": "stdout",
          "text": [
            "Workspace name: quick-starts-ws-136873\n",
            "Azure region: southcentralus\n",
            "Subscription id: aa7cf8e8-d23f-4bce-a7b9-1f0b4e0ac8ee\n",
            "Resource group: aml-quickstarts-136873\n"
          ]
        }
      ],
      "execution_count": 20,
      "metadata": {
        "gather": {
          "logged": 1612217393025
        },
        "jupyter": {
          "outputs_hidden": false,
          "source_hidden": false
        },
        "nteract": {
          "transient": {
            "deleting": false
          }
        }
      }
    },
    {
      "cell_type": "code",
      "source": [
        "aml_compute_target = \"cpu-cluster\"\n",
        "try:\n",
        "  aml_compute = AmlCompute(ws, aml_compute_target)\n",
        "  print(\"Found existing compute target!\")\n",
        "except ComputeTargetException:\n",
        "  print(\"Creating new compute cluster...\")\n",
        "  provisioning_config = AmlCompute.provisioning_configuration(vm_size = \"STANDARD_D2_V2\", min_nodes = 1, max_nodes = 6)\n",
        "  aml_compute = ComputeTarget.create(ws, aml_compute_target, provisioning_config)\n",
        "  aml_compute.wait_for_completion(show_output=True, min_node_count=None, timeout_in_minutes=20)\n",
        "\n",
        "print(\"Azure Machine Learning Compute Cluster Created!\")"
      ],
      "outputs": [
        {
          "output_type": "stream",
          "name": "stdout",
          "text": [
            "Found existing compute target!\n",
            "Azure Machine Learning Compute Cluster Created!\n"
          ]
        }
      ],
      "execution_count": 21,
      "metadata": {
        "gather": {
          "logged": 1612217402232
        }
      }
    },
    {
      "cell_type": "code",
      "source": [
        "df = pd.read_csv('https://raw.githubusercontent.com/Anupriya-S/Capstone-Azure-Machine-Learning-Engineer/main/nasa.csv')"
      ],
      "outputs": [],
      "execution_count": 22,
      "metadata": {
        "collapsed": true,
        "jupyter": {
          "source_hidden": false,
          "outputs_hidden": false
        },
        "nteract": {
          "transient": {
            "deleting": false
          }
        },
        "gather": {
          "logged": 1612217415302
        }
      }
    },
    {
      "cell_type": "code",
      "source": [
        "df.head()"
      ],
      "outputs": [
        {
          "output_type": "execute_result",
          "execution_count": 23,
          "data": {
            "text/plain": "   Neo Reference ID     Name  Absolute Magnitude  Est Dia in KM(min)  \\\n0           3703080  3703080                21.6            0.127220   \n1           3723955  3723955                21.3            0.146068   \n2           2446862  2446862                20.3            0.231502   \n3           3092506  3092506                27.4            0.008801   \n4           3514799  3514799                21.6            0.127220   \n\n   Est Dia in KM(max)  Est Dia in M(min)  Est Dia in M(max)  \\\n0            0.284472         127.219879         284.472297   \n1            0.326618         146.067964         326.617897   \n2            0.517654         231.502122         517.654482   \n3            0.019681           8.801465          19.680675   \n4            0.284472         127.219879         284.472297   \n\n   Est Dia in Miles(min)  Est Dia in Miles(max)  Est Dia in Feet(min)  ...  \\\n0               0.079051               0.176763            417.388066  ...   \n1               0.090762               0.202951            479.225620  ...   \n2               0.143849               0.321655            759.521423  ...   \n3               0.005469               0.012229             28.876199  ...   \n4               0.079051               0.176763            417.388066  ...   \n\n   Asc Node Longitude Orbital Period  Perihelion Distance  Perihelion Arg  \\\n0          314.373913     609.599786             0.808259       57.257470   \n1          136.717242     425.869294             0.718200      313.091975   \n2          259.475979     643.580228             0.950791      248.415038   \n3           57.173266     514.082140             0.983902       18.707701   \n4           84.629307     495.597821             0.967687      158.263596   \n\n   Aphelion Dist  Perihelion Time  Mean Anomaly  Mean Motion  Equinox  \\\n0       2.005764     2.458162e+06    264.837533     0.590551    J2000   \n1       1.497352     2.457795e+06    173.741112     0.845330    J2000   \n2       1.966857     2.458120e+06    292.893654     0.559371    J2000   \n3       1.527904     2.457902e+06     68.741007     0.700277    J2000   \n4       1.483543     2.457814e+06    135.142133     0.726395    J2000   \n\n   Hazardous  \n0       True  \n1      False  \n2       True  \n3      False  \n4       True  \n\n[5 rows x 40 columns]",
            "text/html": "<div>\n<style scoped>\n    .dataframe tbody tr th:only-of-type {\n        vertical-align: middle;\n    }\n\n    .dataframe tbody tr th {\n        vertical-align: top;\n    }\n\n    .dataframe thead th {\n        text-align: right;\n    }\n</style>\n<table border=\"1\" class=\"dataframe\">\n  <thead>\n    <tr style=\"text-align: right;\">\n      <th></th>\n      <th>Neo Reference ID</th>\n      <th>Name</th>\n      <th>Absolute Magnitude</th>\n      <th>Est Dia in KM(min)</th>\n      <th>Est Dia in KM(max)</th>\n      <th>Est Dia in M(min)</th>\n      <th>Est Dia in M(max)</th>\n      <th>Est Dia in Miles(min)</th>\n      <th>Est Dia in Miles(max)</th>\n      <th>Est Dia in Feet(min)</th>\n      <th>...</th>\n      <th>Asc Node Longitude</th>\n      <th>Orbital Period</th>\n      <th>Perihelion Distance</th>\n      <th>Perihelion Arg</th>\n      <th>Aphelion Dist</th>\n      <th>Perihelion Time</th>\n      <th>Mean Anomaly</th>\n      <th>Mean Motion</th>\n      <th>Equinox</th>\n      <th>Hazardous</th>\n    </tr>\n  </thead>\n  <tbody>\n    <tr>\n      <th>0</th>\n      <td>3703080</td>\n      <td>3703080</td>\n      <td>21.6</td>\n      <td>0.127220</td>\n      <td>0.284472</td>\n      <td>127.219879</td>\n      <td>284.472297</td>\n      <td>0.079051</td>\n      <td>0.176763</td>\n      <td>417.388066</td>\n      <td>...</td>\n      <td>314.373913</td>\n      <td>609.599786</td>\n      <td>0.808259</td>\n      <td>57.257470</td>\n      <td>2.005764</td>\n      <td>2.458162e+06</td>\n      <td>264.837533</td>\n      <td>0.590551</td>\n      <td>J2000</td>\n      <td>True</td>\n    </tr>\n    <tr>\n      <th>1</th>\n      <td>3723955</td>\n      <td>3723955</td>\n      <td>21.3</td>\n      <td>0.146068</td>\n      <td>0.326618</td>\n      <td>146.067964</td>\n      <td>326.617897</td>\n      <td>0.090762</td>\n      <td>0.202951</td>\n      <td>479.225620</td>\n      <td>...</td>\n      <td>136.717242</td>\n      <td>425.869294</td>\n      <td>0.718200</td>\n      <td>313.091975</td>\n      <td>1.497352</td>\n      <td>2.457795e+06</td>\n      <td>173.741112</td>\n      <td>0.845330</td>\n      <td>J2000</td>\n      <td>False</td>\n    </tr>\n    <tr>\n      <th>2</th>\n      <td>2446862</td>\n      <td>2446862</td>\n      <td>20.3</td>\n      <td>0.231502</td>\n      <td>0.517654</td>\n      <td>231.502122</td>\n      <td>517.654482</td>\n      <td>0.143849</td>\n      <td>0.321655</td>\n      <td>759.521423</td>\n      <td>...</td>\n      <td>259.475979</td>\n      <td>643.580228</td>\n      <td>0.950791</td>\n      <td>248.415038</td>\n      <td>1.966857</td>\n      <td>2.458120e+06</td>\n      <td>292.893654</td>\n      <td>0.559371</td>\n      <td>J2000</td>\n      <td>True</td>\n    </tr>\n    <tr>\n      <th>3</th>\n      <td>3092506</td>\n      <td>3092506</td>\n      <td>27.4</td>\n      <td>0.008801</td>\n      <td>0.019681</td>\n      <td>8.801465</td>\n      <td>19.680675</td>\n      <td>0.005469</td>\n      <td>0.012229</td>\n      <td>28.876199</td>\n      <td>...</td>\n      <td>57.173266</td>\n      <td>514.082140</td>\n      <td>0.983902</td>\n      <td>18.707701</td>\n      <td>1.527904</td>\n      <td>2.457902e+06</td>\n      <td>68.741007</td>\n      <td>0.700277</td>\n      <td>J2000</td>\n      <td>False</td>\n    </tr>\n    <tr>\n      <th>4</th>\n      <td>3514799</td>\n      <td>3514799</td>\n      <td>21.6</td>\n      <td>0.127220</td>\n      <td>0.284472</td>\n      <td>127.219879</td>\n      <td>284.472297</td>\n      <td>0.079051</td>\n      <td>0.176763</td>\n      <td>417.388066</td>\n      <td>...</td>\n      <td>84.629307</td>\n      <td>495.597821</td>\n      <td>0.967687</td>\n      <td>158.263596</td>\n      <td>1.483543</td>\n      <td>2.457814e+06</td>\n      <td>135.142133</td>\n      <td>0.726395</td>\n      <td>J2000</td>\n      <td>True</td>\n    </tr>\n  </tbody>\n</table>\n<p>5 rows × 40 columns</p>\n</div>"
          },
          "metadata": {}
        }
      ],
      "execution_count": 23,
      "metadata": {
        "gather": {
          "logged": 1612217420434
        }
      }
    },
    {
      "cell_type": "code",
      "source": [
        "# Use clean_data() for processing the dataframe\n",
        "df = clean_data(df)"
      ],
      "outputs": [],
      "execution_count": 24,
      "metadata": {
        "gather": {
          "logged": 1612217432448
        }
      }
    },
    {
      "cell_type": "code",
      "source": [
        "found = False\r\n",
        "key = \"NASA Asteroids\"\r\n",
        "description_text = \"The data is about Asteroids and is provided by NEOWS(Near-Earth Object Web Service).\"\r\n",
        "\r\n",
        "if key in ws.datasets.keys(): \r\n",
        "        found = True\r\n",
        "        dataset = ws.datasets[key] \r\n",
        "\r\n",
        "if not found:\r\n",
        "        # Create AML Dataset and register it into Workspace\r\n",
        "        data_store = Datastore.get_default(ws)\r\n",
        "        dataset = TabularDatasetFactory.register_pandas_dataframe(df, target=data_store, name=key, description=description_text, tags=None, show_progress=True)"
      ],
      "outputs": [
        {
          "output_type": "stream",
          "name": "stderr",
          "text": [
            "Method register_pandas_dataframe: This is an experimental method, and may change at any time.<br/>For more information, see https://aka.ms/azuremlexperimental.\n"
          ]
        },
        {
          "output_type": "stream",
          "name": "stdout",
          "text": [
            "Validating arguments.\n",
            "Arguments validated.\n",
            "Successfully obtained datastore reference and path.\n",
            "Uploading file to managed-dataset/ebedc8b3-b4d1-4a59-83b0-daf735d9dc64/\n",
            "Successfully uploaded file to datastore.\n",
            "Creating and registering a new dataset.\n",
            "Successfully created and registered a new dataset.\n"
          ]
        }
      ],
      "execution_count": 27,
      "metadata": {
        "collapsed": true,
        "jupyter": {
          "source_hidden": false,
          "outputs_hidden": false
        },
        "nteract": {
          "transient": {
            "deleting": false
          }
        },
        "gather": {
          "logged": 1612217862095
        }
      }
    },
    {
      "cell_type": "markdown",
      "source": [
        "## AutoML Configuration\n",
        "\n",
        "TODO: Explain why you chose the automl settings and cofiguration you used below."
      ],
      "metadata": {}
    },
    {
      "cell_type": "code",
      "source": [
        "# TODO: Put your automl settings here\n",
        "automl_settings = {\n",
        "    \"experiment_timeout_minutes\": 30,\n",
        "    \"max_concurrent_iterations\": 5,\n",
        "    \"primary_metric\" : 'accuracy'\n",
        "}\n",
        "\n",
        "# TODO: Put your automl config here\n",
        "automl_config = AutoMLConfig(compute_target=aml_compute,\n",
        "                             task = \"classification\",\n",
        "                             training_data=dataset,\n",
        "                             label_column_name=\"Hazardous\",  \n",
        "                             n_cross_validations=5,\n",
        "                             enable_early_stopping= True,\n",
        "                             featurization= 'auto',\n",
        "                             debug_log = \"automl_errors.log\",\n",
        "                             **automl_settings\n",
        "                            )"
      ],
      "outputs": [],
      "execution_count": 30,
      "metadata": {
        "gather": {
          "logged": 1612218081048
        },
        "jupyter": {
          "outputs_hidden": false,
          "source_hidden": false
        },
        "nteract": {
          "transient": {
            "deleting": false
          }
        }
      }
    },
    {
      "cell_type": "code",
      "source": [
        "# TODO: Submit your experiment\n",
        "automl_run = exp.submit(config=automl_config, show_output=True)"
      ],
      "outputs": [
        {
          "output_type": "stream",
          "name": "stdout",
          "text": [
            "Running on remote.\n",
            "No run_configuration provided, running on cpu-cluster with default configuration\n",
            "Running on remote compute: cpu-cluster\n",
            "Parent Run ID: AutoML_2a31a2f6-debc-4d8c-bb34-1b54a7b6c72f\n",
            "\n"
          ]
        }
      ],
      "execution_count": 31,
      "metadata": {
        "gather": {
          "logged": 1598431107951
        },
        "jupyter": {
          "outputs_hidden": false,
          "source_hidden": false
        },
        "nteract": {
          "transient": {
            "deleting": false
          }
        }
      }
    },
    {
      "cell_type": "markdown",
      "source": [
        "## Run Details\n",
        "\n",
        "OPTIONAL: Write about the different models trained and their performance. Why do you think some models did better than others?\n",
        "\n",
        "TODO: In the cell below, use the `RunDetails` widget to show the different experiments."
      ],
      "metadata": {}
    },
    {
      "cell_type": "code",
      "source": [
        "RunDetails(automl_run).show()"
      ],
      "outputs": [],
      "execution_count": null,
      "metadata": {
        "collapsed": true,
        "jupyter": {
          "source_hidden": false,
          "outputs_hidden": false
        },
        "nteract": {
          "transient": {
            "deleting": false
          }
        }
      }
    },
    {
      "cell_type": "code",
      "source": [
        "automl_run.wait_for_completion(show_output=True)"
      ],
      "outputs": [
        {
          "output_type": "stream",
          "name": "stdout",
          "text": [
            "\n",
            "\n",
            "****************************************************************************************************\n",
            "DATA GUARDRAILS: \n",
            "\n",
            "TYPE:         Class balancing detection\n",
            "STATUS:       ALERTED\n",
            "DESCRIPTION:  To decrease model bias, please cancel the current run and fix balancing problem.\n",
            "              Learn more about imbalanced data: https://aka.ms/AutomatedMLImbalancedData\n",
            "DETAILS:      Imbalanced data can lead to a falsely perceived positive effect of a model's accuracy because the input data has bias towards one class.\n",
            "+---------------------------------+---------------------------------+--------------------------------------+\n",
            "|Size of the smallest class       |Name/Label of the smallest class |Number of samples in the training data|\n",
            "+=================================+=================================+======================================+\n",
            "|755                              |1                                |4687                                  |\n",
            "+---------------------------------+---------------------------------+--------------------------------------+\n",
            "\n",
            "****************************************************************************************************\n",
            "\n",
            "TYPE:         Missing feature values imputation\n",
            "STATUS:       PASSED\n",
            "DESCRIPTION:  No feature missing values were detected in the training data.\n",
            "              Learn more about missing value imputation: https://aka.ms/AutomatedMLFeaturization\n",
            "\n",
            "****************************************************************************************************\n",
            "\n",
            "TYPE:         High cardinality feature detection\n",
            "STATUS:       PASSED\n",
            "DESCRIPTION:  Your inputs were analyzed, and no high cardinality features were detected.\n",
            "              Learn more about high cardinality feature handling: https://aka.ms/AutomatedMLFeaturization\n",
            "\n",
            "****************************************************************************************************\n",
            "\n",
            "****************************************************************************************************\n",
            "ITERATION: The iteration being evaluated.\n",
            "PIPELINE: A summary description of the pipeline being evaluated.\n",
            "DURATION: Time taken for the current iteration.\n",
            "METRIC: The result of computing score on the fitted pipeline.\n",
            "BEST: The best observed score thus far.\n",
            "****************************************************************************************************\n",
            "\n",
            " ITERATION   PIPELINE                                       DURATION      METRIC      BEST\n",
            "         0   MaxAbsScaler LightGBM                          0:03:49       0.9959    0.9959\n",
            "         1   MaxAbsScaler XGBoostClassifier                 0:00:58       0.9951    0.9959\n",
            "         2   MaxAbsScaler RandomForest                      0:01:01       0.9770    0.9959\n",
            "         3   MaxAbsScaler RandomForest                      0:00:56       0.9831    0.9959\n",
            "         4   MaxAbsScaler RandomForest                      0:00:57       0.9947    0.9959\n",
            "         5   MaxAbsScaler RandomForest                      0:03:36       0.9626    0.9959\n",
            "         6   SparseNormalizer XGBoostClassifier             0:03:39       0.9876    0.9959\n",
            "         7   SparseNormalizer XGBoostClassifier             0:01:00       0.9878    0.9959\n",
            "         8   SparseNormalizer XGBoostClassifier             0:01:11       0.9885    0.9959\n",
            "         9   SparseNormalizer XGBoostClassifier             0:01:03       0.9708    0.9959\n",
            "        10   MaxAbsScaler RandomForest                      0:01:13       0.8955    0.9959\n",
            "        11   MaxAbsScaler LightGBM                          0:00:57       0.8398    0.9959\n",
            "        12   MaxAbsScaler ExtremeRandomTrees                0:00:58       0.9795    0.9959\n",
            "        13   StandardScalerWrapper RandomForest             0:01:00       0.9934    0.9959\n",
            "        14   MaxAbsScaler ExtremeRandomTrees                0:01:19       0.8784    0.9959\n",
            "        15   StandardScalerWrapper XGBoostClassifier        0:01:01       0.9917    0.9959\n",
            "        16   MaxAbsScaler LightGBM                          0:00:49       0.9872    0.9959\n",
            "        17   MaxAbsScaler LightGBM                          0:00:56       0.9936    0.9959\n",
            "        18   StandardScalerWrapper XGBoostClassifier        0:00:58       0.9915    0.9959\n",
            "        19   SparseNormalizer XGBoostClassifier             0:01:02       0.9887    0.9959\n",
            "        20   SparseNormalizer XGBoostClassifier             0:00:59       0.9889    0.9959\n",
            "        21   StandardScalerWrapper XGBoostClassifier        0:00:57       0.9945    0.9959\n",
            "        22   StandardScalerWrapper XGBoostClassifier        0:00:59       0.9947    0.9959\n",
            "        23   StandardScalerWrapper XGBoostClassifier        0:00:58       0.9942    0.9959\n",
            "        24   StandardScalerWrapper XGBoostClassifier        0:00:51       0.9947    0.9959\n",
            "        25   StandardScalerWrapper LightGBM                 0:00:57       0.9183    0.9959\n",
            "        26   SparseNormalizer XGBoostClassifier             0:01:09       0.9859    0.9959\n",
            "        27   MaxAbsScaler LightGBM                          0:00:54       0.9942    0.9959\n",
            "        28   StandardScalerWrapper XGBoostClassifier        0:00:54       0.9945    0.9959\n",
            "        29   SparseNormalizer LightGBM                      0:01:01       0.9763    0.9959\n",
            "        30   MaxAbsScaler LightGBM                          0:00:56       0.9127    0.9959\n",
            "        31   MaxAbsScaler RandomForest                      0:01:16       0.9938    0.9959\n",
            "        32   MaxAbsScaler LightGBM                          0:00:52       0.9938    0.9959\n",
            "        33   StandardScalerWrapper XGBoostClassifier        0:01:13       0.9947    0.9959\n",
            "        34   StandardScalerWrapper XGBoostClassifier        0:00:54       0.9949    0.9959\n",
            "        35   MaxAbsScaler LightGBM                          0:00:33       0.8389    0.9959\n",
            "        36                                                  0:00:17          nan    0.9959\n",
            "        37                                                  0:00:18          nan    0.9959\n",
            "        38    VotingEnsemble                                0:01:35       0.9959    0.9959\n",
            "        39    StackEnsemble                                 0:01:58       0.9949    0.9959\n"
          ]
        },
        {
          "output_type": "execute_result",
          "execution_count": 38,
          "data": {
            "text/plain": "{'runId': 'AutoML_2a31a2f6-debc-4d8c-bb34-1b54a7b6c72f',\n 'target': 'cpu-cluster',\n 'status': 'Completed',\n 'startTimeUtc': '2021-02-01T22:21:53.10624Z',\n 'endTimeUtc': '2021-02-01T22:44:42.586705Z',\n 'properties': {'num_iterations': '1000',\n  'training_type': 'TrainFull',\n  'acquisition_function': 'EI',\n  'primary_metric': 'accuracy',\n  'train_split': '0',\n  'acquisition_parameter': '0',\n  'num_cross_validation': '5',\n  'target': 'cpu-cluster',\n  'AMLSettingsJsonString': '{\"path\":null,\"name\":\"capstone_automl\",\"subscription_id\":\"aa7cf8e8-d23f-4bce-a7b9-1f0b4e0ac8ee\",\"resource_group\":\"aml-quickstarts-136873\",\"workspace_name\":\"quick-starts-ws-136873\",\"region\":\"southcentralus\",\"compute_target\":\"cpu-cluster\",\"spark_service\":null,\"azure_service\":\"remote\",\"many_models\":false,\"pipeline_fetch_max_batch_size\":1,\"iterations\":1000,\"primary_metric\":\"accuracy\",\"task_type\":\"classification\",\"data_script\":null,\"validation_size\":0.0,\"n_cross_validations\":5,\"y_min\":null,\"y_max\":null,\"num_classes\":null,\"featurization\":\"auto\",\"_ignore_package_version_incompatibilities\":false,\"is_timeseries\":false,\"max_cores_per_iteration\":1,\"max_concurrent_iterations\":5,\"iteration_timeout_minutes\":null,\"mem_in_mb\":null,\"enforce_time_on_windows\":false,\"experiment_timeout_minutes\":30,\"experiment_exit_score\":null,\"whitelist_models\":null,\"blacklist_algos\":[\"TensorFlowLinearClassifier\",\"TensorFlowDNN\"],\"supported_models\":[\"AveragedPerceptronClassifier\",\"ExtremeRandomTrees\",\"GradientBoosting\",\"XGBoostClassifier\",\"TensorFlowDNN\",\"LightGBM\",\"KNN\",\"BernoulliNaiveBayes\",\"LinearSVM\",\"SGD\",\"LogisticRegression\",\"SVM\",\"DecisionTree\",\"RandomForest\",\"MultinomialNaiveBayes\",\"TensorFlowLinearClassifier\"],\"auto_blacklist\":true,\"blacklist_samples_reached\":false,\"exclude_nan_labels\":true,\"verbosity\":20,\"_debug_log\":\"azureml_automl.log\",\"show_warnings\":false,\"model_explainability\":true,\"service_url\":null,\"sdk_url\":null,\"sdk_packages\":null,\"enable_onnx_compatible_models\":false,\"enable_split_onnx_featurizer_estimator_models\":false,\"vm_type\":\"STANDARD_D2_V2\",\"telemetry_verbosity\":20,\"send_telemetry\":true,\"enable_dnn\":false,\"scenario\":\"SDK-1.13.0\",\"environment_label\":null,\"force_text_dnn\":false,\"enable_feature_sweeping\":true,\"enable_early_stopping\":true,\"early_stopping_n_iters\":10,\"metrics\":null,\"enable_ensembling\":true,\"enable_stack_ensembling\":true,\"ensemble_iterations\":15,\"enable_tf\":false,\"enable_subsampling\":null,\"subsample_seed\":null,\"enable_nimbusml\":false,\"enable_streaming\":false,\"force_streaming\":false,\"track_child_runs\":true,\"allowed_private_models\":[],\"label_column_name\":\"Hazardous\",\"weight_column_name\":null,\"cv_split_column_names\":null,\"enable_local_managed\":false,\"_local_managed_run_id\":null,\"cost_mode\":1,\"lag_length\":0,\"metric_operation\":\"maximize\",\"preprocess\":true}',\n  'DataPrepJsonString': '{\\\\\"training_data\\\\\": \\\\\"{\\\\\\\\\\\\\"blocks\\\\\\\\\\\\\": [{\\\\\\\\\\\\\"id\\\\\\\\\\\\\": \\\\\\\\\\\\\"8ed783f5-098b-480f-a532-175cdc789790\\\\\\\\\\\\\", \\\\\\\\\\\\\"type\\\\\\\\\\\\\": \\\\\\\\\\\\\"Microsoft.DPrep.GetDatastoreFilesBlock\\\\\\\\\\\\\", \\\\\\\\\\\\\"arguments\\\\\\\\\\\\\": {\\\\\\\\\\\\\"datastores\\\\\\\\\\\\\": [{\\\\\\\\\\\\\"datastoreName\\\\\\\\\\\\\": \\\\\\\\\\\\\"workspaceblobstore\\\\\\\\\\\\\", \\\\\\\\\\\\\"path\\\\\\\\\\\\\": \\\\\\\\\\\\\"managed-dataset/ebedc8b3-b4d1-4a59-83b0-daf735d9dc64/\\\\\\\\\\\\\", \\\\\\\\\\\\\"resourceGroup\\\\\\\\\\\\\": \\\\\\\\\\\\\"aml-quickstarts-136873\\\\\\\\\\\\\", \\\\\\\\\\\\\"subscription\\\\\\\\\\\\\": \\\\\\\\\\\\\"aa7cf8e8-d23f-4bce-a7b9-1f0b4e0ac8ee\\\\\\\\\\\\\", \\\\\\\\\\\\\"workspaceName\\\\\\\\\\\\\": \\\\\\\\\\\\\"quick-starts-ws-136873\\\\\\\\\\\\\"}]}, \\\\\\\\\\\\\"localData\\\\\\\\\\\\\": {}, \\\\\\\\\\\\\"isEnabled\\\\\\\\\\\\\": true, \\\\\\\\\\\\\"name\\\\\\\\\\\\\": null, \\\\\\\\\\\\\"annotation\\\\\\\\\\\\\": null}, {\\\\\\\\\\\\\"id\\\\\\\\\\\\\": \\\\\\\\\\\\\"4fc673b8-2b5b-42a5-b465-ec154f301f35\\\\\\\\\\\\\", \\\\\\\\\\\\\"type\\\\\\\\\\\\\": \\\\\\\\\\\\\"Microsoft.DPrep.ReadParquetFileBlock\\\\\\\\\\\\\", \\\\\\\\\\\\\"arguments\\\\\\\\\\\\\": {\\\\\\\\\\\\\"preview\\\\\\\\\\\\\": false}, \\\\\\\\\\\\\"localData\\\\\\\\\\\\\": {}, \\\\\\\\\\\\\"isEnabled\\\\\\\\\\\\\": true, \\\\\\\\\\\\\"name\\\\\\\\\\\\\": null, \\\\\\\\\\\\\"annotation\\\\\\\\\\\\\": null}, {\\\\\\\\\\\\\"id\\\\\\\\\\\\\": \\\\\\\\\\\\\"c6afac71-0d7b-409c-a2d0-f2f190cf8504\\\\\\\\\\\\\", \\\\\\\\\\\\\"type\\\\\\\\\\\\\": \\\\\\\\\\\\\"Microsoft.DPrep.DropColumnsBlock\\\\\\\\\\\\\", \\\\\\\\\\\\\"arguments\\\\\\\\\\\\\": {\\\\\\\\\\\\\"columns\\\\\\\\\\\\\": {\\\\\\\\\\\\\"type\\\\\\\\\\\\\": 0, \\\\\\\\\\\\\"details\\\\\\\\\\\\\": {\\\\\\\\\\\\\"selectedColumns\\\\\\\\\\\\\": [\\\\\\\\\\\\\"Path\\\\\\\\\\\\\"]}}}, \\\\\\\\\\\\\"localData\\\\\\\\\\\\\": {}, \\\\\\\\\\\\\"isEnabled\\\\\\\\\\\\\": true, \\\\\\\\\\\\\"name\\\\\\\\\\\\\": null, \\\\\\\\\\\\\"annotation\\\\\\\\\\\\\": null}], \\\\\\\\\\\\\"inspectors\\\\\\\\\\\\\": [], \\\\\\\\\\\\\"meta\\\\\\\\\\\\\": {\\\\\\\\\\\\\"savedDatasetId\\\\\\\\\\\\\": \\\\\\\\\\\\\"92c24fb6-bf88-4d1f-9c1e-16768256ed95\\\\\\\\\\\\\", \\\\\\\\\\\\\"datasetType\\\\\\\\\\\\\": \\\\\\\\\\\\\"tabular\\\\\\\\\\\\\", \\\\\\\\\\\\\"subscriptionId\\\\\\\\\\\\\": \\\\\\\\\\\\\"aa7cf8e8-d23f-4bce-a7b9-1f0b4e0ac8ee\\\\\\\\\\\\\", \\\\\\\\\\\\\"workspaceId\\\\\\\\\\\\\": \\\\\\\\\\\\\"0601ca2b-5eb5-412d-a1ba-fbdfab4621fd\\\\\\\\\\\\\", \\\\\\\\\\\\\"workspaceLocation\\\\\\\\\\\\\": \\\\\\\\\\\\\"southcentralus\\\\\\\\\\\\\"}}\\\\\", \\\\\"activities\\\\\": 0}',\n  'EnableSubsampling': None,\n  'runTemplate': 'AutoML',\n  'azureml.runsource': 'automl',\n  'display_task_type': 'classification',\n  'dependencies_versions': '{\"azureml-widgets\": \"1.20.0\", \"azureml-train\": \"1.20.0\", \"azureml-train-restclients-hyperdrive\": \"1.20.0\", \"azureml-train-core\": \"1.20.0\", \"azureml-train-automl\": \"1.20.0\", \"azureml-train-automl-runtime\": \"1.20.0\", \"azureml-train-automl-client\": \"1.20.0\", \"azureml-tensorboard\": \"1.20.0\", \"azureml-telemetry\": \"1.20.0\", \"azureml-sdk\": \"1.20.0\", \"azureml-samples\": \"0+unknown\", \"azureml-pipeline\": \"1.20.0\", \"azureml-pipeline-steps\": \"1.20.0\", \"azureml-pipeline-core\": \"1.20.0\", \"azureml-opendatasets\": \"1.20.0\", \"azureml-model-management-sdk\": \"1.0.1b6.post1\", \"azureml-mlflow\": \"1.20.0.post1\", \"azureml-interpret\": \"1.20.0\", \"azureml-explain-model\": \"1.20.0\", \"azureml-defaults\": \"1.20.0\", \"azureml-dataset-runtime\": \"1.20.0\", \"azureml-dataprep\": \"2.7.3\", \"azureml-dataprep-rslex\": \"1.5.0\", \"azureml-dataprep-native\": \"27.0.0\", \"azureml-datadrift\": \"1.20.0\", \"azureml-core\": \"1.20.0\", \"azureml-contrib-services\": \"1.20.0\", \"azureml-contrib-server\": \"1.20.0\", \"azureml-contrib-reinforcementlearning\": \"1.20.0\", \"azureml-contrib-pipeline-steps\": \"1.20.0\", \"azureml-contrib-notebook\": \"1.20.0\", \"azureml-contrib-interpret\": \"1.20.0\", \"azureml-contrib-gbdt\": \"1.20.0\", \"azureml-contrib-fairness\": \"1.20.0\", \"azureml-contrib-dataset\": \"1.20.0\", \"azureml-cli-common\": \"1.20.0\", \"azureml-automl-runtime\": \"1.20.0\", \"azureml-automl-core\": \"1.20.0\", \"azureml-accel-models\": \"1.20.0\"}',\n  '_aml_system_scenario_identification': 'Remote.Parent',\n  'ClientType': 'SDK',\n  'environment_cpu_name': 'AzureML-AutoML',\n  'environment_cpu_label': 'prod',\n  'environment_gpu_name': 'AzureML-AutoML-GPU',\n  'environment_gpu_label': 'prod',\n  'root_attribution': 'automl',\n  'attribution': 'AutoML',\n  'Orchestrator': 'AutoML',\n  'CancelUri': 'https://southcentralus.experiments.azureml.net/jasmine/v1.0/subscriptions/aa7cf8e8-d23f-4bce-a7b9-1f0b4e0ac8ee/resourceGroups/aml-quickstarts-136873/providers/Microsoft.MachineLearningServices/workspaces/quick-starts-ws-136873/experimentids/cdd59f68-85be-4b8e-834b-61f7c21abd29/cancel/AutoML_2a31a2f6-debc-4d8c-bb34-1b54a7b6c72f',\n  'ClientSdkVersion': '1.20.0.post1',\n  'snapshotId': '00000000-0000-0000-0000-000000000000',\n  'SetupRunId': 'AutoML_2a31a2f6-debc-4d8c-bb34-1b54a7b6c72f_setup',\n  'SetupRunContainerId': 'dcid.AutoML_2a31a2f6-debc-4d8c-bb34-1b54a7b6c72f_setup',\n  'FeaturizationRunJsonPath': 'featurizer_container.json',\n  'FeaturizationRunId': 'AutoML_2a31a2f6-debc-4d8c-bb34-1b54a7b6c72f_featurize',\n  'ProblemInfoJsonString': '{\"dataset_num_categorical\": 0, \"is_sparse\": true, \"subsampling\": false, \"dataset_classes\": 2, \"dataset_features\": 30, \"dataset_samples\": 4687, \"single_frequency_class_detected\": false}',\n  'ModelExplainRunId': 'AutoML_2a31a2f6-debc-4d8c-bb34-1b54a7b6c72f_ModelExplain'},\n 'inputDatasets': [{'dataset': {'id': '92c24fb6-bf88-4d1f-9c1e-16768256ed95'}, 'consumptionDetails': {'type': 'RunInput', 'inputName': 'training_data', 'mechanism': 'Direct'}}],\n 'outputDatasets': [],\n 'logFiles': {},\n 'submittedBy': 'ODL_User 136873'}"
          },
          "metadata": {}
        }
      ],
      "execution_count": 38,
      "metadata": {
        "collapsed": true,
        "jupyter": {
          "source_hidden": false,
          "outputs_hidden": false
        },
        "nteract": {
          "transient": {
            "deleting": false
          }
        },
        "gather": {
          "logged": 1612219888950
        }
      }
    },
    {
      "cell_type": "markdown",
      "source": [
        "## Best Model\n",
        "\n",
        "TODO: In the cell below, get the best model from the automl experiments and display all the properties of the model.\n",
        "\n"
      ],
      "metadata": {}
    },
    {
      "cell_type": "code",
      "source": [
        "#TODO: Save the best model\n",
        "\n",
        "best_automl_run, model = automl_run.get_output()\n",
        "joblib.dump(model,'automl-model.pkl')"
      ],
      "outputs": [
        {
          "output_type": "execute_result",
          "execution_count": 44,
          "data": {
            "text/plain": "['automl-model.pkl']"
          },
          "metadata": {}
        }
      ],
      "execution_count": 44,
      "metadata": {
        "gather": {
          "logged": 1612220127007
        },
        "jupyter": {
          "outputs_hidden": false,
          "source_hidden": false
        },
        "nteract": {
          "transient": {
            "deleting": false
          }
        }
      }
    },
    {
      "cell_type": "code",
      "source": [
        "# details associated with the best AutoML run\n",
        "print(\"Run ID:\", best_automl_run.id)\n",
        "\n",
        "# list the model files uploaded during the run\n",
        "print(\"\\n\", best_automl_run.get_file_names())"
      ],
      "outputs": [
        {
          "output_type": "stream",
          "name": "stdout",
          "text": [
            "Run ID: AutoML_2a31a2f6-debc-4d8c-bb34-1b54a7b6c72f_0\n",
            "\n",
            " ['accuracy_table', 'automl_driver.py', 'azureml-logs/55_azureml-execution-tvmps_ae3e0d3aa4b5a6aa6fa0970abcd6ce1a5b98bd5497219e0da288e38b3279d9da_d.txt', 'azureml-logs/65_job_prep-tvmps_ae3e0d3aa4b5a6aa6fa0970abcd6ce1a5b98bd5497219e0da288e38b3279d9da_d.txt', 'azureml-logs/70_driver_log.txt', 'azureml-logs/75_job_post-tvmps_ae3e0d3aa4b5a6aa6fa0970abcd6ce1a5b98bd5497219e0da288e38b3279d9da_d.txt', 'azureml-logs/process_info.json', 'azureml-logs/process_status.json', 'confusion_matrix', 'logs/azureml/105_azureml.log', 'logs/azureml/azureml_automl.log', 'logs/azureml/dataprep/python_span_81dfac35-7778-4bb4-86fa-af1ec1dc1e19.jsonl', 'logs/azureml/dataprep/python_span_c909ca80-8d10-404d-9766-8d9819002680.jsonl', 'logs/azureml/job_prep_azureml.log', 'logs/azureml/job_release_azureml.log', 'outputs/conda_env_v_1_0_0.yml', 'outputs/env_dependencies.json', 'outputs/internal_cross_validated_models.pkl', 'outputs/model.pkl', 'outputs/pipeline_graph.json', 'outputs/scoring_file_v_1_0_0.py']\n"
          ]
        }
      ],
      "execution_count": 45,
      "metadata": {
        "gather": {
          "logged": 1612220136350
        }
      }
    },
    {
      "cell_type": "markdown",
      "source": [
        "## Model Deployment\n",
        "\n",
        "Remember you have to deploy only one of the two models you trained.. Perform the steps in the rest of this notebook only if you wish to deploy this model.\n",
        "\n",
        "TODO: In the cell below, register the model, create an inference config and deploy the model as a web service."
      ],
      "metadata": {}
    },
    {
      "cell_type": "code",
      "source": [
        "registered_model = Model.register(workspace=ws, model_path=\"automl-model.pkl\", model_name=\"automl-model\")"
      ],
      "outputs": [
        {
          "output_type": "stream",
          "name": "stdout",
          "text": [
            "Registering model automl-model\n"
          ]
        }
      ],
      "execution_count": 46,
      "metadata": {
        "gather": {
          "logged": 1612220162468
        },
        "jupyter": {
          "outputs_hidden": false,
          "source_hidden": false
        },
        "nteract": {
          "transient": {
            "deleting": false
          }
        }
      }
    },
    {
      "cell_type": "code",
      "source": [
        "inference_config = InferenceConfig(entry_script='score.py', environment=best_automl_run.get_environment())"
      ],
      "outputs": [],
      "execution_count": 50,
      "metadata": {
        "gather": {
          "logged": 1612220475901
        }
      }
    },
    {
      "cell_type": "code",
      "source": [
        "service_name = 'asteroid-classification'\n",
        "\n",
        "deployment_config = AciWebservice.deploy_configuration(cpu_cores=1, memory_gb=1, enable_app_insights=True)\n",
        "\n",
        "service = Model.deploy(ws, service_name, [model], inference_config, deployment_config, deployment_target=None, overwrite=True)\n",
        "service.wait_for_deployment(show_output=True)\n",
        "\n",
        "print(service.state)\n",
        "print(service.scoring_uri)"
      ],
      "outputs": [
        {
          "output_type": "error",
          "ename": "AttributeError",
          "evalue": "'Pipeline' object has no attribute 'id'",
          "traceback": [
            "\u001b[0;31m---------------------------------------------------------------------------\u001b[0m",
            "\u001b[0;31mAttributeError\u001b[0m                            Traceback (most recent call last)",
            "\u001b[0;32m<ipython-input-52-51e1d1f6ff99>\u001b[0m in \u001b[0;36m<module>\u001b[0;34m\u001b[0m\n\u001b[1;32m      3\u001b[0m \u001b[0mdeployment_config\u001b[0m \u001b[0;34m=\u001b[0m \u001b[0mAciWebservice\u001b[0m\u001b[0;34m.\u001b[0m\u001b[0mdeploy_configuration\u001b[0m\u001b[0;34m(\u001b[0m\u001b[0mcpu_cores\u001b[0m\u001b[0;34m=\u001b[0m\u001b[0;36m1\u001b[0m\u001b[0;34m,\u001b[0m \u001b[0mmemory_gb\u001b[0m\u001b[0;34m=\u001b[0m\u001b[0;36m1\u001b[0m\u001b[0;34m,\u001b[0m \u001b[0menable_app_insights\u001b[0m\u001b[0;34m=\u001b[0m\u001b[0;32mTrue\u001b[0m\u001b[0;34m)\u001b[0m\u001b[0;34m\u001b[0m\u001b[0;34m\u001b[0m\u001b[0m\n\u001b[1;32m      4\u001b[0m \u001b[0;34m\u001b[0m\u001b[0m\n\u001b[0;32m----> 5\u001b[0;31m \u001b[0mservice\u001b[0m \u001b[0;34m=\u001b[0m \u001b[0mModel\u001b[0m\u001b[0;34m.\u001b[0m\u001b[0mdeploy\u001b[0m\u001b[0;34m(\u001b[0m\u001b[0mws\u001b[0m\u001b[0;34m,\u001b[0m \u001b[0mservice_name\u001b[0m\u001b[0;34m,\u001b[0m \u001b[0;34m[\u001b[0m\u001b[0mmodel\u001b[0m\u001b[0;34m]\u001b[0m\u001b[0;34m,\u001b[0m \u001b[0minference_config\u001b[0m\u001b[0;34m,\u001b[0m \u001b[0mdeployment_config\u001b[0m\u001b[0;34m,\u001b[0m \u001b[0mdeployment_target\u001b[0m\u001b[0;34m=\u001b[0m\u001b[0;32mNone\u001b[0m\u001b[0;34m,\u001b[0m \u001b[0moverwrite\u001b[0m\u001b[0;34m=\u001b[0m\u001b[0;32mTrue\u001b[0m\u001b[0;34m)\u001b[0m\u001b[0;34m\u001b[0m\u001b[0;34m\u001b[0m\u001b[0m\n\u001b[0m\u001b[1;32m      6\u001b[0m \u001b[0mservice\u001b[0m\u001b[0;34m.\u001b[0m\u001b[0mwait_for_deployment\u001b[0m\u001b[0;34m(\u001b[0m\u001b[0mshow_output\u001b[0m\u001b[0;34m=\u001b[0m\u001b[0;32mTrue\u001b[0m\u001b[0;34m)\u001b[0m\u001b[0;34m\u001b[0m\u001b[0;34m\u001b[0m\u001b[0m\n\u001b[1;32m      7\u001b[0m \u001b[0;34m\u001b[0m\u001b[0m\n",
            "\u001b[0;32m/anaconda/envs/azureml_py36/lib/python3.6/site-packages/azureml/core/model.py\u001b[0m in \u001b[0;36mdeploy\u001b[0;34m(workspace, name, models, inference_config, deployment_config, deployment_target, overwrite)\u001b[0m\n\u001b[1;32m   1614\u001b[0m         \u001b[0;32mif\u001b[0m \u001b[0muse_env_path\u001b[0m\u001b[0;34m:\u001b[0m\u001b[0;34m\u001b[0m\u001b[0;34m\u001b[0m\u001b[0m\n\u001b[1;32m   1615\u001b[0m             return Model._deploy_with_environment(workspace, name, models, inference_config, deployment_config,\n\u001b[0;32m-> 1616\u001b[0;31m                                                   deployment_target, overwrite)\n\u001b[0m\u001b[1;32m   1617\u001b[0m \u001b[0;34m\u001b[0m\u001b[0m\n\u001b[1;32m   1618\u001b[0m         \u001b[0;31m# ContainerImage-based webservice.\u001b[0m\u001b[0;34m\u001b[0m\u001b[0;34m\u001b[0m\u001b[0;34m\u001b[0m\u001b[0m\n",
            "\u001b[0;32m/anaconda/envs/azureml_py36/lib/python3.6/site-packages/azureml/core/model.py\u001b[0m in \u001b[0;36m_deploy_with_environment\u001b[0;34m(workspace, name, models, inference_config, deployment_config, deployment_target, overwrite)\u001b[0m\n\u001b[1;32m   1811\u001b[0m         \"\"\"\n\u001b[1;32m   1812\u001b[0m         \u001b[0menvironment_image_request\u001b[0m \u001b[0;34m=\u001b[0m\u001b[0;31m \u001b[0m\u001b[0;31m\\\u001b[0m\u001b[0;34m\u001b[0m\u001b[0;34m\u001b[0m\u001b[0m\n\u001b[0;32m-> 1813\u001b[0;31m             \u001b[0minference_config\u001b[0m\u001b[0;34m.\u001b[0m\u001b[0m_build_environment_image_request\u001b[0m\u001b[0;34m(\u001b[0m\u001b[0mworkspace\u001b[0m\u001b[0;34m,\u001b[0m \u001b[0;34m[\u001b[0m\u001b[0mmodel\u001b[0m\u001b[0;34m.\u001b[0m\u001b[0mid\u001b[0m \u001b[0;32mfor\u001b[0m \u001b[0mmodel\u001b[0m \u001b[0;32min\u001b[0m \u001b[0mmodels\u001b[0m\u001b[0;34m]\u001b[0m\u001b[0;34m)\u001b[0m\u001b[0;34m\u001b[0m\u001b[0;34m\u001b[0m\u001b[0m\n\u001b[0m\u001b[1;32m   1814\u001b[0m \u001b[0;34m\u001b[0m\u001b[0m\n\u001b[1;32m   1815\u001b[0m         return Model._deploy_with_environment_image_request(workspace, name, environment_image_request,\n",
            "\u001b[0;32m/anaconda/envs/azureml_py36/lib/python3.6/site-packages/azureml/core/model.py\u001b[0m in \u001b[0;36m<listcomp>\u001b[0;34m(.0)\u001b[0m\n\u001b[1;32m   1811\u001b[0m         \"\"\"\n\u001b[1;32m   1812\u001b[0m         \u001b[0menvironment_image_request\u001b[0m \u001b[0;34m=\u001b[0m\u001b[0;31m \u001b[0m\u001b[0;31m\\\u001b[0m\u001b[0;34m\u001b[0m\u001b[0;34m\u001b[0m\u001b[0m\n\u001b[0;32m-> 1813\u001b[0;31m             \u001b[0minference_config\u001b[0m\u001b[0;34m.\u001b[0m\u001b[0m_build_environment_image_request\u001b[0m\u001b[0;34m(\u001b[0m\u001b[0mworkspace\u001b[0m\u001b[0;34m,\u001b[0m \u001b[0;34m[\u001b[0m\u001b[0mmodel\u001b[0m\u001b[0;34m.\u001b[0m\u001b[0mid\u001b[0m \u001b[0;32mfor\u001b[0m \u001b[0mmodel\u001b[0m \u001b[0;32min\u001b[0m \u001b[0mmodels\u001b[0m\u001b[0;34m]\u001b[0m\u001b[0;34m)\u001b[0m\u001b[0;34m\u001b[0m\u001b[0;34m\u001b[0m\u001b[0m\n\u001b[0m\u001b[1;32m   1814\u001b[0m \u001b[0;34m\u001b[0m\u001b[0m\n\u001b[1;32m   1815\u001b[0m         return Model._deploy_with_environment_image_request(workspace, name, environment_image_request,\n",
            "\u001b[0;31mAttributeError\u001b[0m: 'Pipeline' object has no attribute 'id'"
          ]
        }
      ],
      "execution_count": 52,
      "metadata": {}
    },
    {
      "cell_type": "markdown",
      "source": [
        "TODO: In the cell below, send a request to the web service you deployed to test it."
      ],
      "metadata": {
        "collapsed": true,
        "gather": {
          "logged": 1598431657736
        },
        "jupyter": {
          "outputs_hidden": false,
          "source_hidden": false
        },
        "nteract": {
          "transient": {
            "deleting": false
          }
        }
      }
    },
    {
      "cell_type": "code",
      "source": [
        "data = {\"data\":\n",
        "        [\n",
        "          {\n",
        "            \"age\": 17,\n",
        "            \"campaign\": 1,\n",
        "            \"cons.conf.idx\": -46.2,\n",
        "            \"cons.price.idx\": 92.893,\n",
        "            \"contact\": \"cellular\",\n",
        "            \"day_of_week\": \"mon\",\n",
        "            \"default\": \"no\",\n",
        "            \"duration\": 971,\n",
        "            \"education\": \"university.degree\",\n",
        "            \"emp.var.rate\": -1.8,\n",
        "            \"euribor3m\": 1.299,\n",
        "            \"housing\": \"yes\",\n",
        "            \"job\": \"blue-collar\",\n",
        "            \"loan\": \"yes\",\n",
        "            \"marital\": \"married\",\n",
        "            \"month\": \"may\",\n",
        "            \"nr.employed\": 5099.1,\n",
        "            \"pdays\": 999,\n",
        "            \"poutcome\": \"failure\",\n",
        "            \"previous\": 1\n",
        "          },\n",
        "          {\n",
        "            \"age\": 87,\n",
        "            \"campaign\": 1,\n",
        "            \"cons.conf.idx\": -46.2,\n",
        "            \"cons.price.idx\": 92.893,\n",
        "            \"contact\": \"cellular\",\n",
        "            \"day_of_week\": \"mon\",\n",
        "            \"default\": \"no\",\n",
        "            \"duration\": 471,\n",
        "            \"education\": \"university.degree\",\n",
        "            \"emp.var.rate\": -1.8,\n",
        "            \"euribor3m\": 1.299,\n",
        "            \"housing\": \"yes\",\n",
        "            \"job\": \"blue-collar\",\n",
        "            \"loan\": \"yes\",\n",
        "            \"marital\": \"married\",\n",
        "            \"month\": \"may\",\n",
        "            \"nr.employed\": 5099.1,\n",
        "            \"pdays\": 999,\n",
        "            \"poutcome\": \"failure\",\n",
        "            \"previous\": 1\n",
        "          },\n",
        "      ]\n",
        "    }"
      ],
      "outputs": [],
      "execution_count": null,
      "metadata": {}
    },
    {
      "cell_type": "code",
      "source": [
        "scoring_uri=service.scoring_uri\n",
        "\n",
        "input_data = json.dumps(data)\n",
        "with open(\"data.json\", \"w\") as _f:\n",
        "    _f.write(input_data)\n",
        "\n",
        "# Set the content type\n",
        "headers = {'Content-Type': 'application/json'}\n",
        "\n",
        "# Make the request and display the response\n",
        "response = requests.post(scoring_uri, input_data, headers=headers)\n",
        "print(response.json())"
      ],
      "outputs": [],
      "execution_count": null,
      "metadata": {}
    },
    {
      "cell_type": "code",
      "source": [
        "prediction = service.run(input_data)\n",
        "\n",
        "print(prediction)"
      ],
      "outputs": [],
      "execution_count": null,
      "metadata": {
        "gather": {
          "logged": 1598432707604
        },
        "jupyter": {
          "outputs_hidden": false,
          "source_hidden": false
        },
        "nteract": {
          "transient": {
            "deleting": false
          }
        }
      }
    },
    {
      "cell_type": "markdown",
      "source": [
        "TODO: In the cell below, print the logs of the web service and delete the service"
      ],
      "metadata": {
        "collapsed": true,
        "gather": {
          "logged": 1598432765711
        },
        "jupyter": {
          "outputs_hidden": false,
          "source_hidden": false
        },
        "nteract": {
          "transient": {
            "deleting": false
          }
        }
      }
    },
    {
      "cell_type": "code",
      "source": [
        "logs = service.get_logs()\n",
        "\n",
        "for line in logs.split('\\n'):\n",
        "    print(line)"
      ],
      "outputs": [],
      "execution_count": null,
      "metadata": {
        "jupyter": {
          "outputs_hidden": false,
          "source_hidden": false
        },
        "nteract": {
          "transient": {
            "deleting": false
          }
        }
      }
    },
    {
      "cell_type": "code",
      "source": [
        "service.delete()"
      ],
      "outputs": [],
      "execution_count": null,
      "metadata": {}
    },
    {
      "cell_type": "code",
      "source": [
        "aml_compute.delete()"
      ],
      "outputs": [],
      "execution_count": null,
      "metadata": {}
    }
  ],
  "metadata": {
    "kernel_info": {
      "name": "python3"
    },
    "kernelspec": {
      "name": "python3",
      "language": "python",
      "display_name": "Python 3"
    },
    "language_info": {
      "name": "python",
      "version": "3.6.9",
      "mimetype": "text/x-python",
      "codemirror_mode": {
        "name": "ipython",
        "version": 3
      },
      "pygments_lexer": "ipython3",
      "nbconvert_exporter": "python",
      "file_extension": ".py"
    },
    "nteract": {
      "version": "nteract-front-end@1.0.0"
    }
  },
  "nbformat": 4,
  "nbformat_minor": 2
}