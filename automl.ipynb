{
  "cells": [
    {
      "cell_type": "markdown",
      "source": [
        "# Automated ML\n",
        "\n",
        "TODO: Import Dependencies. In the cell below, import all the dependencies that you will need to complete the project."
      ],
      "metadata": {}
    },
    {
      "cell_type": "code",
      "source": [
        "from azureml.core.workspace import Workspace\n",
        "from azureml.core.experiment import Experiment\n",
        "from azureml.core.compute import ComputeTarget, AmlCompute\n",
        "from azureml.core.compute_target import ComputeTargetException\n",
        "from train import clean_data\n",
        "from azureml.core.datastore import Datastore\n",
        "from azureml.data.dataset_factory import TabularDatasetFactory\n",
        "from azureml.train.automl import AutoMLConfig\n",
        "from azureml.widgets import RunDetails\n",
        "import pandas as pd\n",
        "from azureml.core.model import Model\n",
        "from azureml.core.model import InferenceConfig\n",
        "import json\n",
        "import requests\n",
        "import joblib"
      ],
      "outputs": [],
      "execution_count": 11,
      "metadata": {
        "gather": {
          "logged": 1612276375922
        },
        "jupyter": {
          "outputs_hidden": false,
          "source_hidden": false
        },
        "nteract": {
          "transient": {
            "deleting": false
          }
        }
      }
    },
    {
      "cell_type": "markdown",
      "source": [
        "## Dataset\n",
        "\n",
        "### Overview\n",
        "TODO: In this markdown cell, give an overview of the dataset you are using. Also mention the task you will be performing.\n",
        "\n",
        "\n",
        "TODO: Get data. In the cell below, write code to access the data you will be using in this project. Remember that the dataset needs to be external."
      ],
      "metadata": {}
    },
    {
      "cell_type": "code",
      "source": [
        "ws = Workspace.from_config()\n",
        "\n",
        "# choose a name for experiment\n",
        "experiment_name = 'capstone_automl'\n",
        "\n",
        "exp = Experiment(ws, experiment_name)\n",
        "\n",
        "print('Workspace name: ' + ws.name, \n",
        "      'Azure region: ' + ws.location, \n",
        "      'Subscription id: ' + ws.subscription_id, \n",
        "      'Resource group: ' + ws.resource_group, sep = '\\n')\n",
        "\n",
        "run = exp.start_logging()"
      ],
      "outputs": [
        {
          "output_type": "stream",
          "name": "stdout",
          "text": [
            "Workspace name: quick-starts-ws-136944\n",
            "Azure region: southcentralus\n",
            "Subscription id: 976ee174-3882-4721-b90a-b5fef6b72f24\n",
            "Resource group: aml-quickstarts-136944\n"
          ]
        }
      ],
      "execution_count": 2,
      "metadata": {
        "gather": {
          "logged": 1612276152365
        },
        "jupyter": {
          "outputs_hidden": false,
          "source_hidden": false
        },
        "nteract": {
          "transient": {
            "deleting": false
          }
        }
      }
    },
    {
      "cell_type": "code",
      "source": [
        "aml_compute_target = \"cpu-cluster\"\n",
        "try:\n",
        "  aml_compute = AmlCompute(ws, aml_compute_target)\n",
        "  print(\"Found existing compute target!\")\n",
        "except ComputeTargetException:\n",
        "  print(\"Creating new compute cluster...\")\n",
        "  provisioning_config = AmlCompute.provisioning_configuration(vm_size = \"STANDARD_D2_V2\", min_nodes = 1, max_nodes = 6)\n",
        "  aml_compute = ComputeTarget.create(ws, aml_compute_target, provisioning_config)\n",
        "  aml_compute.wait_for_completion(show_output=True, min_node_count=None, timeout_in_minutes=20)\n",
        "\n",
        "print(\"Azure Machine Learning Compute Cluster Created!\")"
      ],
      "outputs": [
        {
          "output_type": "stream",
          "name": "stdout",
          "text": [
            "Found existing compute target!\n",
            "Azure Machine Learning Compute Cluster Created!\n"
          ]
        }
      ],
      "execution_count": 3,
      "metadata": {
        "gather": {
          "logged": 1612276159946
        }
      }
    },
    {
      "cell_type": "code",
      "source": [
        "df = pd.read_csv('https://raw.githubusercontent.com/Anupriya-S/Capstone-Azure-Machine-Learning-Engineer/main/nasa.csv')"
      ],
      "outputs": [],
      "execution_count": 4,
      "metadata": {
        "collapsed": true,
        "jupyter": {
          "source_hidden": false,
          "outputs_hidden": false
        },
        "nteract": {
          "transient": {
            "deleting": false
          }
        },
        "gather": {
          "logged": 1612276167875
        }
      }
    },
    {
      "cell_type": "code",
      "source": [
        "df.head()"
      ],
      "outputs": [
        {
          "output_type": "execute_result",
          "execution_count": 5,
          "data": {
            "text/plain": "   Neo Reference ID     Name  Absolute Magnitude  Est Dia in KM(min)  \\\n0           3703080  3703080                21.6            0.127220   \n1           3723955  3723955                21.3            0.146068   \n2           2446862  2446862                20.3            0.231502   \n3           3092506  3092506                27.4            0.008801   \n4           3514799  3514799                21.6            0.127220   \n\n   Est Dia in KM(max)  Est Dia in M(min)  Est Dia in M(max)  \\\n0            0.284472         127.219879         284.472297   \n1            0.326618         146.067964         326.617897   \n2            0.517654         231.502122         517.654482   \n3            0.019681           8.801465          19.680675   \n4            0.284472         127.219879         284.472297   \n\n   Est Dia in Miles(min)  Est Dia in Miles(max)  Est Dia in Feet(min)  ...  \\\n0               0.079051               0.176763            417.388066  ...   \n1               0.090762               0.202951            479.225620  ...   \n2               0.143849               0.321655            759.521423  ...   \n3               0.005469               0.012229             28.876199  ...   \n4               0.079051               0.176763            417.388066  ...   \n\n   Asc Node Longitude Orbital Period  Perihelion Distance  Perihelion Arg  \\\n0          314.373913     609.599786             0.808259       57.257470   \n1          136.717242     425.869294             0.718200      313.091975   \n2          259.475979     643.580228             0.950791      248.415038   \n3           57.173266     514.082140             0.983902       18.707701   \n4           84.629307     495.597821             0.967687      158.263596   \n\n   Aphelion Dist  Perihelion Time  Mean Anomaly  Mean Motion  Equinox  \\\n0       2.005764     2.458162e+06    264.837533     0.590551    J2000   \n1       1.497352     2.457795e+06    173.741112     0.845330    J2000   \n2       1.966857     2.458120e+06    292.893654     0.559371    J2000   \n3       1.527904     2.457902e+06     68.741007     0.700277    J2000   \n4       1.483543     2.457814e+06    135.142133     0.726395    J2000   \n\n   Hazardous  \n0       True  \n1      False  \n2       True  \n3      False  \n4       True  \n\n[5 rows x 40 columns]",
            "text/html": "<div>\n<style scoped>\n    .dataframe tbody tr th:only-of-type {\n        vertical-align: middle;\n    }\n\n    .dataframe tbody tr th {\n        vertical-align: top;\n    }\n\n    .dataframe thead th {\n        text-align: right;\n    }\n</style>\n<table border=\"1\" class=\"dataframe\">\n  <thead>\n    <tr style=\"text-align: right;\">\n      <th></th>\n      <th>Neo Reference ID</th>\n      <th>Name</th>\n      <th>Absolute Magnitude</th>\n      <th>Est Dia in KM(min)</th>\n      <th>Est Dia in KM(max)</th>\n      <th>Est Dia in M(min)</th>\n      <th>Est Dia in M(max)</th>\n      <th>Est Dia in Miles(min)</th>\n      <th>Est Dia in Miles(max)</th>\n      <th>Est Dia in Feet(min)</th>\n      <th>...</th>\n      <th>Asc Node Longitude</th>\n      <th>Orbital Period</th>\n      <th>Perihelion Distance</th>\n      <th>Perihelion Arg</th>\n      <th>Aphelion Dist</th>\n      <th>Perihelion Time</th>\n      <th>Mean Anomaly</th>\n      <th>Mean Motion</th>\n      <th>Equinox</th>\n      <th>Hazardous</th>\n    </tr>\n  </thead>\n  <tbody>\n    <tr>\n      <th>0</th>\n      <td>3703080</td>\n      <td>3703080</td>\n      <td>21.6</td>\n      <td>0.127220</td>\n      <td>0.284472</td>\n      <td>127.219879</td>\n      <td>284.472297</td>\n      <td>0.079051</td>\n      <td>0.176763</td>\n      <td>417.388066</td>\n      <td>...</td>\n      <td>314.373913</td>\n      <td>609.599786</td>\n      <td>0.808259</td>\n      <td>57.257470</td>\n      <td>2.005764</td>\n      <td>2.458162e+06</td>\n      <td>264.837533</td>\n      <td>0.590551</td>\n      <td>J2000</td>\n      <td>True</td>\n    </tr>\n    <tr>\n      <th>1</th>\n      <td>3723955</td>\n      <td>3723955</td>\n      <td>21.3</td>\n      <td>0.146068</td>\n      <td>0.326618</td>\n      <td>146.067964</td>\n      <td>326.617897</td>\n      <td>0.090762</td>\n      <td>0.202951</td>\n      <td>479.225620</td>\n      <td>...</td>\n      <td>136.717242</td>\n      <td>425.869294</td>\n      <td>0.718200</td>\n      <td>313.091975</td>\n      <td>1.497352</td>\n      <td>2.457795e+06</td>\n      <td>173.741112</td>\n      <td>0.845330</td>\n      <td>J2000</td>\n      <td>False</td>\n    </tr>\n    <tr>\n      <th>2</th>\n      <td>2446862</td>\n      <td>2446862</td>\n      <td>20.3</td>\n      <td>0.231502</td>\n      <td>0.517654</td>\n      <td>231.502122</td>\n      <td>517.654482</td>\n      <td>0.143849</td>\n      <td>0.321655</td>\n      <td>759.521423</td>\n      <td>...</td>\n      <td>259.475979</td>\n      <td>643.580228</td>\n      <td>0.950791</td>\n      <td>248.415038</td>\n      <td>1.966857</td>\n      <td>2.458120e+06</td>\n      <td>292.893654</td>\n      <td>0.559371</td>\n      <td>J2000</td>\n      <td>True</td>\n    </tr>\n    <tr>\n      <th>3</th>\n      <td>3092506</td>\n      <td>3092506</td>\n      <td>27.4</td>\n      <td>0.008801</td>\n      <td>0.019681</td>\n      <td>8.801465</td>\n      <td>19.680675</td>\n      <td>0.005469</td>\n      <td>0.012229</td>\n      <td>28.876199</td>\n      <td>...</td>\n      <td>57.173266</td>\n      <td>514.082140</td>\n      <td>0.983902</td>\n      <td>18.707701</td>\n      <td>1.527904</td>\n      <td>2.457902e+06</td>\n      <td>68.741007</td>\n      <td>0.700277</td>\n      <td>J2000</td>\n      <td>False</td>\n    </tr>\n    <tr>\n      <th>4</th>\n      <td>3514799</td>\n      <td>3514799</td>\n      <td>21.6</td>\n      <td>0.127220</td>\n      <td>0.284472</td>\n      <td>127.219879</td>\n      <td>284.472297</td>\n      <td>0.079051</td>\n      <td>0.176763</td>\n      <td>417.388066</td>\n      <td>...</td>\n      <td>84.629307</td>\n      <td>495.597821</td>\n      <td>0.967687</td>\n      <td>158.263596</td>\n      <td>1.483543</td>\n      <td>2.457814e+06</td>\n      <td>135.142133</td>\n      <td>0.726395</td>\n      <td>J2000</td>\n      <td>True</td>\n    </tr>\n  </tbody>\n</table>\n<p>5 rows × 40 columns</p>\n</div>"
          },
          "metadata": {}
        }
      ],
      "execution_count": 5,
      "metadata": {
        "gather": {
          "logged": 1612276170425
        }
      }
    },
    {
      "cell_type": "code",
      "source": [
        "# Use clean_data() for processing the dataframe\n",
        "df = clean_data(df)"
      ],
      "outputs": [],
      "execution_count": 6,
      "metadata": {
        "gather": {
          "logged": 1612276180457
        }
      }
    },
    {
      "cell_type": "code",
      "source": [
        "found = False\r\n",
        "key = \"NASA Asteroids\"\r\n",
        "description_text = \"The data is about Asteroids and is provided by NEOWS(Near-Earth Object Web Service).\"\r\n",
        "\r\n",
        "if key in ws.datasets.keys(): \r\n",
        "        found = True\r\n",
        "        dataset = ws.datasets[key] \r\n",
        "\r\n",
        "if not found:\r\n",
        "        # Create AML Dataset and register it into Workspace\r\n",
        "        data_store = Datastore.get_default(ws)\r\n",
        "        dataset = TabularDatasetFactory.register_pandas_dataframe(df, target=data_store, name=key, description=description_text, tags=None, show_progress=True)"
      ],
      "outputs": [
        {
          "output_type": "stream",
          "name": "stderr",
          "text": [
            "Method register_pandas_dataframe: This is an experimental method, and may change at any time.<br/>For more information, see https://aka.ms/azuremlexperimental.\n"
          ]
        },
        {
          "output_type": "stream",
          "name": "stdout",
          "text": [
            "Validating arguments.\n",
            "Arguments validated.\n",
            "Successfully obtained datastore reference and path.\n",
            "Uploading file to managed-dataset/388873d2-72c3-4d28-878e-a07ad7a6b3a8/\n",
            "Successfully uploaded file to datastore.\n",
            "Creating and registering a new dataset.\n",
            "Successfully created and registered a new dataset.\n"
          ]
        }
      ],
      "execution_count": 12,
      "metadata": {
        "collapsed": true,
        "jupyter": {
          "source_hidden": false,
          "outputs_hidden": false
        },
        "nteract": {
          "transient": {
            "deleting": false
          }
        },
        "gather": {
          "logged": 1612276401180
        }
      }
    },
    {
      "cell_type": "markdown",
      "source": [
        "## AutoML Configuration\n",
        "\n",
        "TODO: Explain why you chose the automl settings and cofiguration you used below."
      ],
      "metadata": {}
    },
    {
      "cell_type": "code",
      "source": [
        "# TODO: Put your automl settings here\n",
        "automl_settings = {\n",
        "    \"experiment_timeout_minutes\": 30,\n",
        "    \"max_concurrent_iterations\": 5,\n",
        "    \"primary_metric\" : 'accuracy'\n",
        "}\n",
        "\n",
        "# TODO: Put your automl config here\n",
        "automl_config = AutoMLConfig(compute_target=aml_compute,\n",
        "                             task = \"classification\",\n",
        "                             training_data=dataset,\n",
        "                             label_column_name=\"Hazardous\",  \n",
        "                             n_cross_validations=5,\n",
        "                             enable_early_stopping= True,\n",
        "                             featurization= 'auto',\n",
        "                             debug_log = \"automl_errors.log\",\n",
        "                             **automl_settings\n",
        "                            )"
      ],
      "outputs": [],
      "execution_count": 13,
      "metadata": {
        "gather": {
          "logged": 1612276411648
        },
        "jupyter": {
          "outputs_hidden": false,
          "source_hidden": false
        },
        "nteract": {
          "transient": {
            "deleting": false
          }
        }
      }
    },
    {
      "cell_type": "code",
      "source": [
        "# TODO: Submit your experiment\n",
        "automl_run = exp.submit(config=automl_config, show_output=True)"
      ],
      "outputs": [
        {
          "output_type": "stream",
          "name": "stdout",
          "text": [
            "Running on remote.\n",
            "No run_configuration provided, running on cpu-cluster with default configuration\n",
            "Running on remote compute: cpu-cluster\n",
            "Parent Run ID: AutoML_e2798d9e-31b5-45e8-8595-cdb9a0691f83\n",
            "\n",
            "Current status: FeaturesGeneration. Generating features for the dataset.\n",
            "Current status: DatasetFeaturization. Beginning to fit featurizers and featurize the dataset.\n",
            "Current status: DatasetBalancing. Generating individually featurized CV splits.\n",
            "Current status: DatasetCrossValidationSplit. Generating individually featurized CV splits.\n",
            "Current status: ModelSelection. Beginning model selection.\n",
            "\n",
            "****************************************************************************************************\n",
            "DATA GUARDRAILS: \n",
            "\n",
            "TYPE:         Class balancing detection\n",
            "STATUS:       ALERTED\n",
            "DESCRIPTION:  To decrease model bias, please cancel the current run and fix balancing problem.\n",
            "              Learn more about imbalanced data: https://aka.ms/AutomatedMLImbalancedData\n",
            "DETAILS:      Imbalanced data can lead to a falsely perceived positive effect of a model's accuracy because the input data has bias towards one class.\n",
            "+---------------------------------+---------------------------------+--------------------------------------+\n",
            "|Size of the smallest class       |Name/Label of the smallest class |Number of samples in the training data|\n",
            "+=================================+=================================+======================================+\n",
            "|755                              |1                                |4687                                  |\n",
            "+---------------------------------+---------------------------------+--------------------------------------+\n",
            "\n",
            "****************************************************************************************************\n",
            "\n",
            "TYPE:         Missing feature values imputation\n",
            "STATUS:       PASSED\n",
            "DESCRIPTION:  No feature missing values were detected in the training data.\n",
            "              Learn more about missing value imputation: https://aka.ms/AutomatedMLFeaturization\n",
            "\n",
            "****************************************************************************************************\n",
            "\n",
            "TYPE:         High cardinality feature detection\n",
            "STATUS:       PASSED\n",
            "DESCRIPTION:  Your inputs were analyzed, and no high cardinality features were detected.\n",
            "              Learn more about high cardinality feature handling: https://aka.ms/AutomatedMLFeaturization\n",
            "\n",
            "****************************************************************************************************\n",
            "\n",
            "****************************************************************************************************\n",
            "ITERATION: The iteration being evaluated.\n",
            "PIPELINE: A summary description of the pipeline being evaluated.\n",
            "DURATION: Time taken for the current iteration.\n",
            "METRIC: The result of computing score on the fitted pipeline.\n",
            "BEST: The best observed score thus far.\n",
            "****************************************************************************************************\n",
            "\n",
            " ITERATION   PIPELINE                                       DURATION      METRIC      BEST\n",
            "         0   MaxAbsScaler LightGBM                          0:00:59       0.9959    0.9959\n",
            "         3   MaxAbsScaler RandomForest                      0:00:57       0.9778    0.9959\n",
            "         1   MaxAbsScaler XGBoostClassifier                 0:01:18       0.9951    0.9959\n",
            "         6   StandardScalerWrapper LogisticRegression       0:01:01       0.9238    0.9959\n",
            "         7   StandardScalerWrapper XGBoostClassifier        0:01:13       0.9953    0.9959\n",
            "         8   MaxAbsScaler RandomForest                      0:01:51       0.8906    0.9959\n",
            "         2   MaxAbsScaler RandomForest                      0:05:27       0.9733    0.9959\n",
            "         4   MaxAbsScaler RandomForest                      0:05:46       0.9934    0.9959\n",
            "         5   MaxAbsScaler RandomForest                      0:05:45       0.9503    0.9959\n",
            "        10   MaxAbsScaler LightGBM                          0:01:18       0.9942    0.9959\n",
            "        11   SparseNormalizer LightGBM                      0:01:08       0.8929    0.9959\n",
            "         9   MaxAbsScaler ExtremeRandomTrees                0:01:30       0.8389    0.9959\n",
            "        12   MaxAbsScaler LightGBM                          0:01:19       0.9324    0.9959\n",
            "        13   StandardScalerWrapper LightGBM                 0:01:18       0.8402    0.9959\n",
            "        15   MaxAbsScaler RandomForest                      0:00:59       0.9938    0.9959\n",
            "        16   MaxAbsScaler LightGBM                          0:01:08       0.8946    0.9959\n",
            "        14   MaxAbsScaler LightGBM                          0:01:26       0.9614    0.9959\n",
            "        17   TruncatedSVDWrapper XGBoostClassifier          0:01:09       0.8675    0.9959\n",
            "        19   MaxAbsScaler LightGBM                          0:00:59       0.9893    0.9959\n",
            "        18   StandardScalerWrapper DecisionTree             0:01:02       0.9936    0.9959\n",
            "        20   MaxAbsScaler LightGBM                          0:01:03       0.9925    0.9959\n",
            "        21   StandardScalerWrapper XGBoostClassifier        0:01:02       0.9940    0.9959\n",
            "        22   StandardScalerWrapper XGBoostClassifier        0:01:03       0.9940    0.9959\n",
            "        23   StandardScalerWrapper LightGBM                 0:01:08       0.9942    0.9959\n",
            "        24   StandardScalerWrapper XGBoostClassifier        0:00:59       0.9938    0.9959\n",
            "        25   MaxAbsScaler LightGBM                          0:01:08       0.8389    0.9959\n",
            "        26   SparseNormalizer XGBoostClassifier             0:01:08       0.9866    0.9959\n",
            "        27   StandardScalerWrapper LightGBM                 0:01:16       0.9940    0.9959\n",
            "        28   StandardScalerWrapper XGBoostClassifier        0:01:10       0.9919    0.9959\n",
            "        29   StandardScalerWrapper XGBoostClassifier        0:01:23       0.9947    0.9959\n",
            "        30   StandardScalerWrapper LightGBM                 0:01:17       0.9942    0.9959\n",
            "        31   StandardScalerWrapper XGBoostClassifier        0:01:21       0.9947    0.9959\n",
            "        32   SparseNormalizer XGBoostClassifier             0:01:23       0.9874    0.9959\n",
            "        33   StandardScalerWrapper XGBoostClassifier        0:01:01       0.9955    0.9959\n",
            "        34   MaxAbsScaler LightGBM                          0:00:52       0.9945    0.9959\n",
            "        35   StandardScalerWrapper LightGBM                 0:00:46       0.9942    0.9959\n",
            "        36                                                  0:00:30          nan    0.9959\n",
            "        37                                                  0:00:34          nan    0.9959\n",
            "        38    VotingEnsemble                                0:01:57       0.9962    0.9962\n",
            "        39    StackEnsemble                                 0:02:01       0.9949    0.9962\n"
          ]
        }
      ],
      "execution_count": 14,
      "metadata": {
        "gather": {
          "logged": 1612278052881
        },
        "jupyter": {
          "outputs_hidden": false,
          "source_hidden": false
        },
        "nteract": {
          "transient": {
            "deleting": false
          }
        }
      }
    },
    {
      "cell_type": "markdown",
      "source": [
        "## Run Details\n",
        "\n",
        "OPTIONAL: Write about the different models trained and their performance. Why do you think some models did better than others?\n",
        "\n",
        "TODO: In the cell below, use the `RunDetails` widget to show the different experiments."
      ],
      "metadata": {}
    },
    {
      "cell_type": "code",
      "source": [
        "RunDetails(automl_run).show()"
      ],
      "outputs": [
        {
          "output_type": "display_data",
          "data": {
            "text/plain": "_AutoMLWidget(widget_settings={'childWidgetDisplay': 'popup', 'send_telemetry': False, 'log_level': 'INFO', 's…",
            "application/vnd.jupyter.widget-view+json": {
              "version_major": 2,
              "version_minor": 0,
              "model_id": "94013e0ea2424113949b8b0f7dea7f92"
            }
          },
          "metadata": {}
        },
        {
          "output_type": "display_data",
          "data": {
            "application/aml.mini.widget.v1": "{\"status\": \"Completed\", \"workbench_run_details_uri\": \"https://ml.azure.com/experiments/capstone_automl/runs/AutoML_e2798d9e-31b5-45e8-8595-cdb9a0691f83?wsid=/subscriptions/976ee174-3882-4721-b90a-b5fef6b72f24/resourcegroups/aml-quickstarts-136944/workspaces/quick-starts-ws-136944\", \"run_id\": \"AutoML_e2798d9e-31b5-45e8-8595-cdb9a0691f83\", \"run_properties\": {\"run_id\": \"AutoML_e2798d9e-31b5-45e8-8595-cdb9a0691f83\", \"created_utc\": \"2021-02-02T14:33:45.824514Z\", \"properties\": {\"num_iterations\": \"1000\", \"training_type\": \"TrainFull\", \"acquisition_function\": \"EI\", \"primary_metric\": \"accuracy\", \"train_split\": \"0\", \"acquisition_parameter\": \"0\", \"num_cross_validation\": \"5\", \"target\": \"cpu-cluster\", \"AMLSettingsJsonString\": \"{\\\"path\\\":null,\\\"name\\\":\\\"capstone_automl\\\",\\\"subscription_id\\\":\\\"976ee174-3882-4721-b90a-b5fef6b72f24\\\",\\\"resource_group\\\":\\\"aml-quickstarts-136944\\\",\\\"workspace_name\\\":\\\"quick-starts-ws-136944\\\",\\\"region\\\":\\\"southcentralus\\\",\\\"compute_target\\\":\\\"cpu-cluster\\\",\\\"spark_service\\\":null,\\\"azure_service\\\":\\\"remote\\\",\\\"many_models\\\":false,\\\"pipeline_fetch_max_batch_size\\\":1,\\\"iterations\\\":1000,\\\"primary_metric\\\":\\\"accuracy\\\",\\\"task_type\\\":\\\"classification\\\",\\\"data_script\\\":null,\\\"validation_size\\\":0.0,\\\"n_cross_validations\\\":5,\\\"y_min\\\":null,\\\"y_max\\\":null,\\\"num_classes\\\":null,\\\"featurization\\\":\\\"auto\\\",\\\"_ignore_package_version_incompatibilities\\\":false,\\\"is_timeseries\\\":false,\\\"max_cores_per_iteration\\\":1,\\\"max_concurrent_iterations\\\":5,\\\"iteration_timeout_minutes\\\":null,\\\"mem_in_mb\\\":null,\\\"enforce_time_on_windows\\\":false,\\\"experiment_timeout_minutes\\\":30,\\\"experiment_exit_score\\\":null,\\\"whitelist_models\\\":null,\\\"blacklist_algos\\\":[\\\"TensorFlowLinearClassifier\\\",\\\"TensorFlowDNN\\\"],\\\"supported_models\\\":[\\\"LightGBM\\\",\\\"BernoulliNaiveBayes\\\",\\\"SGD\\\",\\\"ExtremeRandomTrees\\\",\\\"GradientBoosting\\\",\\\"KNN\\\",\\\"MultinomialNaiveBayes\\\",\\\"LinearSVM\\\",\\\"DecisionTree\\\",\\\"SVM\\\",\\\"RandomForest\\\",\\\"XGBoostClassifier\\\",\\\"TensorFlowDNN\\\",\\\"LogisticRegression\\\",\\\"TensorFlowLinearClassifier\\\",\\\"AveragedPerceptronClassifier\\\"],\\\"auto_blacklist\\\":true,\\\"blacklist_samples_reached\\\":false,\\\"exclude_nan_labels\\\":true,\\\"verbosity\\\":20,\\\"_debug_log\\\":\\\"azureml_automl.log\\\",\\\"show_warnings\\\":false,\\\"model_explainability\\\":true,\\\"service_url\\\":null,\\\"sdk_url\\\":null,\\\"sdk_packages\\\":null,\\\"enable_onnx_compatible_models\\\":false,\\\"enable_split_onnx_featurizer_estimator_models\\\":false,\\\"vm_type\\\":\\\"STANDARD_D2_V2\\\",\\\"telemetry_verbosity\\\":20,\\\"send_telemetry\\\":true,\\\"enable_dnn\\\":false,\\\"scenario\\\":\\\"SDK-1.13.0\\\",\\\"environment_label\\\":null,\\\"force_text_dnn\\\":false,\\\"enable_feature_sweeping\\\":true,\\\"enable_early_stopping\\\":true,\\\"early_stopping_n_iters\\\":10,\\\"metrics\\\":null,\\\"enable_ensembling\\\":true,\\\"enable_stack_ensembling\\\":true,\\\"ensemble_iterations\\\":15,\\\"enable_tf\\\":false,\\\"enable_subsampling\\\":null,\\\"subsample_seed\\\":null,\\\"enable_nimbusml\\\":false,\\\"enable_streaming\\\":false,\\\"force_streaming\\\":false,\\\"track_child_runs\\\":true,\\\"allowed_private_models\\\":[],\\\"label_column_name\\\":\\\"Hazardous\\\",\\\"weight_column_name\\\":null,\\\"cv_split_column_names\\\":null,\\\"enable_local_managed\\\":false,\\\"_local_managed_run_id\\\":null,\\\"cost_mode\\\":1,\\\"lag_length\\\":0,\\\"metric_operation\\\":\\\"maximize\\\",\\\"preprocess\\\":true}\", \"DataPrepJsonString\": \"{\\\\\\\"training_data\\\\\\\": \\\\\\\"{\\\\\\\\\\\\\\\"blocks\\\\\\\\\\\\\\\": [{\\\\\\\\\\\\\\\"id\\\\\\\\\\\\\\\": \\\\\\\\\\\\\\\"eb5458c2-0d75-41be-ba67-7994a2058d5d\\\\\\\\\\\\\\\", \\\\\\\\\\\\\\\"type\\\\\\\\\\\\\\\": \\\\\\\\\\\\\\\"Microsoft.DPrep.GetDatastoreFilesBlock\\\\\\\\\\\\\\\", \\\\\\\\\\\\\\\"arguments\\\\\\\\\\\\\\\": {\\\\\\\\\\\\\\\"datastores\\\\\\\\\\\\\\\": [{\\\\\\\\\\\\\\\"datastoreName\\\\\\\\\\\\\\\": \\\\\\\\\\\\\\\"workspaceblobstore\\\\\\\\\\\\\\\", \\\\\\\\\\\\\\\"path\\\\\\\\\\\\\\\": \\\\\\\\\\\\\\\"managed-dataset/388873d2-72c3-4d28-878e-a07ad7a6b3a8/\\\\\\\\\\\\\\\", \\\\\\\\\\\\\\\"resourceGroup\\\\\\\\\\\\\\\": \\\\\\\\\\\\\\\"aml-quickstarts-136944\\\\\\\\\\\\\\\", \\\\\\\\\\\\\\\"subscription\\\\\\\\\\\\\\\": \\\\\\\\\\\\\\\"976ee174-3882-4721-b90a-b5fef6b72f24\\\\\\\\\\\\\\\", \\\\\\\\\\\\\\\"workspaceName\\\\\\\\\\\\\\\": \\\\\\\\\\\\\\\"quick-starts-ws-136944\\\\\\\\\\\\\\\"}]}, \\\\\\\\\\\\\\\"localData\\\\\\\\\\\\\\\": {}, \\\\\\\\\\\\\\\"isEnabled\\\\\\\\\\\\\\\": true, \\\\\\\\\\\\\\\"name\\\\\\\\\\\\\\\": null, \\\\\\\\\\\\\\\"annotation\\\\\\\\\\\\\\\": null}, {\\\\\\\\\\\\\\\"id\\\\\\\\\\\\\\\": \\\\\\\\\\\\\\\"bddcd591-2a1c-4f61-86c8-2af2cdc21424\\\\\\\\\\\\\\\", \\\\\\\\\\\\\\\"type\\\\\\\\\\\\\\\": \\\\\\\\\\\\\\\"Microsoft.DPrep.ReadParquetFileBlock\\\\\\\\\\\\\\\", \\\\\\\\\\\\\\\"arguments\\\\\\\\\\\\\\\": {\\\\\\\\\\\\\\\"preview\\\\\\\\\\\\\\\": false}, \\\\\\\\\\\\\\\"localData\\\\\\\\\\\\\\\": {}, \\\\\\\\\\\\\\\"isEnabled\\\\\\\\\\\\\\\": true, \\\\\\\\\\\\\\\"name\\\\\\\\\\\\\\\": null, \\\\\\\\\\\\\\\"annotation\\\\\\\\\\\\\\\": null}, {\\\\\\\\\\\\\\\"id\\\\\\\\\\\\\\\": \\\\\\\\\\\\\\\"c04c3895-1610-41f8-8591-d8bd8db760e1\\\\\\\\\\\\\\\", \\\\\\\\\\\\\\\"type\\\\\\\\\\\\\\\": \\\\\\\\\\\\\\\"Microsoft.DPrep.DropColumnsBlock\\\\\\\\\\\\\\\", \\\\\\\\\\\\\\\"arguments\\\\\\\\\\\\\\\": {\\\\\\\\\\\\\\\"columns\\\\\\\\\\\\\\\": {\\\\\\\\\\\\\\\"type\\\\\\\\\\\\\\\": 0, \\\\\\\\\\\\\\\"details\\\\\\\\\\\\\\\": {\\\\\\\\\\\\\\\"selectedColumns\\\\\\\\\\\\\\\": [\\\\\\\\\\\\\\\"Path\\\\\\\\\\\\\\\"]}}}, \\\\\\\\\\\\\\\"localData\\\\\\\\\\\\\\\": {}, \\\\\\\\\\\\\\\"isEnabled\\\\\\\\\\\\\\\": true, \\\\\\\\\\\\\\\"name\\\\\\\\\\\\\\\": null, \\\\\\\\\\\\\\\"annotation\\\\\\\\\\\\\\\": null}], \\\\\\\\\\\\\\\"inspectors\\\\\\\\\\\\\\\": [], \\\\\\\\\\\\\\\"meta\\\\\\\\\\\\\\\": {\\\\\\\\\\\\\\\"savedDatasetId\\\\\\\\\\\\\\\": \\\\\\\\\\\\\\\"9f707110-506a-43c8-9165-b8baad2bb0b1\\\\\\\\\\\\\\\", \\\\\\\\\\\\\\\"datasetType\\\\\\\\\\\\\\\": \\\\\\\\\\\\\\\"tabular\\\\\\\\\\\\\\\", \\\\\\\\\\\\\\\"subscriptionId\\\\\\\\\\\\\\\": \\\\\\\\\\\\\\\"976ee174-3882-4721-b90a-b5fef6b72f24\\\\\\\\\\\\\\\", \\\\\\\\\\\\\\\"workspaceId\\\\\\\\\\\\\\\": \\\\\\\\\\\\\\\"82dc5bb8-b831-4543-9dab-0ff2cdcd48db\\\\\\\\\\\\\\\", \\\\\\\\\\\\\\\"workspaceLocation\\\\\\\\\\\\\\\": \\\\\\\\\\\\\\\"southcentralus\\\\\\\\\\\\\\\"}}\\\\\\\", \\\\\\\"activities\\\\\\\": 0}\", \"EnableSubsampling\": null, \"runTemplate\": \"AutoML\", \"azureml.runsource\": \"automl\", \"display_task_type\": \"classification\", \"dependencies_versions\": \"{\\\"azureml-widgets\\\": \\\"1.20.0\\\", \\\"azureml-train\\\": \\\"1.20.0\\\", \\\"azureml-train-restclients-hyperdrive\\\": \\\"1.20.0\\\", \\\"azureml-train-core\\\": \\\"1.20.0\\\", \\\"azureml-train-automl\\\": \\\"1.20.0\\\", \\\"azureml-train-automl-runtime\\\": \\\"1.20.0\\\", \\\"azureml-train-automl-client\\\": \\\"1.20.0\\\", \\\"azureml-tensorboard\\\": \\\"1.20.0\\\", \\\"azureml-telemetry\\\": \\\"1.20.0\\\", \\\"azureml-sdk\\\": \\\"1.20.0\\\", \\\"azureml-samples\\\": \\\"0+unknown\\\", \\\"azureml-pipeline\\\": \\\"1.20.0\\\", \\\"azureml-pipeline-steps\\\": \\\"1.20.0\\\", \\\"azureml-pipeline-core\\\": \\\"1.20.0\\\", \\\"azureml-opendatasets\\\": \\\"1.20.0\\\", \\\"azureml-model-management-sdk\\\": \\\"1.0.1b6.post1\\\", \\\"azureml-mlflow\\\": \\\"1.20.0.post1\\\", \\\"azureml-interpret\\\": \\\"1.20.0\\\", \\\"azureml-explain-model\\\": \\\"1.20.0\\\", \\\"azureml-defaults\\\": \\\"1.20.0\\\", \\\"azureml-dataset-runtime\\\": \\\"1.20.0\\\", \\\"azureml-dataprep\\\": \\\"2.7.3\\\", \\\"azureml-dataprep-rslex\\\": \\\"1.5.0\\\", \\\"azureml-dataprep-native\\\": \\\"27.0.0\\\", \\\"azureml-datadrift\\\": \\\"1.20.0\\\", \\\"azureml-core\\\": \\\"1.20.0\\\", \\\"azureml-contrib-services\\\": \\\"1.20.0\\\", \\\"azureml-contrib-server\\\": \\\"1.20.0\\\", \\\"azureml-contrib-reinforcementlearning\\\": \\\"1.20.0\\\", \\\"azureml-contrib-pipeline-steps\\\": \\\"1.20.0\\\", \\\"azureml-contrib-notebook\\\": \\\"1.20.0\\\", \\\"azureml-contrib-interpret\\\": \\\"1.20.0\\\", \\\"azureml-contrib-gbdt\\\": \\\"1.20.0\\\", \\\"azureml-contrib-fairness\\\": \\\"1.20.0\\\", \\\"azureml-contrib-dataset\\\": \\\"1.20.0\\\", \\\"azureml-cli-common\\\": \\\"1.20.0\\\", \\\"azureml-automl-runtime\\\": \\\"1.20.0\\\", \\\"azureml-automl-core\\\": \\\"1.20.0\\\", \\\"azureml-accel-models\\\": \\\"1.20.0\\\"}\", \"_aml_system_scenario_identification\": \"Remote.Parent\", \"ClientType\": \"SDK\", \"environment_cpu_name\": \"AzureML-AutoML\", \"environment_cpu_label\": \"prod\", \"environment_gpu_name\": \"AzureML-AutoML-GPU\", \"environment_gpu_label\": \"prod\", \"root_attribution\": \"automl\", \"attribution\": \"AutoML\", \"Orchestrator\": \"AutoML\", \"CancelUri\": \"https://southcentralus.experiments.azureml.net/jasmine/v1.0/subscriptions/976ee174-3882-4721-b90a-b5fef6b72f24/resourceGroups/aml-quickstarts-136944/providers/Microsoft.MachineLearningServices/workspaces/quick-starts-ws-136944/experimentids/58f1c0a6-70ee-44c6-be6c-5cb22e409a02/cancel/AutoML_e2798d9e-31b5-45e8-8595-cdb9a0691f83\", \"ClientSdkVersion\": \"1.21.0\", \"snapshotId\": \"00000000-0000-0000-0000-000000000000\", \"SetupRunId\": \"AutoML_e2798d9e-31b5-45e8-8595-cdb9a0691f83_setup\", \"SetupRunContainerId\": \"dcid.AutoML_e2798d9e-31b5-45e8-8595-cdb9a0691f83_setup\", \"FeaturizationRunJsonPath\": \"featurizer_container.json\", \"FeaturizationRunId\": \"AutoML_e2798d9e-31b5-45e8-8595-cdb9a0691f83_featurize\", \"ProblemInfoJsonString\": \"{\\\"dataset_num_categorical\\\": 0, \\\"is_sparse\\\": true, \\\"subsampling\\\": false, \\\"dataset_classes\\\": 2, \\\"dataset_features\\\": 30, \\\"dataset_samples\\\": 4687, \\\"single_frequency_class_detected\\\": false}\", \"ModelExplainRunId\": \"AutoML_e2798d9e-31b5-45e8-8595-cdb9a0691f83_ModelExplain\"}, \"tags\": {\"model_explain_run\": \"best_run\", \"_aml_system_azureml.automlComponent\": \"AutoML\", \"pipeline_id\": \"\", \"score\": \"\", \"predicted_cost\": \"\", \"fit_time\": \"\", \"training_percent\": \"\", \"iteration\": \"\", \"run_preprocessor\": \"\", \"run_algorithm\": \"\", \"dynamic_whitelisting_iterations\": \"<25>;<30>;<35>;\", \"automl_best_child_run_id\": \"AutoML_e2798d9e-31b5-45e8-8595-cdb9a0691f83_38\", \"model_explain_best_run_child_id\": \"AutoML_e2798d9e-31b5-45e8-8595-cdb9a0691f83_38\"}, \"end_time_utc\": \"2021-02-02T15:00:37.480005Z\", \"status\": \"Completed\", \"log_files\": {}, \"log_groups\": [], \"run_duration\": \"0:26:51\"}, \"child_runs\": [{\"run_id\": \"AutoML_e2798d9e-31b5-45e8-8595-cdb9a0691f83_0\", \"run_number\": 6, \"metric\": null, \"status\": \"Completed\", \"run_type\": \"azureml.scriptrun\", \"training_percent\": \"100\", \"start_time\": \"2021-02-02T14:41:14.58689Z\", \"end_time\": \"2021-02-02T14:42:13.972698Z\", \"created_time\": \"2021-02-02T14:41:04.524218Z\", \"created_time_dt\": \"2021-02-02T14:41:04.524218Z\", \"duration\": \"0:01:09\", \"iteration\": \"0\", \"goal\": \"accuracy_max\", \"run_name\": \"MaxAbsScaler, LightGBM\", \"run_properties\": \"copy=True\", \"primary_metric\": 0.99594701, \"best_metric\": 0.99594701}, {\"run_id\": \"AutoML_e2798d9e-31b5-45e8-8595-cdb9a0691f83_1\", \"run_number\": 7, \"metric\": null, \"status\": \"Completed\", \"run_type\": \"azureml.scriptrun\", \"training_percent\": \"100\", \"start_time\": \"2021-02-02T14:43:30.782146Z\", \"end_time\": \"2021-02-02T14:44:48.285693Z\", \"created_time\": \"2021-02-02T14:41:04.634216Z\", \"created_time_dt\": \"2021-02-02T14:41:04.634216Z\", \"duration\": \"0:03:43\", \"iteration\": \"1\", \"goal\": \"accuracy_max\", \"run_name\": \"MaxAbsScaler, XGBoostClassifier\", \"run_properties\": \"copy=True\", \"primary_metric\": 0.99509345, \"best_metric\": 0.99594701}, {\"run_id\": \"AutoML_e2798d9e-31b5-45e8-8595-cdb9a0691f83_2\", \"run_number\": 8, \"metric\": null, \"status\": \"Completed\", \"run_type\": \"azureml.scriptrun\", \"training_percent\": \"100\", \"start_time\": \"2021-02-02T14:43:35.181978Z\", \"end_time\": \"2021-02-02T14:49:02.528537Z\", \"created_time\": \"2021-02-02T14:41:04.660415Z\", \"created_time_dt\": \"2021-02-02T14:41:04.660415Z\", \"duration\": \"0:07:57\", \"iteration\": \"2\", \"goal\": \"accuracy_max\", \"run_name\": \"MaxAbsScaler, RandomForest\", \"run_properties\": \"copy=True\", \"primary_metric\": 0.97333822, \"best_metric\": 0.99594701}, {\"run_id\": \"AutoML_e2798d9e-31b5-45e8-8595-cdb9a0691f83_3\", \"run_number\": 9, \"metric\": null, \"status\": \"Completed\", \"run_type\": \"azureml.scriptrun\", \"training_percent\": \"100\", \"start_time\": \"2021-02-02T14:42:20.320839Z\", \"end_time\": \"2021-02-02T14:43:17.639336Z\", \"created_time\": \"2021-02-02T14:41:04.680212Z\", \"created_time_dt\": \"2021-02-02T14:41:04.680212Z\", \"duration\": \"0:02:12\", \"iteration\": \"3\", \"goal\": \"accuracy_max\", \"run_name\": \"MaxAbsScaler, RandomForest\", \"run_properties\": \"copy=True\", \"primary_metric\": 0.97780536, \"best_metric\": 0.99594701}, {\"run_id\": \"AutoML_e2798d9e-31b5-45e8-8595-cdb9a0691f83_4\", \"run_number\": 10, \"metric\": null, \"status\": \"Completed\", \"run_type\": \"azureml.scriptrun\", \"training_percent\": \"100\", \"start_time\": \"2021-02-02T14:43:37.224858Z\", \"end_time\": \"2021-02-02T14:49:23.11878Z\", \"created_time\": \"2021-02-02T14:41:04.673234Z\", \"created_time_dt\": \"2021-02-02T14:41:04.673234Z\", \"duration\": \"0:08:18\", \"iteration\": \"4\", \"goal\": \"accuracy_max\", \"run_name\": \"MaxAbsScaler, RandomForest\", \"run_properties\": \"copy=True\", \"primary_metric\": 0.99338587, \"best_metric\": 0.99594701}, {\"run_id\": \"AutoML_e2798d9e-31b5-45e8-8595-cdb9a0691f83_5\", \"run_number\": 11, \"metric\": null, \"status\": \"Completed\", \"run_type\": \"azureml.scriptrun\", \"training_percent\": \"100\", \"start_time\": \"2021-02-02T14:43:36.370337Z\", \"end_time\": \"2021-02-02T14:49:21.472246Z\", \"created_time\": \"2021-02-02T14:42:16.108299Z\", \"created_time_dt\": \"2021-02-02T14:42:16.108299Z\", \"duration\": \"0:07:05\", \"iteration\": \"5\", \"goal\": \"accuracy_max\", \"run_name\": \"MaxAbsScaler, RandomForest\", \"run_properties\": \"copy=True\", \"primary_metric\": 0.95027113, \"best_metric\": 0.99594701}, {\"run_id\": \"AutoML_e2798d9e-31b5-45e8-8595-cdb9a0691f83_6\", \"run_number\": 12, \"metric\": null, \"status\": \"Completed\", \"run_type\": \"azureml.scriptrun\", \"training_percent\": \"100\", \"start_time\": \"2021-02-02T14:44:49.165968Z\", \"end_time\": \"2021-02-02T14:45:49.904876Z\", \"created_time\": \"2021-02-02T14:43:21.400304Z\", \"created_time_dt\": \"2021-02-02T14:43:21.400304Z\", \"duration\": \"0:02:28\", \"iteration\": \"6\", \"goal\": \"accuracy_max\", \"run_name\": \"StandardScalerWrapper, LogisticRegression\", \"run_properties\": \"<azureml.automl.runtime.shared.model_wrappers.StandardScalerWrapper object at 0x7fd21e7e3080\", \"primary_metric\": 0.92383349, \"best_metric\": 0.99594701}, {\"run_id\": \"AutoML_e2798d9e-31b5-45e8-8595-cdb9a0691f83_7\", \"run_number\": 13, \"metric\": null, \"status\": \"Completed\", \"run_type\": \"azureml.scriptrun\", \"training_percent\": \"100\", \"start_time\": \"2021-02-02T14:45:51.082462Z\", \"end_time\": \"2021-02-02T14:47:04.140432Z\", \"created_time\": \"2021-02-02T14:44:51.360479Z\", \"created_time_dt\": \"2021-02-02T14:44:51.360479Z\", \"duration\": \"0:02:12\", \"iteration\": \"7\", \"goal\": \"accuracy_max\", \"run_name\": \"StandardScalerWrapper, XGBoostClassifier\", \"run_properties\": \"<azureml.automl.runtime.shared.model_wrappers.StandardScalerWrapper object at 0x7f8e527a8d30\", \"primary_metric\": 0.99530621, \"best_metric\": 0.99594701}, {\"run_id\": \"AutoML_e2798d9e-31b5-45e8-8595-cdb9a0691f83_8\", \"run_number\": 14, \"metric\": null, \"status\": \"Completed\", \"run_type\": \"azureml.scriptrun\", \"training_percent\": \"100\", \"start_time\": \"2021-02-02T14:47:08.250189Z\", \"end_time\": \"2021-02-02T14:48:58.832298Z\", \"created_time\": \"2021-02-02T14:45:52.499525Z\", \"created_time_dt\": \"2021-02-02T14:45:52.499525Z\", \"duration\": \"0:03:06\", \"iteration\": \"8\", \"goal\": \"accuracy_max\", \"run_name\": \"MaxAbsScaler, RandomForest\", \"run_properties\": \"copy=True\", \"primary_metric\": 0.89055235, \"best_metric\": 0.99594701}, {\"run_id\": \"AutoML_e2798d9e-31b5-45e8-8595-cdb9a0691f83_9\", \"run_number\": 15, \"metric\": null, \"status\": \"Completed\", \"run_type\": \"azureml.scriptrun\", \"training_percent\": \"100\", \"start_time\": \"2021-02-02T14:49:05.345512Z\", \"end_time\": \"2021-02-02T14:50:35.774406Z\", \"created_time\": \"2021-02-02T14:47:06.561207Z\", \"created_time_dt\": \"2021-02-02T14:47:06.561207Z\", \"duration\": \"0:03:29\", \"iteration\": \"9\", \"goal\": \"accuracy_max\", \"run_name\": \"MaxAbsScaler, ExtremeRandomTrees\", \"run_properties\": \"copy=True\", \"primary_metric\": 0.83892202, \"best_metric\": 0.99594701}, {\"run_id\": \"AutoML_e2798d9e-31b5-45e8-8595-cdb9a0691f83_10\", \"run_number\": 16, \"metric\": null, \"status\": \"Completed\", \"run_type\": \"azureml.scriptrun\", \"training_percent\": \"100\", \"start_time\": \"2021-02-02T14:49:14.570403Z\", \"end_time\": \"2021-02-02T14:50:32.266555Z\", \"created_time\": \"2021-02-02T14:49:01.822631Z\", \"created_time_dt\": \"2021-02-02T14:49:01.822631Z\", \"duration\": \"0:01:30\", \"iteration\": \"10\", \"goal\": \"accuracy_max\", \"run_name\": \"MaxAbsScaler, LightGBM\", \"run_properties\": \"copy=True\", \"primary_metric\": 0.99423966, \"best_metric\": 0.99594701}, {\"run_id\": \"AutoML_e2798d9e-31b5-45e8-8595-cdb9a0691f83_11\", \"run_number\": 17, \"metric\": null, \"status\": \"Completed\", \"run_type\": \"azureml.scriptrun\", \"training_percent\": \"100\", \"start_time\": \"2021-02-02T14:49:26.257755Z\", \"end_time\": \"2021-02-02T14:50:34.074606Z\", \"created_time\": \"2021-02-02T14:49:06.370447Z\", \"created_time_dt\": \"2021-02-02T14:49:06.370447Z\", \"duration\": \"0:01:27\", \"iteration\": \"11\", \"goal\": \"accuracy_max\", \"run_name\": \"SparseNormalizer, LightGBM\", \"run_properties\": \"<azureml.automl.runtime.shared.model_wrappers.SparseNormalizer object at 0x7f6a8c0fab38\", \"primary_metric\": 0.89290072, \"best_metric\": 0.99594701}, {\"run_id\": \"AutoML_e2798d9e-31b5-45e8-8595-cdb9a0691f83_12\", \"run_number\": 18, \"metric\": null, \"status\": \"Completed\", \"run_type\": \"azureml.scriptrun\", \"training_percent\": \"100\", \"start_time\": \"2021-02-02T14:49:36.47422Z\", \"end_time\": \"2021-02-02T14:50:54.985728Z\", \"created_time\": \"2021-02-02T14:49:23.862362Z\", \"created_time_dt\": \"2021-02-02T14:49:23.862362Z\", \"duration\": \"0:01:31\", \"iteration\": \"12\", \"goal\": \"accuracy_max\", \"run_name\": \"MaxAbsScaler, LightGBM\", \"run_properties\": \"copy=True\", \"primary_metric\": 0.93237138, \"best_metric\": 0.99594701}, {\"run_id\": \"AutoML_e2798d9e-31b5-45e8-8595-cdb9a0691f83_13\", \"run_number\": 19, \"metric\": null, \"status\": \"Completed\", \"run_type\": \"azureml.scriptrun\", \"training_percent\": \"100\", \"start_time\": \"2021-02-02T14:50:35.353043Z\", \"end_time\": \"2021-02-02T14:51:53.146491Z\", \"created_time\": \"2021-02-02T14:49:29.075387Z\", \"created_time_dt\": \"2021-02-02T14:49:29.075387Z\", \"duration\": \"0:02:24\", \"iteration\": \"13\", \"goal\": \"accuracy_max\", \"run_name\": \"StandardScalerWrapper, LightGBM\", \"run_properties\": \"<azureml.automl.runtime.shared.model_wrappers.StandardScalerWrapper object at 0x7f19181a8f60\", \"primary_metric\": 0.84020248, \"best_metric\": 0.99594701}, {\"run_id\": \"AutoML_e2798d9e-31b5-45e8-8595-cdb9a0691f83_14\", \"run_number\": 20, \"metric\": null, \"status\": \"Completed\", \"run_type\": \"azureml.scriptrun\", \"training_percent\": \"100\", \"start_time\": \"2021-02-02T14:50:50.28207Z\", \"end_time\": \"2021-02-02T14:52:16.070699Z\", \"created_time\": \"2021-02-02T14:50:36.519948Z\", \"created_time_dt\": \"2021-02-02T14:50:36.519948Z\", \"duration\": \"0:01:39\", \"iteration\": \"14\", \"goal\": \"accuracy_max\", \"run_name\": \"MaxAbsScaler, LightGBM\", \"run_properties\": \"copy=True\", \"primary_metric\": 0.96138404, \"best_metric\": 0.99594701}, {\"run_id\": \"AutoML_e2798d9e-31b5-45e8-8595-cdb9a0691f83_15\", \"run_number\": 21, \"metric\": null, \"status\": \"Completed\", \"run_type\": \"azureml.scriptrun\", \"training_percent\": \"100\", \"start_time\": \"2021-02-02T14:50:54.375183Z\", \"end_time\": \"2021-02-02T14:51:53.754461Z\", \"created_time\": \"2021-02-02T14:50:42.425913Z\", \"created_time_dt\": \"2021-02-02T14:50:42.425913Z\", \"duration\": \"0:01:11\", \"iteration\": \"15\", \"goal\": \"accuracy_max\", \"run_name\": \"MaxAbsScaler, RandomForest\", \"run_properties\": \"copy=True\", \"primary_metric\": 0.99381276, \"best_metric\": 0.99594701}, {\"run_id\": \"AutoML_e2798d9e-31b5-45e8-8595-cdb9a0691f83_16\", \"run_number\": 22, \"metric\": null, \"status\": \"Completed\", \"run_type\": \"azureml.scriptrun\", \"training_percent\": \"100\", \"start_time\": \"2021-02-02T14:51:02.587355Z\", \"end_time\": \"2021-02-02T14:52:10.135978Z\", \"created_time\": \"2021-02-02T14:50:42.547313Z\", \"created_time_dt\": \"2021-02-02T14:50:42.547313Z\", \"duration\": \"0:01:27\", \"iteration\": \"16\", \"goal\": \"accuracy_max\", \"run_name\": \"MaxAbsScaler, LightGBM\", \"run_properties\": \"copy=True\", \"primary_metric\": 0.89460557, \"best_metric\": 0.99594701}, {\"run_id\": \"AutoML_e2798d9e-31b5-45e8-8595-cdb9a0691f83_17\", \"run_number\": 23, \"metric\": null, \"status\": \"Completed\", \"run_type\": \"azureml.scriptrun\", \"training_percent\": \"100\", \"start_time\": \"2021-02-02T14:51:57.015011Z\", \"end_time\": \"2021-02-02T14:53:05.855881Z\", \"created_time\": \"2021-02-02T14:50:57.869281Z\", \"created_time_dt\": \"2021-02-02T14:50:57.869281Z\", \"duration\": \"0:02:07\", \"iteration\": \"17\", \"goal\": \"accuracy_max\", \"run_name\": \"TruncatedSVDWrapper, XGBoostClassifier\", \"run_properties\": \"n_components=0.8015789473684211, random_state=None\", \"primary_metric\": 0.86751348, \"best_metric\": 0.99594701}, {\"run_id\": \"AutoML_e2798d9e-31b5-45e8-8595-cdb9a0691f83_18\", \"run_number\": 24, \"metric\": null, \"status\": \"Completed\", \"run_type\": \"azureml.scriptrun\", \"training_percent\": \"100\", \"start_time\": \"2021-02-02T14:52:19.549669Z\", \"end_time\": \"2021-02-02T14:53:21.742864Z\", \"created_time\": \"2021-02-02T14:51:56.976025Z\", \"created_time_dt\": \"2021-02-02T14:51:56.976025Z\", \"duration\": \"0:01:24\", \"iteration\": \"18\", \"goal\": \"accuracy_max\", \"run_name\": \"StandardScalerWrapper, DecisionTree\", \"run_properties\": \"<azureml.automl.runtime.shared.model_wrappers.StandardScalerWrapper object at 0x7f3609386470\", \"primary_metric\": 0.99359932, \"best_metric\": 0.99594701}, {\"run_id\": \"AutoML_e2798d9e-31b5-45e8-8595-cdb9a0691f83_19\", \"run_number\": 25, \"metric\": null, \"status\": \"Completed\", \"run_type\": \"azureml.scriptrun\", \"training_percent\": \"100\", \"start_time\": \"2021-02-02T14:52:08.746077Z\", \"end_time\": \"2021-02-02T14:53:08.052977Z\", \"created_time\": \"2021-02-02T14:51:57.214154Z\", \"created_time_dt\": \"2021-02-02T14:51:57.214154Z\", \"duration\": \"0:01:10\", \"iteration\": \"19\", \"goal\": \"accuracy_max\", \"run_name\": \"MaxAbsScaler, LightGBM\", \"run_properties\": \"copy=True\", \"primary_metric\": 0.98933196, \"best_metric\": 0.99594701}, {\"run_id\": \"AutoML_e2798d9e-31b5-45e8-8595-cdb9a0691f83_20\", \"run_number\": 26, \"metric\": null, \"status\": \"Completed\", \"run_type\": \"azureml.scriptrun\", \"training_percent\": \"100\", \"start_time\": \"2021-02-02T14:52:25.782307Z\", \"end_time\": \"2021-02-02T14:53:29.080256Z\", \"created_time\": \"2021-02-02T14:52:13.888994Z\", \"created_time_dt\": \"2021-02-02T14:52:13.888994Z\", \"duration\": \"0:01:15\", \"iteration\": \"20\", \"goal\": \"accuracy_max\", \"run_name\": \"MaxAbsScaler, LightGBM\", \"run_properties\": \"copy=True\", \"primary_metric\": 0.99253276, \"best_metric\": 0.99594701}, {\"run_id\": \"AutoML_e2798d9e-31b5-45e8-8595-cdb9a0691f83_21\", \"run_number\": 27, \"metric\": null, \"status\": \"Completed\", \"run_type\": \"azureml.scriptrun\", \"training_percent\": \"100\", \"start_time\": \"2021-02-02T14:53:11.421397Z\", \"end_time\": \"2021-02-02T14:54:13.817881Z\", \"created_time\": \"2021-02-02T14:52:18.081726Z\", \"created_time_dt\": \"2021-02-02T14:52:18.081726Z\", \"duration\": \"0:01:55\", \"iteration\": \"21\", \"goal\": \"accuracy_max\", \"run_name\": \"StandardScalerWrapper, XGBoostClassifier\", \"run_properties\": \"<azureml.automl.runtime.shared.model_wrappers.StandardScalerWrapper object at 0x7fe366cbfe48\", \"primary_metric\": 0.99402598, \"best_metric\": 0.99594701}, {\"run_id\": \"AutoML_e2798d9e-31b5-45e8-8595-cdb9a0691f83_22\", \"run_number\": 28, \"metric\": null, \"status\": \"Completed\", \"run_type\": \"azureml.scriptrun\", \"training_percent\": \"100\", \"start_time\": \"2021-02-02T14:53:21.444416Z\", \"end_time\": \"2021-02-02T14:54:24.836481Z\", \"created_time\": \"2021-02-02T14:53:08.714248Z\", \"created_time_dt\": \"2021-02-02T14:53:08.714248Z\", \"duration\": \"0:01:16\", \"iteration\": \"22\", \"goal\": \"accuracy_max\", \"run_name\": \"StandardScalerWrapper, XGBoostClassifier\", \"run_properties\": \"<azureml.automl.runtime.shared.model_wrappers.StandardScalerWrapper object at 0x7f411b36e9b0\", \"primary_metric\": 0.99402621, \"best_metric\": 0.99594701}, {\"run_id\": \"AutoML_e2798d9e-31b5-45e8-8595-cdb9a0691f83_23\", \"run_number\": 29, \"metric\": null, \"status\": \"Completed\", \"run_type\": \"azureml.scriptrun\", \"training_percent\": \"100\", \"start_time\": \"2021-02-02T14:53:28.013907Z\", \"end_time\": \"2021-02-02T14:54:36.173644Z\", \"created_time\": \"2021-02-02T14:53:13.209772Z\", \"created_time_dt\": \"2021-02-02T14:53:13.209772Z\", \"duration\": \"0:01:22\", \"iteration\": \"23\", \"goal\": \"accuracy_max\", \"run_name\": \"StandardScalerWrapper, LightGBM\", \"run_properties\": \"<azureml.automl.runtime.shared.model_wrappers.StandardScalerWrapper object at 0x7fe93598fc88\", \"primary_metric\": 0.99424034, \"best_metric\": 0.99594701}, {\"run_id\": \"AutoML_e2798d9e-31b5-45e8-8595-cdb9a0691f83_24\", \"run_number\": 30, \"metric\": null, \"status\": \"Completed\", \"run_type\": \"azureml.scriptrun\", \"training_percent\": \"100\", \"start_time\": \"2021-02-02T14:53:35.214985Z\", \"end_time\": \"2021-02-02T14:54:34.422598Z\", \"created_time\": \"2021-02-02T14:53:24.151748Z\", \"created_time_dt\": \"2021-02-02T14:53:24.151748Z\", \"duration\": \"0:01:10\", \"iteration\": \"24\", \"goal\": \"accuracy_max\", \"run_name\": \"StandardScalerWrapper, XGBoostClassifier\", \"run_properties\": \"<azureml.automl.runtime.shared.model_wrappers.StandardScalerWrapper object at 0x7f6f4f9020b8\", \"primary_metric\": 0.99381254, \"best_metric\": 0.99594701}, {\"run_id\": \"AutoML_e2798d9e-31b5-45e8-8595-cdb9a0691f83_25\", \"run_number\": 31, \"metric\": null, \"status\": \"Completed\", \"run_type\": \"azureml.scriptrun\", \"training_percent\": \"100\", \"start_time\": \"2021-02-02T14:54:22.36035Z\", \"end_time\": \"2021-02-02T14:55:30.599611Z\", \"created_time\": \"2021-02-02T14:53:32.38053Z\", \"created_time_dt\": \"2021-02-02T14:53:32.38053Z\", \"duration\": \"0:01:58\", \"iteration\": \"25\", \"goal\": \"accuracy_max\", \"run_name\": \"MaxAbsScaler, LightGBM\", \"run_properties\": \"copy=True\", \"primary_metric\": 0.83892202, \"best_metric\": 0.99594701}, {\"run_id\": \"AutoML_e2798d9e-31b5-45e8-8595-cdb9a0691f83_26\", \"run_number\": 32, \"metric\": null, \"status\": \"Completed\", \"run_type\": \"azureml.scriptrun\", \"training_percent\": \"100\", \"start_time\": \"2021-02-02T14:54:29.372267Z\", \"end_time\": \"2021-02-02T14:55:36.881991Z\", \"created_time\": \"2021-02-02T14:54:16.684456Z\", \"created_time_dt\": \"2021-02-02T14:54:16.684456Z\", \"duration\": \"0:01:20\", \"iteration\": \"26\", \"goal\": \"accuracy_max\", \"run_name\": \"SparseNormalizer, XGBoostClassifier\", \"run_properties\": \"<azureml.automl.runtime.shared.model_wrappers.SparseNormalizer object at 0x7ff12218e2b0\", \"primary_metric\": 0.98655965, \"best_metric\": 0.99594701}, {\"run_id\": \"AutoML_e2798d9e-31b5-45e8-8595-cdb9a0691f83_27\", \"run_number\": 33, \"metric\": null, \"status\": \"Completed\", \"run_type\": \"azureml.scriptrun\", \"training_percent\": \"100\", \"start_time\": \"2021-02-02T14:54:42.17827Z\", \"end_time\": \"2021-02-02T14:55:57.836049Z\", \"created_time\": \"2021-02-02T14:54:27.591736Z\", \"created_time_dt\": \"2021-02-02T14:54:27.591736Z\", \"duration\": \"0:01:30\", \"iteration\": \"27\", \"goal\": \"accuracy_max\", \"run_name\": \"StandardScalerWrapper, LightGBM\", \"run_properties\": \"<azureml.automl.runtime.shared.model_wrappers.StandardScalerWrapper object at 0x7f9170962780\", \"primary_metric\": 0.99402621, \"best_metric\": 0.99594701}, {\"run_id\": \"AutoML_e2798d9e-31b5-45e8-8595-cdb9a0691f83_28\", \"run_number\": 34, \"metric\": null, \"status\": \"Completed\", \"run_type\": \"azureml.scriptrun\", \"training_percent\": \"100\", \"start_time\": \"2021-02-02T14:54:48.627432Z\", \"end_time\": \"2021-02-02T14:55:58.319938Z\", \"created_time\": \"2021-02-02T14:54:36.567935Z\", \"created_time_dt\": \"2021-02-02T14:54:36.567935Z\", \"duration\": \"0:01:21\", \"iteration\": \"28\", \"goal\": \"accuracy_max\", \"run_name\": \"StandardScalerWrapper, XGBoostClassifier\", \"run_properties\": \"<azureml.automl.runtime.shared.model_wrappers.StandardScalerWrapper object at 0x7f3451a28940\", \"primary_metric\": 0.9918931, \"best_metric\": 0.99594701}, {\"run_id\": \"AutoML_e2798d9e-31b5-45e8-8595-cdb9a0691f83_29\", \"run_number\": 35, \"metric\": null, \"status\": \"Completed\", \"run_type\": \"azureml.scriptrun\", \"training_percent\": \"100\", \"start_time\": \"2021-02-02T14:55:36.488608Z\", \"end_time\": \"2021-02-02T14:56:59.633922Z\", \"created_time\": \"2021-02-02T14:54:41.517696Z\", \"created_time_dt\": \"2021-02-02T14:54:41.517696Z\", \"duration\": \"0:02:18\", \"iteration\": \"29\", \"goal\": \"accuracy_max\", \"run_name\": \"StandardScalerWrapper, XGBoostClassifier\", \"run_properties\": \"<azureml.automl.runtime.shared.model_wrappers.StandardScalerWrapper object at 0x7fc357c222b0\", \"primary_metric\": 0.99466632, \"best_metric\": 0.99594701}, {\"run_id\": \"AutoML_e2798d9e-31b5-45e8-8595-cdb9a0691f83_30\", \"run_number\": 36, \"metric\": null, \"status\": \"Completed\", \"run_type\": \"azureml.scriptrun\", \"training_percent\": \"100\", \"start_time\": \"2021-02-02T14:55:49.156492Z\", \"end_time\": \"2021-02-02T14:57:06.304774Z\", \"created_time\": \"2021-02-02T14:55:33.885676Z\", \"created_time_dt\": \"2021-02-02T14:55:33.885676Z\", \"duration\": \"0:01:32\", \"iteration\": \"30\", \"goal\": \"accuracy_max\", \"run_name\": \"StandardScalerWrapper, LightGBM\", \"run_properties\": \"<azureml.automl.runtime.shared.model_wrappers.StandardScalerWrapper object at 0x7f0df35a75f8\", \"primary_metric\": 0.99423966, \"best_metric\": 0.99594701}, {\"run_id\": \"AutoML_e2798d9e-31b5-45e8-8595-cdb9a0691f83_31\", \"run_number\": 37, \"metric\": null, \"status\": \"Completed\", \"run_type\": \"azureml.scriptrun\", \"training_percent\": \"100\", \"start_time\": \"2021-02-02T14:55:59.356567Z\", \"end_time\": \"2021-02-02T14:57:20.261317Z\", \"created_time\": \"2021-02-02T14:55:39.684508Z\", \"created_time_dt\": \"2021-02-02T14:55:39.684508Z\", \"duration\": \"0:01:40\", \"iteration\": \"31\", \"goal\": \"accuracy_max\", \"run_name\": \"StandardScalerWrapper, XGBoostClassifier\", \"run_properties\": \"<azureml.automl.runtime.shared.model_wrappers.StandardScalerWrapper object at 0x7f92f74db4e0\", \"primary_metric\": 0.99466655, \"best_metric\": 0.99594701}, {\"run_id\": \"AutoML_e2798d9e-31b5-45e8-8595-cdb9a0691f83_32\", \"run_number\": 38, \"metric\": null, \"status\": \"Completed\", \"run_type\": \"azureml.scriptrun\", \"training_percent\": \"100\", \"start_time\": \"2021-02-02T14:56:13.089442Z\", \"end_time\": \"2021-02-02T14:57:36.281334Z\", \"created_time\": \"2021-02-02T14:56:00.909853Z\", \"created_time_dt\": \"2021-02-02T14:56:00.909853Z\", \"duration\": \"0:01:35\", \"iteration\": \"32\", \"goal\": \"accuracy_max\", \"run_name\": \"SparseNormalizer, XGBoostClassifier\", \"run_properties\": \"<azureml.automl.runtime.shared.model_wrappers.SparseNormalizer object at 0x7fcdc1e3f2b0\", \"primary_metric\": 0.9874139, \"best_metric\": 0.99594701}, {\"run_id\": \"AutoML_e2798d9e-31b5-45e8-8595-cdb9a0691f83_33\", \"run_number\": 39, \"metric\": null, \"status\": \"Completed\", \"run_type\": \"azureml.scriptrun\", \"training_percent\": \"100\", \"start_time\": \"2021-02-02T14:57:03.243772Z\", \"end_time\": \"2021-02-02T14:58:04.637288Z\", \"created_time\": \"2021-02-02T14:56:01.093129Z\", \"created_time_dt\": \"2021-02-02T14:56:01.093129Z\", \"duration\": \"0:02:03\", \"iteration\": \"33\", \"goal\": \"accuracy_max\", \"run_name\": \"StandardScalerWrapper, XGBoostClassifier\", \"run_properties\": \"<azureml.automl.runtime.shared.model_wrappers.StandardScalerWrapper object at 0x7fbc65b01240\", \"primary_metric\": 0.99552034, \"best_metric\": 0.99594701}, {\"run_id\": \"AutoML_e2798d9e-31b5-45e8-8595-cdb9a0691f83_34\", \"run_number\": 40, \"metric\": null, \"status\": \"Canceled\", \"run_type\": \"azureml.scriptrun\", \"training_percent\": \"100\", \"start_time\": \"2021-02-02T14:57:20.498742Z\", \"end_time\": \"2021-02-02T14:58:12.628013Z\", \"created_time\": \"2021-02-02T14:57:03.864207Z\", \"created_time_dt\": \"2021-02-02T14:57:03.864207Z\", \"duration\": \"0:01:08\", \"iteration\": \"34\", \"goal\": \"accuracy_max\", \"run_name\": \"MaxAbsScaler, LightGBM\", \"run_properties\": \"copy=True\", \"primary_metric\": 0.99445288, \"best_metric\": 0.99594701}, {\"run_id\": \"AutoML_e2798d9e-31b5-45e8-8595-cdb9a0691f83_35\", \"run_number\": 41, \"metric\": null, \"status\": \"Canceled\", \"run_type\": \"azureml.scriptrun\", \"training_percent\": \"100\", \"start_time\": \"2021-02-02T14:57:26.643774Z\", \"end_time\": \"2021-02-02T14:58:12.425448Z\", \"created_time\": \"2021-02-02T14:57:12.061836Z\", \"created_time_dt\": \"2021-02-02T14:57:12.061836Z\", \"duration\": \"0:01:00\", \"iteration\": \"35\", \"goal\": \"accuracy_max\", \"run_name\": \"StandardScalerWrapper, LightGBM\", \"run_properties\": \"<azureml.automl.runtime.shared.model_wrappers.StandardScalerWrapper object at 0x7fe00df0d320\", \"primary_metric\": 0.99423966, \"best_metric\": 0.99594701}, {\"run_id\": \"AutoML_e2798d9e-31b5-45e8-8595-cdb9a0691f83_36\", \"run_number\": 42, \"metric\": null, \"status\": \"Canceled\", \"run_type\": \"azureml.scriptrun\", \"training_percent\": \"100\", \"start_time\": \"2021-02-02T14:57:43.32044Z\", \"end_time\": \"2021-02-02T14:58:13.729282Z\", \"created_time\": \"2021-02-02T14:57:23.773211Z\", \"created_time_dt\": \"2021-02-02T14:57:23.773211Z\", \"duration\": \"0:00:49\", \"iteration\": \"36\", \"goal\": null, \"run_name\": \"Canceled\", \"run_properties\": null}, {\"run_id\": \"AutoML_e2798d9e-31b5-45e8-8595-cdb9a0691f83_37\", \"run_number\": 43, \"metric\": null, \"status\": \"Canceled\", \"run_type\": \"azureml.scriptrun\", \"training_percent\": \"100\", \"start_time\": \"2021-02-02T14:57:38.636561Z\", \"end_time\": \"2021-02-02T14:58:12.954113Z\", \"created_time\": \"2021-02-02T14:57:38.636561Z\", \"created_time_dt\": \"2021-02-02T14:57:38.636561Z\", \"duration\": \"0:00:34\", \"iteration\": \"37\", \"goal\": null, \"run_name\": \"Canceled\", \"run_properties\": null}, {\"run_id\": \"AutoML_e2798d9e-31b5-45e8-8595-cdb9a0691f83_39\", \"run_number\": 44, \"metric\": null, \"status\": \"Completed\", \"run_type\": \"azureml.scriptrun\", \"training_percent\": \"100\", \"start_time\": \"2021-02-02T14:58:29.488521Z\", \"end_time\": \"2021-02-02T15:00:30.30632Z\", \"created_time\": \"2021-02-02T14:58:16.177676Z\", \"created_time_dt\": \"2021-02-02T14:58:16.177676Z\", \"duration\": \"0:02:14\", \"iteration\": \"39\", \"goal\": \"accuracy_max\", \"run_name\": \"StackEnsemble\", \"run_properties\": \"base_learners=[('0',\\n                                        Pipeline(memory=None,\\n                                                 steps=[('maxabsscaler',\\n                                                         MaxAbsScaler(copy=True\", \"primary_metric\": 0.99487954, \"best_metric\": 0.99616023}, {\"run_id\": \"AutoML_e2798d9e-31b5-45e8-8595-cdb9a0691f83_38\", \"run_number\": 45, \"metric\": null, \"status\": \"Completed\", \"run_type\": \"azureml.scriptrun\", \"training_percent\": \"100\", \"start_time\": \"2021-02-02T14:58:29.03689Z\", \"end_time\": \"2021-02-02T15:00:25.632785Z\", \"created_time\": \"2021-02-02T14:58:16.181038Z\", \"created_time_dt\": \"2021-02-02T14:58:16.181038Z\", \"duration\": \"0:02:09\", \"iteration\": \"38\", \"goal\": \"accuracy_max\", \"run_name\": \"VotingEnsemble\", \"run_properties\": \"classification_labels=None,\\n                              estimators=[('0',\\n                                           Pipeline(memory=None,\\n                                                    steps=[('maxabsscaler',\\n                                                            MaxAbsScaler(copy=True\", \"primary_metric\": 0.99616023, \"best_metric\": 0.99616023}], \"children_metrics\": {\"categories\": [0], \"series\": {\"recall_score_weighted\": [{\"categories\": [\"0\", \"1\", \"2\", \"3\", \"4\", \"5\", \"6\", \"7\", \"8\", \"9\", \"10\", \"11\", \"12\", \"13\", \"14\", \"15\", \"16\", \"17\", \"18\", \"19\", \"20\", \"21\", \"22\", \"23\", \"24\", \"25\", \"26\", \"27\", \"28\", \"29\", \"30\", \"31\", \"32\", \"33\", \"34\", \"35\", \"38\", \"39\"], \"mode\": \"markers\", \"name\": \"recall_score_weighted\", \"stepped\": false, \"type\": \"scatter\", \"data\": [0.9959470068471485, 0.995093445715469, 0.973338218193982, 0.9778053625757475, 0.9933858683408692, 0.9502711325215666, 0.9238334930015271, 0.9953062102204331, 0.8905523457571117, 0.8389220235155979, 0.9942396570281691, 0.8929007197584269, 0.9323713798745258, 0.8402024789909273, 0.9613840387936821, 0.9938127626845192, 0.8946055664655834, 0.8675134769816111, 0.9935993155126942, 0.9893319649655365, 0.9925327623204302, 0.9940259823007238, 0.994026209856344, 0.9942403396950301, 0.9938125351288989, 0.8389220235155979, 0.9865596548436351, 0.994026209856344, 0.9918931034718161, 0.9946663238161989, 0.9942396570281691, 0.9946665513718191, 0.9874138986421755, 0.9955203400591189, 0.9944528766443739, 0.9942396570281691, 0.9961602264633533, 0.9948795434324035]}, {\"categories\": [\"0\", \"1\", \"2\", \"3\", \"4\", \"5\", \"6\", \"7\", \"8\", \"9\", \"10\", \"11\", \"12\", \"13\", \"14\", \"15\", \"16\", \"17\", \"18\", \"19\", \"20\", \"21\", \"22\", \"23\", \"24\", \"25\", \"26\", \"27\", \"28\", \"29\", \"30\", \"31\", \"32\", \"33\", \"34\", \"35\", \"38\", \"39\"], \"mode\": \"lines\", \"name\": \"recall_score_weighted_max\", \"stepped\": true, \"type\": \"scatter\", \"data\": [0.9959470068471485, 0.9959470068471485, 0.9959470068471485, 0.9959470068471485, 0.9959470068471485, 0.9959470068471485, 0.9959470068471485, 0.9959470068471485, 0.9959470068471485, 0.9959470068471485, 0.9959470068471485, 0.9959470068471485, 0.9959470068471485, 0.9959470068471485, 0.9959470068471485, 0.9959470068471485, 0.9959470068471485, 0.9959470068471485, 0.9959470068471485, 0.9959470068471485, 0.9959470068471485, 0.9959470068471485, 0.9959470068471485, 0.9959470068471485, 0.9959470068471485, 0.9959470068471485, 0.9959470068471485, 0.9959470068471485, 0.9959470068471485, 0.9959470068471485, 0.9959470068471485, 0.9959470068471485, 0.9959470068471485, 0.9959470068471485, 0.9959470068471485, 0.9959470068471485, 0.9961602264633533, 0.9961602264633533]}], \"precision_score_micro\": [{\"categories\": [\"0\", \"1\", \"2\", \"3\", \"4\", \"5\", \"6\", \"7\", \"8\", \"9\", \"10\", \"11\", \"12\", \"13\", \"14\", \"15\", \"16\", \"17\", \"18\", \"19\", \"20\", \"21\", \"22\", \"23\", \"24\", \"25\", \"26\", \"27\", \"28\", \"29\", \"30\", \"31\", \"32\", \"33\", \"34\", \"35\", \"38\", \"39\"], \"mode\": \"markers\", \"name\": \"precision_score_micro\", \"stepped\": false, \"type\": \"scatter\", \"data\": [0.9959470068471485, 0.995093445715469, 0.973338218193982, 0.9778053625757475, 0.9933858683408692, 0.9502711325215666, 0.9238334930015271, 0.9953062102204331, 0.8905523457571117, 0.8389220235155979, 0.9942396570281691, 0.8929007197584269, 0.9323713798745258, 0.8402024789909273, 0.9613840387936821, 0.9938127626845192, 0.8946055664655834, 0.8675134769816111, 0.9935993155126942, 0.9893319649655365, 0.9925327623204302, 0.9940259823007238, 0.994026209856344, 0.9942403396950301, 0.9938125351288989, 0.8389220235155979, 0.9865596548436351, 0.994026209856344, 0.9918931034718161, 0.9946663238161989, 0.9942396570281691, 0.9946665513718191, 0.9874138986421755, 0.9955203400591189, 0.9944528766443739, 0.9942396570281691, 0.9961602264633533, 0.9948795434324035]}, {\"categories\": [\"0\", \"1\", \"2\", \"3\", \"4\", \"5\", \"6\", \"7\", \"8\", \"9\", \"10\", \"11\", \"12\", \"13\", \"14\", \"15\", \"16\", \"17\", \"18\", \"19\", \"20\", \"21\", \"22\", \"23\", \"24\", \"25\", \"26\", \"27\", \"28\", \"29\", \"30\", \"31\", \"32\", \"33\", \"34\", \"35\", \"38\", \"39\"], \"mode\": \"lines\", \"name\": \"precision_score_micro_max\", \"stepped\": true, \"type\": \"scatter\", \"data\": [0.9959470068471485, 0.9959470068471485, 0.9959470068471485, 0.9959470068471485, 0.9959470068471485, 0.9959470068471485, 0.9959470068471485, 0.9959470068471485, 0.9959470068471485, 0.9959470068471485, 0.9959470068471485, 0.9959470068471485, 0.9959470068471485, 0.9959470068471485, 0.9959470068471485, 0.9959470068471485, 0.9959470068471485, 0.9959470068471485, 0.9959470068471485, 0.9959470068471485, 0.9959470068471485, 0.9959470068471485, 0.9959470068471485, 0.9959470068471485, 0.9959470068471485, 0.9959470068471485, 0.9959470068471485, 0.9959470068471485, 0.9959470068471485, 0.9959470068471485, 0.9959470068471485, 0.9959470068471485, 0.9959470068471485, 0.9959470068471485, 0.9959470068471485, 0.9959470068471485, 0.9961602264633533, 0.9961602264633533]}], \"recall_score_micro\": [{\"categories\": [\"0\", \"1\", \"2\", \"3\", \"4\", \"5\", \"6\", \"7\", \"8\", \"9\", \"10\", \"11\", \"12\", \"13\", \"14\", \"15\", \"16\", \"17\", \"18\", \"19\", \"20\", \"21\", \"22\", \"23\", \"24\", \"25\", \"26\", \"27\", \"28\", \"29\", \"30\", \"31\", \"32\", \"33\", \"34\", \"35\", \"38\", \"39\"], \"mode\": \"markers\", \"name\": \"recall_score_micro\", \"stepped\": false, \"type\": \"scatter\", \"data\": [0.9959470068471485, 0.995093445715469, 0.973338218193982, 0.9778053625757475, 0.9933858683408692, 0.9502711325215666, 0.9238334930015271, 0.9953062102204331, 0.8905523457571117, 0.8389220235155979, 0.9942396570281691, 0.8929007197584269, 0.9323713798745258, 0.8402024789909273, 0.9613840387936821, 0.9938127626845192, 0.8946055664655834, 0.8675134769816111, 0.9935993155126942, 0.9893319649655365, 0.9925327623204302, 0.9940259823007238, 0.994026209856344, 0.9942403396950301, 0.9938125351288989, 0.8389220235155979, 0.9865596548436351, 0.994026209856344, 0.9918931034718161, 0.9946663238161989, 0.9942396570281691, 0.9946665513718191, 0.9874138986421755, 0.9955203400591189, 0.9944528766443739, 0.9942396570281691, 0.9961602264633533, 0.9948795434324035]}, {\"categories\": [\"0\", \"1\", \"2\", \"3\", \"4\", \"5\", \"6\", \"7\", \"8\", \"9\", \"10\", \"11\", \"12\", \"13\", \"14\", \"15\", \"16\", \"17\", \"18\", \"19\", \"20\", \"21\", \"22\", \"23\", \"24\", \"25\", \"26\", \"27\", \"28\", \"29\", \"30\", \"31\", \"32\", \"33\", \"34\", \"35\", \"38\", \"39\"], \"mode\": \"lines\", \"name\": \"recall_score_micro_max\", \"stepped\": true, \"type\": \"scatter\", \"data\": [0.9959470068471485, 0.9959470068471485, 0.9959470068471485, 0.9959470068471485, 0.9959470068471485, 0.9959470068471485, 0.9959470068471485, 0.9959470068471485, 0.9959470068471485, 0.9959470068471485, 0.9959470068471485, 0.9959470068471485, 0.9959470068471485, 0.9959470068471485, 0.9959470068471485, 0.9959470068471485, 0.9959470068471485, 0.9959470068471485, 0.9959470068471485, 0.9959470068471485, 0.9959470068471485, 0.9959470068471485, 0.9959470068471485, 0.9959470068471485, 0.9959470068471485, 0.9959470068471485, 0.9959470068471485, 0.9959470068471485, 0.9959470068471485, 0.9959470068471485, 0.9959470068471485, 0.9959470068471485, 0.9959470068471485, 0.9959470068471485, 0.9959470068471485, 0.9959470068471485, 0.9961602264633533, 0.9961602264633533]}], \"accuracy\": [{\"categories\": [\"0\", \"1\", \"2\", \"3\", \"4\", \"5\", \"6\", \"7\", \"8\", \"9\", \"10\", \"11\", \"12\", \"13\", \"14\", \"15\", \"16\", \"17\", \"18\", \"19\", \"20\", \"21\", \"22\", \"23\", \"24\", \"25\", \"26\", \"27\", \"28\", \"29\", \"30\", \"31\", \"32\", \"33\", \"34\", \"35\", \"38\", \"39\"], \"mode\": \"markers\", \"name\": \"accuracy\", \"stepped\": false, \"type\": \"scatter\", \"data\": [0.9959470068471485, 0.995093445715469, 0.973338218193982, 0.9778053625757475, 0.9933858683408692, 0.9502711325215666, 0.9238334930015271, 0.9953062102204331, 0.8905523457571117, 0.8389220235155979, 0.9942396570281691, 0.8929007197584269, 0.9323713798745258, 0.8402024789909273, 0.9613840387936821, 0.9938127626845192, 0.8946055664655834, 0.8675134769816111, 0.9935993155126942, 0.9893319649655365, 0.9925327623204302, 0.9940259823007238, 0.994026209856344, 0.9942403396950301, 0.9938125351288989, 0.8389220235155979, 0.9865596548436351, 0.994026209856344, 0.9918931034718161, 0.9946663238161989, 0.9942396570281691, 0.9946665513718191, 0.9874138986421755, 0.9955203400591189, 0.9944528766443739, 0.9942396570281691, 0.9961602264633533, 0.9948795434324035]}, {\"categories\": [\"0\", \"1\", \"2\", \"3\", \"4\", \"5\", \"6\", \"7\", \"8\", \"9\", \"10\", \"11\", \"12\", \"13\", \"14\", \"15\", \"16\", \"17\", \"18\", \"19\", \"20\", \"21\", \"22\", \"23\", \"24\", \"25\", \"26\", \"27\", \"28\", \"29\", \"30\", \"31\", \"32\", \"33\", \"34\", \"35\", \"38\", \"39\"], \"mode\": \"lines\", \"name\": \"accuracy_max\", \"stepped\": true, \"type\": \"scatter\", \"data\": [0.9959470068471485, 0.9959470068471485, 0.9959470068471485, 0.9959470068471485, 0.9959470068471485, 0.9959470068471485, 0.9959470068471485, 0.9959470068471485, 0.9959470068471485, 0.9959470068471485, 0.9959470068471485, 0.9959470068471485, 0.9959470068471485, 0.9959470068471485, 0.9959470068471485, 0.9959470068471485, 0.9959470068471485, 0.9959470068471485, 0.9959470068471485, 0.9959470068471485, 0.9959470068471485, 0.9959470068471485, 0.9959470068471485, 0.9959470068471485, 0.9959470068471485, 0.9959470068471485, 0.9959470068471485, 0.9959470068471485, 0.9959470068471485, 0.9959470068471485, 0.9959470068471485, 0.9959470068471485, 0.9959470068471485, 0.9959470068471485, 0.9959470068471485, 0.9959470068471485, 0.9961602264633533, 0.9961602264633533]}], \"precision_score_weighted\": [{\"categories\": [\"0\", \"1\", \"2\", \"3\", \"4\", \"5\", \"6\", \"7\", \"8\", \"9\", \"10\", \"11\", \"12\", \"13\", \"14\", \"15\", \"16\", \"17\", \"18\", \"19\", \"20\", \"21\", \"22\", \"23\", \"24\", \"25\", \"26\", \"27\", \"28\", \"29\", \"30\", \"31\", \"32\", \"33\", \"34\", \"35\", \"38\", \"39\"], \"mode\": \"markers\", \"name\": \"precision_score_weighted\", \"stepped\": false, \"type\": \"scatter\", \"data\": [0.9959878247507945, 0.9951291870872361, 0.9748465032794869, 0.9786124141775137, 0.9935799328383155, 0.9727818312157768, 0.9416764394878665, 0.9953562798333294, 0.9035259815731523, 0.704008055061147, 0.9942651789331878, 0.9028746690915852, 0.9372412932715124, 0.7962561017122015, 0.9631387750264464, 0.9938702466834146, 0.9041661192129166, 0.8543096739359438, 0.993673826851263, 0.989370051529502, 0.9925946200258249, 0.9940856548537729, 0.9940383871728308, 0.9942585302558793, 0.9938939164514755, 0.704008055061147, 0.9865515073902211, 0.9940736894966624, 0.9919421105775441, 0.994699156485947, 0.9942855453901671, 0.9946940497020073, 0.9873835785299434, 0.9955375745066573, 0.9944914105159711, 0.9942780567758712, 0.9962066438400065, 0.9949375196908955]}, {\"categories\": [\"0\", \"1\", \"2\", \"3\", \"4\", \"5\", \"6\", \"7\", \"8\", \"9\", \"10\", \"11\", \"12\", \"13\", \"14\", \"15\", \"16\", \"17\", \"18\", \"19\", \"20\", \"21\", \"22\", \"23\", \"24\", \"25\", \"26\", \"27\", \"28\", \"29\", \"30\", \"31\", \"32\", \"33\", \"34\", \"35\", \"38\", \"39\"], \"mode\": \"lines\", \"name\": \"precision_score_weighted_max\", \"stepped\": true, \"type\": \"scatter\", \"data\": [0.9959878247507945, 0.9959878247507945, 0.9959878247507945, 0.9959878247507945, 0.9959878247507945, 0.9959878247507945, 0.9959878247507945, 0.9959878247507945, 0.9959878247507945, 0.9959878247507945, 0.9959878247507945, 0.9959878247507945, 0.9959878247507945, 0.9959878247507945, 0.9959878247507945, 0.9959878247507945, 0.9959878247507945, 0.9959878247507945, 0.9959878247507945, 0.9959878247507945, 0.9959878247507945, 0.9959878247507945, 0.9959878247507945, 0.9959878247507945, 0.9959878247507945, 0.9959878247507945, 0.9959878247507945, 0.9959878247507945, 0.9959878247507945, 0.9959878247507945, 0.9959878247507945, 0.9959878247507945, 0.9959878247507945, 0.9959878247507945, 0.9959878247507945, 0.9959878247507945, 0.9962066438400065, 0.9962066438400065]}], \"average_precision_score_macro\": [{\"categories\": [\"0\", \"1\", \"2\", \"3\", \"4\", \"5\", \"6\", \"7\", \"8\", \"9\", \"10\", \"11\", \"12\", \"13\", \"14\", \"15\", \"16\", \"17\", \"18\", \"19\", \"20\", \"21\", \"22\", \"23\", \"24\", \"25\", \"26\", \"27\", \"28\", \"29\", \"30\", \"31\", \"32\", \"33\", \"34\", \"35\", \"38\", \"39\"], \"mode\": \"markers\", \"name\": \"average_precision_score_macro\", \"stepped\": false, \"type\": \"scatter\", \"data\": [0.9991696177833861, 0.999527810745181, 0.9941156258395137, 0.9945735545290655, 0.9971187159733134, 0.9869676181160034, 0.9561902181375472, 0.9994875916663025, 0.99590630358521, 0.9018717246987962, 0.9978179126845423, 0.9636720743129075, 0.9935252958340051, 0.9874882595791729, 0.993810227995701, 0.9990597497772236, 0.9404844399735381, 0.7846083052474306, 0.9955204622654236, 0.9979195331742459, 0.9992116930443548, 0.995383028562659, 0.9978605628851384, 0.9993656135364875, 0.9989812587108282, 0.975658067226059, 0.9941860142424936, 0.9985639418391419, 0.9899492407007546, 0.99901391136603, 0.9994362065520612, 0.9975205089340464, 0.9966442134605659, 0.9985890790535608, 0.9994354224564788, 0.9992549955604945, 0.9994298000801007, 0.9994313783988396]}, {\"categories\": [\"0\", \"1\", \"2\", \"3\", \"4\", \"5\", \"6\", \"7\", \"8\", \"9\", \"10\", \"11\", \"12\", \"13\", \"14\", \"15\", \"16\", \"17\", \"18\", \"19\", \"20\", \"21\", \"22\", \"23\", \"24\", \"25\", \"26\", \"27\", \"28\", \"29\", \"30\", \"31\", \"32\", \"33\", \"34\", \"35\", \"38\", \"39\"], \"mode\": \"lines\", \"name\": \"average_precision_score_macro_max\", \"stepped\": true, \"type\": \"scatter\", \"data\": [0.9991696177833861, 0.999527810745181, 0.999527810745181, 0.999527810745181, 0.999527810745181, 0.999527810745181, 0.999527810745181, 0.999527810745181, 0.999527810745181, 0.999527810745181, 0.999527810745181, 0.999527810745181, 0.999527810745181, 0.999527810745181, 0.999527810745181, 0.999527810745181, 0.999527810745181, 0.999527810745181, 0.999527810745181, 0.999527810745181, 0.999527810745181, 0.999527810745181, 0.999527810745181, 0.999527810745181, 0.999527810745181, 0.999527810745181, 0.999527810745181, 0.999527810745181, 0.999527810745181, 0.999527810745181, 0.999527810745181, 0.999527810745181, 0.999527810745181, 0.999527810745181, 0.999527810745181, 0.999527810745181, 0.999527810745181, 0.999527810745181]}], \"recall_score_macro\": [{\"categories\": [\"0\", \"1\", \"2\", \"3\", \"4\", \"5\", \"6\", \"7\", \"8\", \"9\", \"10\", \"11\", \"12\", \"13\", \"14\", \"15\", \"16\", \"17\", \"18\", \"19\", \"20\", \"21\", \"22\", \"23\", \"24\", \"25\", \"26\", \"27\", \"28\", \"29\", \"30\", \"31\", \"32\", \"33\", \"34\", \"35\", \"38\", \"39\"], \"mode\": \"markers\", \"name\": \"recall_score_macro\", \"stepped\": false, \"type\": \"scatter\", \"data\": [0.9915031012818881, 0.9887390563038915, 0.9267409138690741, 0.9324026183505671, 0.9934176595503008, 0.9640141442625012, 0.933143842064468, 0.9896295962673174, 0.6612136170532669, 0.5, 0.9858819139212583, 0.6706629960745636, 0.7920097395151726, 0.504280769622315, 0.8806129306851627, 0.9868015911685086, 0.6750523962993082, 0.6280831337668581, 0.9849251878754476, 0.9714759595810974, 0.9835314625007541, 0.9856242786285785, 0.9854393495988545, 0.9862982814818544, 0.9871121565766037, 0.5, 0.9703209530156759, 0.9851739440943531, 0.9787797478068592, 0.9871690193340479, 0.9874954200099871, 0.9849227497438712, 0.9705355800282476, 0.988751681348365, 0.985873034847484, 0.9852983222038058, 0.9926594827633142, 0.9889463455219893]}, {\"categories\": [\"0\", \"1\", \"2\", \"3\", \"4\", \"5\", \"6\", \"7\", \"8\", \"9\", \"10\", \"11\", \"12\", \"13\", \"14\", \"15\", \"16\", \"17\", \"18\", \"19\", \"20\", \"21\", \"22\", \"23\", \"24\", \"25\", \"26\", \"27\", \"28\", \"29\", \"30\", \"31\", \"32\", \"33\", \"34\", \"35\", \"38\", \"39\"], \"mode\": \"lines\", \"name\": \"recall_score_macro_max\", \"stepped\": true, \"type\": \"scatter\", \"data\": [0.9915031012818881, 0.9915031012818881, 0.9915031012818881, 0.9915031012818881, 0.9934176595503008, 0.9934176595503008, 0.9934176595503008, 0.9934176595503008, 0.9934176595503008, 0.9934176595503008, 0.9934176595503008, 0.9934176595503008, 0.9934176595503008, 0.9934176595503008, 0.9934176595503008, 0.9934176595503008, 0.9934176595503008, 0.9934176595503008, 0.9934176595503008, 0.9934176595503008, 0.9934176595503008, 0.9934176595503008, 0.9934176595503008, 0.9934176595503008, 0.9934176595503008, 0.9934176595503008, 0.9934176595503008, 0.9934176595503008, 0.9934176595503008, 0.9934176595503008, 0.9934176595503008, 0.9934176595503008, 0.9934176595503008, 0.9934176595503008, 0.9934176595503008, 0.9934176595503008, 0.9934176595503008, 0.9934176595503008]}], \"matthews_correlation\": [{\"categories\": [\"0\", \"1\", \"2\", \"3\", \"4\", \"5\", \"6\", \"7\", \"8\", \"9\", \"10\", \"11\", \"12\", \"13\", \"14\", \"15\", \"16\", \"17\", \"18\", \"19\", \"20\", \"21\", \"22\", \"23\", \"24\", \"25\", \"26\", \"27\", \"28\", \"29\", \"30\", \"31\", \"32\", \"33\", \"34\", \"35\", \"38\", \"39\"], \"mode\": \"markers\", \"name\": \"matthews_correlation\", \"stepped\": false, \"type\": \"scatter\", \"data\": [0.9851259401708884, 0.9818241108918544, 0.9027315128937289, 0.9141845357658896, 0.9757922031671677, 0.8753699287591562, 0.7686937298439183, 0.9822741971137529, 0.5308468072466788, 0.0, 0.9784326446976565, 0.5443487090731156, 0.7330826837835587, 0.06441644113473374, 0.8529287713322289, 0.9767697284577389, 0.5516265928743833, 0.39784864072916765, 0.9759219349009853, 0.9596015924633093, 0.9721682946766691, 0.9774624370140774, 0.9773921279383414, 0.978900139200196, 0.9766577896292705, 0.0, 0.9500576887097679, 0.9775920270583253, 0.9699480986291095, 0.9799172617721009, 0.9784442389093666, 0.9800572124432672, 0.9534681977429225, 0.9833671414517206, 0.9791499109074445, 0.9784401489983635, 0.9859097569522163, 0.9808221312055201]}, {\"categories\": [\"0\", \"1\", \"2\", \"3\", \"4\", \"5\", \"6\", \"7\", \"8\", \"9\", \"10\", \"11\", \"12\", \"13\", \"14\", \"15\", \"16\", \"17\", \"18\", \"19\", \"20\", \"21\", \"22\", \"23\", \"24\", \"25\", \"26\", \"27\", \"28\", \"29\", \"30\", \"31\", \"32\", \"33\", \"34\", \"35\", \"38\", \"39\"], \"mode\": \"lines\", \"name\": \"matthews_correlation_max\", \"stepped\": true, \"type\": \"scatter\", \"data\": [0.9851259401708884, 0.9851259401708884, 0.9851259401708884, 0.9851259401708884, 0.9851259401708884, 0.9851259401708884, 0.9851259401708884, 0.9851259401708884, 0.9851259401708884, 0.9851259401708884, 0.9851259401708884, 0.9851259401708884, 0.9851259401708884, 0.9851259401708884, 0.9851259401708884, 0.9851259401708884, 0.9851259401708884, 0.9851259401708884, 0.9851259401708884, 0.9851259401708884, 0.9851259401708884, 0.9851259401708884, 0.9851259401708884, 0.9851259401708884, 0.9851259401708884, 0.9851259401708884, 0.9851259401708884, 0.9851259401708884, 0.9851259401708884, 0.9851259401708884, 0.9851259401708884, 0.9851259401708884, 0.9851259401708884, 0.9851259401708884, 0.9851259401708884, 0.9851259401708884, 0.9859097569522163, 0.9859097569522163]}], \"AUC_macro\": [{\"categories\": [\"0\", \"1\", \"2\", \"3\", \"4\", \"5\", \"6\", \"7\", \"8\", \"9\", \"10\", \"11\", \"12\", \"13\", \"14\", \"15\", \"16\", \"17\", \"18\", \"19\", \"20\", \"21\", \"22\", \"23\", \"24\", \"25\", \"26\", \"27\", \"28\", \"29\", \"30\", \"31\", \"32\", \"33\", \"34\", \"35\", \"38\", \"39\"], \"mode\": \"markers\", \"name\": \"AUC_macro\", \"stepped\": false, \"type\": \"scatter\", \"data\": [0.9993010395780283, 0.9997647154977154, 0.9960875824475354, 0.9961899197760402, 0.99854442222025, 0.9954050765838737, 0.9810772584122287, 0.9996974573683737, 0.9972527014224941, 0.9455906322128387, 0.9986036879285299, 0.9826107325277332, 0.9967611694147134, 0.9930458878051581, 0.9943301215621305, 0.9992648090162601, 0.97106398901707, 0.8755395414496832, 0.9985926372581936, 0.9989332483034566, 0.9994985869838938, 0.9979849753725201, 0.9990582221860356, 0.9997014440698792, 0.9993746361014054, 0.9944612190199484, 0.9970182948989013, 0.9995824679395074, 0.9938189247374382, 0.9991648071461487, 0.9997672691134338, 0.9980186630844543, 0.9982454847604055, 0.9994774829106892, 0.999858242367031, 0.9997500495593318, 0.9997551784336762, 0.9997525353311056]}, {\"categories\": [\"0\", \"1\", \"2\", \"3\", \"4\", \"5\", \"6\", \"7\", \"8\", \"9\", \"10\", \"11\", \"12\", \"13\", \"14\", \"15\", \"16\", \"17\", \"18\", \"19\", \"20\", \"21\", \"22\", \"23\", \"24\", \"25\", \"26\", \"27\", \"28\", \"29\", \"30\", \"31\", \"32\", \"33\", \"34\", \"35\", \"38\", \"39\"], \"mode\": \"lines\", \"name\": \"AUC_macro_max\", \"stepped\": true, \"type\": \"scatter\", \"data\": [0.9993010395780283, 0.9997647154977154, 0.9997647154977154, 0.9997647154977154, 0.9997647154977154, 0.9997647154977154, 0.9997647154977154, 0.9997647154977154, 0.9997647154977154, 0.9997647154977154, 0.9997647154977154, 0.9997647154977154, 0.9997647154977154, 0.9997647154977154, 0.9997647154977154, 0.9997647154977154, 0.9997647154977154, 0.9997647154977154, 0.9997647154977154, 0.9997647154977154, 0.9997647154977154, 0.9997647154977154, 0.9997647154977154, 0.9997647154977154, 0.9997647154977154, 0.9997647154977154, 0.9997647154977154, 0.9997647154977154, 0.9997647154977154, 0.9997647154977154, 0.9997672691134338, 0.9997672691134338, 0.9997672691134338, 0.9997672691134338, 0.999858242367031, 0.999858242367031, 0.999858242367031, 0.999858242367031]}], \"log_loss\": [{\"categories\": [\"0\", \"1\", \"2\", \"3\", \"4\", \"5\", \"6\", \"7\", \"8\", \"9\", \"10\", \"11\", \"12\", \"13\", \"14\", \"15\", \"16\", \"17\", \"18\", \"19\", \"20\", \"21\", \"22\", \"23\", \"24\", \"25\", \"26\", \"27\", \"28\", \"29\", \"30\", \"31\", \"32\", \"33\", \"34\", \"35\", \"38\", \"39\"], \"mode\": \"markers\", \"name\": \"log_loss\", \"stepped\": false, \"type\": \"scatter\", \"data\": [0.020314216473189053, 0.013045169147269423, 0.12695864209789542, 0.14083591036774673, 0.14481032080429548, 0.3035052948068366, 0.17858061384966445, 0.02346702403922587, 0.22059336581322347, 0.2929133624901983, 0.12640848117310402, 0.22943157615457205, 0.1971599234985034, 0.283763150935106, 0.17837904367820878, 0.020255493099322338, 0.23506024793001506, 0.32254682452143485, 0.027234476880721076, 0.13679934328031404, 0.027344344595793702, 0.20773407494780702, 0.11777239129845099, 0.017166327037156832, 0.034569914978857655, 0.44182502121097833, 0.09015727719718884, 0.17079974465902517, 0.21428025400411665, 0.02949607574823267, 0.03169703028604804, 0.26485263888450655, 0.07431037637939802, 0.23635857481954042, 0.12228973915118535, 0.12144432893942658, 0.09413984842907966, 0.02032222550332132]}, {\"categories\": [\"0\", \"1\", \"2\", \"3\", \"4\", \"5\", \"6\", \"7\", \"8\", \"9\", \"10\", \"11\", \"12\", \"13\", \"14\", \"15\", \"16\", \"17\", \"18\", \"19\", \"20\", \"21\", \"22\", \"23\", \"24\", \"25\", \"26\", \"27\", \"28\", \"29\", \"30\", \"31\", \"32\", \"33\", \"34\", \"35\", \"38\", \"39\"], \"mode\": \"lines\", \"name\": \"log_loss_min\", \"stepped\": true, \"type\": \"scatter\", \"data\": [0.020314216473189053, 0.013045169147269423, 0.013045169147269423, 0.013045169147269423, 0.013045169147269423, 0.013045169147269423, 0.013045169147269423, 0.013045169147269423, 0.013045169147269423, 0.013045169147269423, 0.013045169147269423, 0.013045169147269423, 0.013045169147269423, 0.013045169147269423, 0.013045169147269423, 0.013045169147269423, 0.013045169147269423, 0.013045169147269423, 0.013045169147269423, 0.013045169147269423, 0.013045169147269423, 0.013045169147269423, 0.013045169147269423, 0.013045169147269423, 0.013045169147269423, 0.013045169147269423, 0.013045169147269423, 0.013045169147269423, 0.013045169147269423, 0.013045169147269423, 0.013045169147269423, 0.013045169147269423, 0.013045169147269423, 0.013045169147269423, 0.013045169147269423, 0.013045169147269423, 0.013045169147269423, 0.013045169147269423]}], \"average_precision_score_micro\": [{\"categories\": [\"0\", \"1\", \"2\", \"3\", \"4\", \"5\", \"6\", \"7\", \"8\", \"9\", \"10\", \"11\", \"12\", \"13\", \"14\", \"15\", \"16\", \"17\", \"18\", \"19\", \"20\", \"21\", \"22\", \"23\", \"24\", \"25\", \"26\", \"27\", \"28\", \"29\", \"30\", \"31\", \"32\", \"33\", \"34\", \"35\", \"38\", \"39\"], \"mode\": \"markers\", \"name\": \"average_precision_score_micro\", \"stepped\": false, \"type\": \"scatter\", \"data\": [0.9996509750645497, 0.9997818643465417, 0.9953982739252245, 0.9957787184915935, 0.9984674842235253, 0.9867406450850478, 0.9821600550953127, 0.9997982516652556, 0.980191843334319, 0.961530222097662, 0.9988161952549397, 0.9780095505733041, 0.9883519078763143, 0.9739374635658351, 0.9933387547258559, 0.9995571473445265, 0.9746874468507775, 0.9458745965100755, 0.9991465630783237, 0.9986780362440371, 0.9997112317103596, 0.9986952585325639, 0.999197442626965, 0.9997648626358023, 0.9996752303467069, 0.9747693404972697, 0.9985576193239369, 0.9987316110214992, 0.9969674521973513, 0.9994765521880924, 0.9998192847888389, 0.9989099296873899, 0.9990757009202866, 0.9996478406756288, 0.9993589115264768, 0.9992309693296093, 0.999836260823626, 0.9997819192941014]}, {\"categories\": [\"0\", \"1\", \"2\", \"3\", \"4\", \"5\", \"6\", \"7\", \"8\", \"9\", \"10\", \"11\", \"12\", \"13\", \"14\", \"15\", \"16\", \"17\", \"18\", \"19\", \"20\", \"21\", \"22\", \"23\", \"24\", \"25\", \"26\", \"27\", \"28\", \"29\", \"30\", \"31\", \"32\", \"33\", \"34\", \"35\", \"38\", \"39\"], \"mode\": \"lines\", \"name\": \"average_precision_score_micro_max\", \"stepped\": true, \"type\": \"scatter\", \"data\": [0.9996509750645497, 0.9997818643465417, 0.9997818643465417, 0.9997818643465417, 0.9997818643465417, 0.9997818643465417, 0.9997818643465417, 0.9997982516652556, 0.9997982516652556, 0.9997982516652556, 0.9997982516652556, 0.9997982516652556, 0.9997982516652556, 0.9997982516652556, 0.9997982516652556, 0.9997982516652556, 0.9997982516652556, 0.9997982516652556, 0.9997982516652556, 0.9997982516652556, 0.9997982516652556, 0.9997982516652556, 0.9997982516652556, 0.9997982516652556, 0.9997982516652556, 0.9997982516652556, 0.9997982516652556, 0.9997982516652556, 0.9997982516652556, 0.9997982516652556, 0.9998192847888389, 0.9998192847888389, 0.9998192847888389, 0.9998192847888389, 0.9998192847888389, 0.9998192847888389, 0.999836260823626, 0.999836260823626]}], \"weighted_accuracy\": [{\"categories\": [\"0\", \"1\", \"2\", \"3\", \"4\", \"5\", \"6\", \"7\", \"8\", \"9\", \"10\", \"11\", \"12\", \"13\", \"14\", \"15\", \"16\", \"17\", \"18\", \"19\", \"20\", \"21\", \"22\", \"23\", \"24\", \"25\", \"26\", \"27\", \"28\", \"29\", \"30\", \"31\", \"32\", \"33\", \"34\", \"35\", \"38\", \"39\"], \"mode\": \"markers\", \"name\": \"weighted_accuracy\", \"stepped\": false, \"type\": \"scatter\", \"data\": [0.9976886094667048, 0.997509197877734, 0.9920801111589534, 0.9943536529985622, 0.9933888692261291, 0.9459422300872362, 0.9203409560706991, 0.997393955364122, 0.9753882647256935, 0.9639583477629957, 0.9973387333387634, 0.975004599707926, 0.9843802875725111, 0.964216160672963, 0.9913150025944761, 0.996455034649105, 0.975475618052324, 0.9560430622240356, 0.9968128021675481, 0.995870766577266, 0.9959529464226147, 0.997111612662747, 0.9971201340912597, 0.9972928009065593, 0.9962778531842551, 0.9639583477629957, 0.992627580163262, 0.9972970629395647, 0.9967858253887188, 0.9974421785056886, 0.9967485863022567, 0.9982291431790182, 0.9937744602593007, 0.9980117615976549, 0.9975958734347635, 0.9975391933255728, 0.9975426990425043, 0.9970879049286548]}, {\"categories\": [\"0\", \"1\", \"2\", \"3\", \"4\", \"5\", \"6\", \"7\", \"8\", \"9\", \"10\", \"11\", \"12\", \"13\", \"14\", \"15\", \"16\", \"17\", \"18\", \"19\", \"20\", \"21\", \"22\", \"23\", \"24\", \"25\", \"26\", \"27\", \"28\", \"29\", \"30\", \"31\", \"32\", \"33\", \"34\", \"35\", \"38\", \"39\"], \"mode\": \"lines\", \"name\": \"weighted_accuracy_max\", \"stepped\": true, \"type\": \"scatter\", \"data\": [0.9976886094667048, 0.9976886094667048, 0.9976886094667048, 0.9976886094667048, 0.9976886094667048, 0.9976886094667048, 0.9976886094667048, 0.9976886094667048, 0.9976886094667048, 0.9976886094667048, 0.9976886094667048, 0.9976886094667048, 0.9976886094667048, 0.9976886094667048, 0.9976886094667048, 0.9976886094667048, 0.9976886094667048, 0.9976886094667048, 0.9976886094667048, 0.9976886094667048, 0.9976886094667048, 0.9976886094667048, 0.9976886094667048, 0.9976886094667048, 0.9976886094667048, 0.9976886094667048, 0.9976886094667048, 0.9976886094667048, 0.9976886094667048, 0.9976886094667048, 0.9976886094667048, 0.9982291431790182, 0.9982291431790182, 0.9982291431790182, 0.9982291431790182, 0.9982291431790182, 0.9982291431790182, 0.9982291431790182]}], \"balanced_accuracy\": [{\"categories\": [\"0\", \"1\", \"2\", \"3\", \"4\", \"5\", \"6\", \"7\", \"8\", \"9\", \"10\", \"11\", \"12\", \"13\", \"14\", \"15\", \"16\", \"17\", \"18\", \"19\", \"20\", \"21\", \"22\", \"23\", \"24\", \"25\", \"26\", \"27\", \"28\", \"29\", \"30\", \"31\", \"32\", \"33\", \"34\", \"35\", \"38\", \"39\"], \"mode\": \"markers\", \"name\": \"balanced_accuracy\", \"stepped\": false, \"type\": \"scatter\", \"data\": [0.9915031012818881, 0.9887390563038915, 0.9267409138690741, 0.9324026183505671, 0.9934176595503008, 0.9640141442625012, 0.933143842064468, 0.9896295962673174, 0.6612136170532669, 0.5, 0.9858819139212583, 0.6706629960745636, 0.7920097395151726, 0.504280769622315, 0.8806129306851627, 0.9868015911685086, 0.6750523962993082, 0.6280831337668581, 0.9849251878754476, 0.9714759595810974, 0.9835314625007541, 0.9856242786285785, 0.9854393495988545, 0.9862982814818544, 0.9871121565766037, 0.5, 0.9703209530156759, 0.9851739440943531, 0.9787797478068592, 0.9871690193340479, 0.9874954200099871, 0.9849227497438712, 0.9705355800282476, 0.988751681348365, 0.985873034847484, 0.9852983222038058, 0.9926594827633142, 0.9889463455219893]}, {\"categories\": [\"0\", \"1\", \"2\", \"3\", \"4\", \"5\", \"6\", \"7\", \"8\", \"9\", \"10\", \"11\", \"12\", \"13\", \"14\", \"15\", \"16\", \"17\", \"18\", \"19\", \"20\", \"21\", \"22\", \"23\", \"24\", \"25\", \"26\", \"27\", \"28\", \"29\", \"30\", \"31\", \"32\", \"33\", \"34\", \"35\", \"38\", \"39\"], \"mode\": \"lines\", \"name\": \"balanced_accuracy_max\", \"stepped\": true, \"type\": \"scatter\", \"data\": [0.9915031012818881, 0.9915031012818881, 0.9915031012818881, 0.9915031012818881, 0.9934176595503008, 0.9934176595503008, 0.9934176595503008, 0.9934176595503008, 0.9934176595503008, 0.9934176595503008, 0.9934176595503008, 0.9934176595503008, 0.9934176595503008, 0.9934176595503008, 0.9934176595503008, 0.9934176595503008, 0.9934176595503008, 0.9934176595503008, 0.9934176595503008, 0.9934176595503008, 0.9934176595503008, 0.9934176595503008, 0.9934176595503008, 0.9934176595503008, 0.9934176595503008, 0.9934176595503008, 0.9934176595503008, 0.9934176595503008, 0.9934176595503008, 0.9934176595503008, 0.9934176595503008, 0.9934176595503008, 0.9934176595503008, 0.9934176595503008, 0.9934176595503008, 0.9934176595503008, 0.9934176595503008, 0.9934176595503008]}], \"f1_score_weighted\": [{\"categories\": [\"0\", \"1\", \"2\", \"3\", \"4\", \"5\", \"6\", \"7\", \"8\", \"9\", \"10\", \"11\", \"12\", \"13\", \"14\", \"15\", \"16\", \"17\", \"18\", \"19\", \"20\", \"21\", \"22\", \"23\", \"24\", \"25\", \"26\", \"27\", \"28\", \"29\", \"30\", \"31\", \"32\", \"33\", \"34\", \"35\", \"38\", \"39\"], \"mode\": \"markers\", \"name\": \"f1_score_weighted\", \"stepped\": false, \"type\": \"scatter\", \"data\": [0.9959382624351095, 0.9950787684814941, 0.9713149982748355, 0.9765475739116465, 0.9934318387947494, 0.9558308133962224, 0.9283968112244274, 0.9952958276909429, 0.8649897957671332, 0.7655080552392092, 0.9942108435937103, 0.8701296208075611, 0.9246812694203971, 0.7685682807034342, 0.9591524620170955, 0.9938001239128251, 0.8728062129412066, 0.8405836932682236, 0.9935747014204457, 0.9892410199162892, 0.9925086096950773, 0.9939989996148372, 0.9939943334569289, 0.9942163519701521, 0.9938028551851564, 0.7655080552392092, 0.9864961959393781, 0.9939950961970748, 0.9918224106940734, 0.9946436965515133, 0.9942243984569721, 0.9946286291159996, 0.9873219663631613, 0.9955003212580706, 0.9944206584334975, 0.9942062438106103, 0.9961554905138479, 0.9948697887758818]}, {\"categories\": [\"0\", \"1\", \"2\", \"3\", \"4\", \"5\", \"6\", \"7\", \"8\", \"9\", \"10\", \"11\", \"12\", \"13\", \"14\", \"15\", \"16\", \"17\", \"18\", \"19\", \"20\", \"21\", \"22\", \"23\", \"24\", \"25\", \"26\", \"27\", \"28\", \"29\", \"30\", \"31\", \"32\", \"33\", \"34\", \"35\", \"38\", \"39\"], \"mode\": \"lines\", \"name\": \"f1_score_weighted_max\", \"stepped\": true, \"type\": \"scatter\", \"data\": [0.9959382624351095, 0.9959382624351095, 0.9959382624351095, 0.9959382624351095, 0.9959382624351095, 0.9959382624351095, 0.9959382624351095, 0.9959382624351095, 0.9959382624351095, 0.9959382624351095, 0.9959382624351095, 0.9959382624351095, 0.9959382624351095, 0.9959382624351095, 0.9959382624351095, 0.9959382624351095, 0.9959382624351095, 0.9959382624351095, 0.9959382624351095, 0.9959382624351095, 0.9959382624351095, 0.9959382624351095, 0.9959382624351095, 0.9959382624351095, 0.9959382624351095, 0.9959382624351095, 0.9959382624351095, 0.9959382624351095, 0.9959382624351095, 0.9959382624351095, 0.9959382624351095, 0.9959382624351095, 0.9959382624351095, 0.9959382624351095, 0.9959382624351095, 0.9959382624351095, 0.9961554905138479, 0.9961554905138479]}], \"AUC_micro\": [{\"categories\": [\"0\", \"1\", \"2\", \"3\", \"4\", \"5\", \"6\", \"7\", \"8\", \"9\", \"10\", \"11\", \"12\", \"13\", \"14\", \"15\", \"16\", \"17\", \"18\", \"19\", \"20\", \"21\", \"22\", \"23\", \"24\", \"25\", \"26\", \"27\", \"28\", \"29\", \"30\", \"31\", \"32\", \"33\", \"34\", \"35\", \"38\", \"39\"], \"mode\": \"markers\", \"name\": \"AUC_micro\", \"stepped\": false, \"type\": \"scatter\", \"data\": [0.9996637584054886, 0.9997774134609683, 0.9952441197820272, 0.9957010815844866, 0.998467268331566, 0.985903036238182, 0.9813717065755696, 0.9997953459463277, 0.9789472431492079, 0.9589774088194101, 0.9988155730508002, 0.9767923548855061, 0.9878436809418296, 0.9719806162253514, 0.9932460355142153, 0.9996719023527184, 0.973318633717879, 0.943676184588875, 0.9994494733430317, 0.9986595348570664, 0.9997109715511143, 0.9990732433463902, 0.9991989542448108, 0.9997612203511015, 0.9996781850759715, 0.9723462330218666, 0.9985499249540359, 0.9987178176492465, 0.997869742734788, 0.9995514181974858, 0.9998160197806308, 0.998918310891694, 0.999064024122438, 0.9996471768124913, 0.9993437934188689, 0.9992105777925022, 0.9998339333333573, 0.9997780580202255]}, {\"categories\": [\"0\", \"1\", \"2\", \"3\", \"4\", \"5\", \"6\", \"7\", \"8\", \"9\", \"10\", \"11\", \"12\", \"13\", \"14\", \"15\", \"16\", \"17\", \"18\", \"19\", \"20\", \"21\", \"22\", \"23\", \"24\", \"25\", \"26\", \"27\", \"28\", \"29\", \"30\", \"31\", \"32\", \"33\", \"34\", \"35\", \"38\", \"39\"], \"mode\": \"lines\", \"name\": \"AUC_micro_max\", \"stepped\": true, \"type\": \"scatter\", \"data\": [0.9996637584054886, 0.9997774134609683, 0.9997774134609683, 0.9997774134609683, 0.9997774134609683, 0.9997774134609683, 0.9997774134609683, 0.9997953459463277, 0.9997953459463277, 0.9997953459463277, 0.9997953459463277, 0.9997953459463277, 0.9997953459463277, 0.9997953459463277, 0.9997953459463277, 0.9997953459463277, 0.9997953459463277, 0.9997953459463277, 0.9997953459463277, 0.9997953459463277, 0.9997953459463277, 0.9997953459463277, 0.9997953459463277, 0.9997953459463277, 0.9997953459463277, 0.9997953459463277, 0.9997953459463277, 0.9997953459463277, 0.9997953459463277, 0.9997953459463277, 0.9998160197806308, 0.9998160197806308, 0.9998160197806308, 0.9998160197806308, 0.9998160197806308, 0.9998160197806308, 0.9998339333333573, 0.9998339333333573]}], \"norm_macro_recall\": [{\"categories\": [\"0\", \"1\", \"2\", \"3\", \"4\", \"5\", \"6\", \"7\", \"8\", \"9\", \"10\", \"11\", \"12\", \"13\", \"14\", \"15\", \"16\", \"17\", \"18\", \"19\", \"20\", \"21\", \"22\", \"23\", \"24\", \"25\", \"26\", \"27\", \"28\", \"29\", \"30\", \"31\", \"32\", \"33\", \"34\", \"35\", \"38\", \"39\"], \"mode\": \"markers\", \"name\": \"norm_macro_recall\", \"stepped\": false, \"type\": \"scatter\", \"data\": [0.9830062025637762, 0.977478112607783, 0.8534818277381484, 0.8648052367011342, 0.9868353191006015, 0.9280282885250027, 0.8662876841289362, 0.9792591925346343, 0.3224272341065338, 0.0, 0.9717638278425167, 0.34132599214912734, 0.5840194790303451, 0.008561539244629967, 0.7612258613703251, 0.9736031823370173, 0.3501047925986164, 0.25616626753371624, 0.9698503757508952, 0.9429519191621951, 0.9670629250015079, 0.971248557257157, 0.9708786991977089, 0.9725965629637088, 0.9742243131532075, 0.0, 0.9406419060313519, 0.9703478881887062, 0.9575594956137184, 0.9743380386680958, 0.9749908400199742, 0.9698454994877427, 0.9410711600564949, 0.9775033626967298, 0.9717460696949679, 0.9705966444076115, 0.9853189655266282, 0.9778926910439782]}, {\"categories\": [\"0\", \"1\", \"2\", \"3\", \"4\", \"5\", \"6\", \"7\", \"8\", \"9\", \"10\", \"11\", \"12\", \"13\", \"14\", \"15\", \"16\", \"17\", \"18\", \"19\", \"20\", \"21\", \"22\", \"23\", \"24\", \"25\", \"26\", \"27\", \"28\", \"29\", \"30\", \"31\", \"32\", \"33\", \"34\", \"35\", \"38\", \"39\"], \"mode\": \"lines\", \"name\": \"norm_macro_recall_max\", \"stepped\": true, \"type\": \"scatter\", \"data\": [0.9830062025637762, 0.9830062025637762, 0.9830062025637762, 0.9830062025637762, 0.9868353191006015, 0.9868353191006015, 0.9868353191006015, 0.9868353191006015, 0.9868353191006015, 0.9868353191006015, 0.9868353191006015, 0.9868353191006015, 0.9868353191006015, 0.9868353191006015, 0.9868353191006015, 0.9868353191006015, 0.9868353191006015, 0.9868353191006015, 0.9868353191006015, 0.9868353191006015, 0.9868353191006015, 0.9868353191006015, 0.9868353191006015, 0.9868353191006015, 0.9868353191006015, 0.9868353191006015, 0.9868353191006015, 0.9868353191006015, 0.9868353191006015, 0.9868353191006015, 0.9868353191006015, 0.9868353191006015, 0.9868353191006015, 0.9868353191006015, 0.9868353191006015, 0.9868353191006015, 0.9868353191006015, 0.9868353191006015]}], \"f1_score_macro\": [{\"categories\": [\"0\", \"1\", \"2\", \"3\", \"4\", \"5\", \"6\", \"7\", \"8\", \"9\", \"10\", \"11\", \"12\", \"13\", \"14\", \"15\", \"16\", \"17\", \"18\", \"19\", \"20\", \"21\", \"22\", \"23\", \"24\", \"25\", \"26\", \"27\", \"28\", \"29\", \"30\", \"31\", \"32\", \"33\", \"34\", \"35\", \"38\", \"39\"], \"mode\": \"markers\", \"name\": \"f1_score_macro\", \"stepped\": false, \"type\": \"scatter\", \"data\": [0.9925085124906066, 0.9908518484100682, 0.9468081557924514, 0.9539802928235902, 0.9877979480770194, 0.9273305029275161, 0.8763791304091655, 0.9910699615917459, 0.7106859963309535, 0.45616799589599316, 0.9891389192825037, 0.7235993327648156, 0.8482866127526687, 0.4649063816170134, 0.9207744840965905, 0.9883069445250665, 0.728994993752764, 0.6625544377386694, 0.9878429850572511, 0.9795979516265225, 0.9859818782198143, 0.9886231523376002, 0.9886246901008148, 0.9893906953820073, 0.9882325995469612, 0.45616799589599316, 0.9749180560232749, 0.9886924295709866, 0.9847962118631486, 0.989885672218551, 0.9891503407654746, 0.9899316458635987, 0.9765966255387584, 0.9916305006386061, 0.9894778360818041, 0.9891210887942934, 0.992902471708911, 0.990337548024214]}, {\"categories\": [\"0\", \"1\", \"2\", \"3\", \"4\", \"5\", \"6\", \"7\", \"8\", \"9\", \"10\", \"11\", \"12\", \"13\", \"14\", \"15\", \"16\", \"17\", \"18\", \"19\", \"20\", \"21\", \"22\", \"23\", \"24\", \"25\", \"26\", \"27\", \"28\", \"29\", \"30\", \"31\", \"32\", \"33\", \"34\", \"35\", \"38\", \"39\"], \"mode\": \"lines\", \"name\": \"f1_score_macro_max\", \"stepped\": true, \"type\": \"scatter\", \"data\": [0.9925085124906066, 0.9925085124906066, 0.9925085124906066, 0.9925085124906066, 0.9925085124906066, 0.9925085124906066, 0.9925085124906066, 0.9925085124906066, 0.9925085124906066, 0.9925085124906066, 0.9925085124906066, 0.9925085124906066, 0.9925085124906066, 0.9925085124906066, 0.9925085124906066, 0.9925085124906066, 0.9925085124906066, 0.9925085124906066, 0.9925085124906066, 0.9925085124906066, 0.9925085124906066, 0.9925085124906066, 0.9925085124906066, 0.9925085124906066, 0.9925085124906066, 0.9925085124906066, 0.9925085124906066, 0.9925085124906066, 0.9925085124906066, 0.9925085124906066, 0.9925085124906066, 0.9925085124906066, 0.9925085124906066, 0.9925085124906066, 0.9925085124906066, 0.9925085124906066, 0.992902471708911, 0.992902471708911]}], \"AUC_weighted\": [{\"categories\": [\"0\", \"1\", \"2\", \"3\", \"4\", \"5\", \"6\", \"7\", \"8\", \"9\", \"10\", \"11\", \"12\", \"13\", \"14\", \"15\", \"16\", \"17\", \"18\", \"19\", \"20\", \"21\", \"22\", \"23\", \"24\", \"25\", \"26\", \"27\", \"28\", \"29\", \"30\", \"31\", \"32\", \"33\", \"34\", \"35\", \"38\", \"39\"], \"mode\": \"markers\", \"name\": \"AUC_weighted\", \"stepped\": false, \"type\": \"scatter\", \"data\": [0.9993010395780283, 0.9997647154977154, 0.9960875824475354, 0.9961899197760401, 0.9985444222202501, 0.9954050765838737, 0.9810772584122287, 0.9996974573683739, 0.9972527014224941, 0.9455906322128387, 0.99860368792853, 0.9826107325277332, 0.9967611694147136, 0.9930458878051583, 0.9943301215621305, 0.9992648090162601, 0.9710639890170698, 0.8755395414496832, 0.9985926372581938, 0.9989332483034566, 0.9994985869838938, 0.9979849753725201, 0.9990582221860356, 0.9997014440698789, 0.9993746361014054, 0.9944612190199484, 0.9970182948989013, 0.9995824679395074, 0.9938189247374382, 0.9991648071461487, 0.9997672691134338, 0.9980186630844543, 0.9982454847604055, 0.9994774829106892, 0.999858242367031, 0.9997500495593318, 0.9997551784336765, 0.9997525353311056]}, {\"categories\": [\"0\", \"1\", \"2\", \"3\", \"4\", \"5\", \"6\", \"7\", \"8\", \"9\", \"10\", \"11\", \"12\", \"13\", \"14\", \"15\", \"16\", \"17\", \"18\", \"19\", \"20\", \"21\", \"22\", \"23\", \"24\", \"25\", \"26\", \"27\", \"28\", \"29\", \"30\", \"31\", \"32\", \"33\", \"34\", \"35\", \"38\", \"39\"], \"mode\": \"lines\", \"name\": \"AUC_weighted_max\", \"stepped\": true, \"type\": \"scatter\", \"data\": [0.9993010395780283, 0.9997647154977154, 0.9997647154977154, 0.9997647154977154, 0.9997647154977154, 0.9997647154977154, 0.9997647154977154, 0.9997647154977154, 0.9997647154977154, 0.9997647154977154, 0.9997647154977154, 0.9997647154977154, 0.9997647154977154, 0.9997647154977154, 0.9997647154977154, 0.9997647154977154, 0.9997647154977154, 0.9997647154977154, 0.9997647154977154, 0.9997647154977154, 0.9997647154977154, 0.9997647154977154, 0.9997647154977154, 0.9997647154977154, 0.9997647154977154, 0.9997647154977154, 0.9997647154977154, 0.9997647154977154, 0.9997647154977154, 0.9997647154977154, 0.9997672691134338, 0.9997672691134338, 0.9997672691134338, 0.9997672691134338, 0.999858242367031, 0.999858242367031, 0.999858242367031, 0.999858242367031]}], \"average_precision_score_weighted\": [{\"categories\": [\"0\", \"1\", \"2\", \"3\", \"4\", \"5\", \"6\", \"7\", \"8\", \"9\", \"10\", \"11\", \"12\", \"13\", \"14\", \"15\", \"16\", \"17\", \"18\", \"19\", \"20\", \"21\", \"22\", \"23\", \"24\", \"25\", \"26\", \"27\", \"28\", \"29\", \"30\", \"31\", \"32\", \"33\", \"34\", \"35\", \"38\", \"39\"], \"mode\": \"markers\", \"name\": \"average_precision_score_weighted\", \"stepped\": false, \"type\": \"scatter\", \"data\": [0.9995740502651402, 0.9997974615007298, 0.997477229481819, 0.9976414554112921, 0.9987899513930198, 0.9953345300621811, 0.9834548500648325, 0.9997740255246729, 0.9982919964074204, 0.9607238288802937, 0.9990630456600036, 0.9859493256165812, 0.9975178508357683, 0.9950423628275165, 0.9971041360812445, 0.9994687103171833, 0.9770011330540875, 0.912483283507223, 0.9981904189556949, 0.9991762689176061, 0.9996482942461361, 0.9980176170340691, 0.999183364713835, 0.9997354598743137, 0.9995570195448783, 0.9912805297051822, 0.9976652706760097, 0.9994431731723926, 0.9952255564159629, 0.9994547645581962, 0.9997759215800073, 0.9988959684140095, 0.9986717174767381, 0.9994524887562074, 0.9997817581063451, 0.999706257757016, 0.9997737847326185, 0.9997732470034337]}, {\"categories\": [\"0\", \"1\", \"2\", \"3\", \"4\", \"5\", \"6\", \"7\", \"8\", \"9\", \"10\", \"11\", \"12\", \"13\", \"14\", \"15\", \"16\", \"17\", \"18\", \"19\", \"20\", \"21\", \"22\", \"23\", \"24\", \"25\", \"26\", \"27\", \"28\", \"29\", \"30\", \"31\", \"32\", \"33\", \"34\", \"35\", \"38\", \"39\"], \"mode\": \"lines\", \"name\": \"average_precision_score_weighted_max\", \"stepped\": true, \"type\": \"scatter\", \"data\": [0.9995740502651402, 0.9997974615007298, 0.9997974615007298, 0.9997974615007298, 0.9997974615007298, 0.9997974615007298, 0.9997974615007298, 0.9997974615007298, 0.9997974615007298, 0.9997974615007298, 0.9997974615007298, 0.9997974615007298, 0.9997974615007298, 0.9997974615007298, 0.9997974615007298, 0.9997974615007298, 0.9997974615007298, 0.9997974615007298, 0.9997974615007298, 0.9997974615007298, 0.9997974615007298, 0.9997974615007298, 0.9997974615007298, 0.9997974615007298, 0.9997974615007298, 0.9997974615007298, 0.9997974615007298, 0.9997974615007298, 0.9997974615007298, 0.9997974615007298, 0.9997974615007298, 0.9997974615007298, 0.9997974615007298, 0.9997974615007298, 0.9997974615007298, 0.9997974615007298, 0.9997974615007298, 0.9997974615007298]}], \"f1_score_micro\": [{\"categories\": [\"0\", \"1\", \"2\", \"3\", \"4\", \"5\", \"6\", \"7\", \"8\", \"9\", \"10\", \"11\", \"12\", \"13\", \"14\", \"15\", \"16\", \"17\", \"18\", \"19\", \"20\", \"21\", \"22\", \"23\", \"24\", \"25\", \"26\", \"27\", \"28\", \"29\", \"30\", \"31\", \"32\", \"33\", \"34\", \"35\", \"38\", \"39\"], \"mode\": \"markers\", \"name\": \"f1_score_micro\", \"stepped\": false, \"type\": \"scatter\", \"data\": [0.9959470068471485, 0.995093445715469, 0.973338218193982, 0.9778053625757475, 0.9933858683408692, 0.9502711325215666, 0.9238334930015271, 0.9953062102204331, 0.8905523457571117, 0.8389220235155979, 0.9942396570281691, 0.8929007197584269, 0.9323713798745258, 0.8402024789909273, 0.9613840387936821, 0.9938127626845192, 0.8946055664655834, 0.8675134769816111, 0.9935993155126942, 0.9893319649655365, 0.9925327623204302, 0.9940259823007238, 0.994026209856344, 0.9942403396950301, 0.9938125351288989, 0.8389220235155979, 0.9865596548436351, 0.994026209856344, 0.9918931034718161, 0.9946663238161989, 0.9942396570281691, 0.9946665513718191, 0.9874138986421755, 0.9955203400591189, 0.9944528766443739, 0.9942396570281691, 0.9961602264633533, 0.9948795434324035]}, {\"categories\": [\"0\", \"1\", \"2\", \"3\", \"4\", \"5\", \"6\", \"7\", \"8\", \"9\", \"10\", \"11\", \"12\", \"13\", \"14\", \"15\", \"16\", \"17\", \"18\", \"19\", \"20\", \"21\", \"22\", \"23\", \"24\", \"25\", \"26\", \"27\", \"28\", \"29\", \"30\", \"31\", \"32\", \"33\", \"34\", \"35\", \"38\", \"39\"], \"mode\": \"lines\", \"name\": \"f1_score_micro_max\", \"stepped\": true, \"type\": \"scatter\", \"data\": [0.9959470068471485, 0.9959470068471485, 0.9959470068471485, 0.9959470068471485, 0.9959470068471485, 0.9959470068471485, 0.9959470068471485, 0.9959470068471485, 0.9959470068471485, 0.9959470068471485, 0.9959470068471485, 0.9959470068471485, 0.9959470068471485, 0.9959470068471485, 0.9959470068471485, 0.9959470068471485, 0.9959470068471485, 0.9959470068471485, 0.9959470068471485, 0.9959470068471485, 0.9959470068471485, 0.9959470068471485, 0.9959470068471485, 0.9959470068471485, 0.9959470068471485, 0.9959470068471485, 0.9959470068471485, 0.9959470068471485, 0.9959470068471485, 0.9959470068471485, 0.9959470068471485, 0.9959470068471485, 0.9959470068471485, 0.9959470068471485, 0.9959470068471485, 0.9959470068471485, 0.9961602264633533, 0.9961602264633533]}], \"precision_score_macro\": [{\"categories\": [\"0\", \"1\", \"2\", \"3\", \"4\", \"5\", \"6\", \"7\", \"8\", \"9\", \"10\", \"11\", \"12\", \"13\", \"14\", \"15\", \"16\", \"17\", \"18\", \"19\", \"20\", \"21\", \"22\", \"23\", \"24\", \"25\", \"26\", \"27\", \"28\", \"29\", \"30\", \"31\", \"32\", \"33\", \"34\", \"35\", \"38\", \"39\"], \"mode\": \"markers\", \"name\": \"precision_score_macro\", \"stepped\": false, \"type\": \"scatter\", \"data\": [0.993673541445299, 0.9931408315683846, 0.9804098528385898, 0.9849816022753437, 0.9824660105592447, 0.916641084640563, 0.8412086588773253, 0.9927083912957384, 0.9423689335007053, 0.41946101175779893, 0.9926232988595627, 0.9345890888407565, 0.9606649722102756, 0.7200066203142335, 0.9779736350201311, 0.9900414825629369, 0.9347102938301696, 0.8103151559101625, 0.991109853607915, 0.9883147959688259, 0.9887316326065478, 0.9919417687708079, 0.9920203286714205, 0.9926548716974855, 0.9896374771512615, 0.41946101175779893, 0.9798401697394784, 0.9925168157247715, 0.9913368876160463, 0.9928168071694593, 0.9910165035146472, 0.9952264329542777, 0.9830554956906035, 0.9946649517541284, 0.9933694933057801, 0.9932359256389045, 0.9932992106049575, 0.991945534386744]}, {\"categories\": [\"0\", \"1\", \"2\", \"3\", \"4\", \"5\", \"6\", \"7\", \"8\", \"9\", \"10\", \"11\", \"12\", \"13\", \"14\", \"15\", \"16\", \"17\", \"18\", \"19\", \"20\", \"21\", \"22\", \"23\", \"24\", \"25\", \"26\", \"27\", \"28\", \"29\", \"30\", \"31\", \"32\", \"33\", \"34\", \"35\", \"38\", \"39\"], \"mode\": \"lines\", \"name\": \"precision_score_macro_max\", \"stepped\": true, \"type\": \"scatter\", \"data\": [0.993673541445299, 0.993673541445299, 0.993673541445299, 0.993673541445299, 0.993673541445299, 0.993673541445299, 0.993673541445299, 0.993673541445299, 0.993673541445299, 0.993673541445299, 0.993673541445299, 0.993673541445299, 0.993673541445299, 0.993673541445299, 0.993673541445299, 0.993673541445299, 0.993673541445299, 0.993673541445299, 0.993673541445299, 0.993673541445299, 0.993673541445299, 0.993673541445299, 0.993673541445299, 0.993673541445299, 0.993673541445299, 0.993673541445299, 0.993673541445299, 0.993673541445299, 0.993673541445299, 0.993673541445299, 0.993673541445299, 0.9952264329542777, 0.9952264329542777, 0.9952264329542777, 0.9952264329542777, 0.9952264329542777, 0.9952264329542777, 0.9952264329542777]}]}, \"metricName\": null, \"primaryMetricName\": \"accuracy\", \"showLegend\": false}, \"run_metrics\": [{\"name\": \"experiment_status\", \"run_id\": \"AutoML_e2798d9e-31b5-45e8-8595-cdb9a0691f83\", \"categories\": [0, 1, 2, 3, 4, 5, 6, 7, 8, 9, 10, 11, 12, 13, 14], \"series\": [{\"data\": [\"DatasetEvaluation\", \"FeaturesGeneration\", \"DatasetFeaturization\", \"DatasetFeaturizationCompleted\", \"DatasetBalancing\", \"DatasetCrossValidationSplit\", \"ModelSelection\", \"BestRunExplainModel\", \"ModelExplanationDataSetSetup\", \"PickSurrogateModel\", \"EngineeredFeatureExplanations\", \"EngineeredFeatureExplanations\", \"RawFeaturesExplanations\", \"RawFeaturesExplanations\", \"BestRunExplainModel\"]}]}, {\"name\": \"experiment_status_description\", \"run_id\": \"AutoML_e2798d9e-31b5-45e8-8595-cdb9a0691f83\", \"categories\": [0, 1, 2, 3, 4, 5, 6, 7, 8, 9, 10, 11, 12, 13, 14], \"series\": [{\"data\": [\"Gathering dataset statistics.\", \"Generating features for the dataset.\", \"Beginning to fit featurizers and featurize the dataset.\", \"Completed fit featurizers and featurizing the dataset.\", \"Performing class balancing sweeping\", \"Generating individually featurized CV splits.\", \"Beginning model selection.\", \"Best run model explanations started\", \"Model explanations data setup completed\", \"Choosing LightGBM as the surrogate model for explanations\", \"Computation of engineered features started\", \"Computation of engineered features completed\", \"Computation of raw features started\", \"Computation of raw features completed\", \"Best run model explanations completed\"]}]}, {\"name\": \"recall_score_weighted\", \"run_id\": \"AutoML_e2798d9e-31b5-45e8-8595-cdb9a0691f83\", \"categories\": [0], \"series\": [{\"data\": [0.9961602264633533]}]}, {\"name\": \"AUC_weighted\", \"run_id\": \"AutoML_e2798d9e-31b5-45e8-8595-cdb9a0691f83\", \"categories\": [0], \"series\": [{\"data\": [0.9997551784336765]}]}, {\"name\": \"log_loss\", \"run_id\": \"AutoML_e2798d9e-31b5-45e8-8595-cdb9a0691f83\", \"categories\": [0], \"series\": [{\"data\": [0.09413984842907966]}]}, {\"name\": \"f1_score_weighted\", \"run_id\": \"AutoML_e2798d9e-31b5-45e8-8595-cdb9a0691f83\", \"categories\": [0], \"series\": [{\"data\": [0.9961554905138479]}]}, {\"name\": \"f1_score_macro\", \"run_id\": \"AutoML_e2798d9e-31b5-45e8-8595-cdb9a0691f83\", \"categories\": [0], \"series\": [{\"data\": [0.992902471708911]}]}, {\"name\": \"recall_score_macro\", \"run_id\": \"AutoML_e2798d9e-31b5-45e8-8595-cdb9a0691f83\", \"categories\": [0], \"series\": [{\"data\": [0.9926594827633142]}]}, {\"name\": \"precision_score_weighted\", \"run_id\": \"AutoML_e2798d9e-31b5-45e8-8595-cdb9a0691f83\", \"categories\": [0], \"series\": [{\"data\": [0.9962066438400065]}]}, {\"name\": \"average_precision_score_weighted\", \"run_id\": \"AutoML_e2798d9e-31b5-45e8-8595-cdb9a0691f83\", \"categories\": [0], \"series\": [{\"data\": [0.9997737847326185]}]}, {\"name\": \"AUC_macro\", \"run_id\": \"AutoML_e2798d9e-31b5-45e8-8595-cdb9a0691f83\", \"categories\": [0], \"series\": [{\"data\": [0.9997551784336762]}]}, {\"name\": \"precision_score_micro\", \"run_id\": \"AutoML_e2798d9e-31b5-45e8-8595-cdb9a0691f83\", \"categories\": [0], \"series\": [{\"data\": [0.9961602264633533]}]}, {\"name\": \"precision_score_macro\", \"run_id\": \"AutoML_e2798d9e-31b5-45e8-8595-cdb9a0691f83\", \"categories\": [0], \"series\": [{\"data\": [0.9932992106049575]}]}, {\"name\": \"average_precision_score_macro\", \"run_id\": \"AutoML_e2798d9e-31b5-45e8-8595-cdb9a0691f83\", \"categories\": [0], \"series\": [{\"data\": [0.9994298000801007]}]}, {\"name\": \"matthews_correlation\", \"run_id\": \"AutoML_e2798d9e-31b5-45e8-8595-cdb9a0691f83\", \"categories\": [0], \"series\": [{\"data\": [0.9859097569522163]}]}, {\"name\": \"average_precision_score_micro\", \"run_id\": \"AutoML_e2798d9e-31b5-45e8-8595-cdb9a0691f83\", \"categories\": [0], \"series\": [{\"data\": [0.999836260823626]}]}, {\"name\": \"AUC_micro\", \"run_id\": \"AutoML_e2798d9e-31b5-45e8-8595-cdb9a0691f83\", \"categories\": [0], \"series\": [{\"data\": [0.9998339333333573]}]}, {\"name\": \"recall_score_micro\", \"run_id\": \"AutoML_e2798d9e-31b5-45e8-8595-cdb9a0691f83\", \"categories\": [0], \"series\": [{\"data\": [0.9961602264633533]}]}, {\"name\": \"f1_score_micro\", \"run_id\": \"AutoML_e2798d9e-31b5-45e8-8595-cdb9a0691f83\", \"categories\": [0], \"series\": [{\"data\": [0.9961602264633533]}]}, {\"name\": \"weighted_accuracy\", \"run_id\": \"AutoML_e2798d9e-31b5-45e8-8595-cdb9a0691f83\", \"categories\": [0], \"series\": [{\"data\": [0.9975426990425043]}]}, {\"name\": \"norm_macro_recall\", \"run_id\": \"AutoML_e2798d9e-31b5-45e8-8595-cdb9a0691f83\", \"categories\": [0], \"series\": [{\"data\": [0.9853189655266282]}]}, {\"name\": \"accuracy\", \"run_id\": \"AutoML_e2798d9e-31b5-45e8-8595-cdb9a0691f83\", \"categories\": [0], \"series\": [{\"data\": [0.9961602264633533]}]}, {\"name\": \"balanced_accuracy\", \"run_id\": \"AutoML_e2798d9e-31b5-45e8-8595-cdb9a0691f83\", \"categories\": [0], \"series\": [{\"data\": [0.9926594827633142]}]}], \"run_logs\": \"\\nRun is completed.\", \"graph\": {}, \"widget_settings\": {\"childWidgetDisplay\": \"popup\", \"send_telemetry\": false, \"log_level\": \"INFO\", \"sdk_version\": \"1.20.0\"}, \"loading\": false}"
          },
          "metadata": {}
        }
      ],
      "execution_count": 15,
      "metadata": {
        "collapsed": true,
        "jupyter": {
          "source_hidden": false,
          "outputs_hidden": false
        },
        "nteract": {
          "transient": {
            "deleting": false
          }
        },
        "gather": {
          "logged": 1612278053153
        }
      }
    },
    {
      "cell_type": "code",
      "source": [
        "automl_run.wait_for_completion(show_output=True)"
      ],
      "outputs": [
        {
          "output_type": "stream",
          "name": "stdout",
          "text": [
            "\n",
            "\n",
            "****************************************************************************************************\n",
            "DATA GUARDRAILS: \n",
            "\n",
            "TYPE:         Class balancing detection\n",
            "STATUS:       ALERTED\n",
            "DESCRIPTION:  To decrease model bias, please cancel the current run and fix balancing problem.\n",
            "              Learn more about imbalanced data: https://aka.ms/AutomatedMLImbalancedData\n",
            "DETAILS:      Imbalanced data can lead to a falsely perceived positive effect of a model's accuracy because the input data has bias towards one class.\n",
            "+---------------------------------+---------------------------------+--------------------------------------+\n",
            "|Size of the smallest class       |Name/Label of the smallest class |Number of samples in the training data|\n",
            "+=================================+=================================+======================================+\n",
            "|755                              |1                                |4687                                  |\n",
            "+---------------------------------+---------------------------------+--------------------------------------+\n",
            "\n",
            "****************************************************************************************************\n",
            "\n",
            "TYPE:         Missing feature values imputation\n",
            "STATUS:       PASSED\n",
            "DESCRIPTION:  No feature missing values were detected in the training data.\n",
            "              Learn more about missing value imputation: https://aka.ms/AutomatedMLFeaturization\n",
            "\n",
            "****************************************************************************************************\n",
            "\n",
            "TYPE:         High cardinality feature detection\n",
            "STATUS:       PASSED\n",
            "DESCRIPTION:  Your inputs were analyzed, and no high cardinality features were detected.\n",
            "              Learn more about high cardinality feature handling: https://aka.ms/AutomatedMLFeaturization\n",
            "\n",
            "****************************************************************************************************\n",
            "\n",
            "****************************************************************************************************\n",
            "ITERATION: The iteration being evaluated.\n",
            "PIPELINE: A summary description of the pipeline being evaluated.\n",
            "DURATION: Time taken for the current iteration.\n",
            "METRIC: The result of computing score on the fitted pipeline.\n",
            "BEST: The best observed score thus far.\n",
            "****************************************************************************************************\n",
            "\n",
            " ITERATION   PIPELINE                                       DURATION      METRIC      BEST\n",
            "         0   MaxAbsScaler LightGBM                          0:00:59       0.9959    0.9959\n",
            "         1   MaxAbsScaler XGBoostClassifier                 0:01:18       0.9951    0.9959\n",
            "         2   MaxAbsScaler RandomForest                      0:05:27       0.9733    0.9959\n",
            "         3   MaxAbsScaler RandomForest                      0:00:57       0.9778    0.9959\n",
            "         4   MaxAbsScaler RandomForest                      0:05:46       0.9934    0.9959\n",
            "         5   MaxAbsScaler RandomForest                      0:05:45       0.9503    0.9959\n",
            "         6   StandardScalerWrapper LogisticRegression       0:01:01       0.9238    0.9959\n",
            "         7   StandardScalerWrapper XGBoostClassifier        0:01:13       0.9953    0.9959\n",
            "         8   MaxAbsScaler RandomForest                      0:01:51       0.8906    0.9959\n",
            "         9   MaxAbsScaler ExtremeRandomTrees                0:01:30       0.8389    0.9959\n",
            "        10   MaxAbsScaler LightGBM                          0:01:18       0.9942    0.9959\n",
            "        11   SparseNormalizer LightGBM                      0:01:08       0.8929    0.9959\n",
            "        12   MaxAbsScaler LightGBM                          0:01:19       0.9324    0.9959\n",
            "        13   StandardScalerWrapper LightGBM                 0:01:18       0.8402    0.9959\n",
            "        14   MaxAbsScaler LightGBM                          0:01:26       0.9614    0.9959\n",
            "        15   MaxAbsScaler RandomForest                      0:00:59       0.9938    0.9959\n",
            "        16   MaxAbsScaler LightGBM                          0:01:08       0.8946    0.9959\n",
            "        17   TruncatedSVDWrapper XGBoostClassifier          0:01:09       0.8675    0.9959\n",
            "        18   StandardScalerWrapper DecisionTree             0:01:02       0.9936    0.9959\n",
            "        19   MaxAbsScaler LightGBM                          0:00:59       0.9893    0.9959\n",
            "        20   MaxAbsScaler LightGBM                          0:01:03       0.9925    0.9959\n",
            "        21   StandardScalerWrapper XGBoostClassifier        0:01:02       0.9940    0.9959\n",
            "        22   StandardScalerWrapper XGBoostClassifier        0:01:03       0.9940    0.9959\n",
            "        23   StandardScalerWrapper LightGBM                 0:01:08       0.9942    0.9959\n",
            "        24   StandardScalerWrapper XGBoostClassifier        0:00:59       0.9938    0.9959\n",
            "        25   MaxAbsScaler LightGBM                          0:01:08       0.8389    0.9959\n",
            "        26   SparseNormalizer XGBoostClassifier             0:01:08       0.9866    0.9959\n",
            "        27   StandardScalerWrapper LightGBM                 0:01:16       0.9940    0.9959\n",
            "        28   StandardScalerWrapper XGBoostClassifier        0:01:10       0.9919    0.9959\n",
            "        29   StandardScalerWrapper XGBoostClassifier        0:01:23       0.9947    0.9959\n",
            "        30   StandardScalerWrapper LightGBM                 0:01:17       0.9942    0.9959\n",
            "        31   StandardScalerWrapper XGBoostClassifier        0:01:21       0.9947    0.9959\n",
            "        32   SparseNormalizer XGBoostClassifier             0:01:23       0.9874    0.9959\n",
            "        33   StandardScalerWrapper XGBoostClassifier        0:01:01       0.9955    0.9959\n",
            "        34   MaxAbsScaler LightGBM                          0:00:52       0.9945    0.9959\n",
            "        35   StandardScalerWrapper LightGBM                 0:00:46       0.9942    0.9959\n",
            "        36                                                  0:00:30          nan    0.9959\n",
            "        37                                                  0:00:34          nan    0.9959\n",
            "        38    VotingEnsemble                                0:01:57       0.9962    0.9962\n",
            "        39    StackEnsemble                                 0:02:01       0.9949    0.9962\n"
          ]
        },
        {
          "output_type": "execute_result",
          "execution_count": 16,
          "data": {
            "text/plain": "{'runId': 'AutoML_e2798d9e-31b5-45e8-8595-cdb9a0691f83',\n 'target': 'cpu-cluster',\n 'status': 'Completed',\n 'startTimeUtc': '2021-02-02T14:34:02.496828Z',\n 'endTimeUtc': '2021-02-02T15:00:37.480005Z',\n 'properties': {'num_iterations': '1000',\n  'training_type': 'TrainFull',\n  'acquisition_function': 'EI',\n  'primary_metric': 'accuracy',\n  'train_split': '0',\n  'acquisition_parameter': '0',\n  'num_cross_validation': '5',\n  'target': 'cpu-cluster',\n  'AMLSettingsJsonString': '{\"path\":null,\"name\":\"capstone_automl\",\"subscription_id\":\"976ee174-3882-4721-b90a-b5fef6b72f24\",\"resource_group\":\"aml-quickstarts-136944\",\"workspace_name\":\"quick-starts-ws-136944\",\"region\":\"southcentralus\",\"compute_target\":\"cpu-cluster\",\"spark_service\":null,\"azure_service\":\"remote\",\"many_models\":false,\"pipeline_fetch_max_batch_size\":1,\"iterations\":1000,\"primary_metric\":\"accuracy\",\"task_type\":\"classification\",\"data_script\":null,\"validation_size\":0.0,\"n_cross_validations\":5,\"y_min\":null,\"y_max\":null,\"num_classes\":null,\"featurization\":\"auto\",\"_ignore_package_version_incompatibilities\":false,\"is_timeseries\":false,\"max_cores_per_iteration\":1,\"max_concurrent_iterations\":5,\"iteration_timeout_minutes\":null,\"mem_in_mb\":null,\"enforce_time_on_windows\":false,\"experiment_timeout_minutes\":30,\"experiment_exit_score\":null,\"whitelist_models\":null,\"blacklist_algos\":[\"TensorFlowLinearClassifier\",\"TensorFlowDNN\"],\"supported_models\":[\"LightGBM\",\"BernoulliNaiveBayes\",\"SGD\",\"ExtremeRandomTrees\",\"GradientBoosting\",\"KNN\",\"MultinomialNaiveBayes\",\"LinearSVM\",\"DecisionTree\",\"SVM\",\"RandomForest\",\"XGBoostClassifier\",\"TensorFlowDNN\",\"LogisticRegression\",\"TensorFlowLinearClassifier\",\"AveragedPerceptronClassifier\"],\"auto_blacklist\":true,\"blacklist_samples_reached\":false,\"exclude_nan_labels\":true,\"verbosity\":20,\"_debug_log\":\"azureml_automl.log\",\"show_warnings\":false,\"model_explainability\":true,\"service_url\":null,\"sdk_url\":null,\"sdk_packages\":null,\"enable_onnx_compatible_models\":false,\"enable_split_onnx_featurizer_estimator_models\":false,\"vm_type\":\"STANDARD_D2_V2\",\"telemetry_verbosity\":20,\"send_telemetry\":true,\"enable_dnn\":false,\"scenario\":\"SDK-1.13.0\",\"environment_label\":null,\"force_text_dnn\":false,\"enable_feature_sweeping\":true,\"enable_early_stopping\":true,\"early_stopping_n_iters\":10,\"metrics\":null,\"enable_ensembling\":true,\"enable_stack_ensembling\":true,\"ensemble_iterations\":15,\"enable_tf\":false,\"enable_subsampling\":null,\"subsample_seed\":null,\"enable_nimbusml\":false,\"enable_streaming\":false,\"force_streaming\":false,\"track_child_runs\":true,\"allowed_private_models\":[],\"label_column_name\":\"Hazardous\",\"weight_column_name\":null,\"cv_split_column_names\":null,\"enable_local_managed\":false,\"_local_managed_run_id\":null,\"cost_mode\":1,\"lag_length\":0,\"metric_operation\":\"maximize\",\"preprocess\":true}',\n  'DataPrepJsonString': '{\\\\\"training_data\\\\\": \\\\\"{\\\\\\\\\\\\\"blocks\\\\\\\\\\\\\": [{\\\\\\\\\\\\\"id\\\\\\\\\\\\\": \\\\\\\\\\\\\"eb5458c2-0d75-41be-ba67-7994a2058d5d\\\\\\\\\\\\\", \\\\\\\\\\\\\"type\\\\\\\\\\\\\": \\\\\\\\\\\\\"Microsoft.DPrep.GetDatastoreFilesBlock\\\\\\\\\\\\\", \\\\\\\\\\\\\"arguments\\\\\\\\\\\\\": {\\\\\\\\\\\\\"datastores\\\\\\\\\\\\\": [{\\\\\\\\\\\\\"datastoreName\\\\\\\\\\\\\": \\\\\\\\\\\\\"workspaceblobstore\\\\\\\\\\\\\", \\\\\\\\\\\\\"path\\\\\\\\\\\\\": \\\\\\\\\\\\\"managed-dataset/388873d2-72c3-4d28-878e-a07ad7a6b3a8/\\\\\\\\\\\\\", \\\\\\\\\\\\\"resourceGroup\\\\\\\\\\\\\": \\\\\\\\\\\\\"aml-quickstarts-136944\\\\\\\\\\\\\", \\\\\\\\\\\\\"subscription\\\\\\\\\\\\\": \\\\\\\\\\\\\"976ee174-3882-4721-b90a-b5fef6b72f24\\\\\\\\\\\\\", \\\\\\\\\\\\\"workspaceName\\\\\\\\\\\\\": \\\\\\\\\\\\\"quick-starts-ws-136944\\\\\\\\\\\\\"}]}, \\\\\\\\\\\\\"localData\\\\\\\\\\\\\": {}, \\\\\\\\\\\\\"isEnabled\\\\\\\\\\\\\": true, \\\\\\\\\\\\\"name\\\\\\\\\\\\\": null, \\\\\\\\\\\\\"annotation\\\\\\\\\\\\\": null}, {\\\\\\\\\\\\\"id\\\\\\\\\\\\\": \\\\\\\\\\\\\"bddcd591-2a1c-4f61-86c8-2af2cdc21424\\\\\\\\\\\\\", \\\\\\\\\\\\\"type\\\\\\\\\\\\\": \\\\\\\\\\\\\"Microsoft.DPrep.ReadParquetFileBlock\\\\\\\\\\\\\", \\\\\\\\\\\\\"arguments\\\\\\\\\\\\\": {\\\\\\\\\\\\\"preview\\\\\\\\\\\\\": false}, \\\\\\\\\\\\\"localData\\\\\\\\\\\\\": {}, \\\\\\\\\\\\\"isEnabled\\\\\\\\\\\\\": true, \\\\\\\\\\\\\"name\\\\\\\\\\\\\": null, \\\\\\\\\\\\\"annotation\\\\\\\\\\\\\": null}, {\\\\\\\\\\\\\"id\\\\\\\\\\\\\": \\\\\\\\\\\\\"c04c3895-1610-41f8-8591-d8bd8db760e1\\\\\\\\\\\\\", \\\\\\\\\\\\\"type\\\\\\\\\\\\\": \\\\\\\\\\\\\"Microsoft.DPrep.DropColumnsBlock\\\\\\\\\\\\\", \\\\\\\\\\\\\"arguments\\\\\\\\\\\\\": {\\\\\\\\\\\\\"columns\\\\\\\\\\\\\": {\\\\\\\\\\\\\"type\\\\\\\\\\\\\": 0, \\\\\\\\\\\\\"details\\\\\\\\\\\\\": {\\\\\\\\\\\\\"selectedColumns\\\\\\\\\\\\\": [\\\\\\\\\\\\\"Path\\\\\\\\\\\\\"]}}}, \\\\\\\\\\\\\"localData\\\\\\\\\\\\\": {}, \\\\\\\\\\\\\"isEnabled\\\\\\\\\\\\\": true, \\\\\\\\\\\\\"name\\\\\\\\\\\\\": null, \\\\\\\\\\\\\"annotation\\\\\\\\\\\\\": null}], \\\\\\\\\\\\\"inspectors\\\\\\\\\\\\\": [], \\\\\\\\\\\\\"meta\\\\\\\\\\\\\": {\\\\\\\\\\\\\"savedDatasetId\\\\\\\\\\\\\": \\\\\\\\\\\\\"9f707110-506a-43c8-9165-b8baad2bb0b1\\\\\\\\\\\\\", \\\\\\\\\\\\\"datasetType\\\\\\\\\\\\\": \\\\\\\\\\\\\"tabular\\\\\\\\\\\\\", \\\\\\\\\\\\\"subscriptionId\\\\\\\\\\\\\": \\\\\\\\\\\\\"976ee174-3882-4721-b90a-b5fef6b72f24\\\\\\\\\\\\\", \\\\\\\\\\\\\"workspaceId\\\\\\\\\\\\\": \\\\\\\\\\\\\"82dc5bb8-b831-4543-9dab-0ff2cdcd48db\\\\\\\\\\\\\", \\\\\\\\\\\\\"workspaceLocation\\\\\\\\\\\\\": \\\\\\\\\\\\\"southcentralus\\\\\\\\\\\\\"}}\\\\\", \\\\\"activities\\\\\": 0}',\n  'EnableSubsampling': None,\n  'runTemplate': 'AutoML',\n  'azureml.runsource': 'automl',\n  'display_task_type': 'classification',\n  'dependencies_versions': '{\"azureml-widgets\": \"1.20.0\", \"azureml-train\": \"1.20.0\", \"azureml-train-restclients-hyperdrive\": \"1.20.0\", \"azureml-train-core\": \"1.20.0\", \"azureml-train-automl\": \"1.20.0\", \"azureml-train-automl-runtime\": \"1.20.0\", \"azureml-train-automl-client\": \"1.20.0\", \"azureml-tensorboard\": \"1.20.0\", \"azureml-telemetry\": \"1.20.0\", \"azureml-sdk\": \"1.20.0\", \"azureml-samples\": \"0+unknown\", \"azureml-pipeline\": \"1.20.0\", \"azureml-pipeline-steps\": \"1.20.0\", \"azureml-pipeline-core\": \"1.20.0\", \"azureml-opendatasets\": \"1.20.0\", \"azureml-model-management-sdk\": \"1.0.1b6.post1\", \"azureml-mlflow\": \"1.20.0.post1\", \"azureml-interpret\": \"1.20.0\", \"azureml-explain-model\": \"1.20.0\", \"azureml-defaults\": \"1.20.0\", \"azureml-dataset-runtime\": \"1.20.0\", \"azureml-dataprep\": \"2.7.3\", \"azureml-dataprep-rslex\": \"1.5.0\", \"azureml-dataprep-native\": \"27.0.0\", \"azureml-datadrift\": \"1.20.0\", \"azureml-core\": \"1.20.0\", \"azureml-contrib-services\": \"1.20.0\", \"azureml-contrib-server\": \"1.20.0\", \"azureml-contrib-reinforcementlearning\": \"1.20.0\", \"azureml-contrib-pipeline-steps\": \"1.20.0\", \"azureml-contrib-notebook\": \"1.20.0\", \"azureml-contrib-interpret\": \"1.20.0\", \"azureml-contrib-gbdt\": \"1.20.0\", \"azureml-contrib-fairness\": \"1.20.0\", \"azureml-contrib-dataset\": \"1.20.0\", \"azureml-cli-common\": \"1.20.0\", \"azureml-automl-runtime\": \"1.20.0\", \"azureml-automl-core\": \"1.20.0\", \"azureml-accel-models\": \"1.20.0\"}',\n  '_aml_system_scenario_identification': 'Remote.Parent',\n  'ClientType': 'SDK',\n  'environment_cpu_name': 'AzureML-AutoML',\n  'environment_cpu_label': 'prod',\n  'environment_gpu_name': 'AzureML-AutoML-GPU',\n  'environment_gpu_label': 'prod',\n  'root_attribution': 'automl',\n  'attribution': 'AutoML',\n  'Orchestrator': 'AutoML',\n  'CancelUri': 'https://southcentralus.experiments.azureml.net/jasmine/v1.0/subscriptions/976ee174-3882-4721-b90a-b5fef6b72f24/resourceGroups/aml-quickstarts-136944/providers/Microsoft.MachineLearningServices/workspaces/quick-starts-ws-136944/experimentids/58f1c0a6-70ee-44c6-be6c-5cb22e409a02/cancel/AutoML_e2798d9e-31b5-45e8-8595-cdb9a0691f83',\n  'ClientSdkVersion': '1.21.0',\n  'snapshotId': '00000000-0000-0000-0000-000000000000',\n  'SetupRunId': 'AutoML_e2798d9e-31b5-45e8-8595-cdb9a0691f83_setup',\n  'SetupRunContainerId': 'dcid.AutoML_e2798d9e-31b5-45e8-8595-cdb9a0691f83_setup',\n  'FeaturizationRunJsonPath': 'featurizer_container.json',\n  'FeaturizationRunId': 'AutoML_e2798d9e-31b5-45e8-8595-cdb9a0691f83_featurize',\n  'ProblemInfoJsonString': '{\"dataset_num_categorical\": 0, \"is_sparse\": true, \"subsampling\": false, \"dataset_classes\": 2, \"dataset_features\": 30, \"dataset_samples\": 4687, \"single_frequency_class_detected\": false}',\n  'ModelExplainRunId': 'AutoML_e2798d9e-31b5-45e8-8595-cdb9a0691f83_ModelExplain'},\n 'inputDatasets': [{'dataset': {'id': '9f707110-506a-43c8-9165-b8baad2bb0b1'}, 'consumptionDetails': {'type': 'RunInput', 'inputName': 'training_data', 'mechanism': 'Direct'}}],\n 'outputDatasets': [],\n 'logFiles': {},\n 'submittedBy': 'ODL_User 136944'}"
          },
          "metadata": {}
        }
      ],
      "execution_count": 16,
      "metadata": {
        "collapsed": true,
        "jupyter": {
          "source_hidden": false,
          "outputs_hidden": false
        },
        "nteract": {
          "transient": {
            "deleting": false
          }
        },
        "gather": {
          "logged": 1612278243250
        }
      }
    },
    {
      "cell_type": "markdown",
      "source": [
        "## Best Model\n",
        "\n",
        "TODO: In the cell below, get the best model from the automl experiments and display all the properties of the model.\n",
        "\n"
      ],
      "metadata": {}
    },
    {
      "cell_type": "code",
      "source": [
        "#TODO: Save the best model\n",
        "\n",
        "best_automl_run, model = automl_run.get_output()\n",
        "joblib.dump(model,'automl-model.pkl')"
      ],
      "outputs": [
        {
          "output_type": "stream",
          "name": "stderr",
          "text": [
            "WARNING:root:The version of the SDK does not match the version the model was trained on.\n",
            "WARNING:root:The consistency in the result may not be guaranteed.\n",
            "WARNING:root:Package:azureml-automl-core, training version:1.21.0, current version:1.20.0\n",
            "Package:azureml-automl-runtime, training version:1.21.0, current version:1.20.0\n",
            "Package:azureml-core, training version:1.21.0.post1, current version:1.20.0\n",
            "Package:azureml-dataprep, training version:2.8.2, current version:2.7.3\n",
            "Package:azureml-dataprep-native, training version:28.0.0, current version:27.0.0\n",
            "Package:azureml-dataprep-rslex, training version:1.6.0, current version:1.5.0\n",
            "Package:azureml-dataset-runtime, training version:1.21.0, current version:1.20.0\n",
            "Package:azureml-defaults, training version:1.21.0, current version:1.20.0\n",
            "Package:azureml-interpret, training version:1.21.0, current version:1.20.0\n",
            "Package:azureml-pipeline-core, training version:1.21.0, current version:1.20.0\n",
            "Package:azureml-telemetry, training version:1.21.0, current version:1.20.0\n",
            "Package:azureml-train-automl-client, training version:1.21.0, current version:1.20.0\n",
            "Package:azureml-train-automl-runtime, training version:1.21.0, current version:1.20.0\n",
            "WARNING:root:Please ensure the version of your local conda dependencies match the version on which your model was trained in order to properly retrieve your model.\n"
          ]
        },
        {
          "output_type": "execute_result",
          "execution_count": 17,
          "data": {
            "text/plain": "['automl-model.pkl']"
          },
          "metadata": {}
        }
      ],
      "execution_count": 17,
      "metadata": {
        "gather": {
          "logged": 1612278682819
        },
        "jupyter": {
          "outputs_hidden": false,
          "source_hidden": false
        },
        "nteract": {
          "transient": {
            "deleting": false
          }
        }
      }
    },
    {
      "cell_type": "code",
      "source": [
        "# details associated with the best AutoML run\n",
        "print(\"Run ID:\", best_automl_run.id)\n",
        "\n",
        "# list the model files uploaded during the run\n",
        "print(\"\\n\", best_automl_run.get_file_names())"
      ],
      "outputs": [
        {
          "output_type": "stream",
          "name": "stdout",
          "text": [
            "Run ID: AutoML_e2798d9e-31b5-45e8-8595-cdb9a0691f83_38\n",
            "\n",
            " ['accuracy_table', 'automl_driver.py', 'azureml-logs/55_azureml-execution-tvmps_f173aea14470252bdfad383e5c82848ddd24bd5bea30c181c902b8fc3613ee1d_d.txt', 'azureml-logs/65_job_prep-tvmps_f173aea14470252bdfad383e5c82848ddd24bd5bea30c181c902b8fc3613ee1d_d.txt', 'azureml-logs/70_driver_log.txt', 'azureml-logs/75_job_post-tvmps_f173aea14470252bdfad383e5c82848ddd24bd5bea30c181c902b8fc3613ee1d_d.txt', 'azureml-logs/process_info.json', 'azureml-logs/process_status.json', 'confusion_matrix', 'logs/azureml/105_azureml.log', 'logs/azureml/azureml_automl.log', 'logs/azureml/job_prep_azureml.log', 'logs/azureml/job_release_azureml.log', 'outputs/conda_env_v_1_0_0.yml', 'outputs/env_dependencies.json', 'outputs/internal_cross_validated_models.pkl', 'outputs/model.pkl', 'outputs/pipeline_graph.json', 'outputs/scoring_file_v_1_0_0.py']\n"
          ]
        }
      ],
      "execution_count": 18,
      "metadata": {
        "gather": {
          "logged": 1612278697671
        }
      }
    },
    {
      "cell_type": "markdown",
      "source": [
        "## Model Deployment\n",
        "\n",
        "Remember you have to deploy only one of the two models you trained.. Perform the steps in the rest of this notebook only if you wish to deploy this model.\n",
        "\n",
        "TODO: In the cell below, register the model, create an inference config and deploy the model as a web service."
      ],
      "metadata": {}
    },
    {
      "cell_type": "code",
      "source": [
        "registered_model = Model.register(workspace=ws, model_path=\"automl-model.pkl\", model_name=\"automl-model\")"
      ],
      "outputs": [
        {
          "output_type": "stream",
          "name": "stdout",
          "text": [
            "Registering model automl-model\n"
          ]
        }
      ],
      "execution_count": 19,
      "metadata": {
        "gather": {
          "logged": 1612278718959
        },
        "jupyter": {
          "outputs_hidden": false,
          "source_hidden": false
        },
        "nteract": {
          "transient": {
            "deleting": false
          }
        }
      }
    },
    {
      "cell_type": "code",
      "source": [
        "inference_config = InferenceConfig(entry_script='score.py', environment=best_automl_run.get_environment())"
      ],
      "outputs": [],
      "execution_count": 20,
      "metadata": {
        "gather": {
          "logged": 1612278727553
        }
      }
    },
    {
      "cell_type": "code",
      "source": [
        "service_name = 'asteroid-classification'\n",
        "\n",
        "service = Model.deploy(ws, service_name, [registered_model], inference_config, overwrite=True)\n",
        "service.wait_for_deployment(show_output=True)\n",
        "\n",
        "print(service.state)\n",
        "print(service.scoring_uri)"
      ],
      "outputs": [
        {
          "output_type": "stream",
          "name": "stdout",
          "text": [
            "Tips: You can try get_logs(): https://aka.ms/debugimage#dockerlog or local deployment: https://aka.ms/debugimage#debug-locally to debug if deployment takes longer than 10 minutes.\n",
            "Running....................................................\n",
            "Succeeded\n",
            "ACI service creation operation finished, operation \"Succeeded\"\n",
            "Healthy\n",
            "http://2d5cb110-7cad-40c0-897b-131406aa1af5.southcentralus.azurecontainer.io/score\n"
          ]
        }
      ],
      "execution_count": 22,
      "metadata": {
        "gather": {
          "logged": 1612279358499
        }
      }
    },
    {
      "cell_type": "code",
      "source": [
        "service.update(enable_app_insights=True)"
      ],
      "outputs": [],
      "execution_count": 23,
      "metadata": {
        "collapsed": true,
        "jupyter": {
          "source_hidden": false,
          "outputs_hidden": false
        },
        "nteract": {
          "transient": {
            "deleting": false
          }
        },
        "gather": {
          "logged": 1612279661915
        }
      }
    },
    {
      "cell_type": "code",
      "source": [
        "print(service.swagger_uri)"
      ],
      "outputs": [
        {
          "output_type": "stream",
          "name": "stdout",
          "text": [
            "http://2d5cb110-7cad-40c0-897b-131406aa1af5.southcentralus.azurecontainer.io/swagger.json\n"
          ]
        }
      ],
      "execution_count": 25,
      "metadata": {
        "collapsed": true,
        "jupyter": {
          "source_hidden": false,
          "outputs_hidden": false
        },
        "nteract": {
          "transient": {
            "deleting": false
          }
        },
        "gather": {
          "logged": 1612280106718
        }
      }
    },
    {
      "cell_type": "markdown",
      "source": [
        "TODO: In the cell below, send a request to the web service you deployed to test it."
      ],
      "metadata": {
        "collapsed": true,
        "gather": {
          "logged": 1598431657736
        },
        "jupyter": {
          "outputs_hidden": false,
          "source_hidden": false
        },
        "nteract": {
          "transient": {
            "deleting": false
          }
        }
      }
    },
    {
      "cell_type": "code",
      "source": [
        "data = {\"data\":\n",
        "        [\n",
        "          {\n",
        "            \"age\": 17,\n",
        "            \"campaign\": 1,\n",
        "            \"cons.conf.idx\": -46.2,\n",
        "            \"cons.price.idx\": 92.893,\n",
        "            \"contact\": \"cellular\",\n",
        "            \"day_of_week\": \"mon\",\n",
        "            \"default\": \"no\",\n",
        "            \"duration\": 971,\n",
        "            \"education\": \"university.degree\",\n",
        "            \"emp.var.rate\": -1.8,\n",
        "            \"euribor3m\": 1.299,\n",
        "            \"housing\": \"yes\",\n",
        "            \"job\": \"blue-collar\",\n",
        "            \"loan\": \"yes\",\n",
        "            \"marital\": \"married\",\n",
        "            \"month\": \"may\",\n",
        "            \"nr.employed\": 5099.1,\n",
        "            \"pdays\": 999,\n",
        "            \"poutcome\": \"failure\",\n",
        "            \"previous\": 1\n",
        "          },\n",
        "          {\n",
        "            \"age\": 87,\n",
        "            \"campaign\": 1,\n",
        "            \"cons.conf.idx\": -46.2,\n",
        "            \"cons.price.idx\": 92.893,\n",
        "            \"contact\": \"cellular\",\n",
        "            \"day_of_week\": \"mon\",\n",
        "            \"default\": \"no\",\n",
        "            \"duration\": 471,\n",
        "            \"education\": \"university.degree\",\n",
        "            \"emp.var.rate\": -1.8,\n",
        "            \"euribor3m\": 1.299,\n",
        "            \"housing\": \"yes\",\n",
        "            \"job\": \"blue-collar\",\n",
        "            \"loan\": \"yes\",\n",
        "            \"marital\": \"married\",\n",
        "            \"month\": \"may\",\n",
        "            \"nr.employed\": 5099.1,\n",
        "            \"pdays\": 999,\n",
        "            \"poutcome\": \"failure\",\n",
        "            \"previous\": 1\n",
        "          },\n",
        "      ]\n",
        "    }"
      ],
      "outputs": [],
      "execution_count": null,
      "metadata": {}
    },
    {
      "cell_type": "code",
      "source": [
        "Hazardous = df.pop(\"Hazardous\")\r\n",
        "data={'data':df[0:1].tolist()}"
      ],
      "outputs": [
        {
          "output_type": "error",
          "ename": "KeyError",
          "evalue": "'Hazardous'",
          "traceback": [
            "\u001b[0;31m---------------------------------------------------------------------------\u001b[0m",
            "\u001b[0;31mKeyError\u001b[0m                                  Traceback (most recent call last)",
            "\u001b[0;32m/anaconda/envs/azureml_py36/lib/python3.6/site-packages/pandas/core/indexes/base.py\u001b[0m in \u001b[0;36mget_loc\u001b[0;34m(self, key, method, tolerance)\u001b[0m\n\u001b[1;32m   2896\u001b[0m             \u001b[0;32mtry\u001b[0m\u001b[0;34m:\u001b[0m\u001b[0;34m\u001b[0m\u001b[0;34m\u001b[0m\u001b[0m\n\u001b[0;32m-> 2897\u001b[0;31m                 \u001b[0;32mreturn\u001b[0m \u001b[0mself\u001b[0m\u001b[0;34m.\u001b[0m\u001b[0m_engine\u001b[0m\u001b[0;34m.\u001b[0m\u001b[0mget_loc\u001b[0m\u001b[0;34m(\u001b[0m\u001b[0mkey\u001b[0m\u001b[0;34m)\u001b[0m\u001b[0;34m\u001b[0m\u001b[0;34m\u001b[0m\u001b[0m\n\u001b[0m\u001b[1;32m   2898\u001b[0m             \u001b[0;32mexcept\u001b[0m \u001b[0mKeyError\u001b[0m\u001b[0;34m:\u001b[0m\u001b[0;34m\u001b[0m\u001b[0;34m\u001b[0m\u001b[0m\n",
            "\u001b[0;32mpandas/_libs/index.pyx\u001b[0m in \u001b[0;36mpandas._libs.index.IndexEngine.get_loc\u001b[0;34m()\u001b[0m\n",
            "\u001b[0;32mpandas/_libs/index.pyx\u001b[0m in \u001b[0;36mpandas._libs.index.IndexEngine.get_loc\u001b[0;34m()\u001b[0m\n",
            "\u001b[0;32mpandas/_libs/hashtable_class_helper.pxi\u001b[0m in \u001b[0;36mpandas._libs.hashtable.PyObjectHashTable.get_item\u001b[0;34m()\u001b[0m\n",
            "\u001b[0;32mpandas/_libs/hashtable_class_helper.pxi\u001b[0m in \u001b[0;36mpandas._libs.hashtable.PyObjectHashTable.get_item\u001b[0;34m()\u001b[0m\n",
            "\u001b[0;31mKeyError\u001b[0m: 'Hazardous'",
            "\nDuring handling of the above exception, another exception occurred:\n",
            "\u001b[0;31mKeyError\u001b[0m                                  Traceback (most recent call last)",
            "\u001b[0;32m<ipython-input-28-4d0b833c6075>\u001b[0m in \u001b[0;36m<module>\u001b[0;34m\u001b[0m\n\u001b[0;32m----> 1\u001b[0;31m \u001b[0mHazardous\u001b[0m \u001b[0;34m=\u001b[0m \u001b[0mdf\u001b[0m\u001b[0;34m.\u001b[0m\u001b[0mpop\u001b[0m\u001b[0;34m(\u001b[0m\u001b[0;34m\"Hazardous\"\u001b[0m\u001b[0;34m)\u001b[0m\u001b[0;34m\u001b[0m\u001b[0;34m\u001b[0m\u001b[0m\n\u001b[0m\u001b[1;32m      2\u001b[0m \u001b[0mdata\u001b[0m\u001b[0;34m=\u001b[0m\u001b[0;34m{\u001b[0m\u001b[0;34m'data'\u001b[0m\u001b[0;34m:\u001b[0m\u001b[0mdf\u001b[0m\u001b[0;34m[\u001b[0m\u001b[0;36m0\u001b[0m\u001b[0;34m:\u001b[0m\u001b[0;36m1\u001b[0m\u001b[0;34m]\u001b[0m\u001b[0;34m.\u001b[0m\u001b[0mtolist\u001b[0m\u001b[0;34m(\u001b[0m\u001b[0;34m)\u001b[0m\u001b[0;34m}\u001b[0m\u001b[0;34m\u001b[0m\u001b[0;34m\u001b[0m\u001b[0m\n",
            "\u001b[0;32m/anaconda/envs/azureml_py36/lib/python3.6/site-packages/pandas/core/generic.py\u001b[0m in \u001b[0;36mpop\u001b[0;34m(self, item)\u001b[0m\n\u001b[1;32m    860\u001b[0m         \u001b[0;36m3\u001b[0m  \u001b[0mmonkey\u001b[0m        \u001b[0mNaN\u001b[0m\u001b[0;34m\u001b[0m\u001b[0;34m\u001b[0m\u001b[0m\n\u001b[1;32m    861\u001b[0m         \"\"\"\n\u001b[0;32m--> 862\u001b[0;31m         \u001b[0mresult\u001b[0m \u001b[0;34m=\u001b[0m \u001b[0mself\u001b[0m\u001b[0;34m[\u001b[0m\u001b[0mitem\u001b[0m\u001b[0;34m]\u001b[0m\u001b[0;34m\u001b[0m\u001b[0;34m\u001b[0m\u001b[0m\n\u001b[0m\u001b[1;32m    863\u001b[0m         \u001b[0;32mdel\u001b[0m \u001b[0mself\u001b[0m\u001b[0;34m[\u001b[0m\u001b[0mitem\u001b[0m\u001b[0;34m]\u001b[0m\u001b[0;34m\u001b[0m\u001b[0;34m\u001b[0m\u001b[0m\n\u001b[1;32m    864\u001b[0m         \u001b[0;32mtry\u001b[0m\u001b[0;34m:\u001b[0m\u001b[0;34m\u001b[0m\u001b[0;34m\u001b[0m\u001b[0m\n",
            "\u001b[0;32m/anaconda/envs/azureml_py36/lib/python3.6/site-packages/pandas/core/frame.py\u001b[0m in \u001b[0;36m__getitem__\u001b[0;34m(self, key)\u001b[0m\n\u001b[1;32m   2993\u001b[0m             \u001b[0;32mif\u001b[0m \u001b[0mself\u001b[0m\u001b[0;34m.\u001b[0m\u001b[0mcolumns\u001b[0m\u001b[0;34m.\u001b[0m\u001b[0mnlevels\u001b[0m \u001b[0;34m>\u001b[0m \u001b[0;36m1\u001b[0m\u001b[0;34m:\u001b[0m\u001b[0;34m\u001b[0m\u001b[0;34m\u001b[0m\u001b[0m\n\u001b[1;32m   2994\u001b[0m                 \u001b[0;32mreturn\u001b[0m \u001b[0mself\u001b[0m\u001b[0;34m.\u001b[0m\u001b[0m_getitem_multilevel\u001b[0m\u001b[0;34m(\u001b[0m\u001b[0mkey\u001b[0m\u001b[0;34m)\u001b[0m\u001b[0;34m\u001b[0m\u001b[0;34m\u001b[0m\u001b[0m\n\u001b[0;32m-> 2995\u001b[0;31m             \u001b[0mindexer\u001b[0m \u001b[0;34m=\u001b[0m \u001b[0mself\u001b[0m\u001b[0;34m.\u001b[0m\u001b[0mcolumns\u001b[0m\u001b[0;34m.\u001b[0m\u001b[0mget_loc\u001b[0m\u001b[0;34m(\u001b[0m\u001b[0mkey\u001b[0m\u001b[0;34m)\u001b[0m\u001b[0;34m\u001b[0m\u001b[0;34m\u001b[0m\u001b[0m\n\u001b[0m\u001b[1;32m   2996\u001b[0m             \u001b[0;32mif\u001b[0m \u001b[0mis_integer\u001b[0m\u001b[0;34m(\u001b[0m\u001b[0mindexer\u001b[0m\u001b[0;34m)\u001b[0m\u001b[0;34m:\u001b[0m\u001b[0;34m\u001b[0m\u001b[0;34m\u001b[0m\u001b[0m\n\u001b[1;32m   2997\u001b[0m                 \u001b[0mindexer\u001b[0m \u001b[0;34m=\u001b[0m \u001b[0;34m[\u001b[0m\u001b[0mindexer\u001b[0m\u001b[0;34m]\u001b[0m\u001b[0;34m\u001b[0m\u001b[0;34m\u001b[0m\u001b[0m\n",
            "\u001b[0;32m/anaconda/envs/azureml_py36/lib/python3.6/site-packages/pandas/core/indexes/base.py\u001b[0m in \u001b[0;36mget_loc\u001b[0;34m(self, key, method, tolerance)\u001b[0m\n\u001b[1;32m   2897\u001b[0m                 \u001b[0;32mreturn\u001b[0m \u001b[0mself\u001b[0m\u001b[0;34m.\u001b[0m\u001b[0m_engine\u001b[0m\u001b[0;34m.\u001b[0m\u001b[0mget_loc\u001b[0m\u001b[0;34m(\u001b[0m\u001b[0mkey\u001b[0m\u001b[0;34m)\u001b[0m\u001b[0;34m\u001b[0m\u001b[0;34m\u001b[0m\u001b[0m\n\u001b[1;32m   2898\u001b[0m             \u001b[0;32mexcept\u001b[0m \u001b[0mKeyError\u001b[0m\u001b[0;34m:\u001b[0m\u001b[0;34m\u001b[0m\u001b[0;34m\u001b[0m\u001b[0m\n\u001b[0;32m-> 2899\u001b[0;31m                 \u001b[0;32mreturn\u001b[0m \u001b[0mself\u001b[0m\u001b[0;34m.\u001b[0m\u001b[0m_engine\u001b[0m\u001b[0;34m.\u001b[0m\u001b[0mget_loc\u001b[0m\u001b[0;34m(\u001b[0m\u001b[0mself\u001b[0m\u001b[0;34m.\u001b[0m\u001b[0m_maybe_cast_indexer\u001b[0m\u001b[0;34m(\u001b[0m\u001b[0mkey\u001b[0m\u001b[0;34m)\u001b[0m\u001b[0;34m)\u001b[0m\u001b[0;34m\u001b[0m\u001b[0;34m\u001b[0m\u001b[0m\n\u001b[0m\u001b[1;32m   2900\u001b[0m         \u001b[0mindexer\u001b[0m \u001b[0;34m=\u001b[0m \u001b[0mself\u001b[0m\u001b[0;34m.\u001b[0m\u001b[0mget_indexer\u001b[0m\u001b[0;34m(\u001b[0m\u001b[0;34m[\u001b[0m\u001b[0mkey\u001b[0m\u001b[0;34m]\u001b[0m\u001b[0;34m,\u001b[0m \u001b[0mmethod\u001b[0m\u001b[0;34m=\u001b[0m\u001b[0mmethod\u001b[0m\u001b[0;34m,\u001b[0m \u001b[0mtolerance\u001b[0m\u001b[0;34m=\u001b[0m\u001b[0mtolerance\u001b[0m\u001b[0;34m)\u001b[0m\u001b[0;34m\u001b[0m\u001b[0;34m\u001b[0m\u001b[0m\n\u001b[1;32m   2901\u001b[0m         \u001b[0;32mif\u001b[0m \u001b[0mindexer\u001b[0m\u001b[0;34m.\u001b[0m\u001b[0mndim\u001b[0m \u001b[0;34m>\u001b[0m \u001b[0;36m1\u001b[0m \u001b[0;32mor\u001b[0m \u001b[0mindexer\u001b[0m\u001b[0;34m.\u001b[0m\u001b[0msize\u001b[0m \u001b[0;34m>\u001b[0m \u001b[0;36m1\u001b[0m\u001b[0;34m:\u001b[0m\u001b[0;34m\u001b[0m\u001b[0;34m\u001b[0m\u001b[0m\n",
            "\u001b[0;32mpandas/_libs/index.pyx\u001b[0m in \u001b[0;36mpandas._libs.index.IndexEngine.get_loc\u001b[0;34m()\u001b[0m\n",
            "\u001b[0;32mpandas/_libs/index.pyx\u001b[0m in \u001b[0;36mpandas._libs.index.IndexEngine.get_loc\u001b[0;34m()\u001b[0m\n",
            "\u001b[0;32mpandas/_libs/hashtable_class_helper.pxi\u001b[0m in \u001b[0;36mpandas._libs.hashtable.PyObjectHashTable.get_item\u001b[0;34m()\u001b[0m\n",
            "\u001b[0;32mpandas/_libs/hashtable_class_helper.pxi\u001b[0m in \u001b[0;36mpandas._libs.hashtable.PyObjectHashTable.get_item\u001b[0;34m()\u001b[0m\n",
            "\u001b[0;31mKeyError\u001b[0m: 'Hazardous'"
          ]
        }
      ],
      "execution_count": 28,
      "metadata": {
        "collapsed": true,
        "jupyter": {
          "source_hidden": false,
          "outputs_hidden": false
        },
        "nteract": {
          "transient": {
            "deleting": false
          }
        }
      }
    },
    {
      "cell_type": "code",
      "source": [
        "data={'data':df[0:1].to_numpy().tolist()}"
      ],
      "outputs": [],
      "execution_count": 33,
      "metadata": {
        "collapsed": true,
        "jupyter": {
          "source_hidden": false,
          "outputs_hidden": false
        },
        "nteract": {
          "transient": {
            "deleting": false
          }
        },
        "gather": {
          "logged": 1612283472341
        }
      }
    },
    {
      "cell_type": "code",
      "source": [
        "df.head()"
      ],
      "outputs": [],
      "execution_count": null,
      "metadata": {
        "collapsed": true,
        "jupyter": {
          "source_hidden": false,
          "outputs_hidden": false
        },
        "nteract": {
          "transient": {
            "deleting": false
          }
        },
        "gather": {
          "logged": 1612282973679
        }
      }
    },
    {
      "cell_type": "code",
      "source": [
        "scoring_uri=service.scoring_uri\n",
        "\n",
        "input_data = json.dumps(data)\n",
        "with open(\"data.json\", \"w\") as _f:\n",
        "    _f.write(input_data)\n",
        "\n",
        "# Set the content type\n",
        "headers = {'Content-Type': 'application/json'}\n",
        "\n",
        "# Make the request and display the response\n",
        "response = requests.post(scoring_uri, input_data, headers=headers)\n",
        "print(response.json())"
      ],
      "outputs": [
        {
          "output_type": "stream",
          "name": "stdout",
          "text": [
            "DataException:\n",
            "\tMessage: Expected column(s) 0 not found in fitted data.\n",
            "\tInnerException: None\n",
            "\tErrorResponse \n",
            "{\n",
            "    \"error\": {\n",
            "        \"code\": \"UserError\",\n",
            "        \"message\": \"Expected column(s) 0 not found in fitted data.\",\n",
            "        \"target\": \"X\",\n",
            "        \"inner_error\": {\n",
            "            \"code\": \"BadArgument\",\n",
            "            \"inner_error\": {\n",
            "                \"code\": \"MissingColumnsInData\"\n",
            "            }\n",
            "        },\n",
            "        \"reference_code\": \"17049f70-3bbe-4060-a63f-f06590e784e5\"\n",
            "    }\n",
            "}\n"
          ]
        }
      ],
      "execution_count": 34,
      "metadata": {
        "gather": {
          "logged": 1612283476536
        }
      }
    },
    {
      "cell_type": "code",
      "source": [
        "prediction = service.run(input_data)\n",
        "\n",
        "print(prediction)"
      ],
      "outputs": [
        {
          "output_type": "stream",
          "name": "stdout",
          "text": [
            "DataException:\n",
            "\tMessage: Expected column(s) 0 not found in fitted data.\n",
            "\tInnerException: None\n",
            "\tErrorResponse \n",
            "{\n",
            "    \"error\": {\n",
            "        \"code\": \"UserError\",\n",
            "        \"message\": \"Expected column(s) 0 not found in fitted data.\",\n",
            "        \"target\": \"X\",\n",
            "        \"inner_error\": {\n",
            "            \"code\": \"BadArgument\",\n",
            "            \"inner_error\": {\n",
            "                \"code\": \"MissingColumnsInData\"\n",
            "            }\n",
            "        },\n",
            "        \"reference_code\": \"17049f70-3bbe-4060-a63f-f06590e784e5\"\n",
            "    }\n",
            "}\n"
          ]
        }
      ],
      "execution_count": 35,
      "metadata": {
        "gather": {
          "logged": 1612283569611
        },
        "jupyter": {
          "outputs_hidden": false,
          "source_hidden": false
        },
        "nteract": {
          "transient": {
            "deleting": false
          }
        }
      }
    },
    {
      "cell_type": "markdown",
      "source": [
        "TODO: In the cell below, print the logs of the web service and delete the service"
      ],
      "metadata": {
        "collapsed": true,
        "gather": {
          "logged": 1598432765711
        },
        "jupyter": {
          "outputs_hidden": false,
          "source_hidden": false
        },
        "nteract": {
          "transient": {
            "deleting": false
          }
        }
      }
    },
    {
      "cell_type": "code",
      "source": [
        "logs = service.get_logs()\n",
        "\n",
        "for line in logs.split('\\n'):\n",
        "    print(line)"
      ],
      "outputs": [],
      "execution_count": null,
      "metadata": {
        "jupyter": {
          "outputs_hidden": false,
          "source_hidden": false
        },
        "nteract": {
          "transient": {
            "deleting": false
          }
        }
      }
    },
    {
      "cell_type": "code",
      "source": [
        "service.delete()"
      ],
      "outputs": [],
      "execution_count": null,
      "metadata": {}
    },
    {
      "cell_type": "code",
      "source": [
        "aml_compute.delete()"
      ],
      "outputs": [],
      "execution_count": null,
      "metadata": {}
    }
  ],
  "metadata": {
    "kernel_info": {
      "name": "python3"
    },
    "kernelspec": {
      "name": "python3",
      "language": "python",
      "display_name": "Python 3"
    },
    "language_info": {
      "name": "python",
      "version": "3.6.9",
      "mimetype": "text/x-python",
      "codemirror_mode": {
        "name": "ipython",
        "version": 3
      },
      "pygments_lexer": "ipython3",
      "nbconvert_exporter": "python",
      "file_extension": ".py"
    },
    "nteract": {
      "version": "nteract-front-end@1.0.0"
    }
  },
  "nbformat": 4,
  "nbformat_minor": 2
}