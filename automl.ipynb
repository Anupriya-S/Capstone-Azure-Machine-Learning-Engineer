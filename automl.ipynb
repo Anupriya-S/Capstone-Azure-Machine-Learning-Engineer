{
  "cells": [
    {
      "cell_type": "markdown",
      "source": [
        "# Automated ML"
      ],
      "metadata": {}
    },
    {
      "cell_type": "markdown",
      "source": [
        "## Introduction\n",
        "Asteroids are minor planets, especially of the inner Solar System. Larger asteroids have also been called planetoids.\n",
        "The study of asteroids is also crucial as historical events prove some of them being hazardous.\n",
        "\n",
        "For the purpose of this Capstone project, I thought of using machine learning to predict whether an asteroid could be hazardous or not."
      ],
      "metadata": {}
    },
    {
      "cell_type": "markdown",
      "source": [
        "## Azure Machine Learning SDK-specific Imports\n",
        "In the cell below, we are importing all the dependencies that we will need to complete the project."
      ],
      "metadata": {}
    },
    {
      "cell_type": "code",
      "source": [
        "from azureml.core.workspace import Workspace\n",
        "from azureml.core.experiment import Experiment\n",
        "from azureml.core.compute import ComputeTarget, AmlCompute\n",
        "from azureml.core.compute_target import ComputeTargetException\n",
        "from train import clean_data\n",
        "from azureml.core.datastore import Datastore\n",
        "from azureml.data.dataset_factory import TabularDatasetFactory\n",
        "from azureml.train.automl import AutoMLConfig\n",
        "from azureml.widgets import RunDetails\n",
        "import pandas as pd\n",
        "from azureml.core.model import InferenceConfig\n",
        "import json\n",
        "import requests\n",
        "from azureml.core.model import Model"
      ],
      "outputs": [],
      "execution_count": 1,
      "metadata": {
        "gather": {
          "logged": 1612453869215
        },
        "jupyter": {
          "outputs_hidden": false,
          "source_hidden": false
        },
        "nteract": {
          "transient": {
            "deleting": false
          }
        }
      }
    },
    {
      "cell_type": "markdown",
      "source": [
        "## Initialize Workspace and Create an Azure ML Experiment\n",
        "Let's initialize a workspace object from persisted configuration and create an experiment named \"capstone_automl\"."
      ],
      "metadata": {}
    },
    {
      "cell_type": "code",
      "source": [
        "ws = Workspace.from_config()\n",
        "\n",
        "# choose a name for experiment\n",
        "experiment_name = 'capstone_automl'\n",
        "\n",
        "exp = Experiment(ws, experiment_name)\n",
        "\n",
        "print('Workspace name: ' + ws.name, \n",
        "      'Azure region: ' + ws.location, \n",
        "      'Subscription id: ' + ws.subscription_id, \n",
        "      'Resource group: ' + ws.resource_group, sep = '\\n')\n",
        "\n",
        "run = exp.start_logging()"
      ],
      "outputs": [
        {
          "output_type": "stream",
          "name": "stdout",
          "text": [
            "Workspace name: quick-starts-ws-137239\n",
            "Azure region: southcentralus\n",
            "Subscription id: 61c5c3f0-6dc7-4ed9-a7f3-c704b20e3b30\n",
            "Resource group: aml-quickstarts-137239\n"
          ]
        }
      ],
      "execution_count": 2,
      "metadata": {
        "gather": {
          "logged": 1612453887617
        },
        "jupyter": {
          "outputs_hidden": false,
          "source_hidden": false
        },
        "nteract": {
          "transient": {
            "deleting": false
          }
        }
      }
    },
    {
      "cell_type": "markdown",
      "source": [
        "## Create or Attach an AmlCompute Cluster\n",
        "We need to create a compute target for our AutoML run. The compute target previously created for the HyperDrive run can also be reused for executing this AutoML run."
      ],
      "metadata": {}
    },
    {
      "cell_type": "code",
      "source": [
        "aml_compute_target = \"cpu-cluster\"\n",
        "try:\n",
        "  aml_compute = AmlCompute(ws, aml_compute_target)\n",
        "  print(\"Found existing compute target!\")\n",
        "except ComputeTargetException:\n",
        "  print(\"Creating new compute cluster...\")\n",
        "  provisioning_config = AmlCompute.provisioning_configuration(vm_size = \"STANDARD_D2_V2\", min_nodes = 1, max_nodes = 6)\n",
        "  aml_compute = ComputeTarget.create(ws, aml_compute_target, provisioning_config)\n",
        "  aml_compute.wait_for_completion(show_output=True, min_node_count=None, timeout_in_minutes=20)\n",
        "\n",
        "print(\"Azure Machine Learning Compute Cluster Created!\")"
      ],
      "outputs": [
        {
          "output_type": "stream",
          "name": "stdout",
          "text": [
            "Found existing compute target!\n",
            "Azure Machine Learning Compute Cluster Created!\n"
          ]
        }
      ],
      "execution_count": 3,
      "metadata": {
        "gather": {
          "logged": 1612453905990
        }
      }
    },
    {
      "cell_type": "markdown",
      "source": [
        "## Dataset\n",
        "\n",
        "### Overview\n",
        "The data is about Asteroids and is provided by NEOWS(Near-Earth Object Web Service). It is a NASA's dataset and can be found on Kaggle. One can download the dataset from [this](https://www.kaggle.com/shrutimehta/nasa-asteroids-classification/download) link.\n",
        "\n",
        "The dataset contains various information about the asteroids and labels each asteroid as hazardous(1) or non-hazardous(0). The dataset consists of ***4687 data instances(rows) and 40 features(columns)***. Also, there are no null values in the dataset.\n",
        "\n",
        "The task here is to use AutoML to perform Classification on this dataset and predict whether a given asteroid is hazardous or not.\n",
        "\n",
        "For the purpose of this project, I downloaded this dataset and saved it in the project's GitHub repository and accessing it using [this](https://raw.githubusercontent.com/Anupriya-S/Capstone-Azure-Machine-Learning-Engineer/main/nasa.csv) link."
      ],
      "metadata": {}
    },
    {
      "cell_type": "code",
      "source": [
        "df = pd.read_csv('https://raw.githubusercontent.com/Anupriya-S/Capstone-Azure-Machine-Learning-Engineer/main/nasa.csv')"
      ],
      "outputs": [],
      "execution_count": 4,
      "metadata": {
        "collapsed": true,
        "gather": {
          "logged": 1612453938504
        },
        "jupyter": {
          "outputs_hidden": false,
          "source_hidden": false
        },
        "nteract": {
          "transient": {
            "deleting": false
          }
        }
      }
    },
    {
      "cell_type": "code",
      "source": [
        "# Use clean_data() (defined in 'train.py') for processing the dataframe\n",
        "\n",
        "df = clean_data(df)"
      ],
      "outputs": [],
      "execution_count": 5,
      "metadata": {
        "gather": {
          "logged": 1612453944930
        }
      }
    },
    {
      "cell_type": "code",
      "source": [
        "found = False\n",
        "key = \"NASA Asteroids\"\n",
        "description_text = \"The data is about Asteroids and is provided by NEOWS(Near-Earth Object Web Service).\"\n",
        "\n",
        "if key in ws.datasets.keys(): \n",
        "        found = True\n",
        "        dataset = ws.datasets[key] \n",
        "\n",
        "if not found:\n",
        "        # Create AML Dataset and register it into Workspace\n",
        "        data_store = Datastore.get_default(ws)\n",
        "        dataset = TabularDatasetFactory.register_pandas_dataframe(df, target=data_store, name=key, description=description_text, tags=None, show_progress=True)"
      ],
      "outputs": [
        {
          "output_type": "stream",
          "name": "stderr",
          "text": [
            "Method register_pandas_dataframe: This is an experimental method, and may change at any time.<br/>For more information, see https://aka.ms/azuremlexperimental.\n"
          ]
        },
        {
          "output_type": "stream",
          "name": "stdout",
          "text": [
            "Validating arguments.\n",
            "Arguments validated.\n",
            "Successfully obtained datastore reference and path.\n",
            "Uploading file to managed-dataset/2e745193-889c-4d17-9f23-902ac60aa4c5/\n",
            "Successfully uploaded file to datastore.\n",
            "Creating and registering a new dataset.\n",
            "Successfully created and registered a new dataset.\n"
          ]
        }
      ],
      "execution_count": 6,
      "metadata": {
        "gather": {
          "logged": 1612453961933
        },
        "jupyter": {
          "outputs_hidden": false,
          "source_hidden": false
        },
        "nteract": {
          "transient": {
            "deleting": false
          }
        }
      }
    },
    {
      "cell_type": "markdown",
      "source": [
        "## AutoML Configuration\n",
        "For the AutoML run we use several settings and configurations as follows:\n",
        "1. Experiment timeout is set to 30 minutes because we want our AutoML run to complete in a given timeframe.\n",
        "2. Maximum Concurrent Iterations are set to 5 because the upper limit of nodes for our compute cluster is set to 6.\n",
        "3. Primary metric is set to Accuracy so that we can measure the 'goodness' of our model.\n",
        "4. Task is set to classification for obvious reasons.\n",
        "5. Value of n for n cross validations is set to 5 so that our model can be properly validated.\n",
        "6. Enable early stopping is set to True so that our experiment does not waste time once the performance of models starts deteriorating."
      ],
      "metadata": {}
    },
    {
      "cell_type": "code",
      "source": [
        "# TODO: Put your automl settings here\n",
        "automl_settings = {\n",
        "    \"experiment_timeout_minutes\": 30,\n",
        "    \"max_concurrent_iterations\": 5,\n",
        "    \"primary_metric\" : 'accuracy'\n",
        "}\n",
        "\n",
        "# TODO: Put your automl config here\n",
        "automl_config = AutoMLConfig(compute_target=aml_compute,\n",
        "                             task = \"classification\",\n",
        "                             training_data=dataset,\n",
        "                             label_column_name=\"Hazardous\",  \n",
        "                             n_cross_validations=5,\n",
        "                             enable_early_stopping= True,\n",
        "                             featurization= 'auto',\n",
        "                             debug_log = \"automl_errors.log\",\n",
        "                             **automl_settings\n",
        "                            )"
      ],
      "outputs": [],
      "execution_count": 7,
      "metadata": {
        "gather": {
          "logged": 1612454071928
        },
        "jupyter": {
          "outputs_hidden": false,
          "source_hidden": false
        },
        "nteract": {
          "transient": {
            "deleting": false
          }
        }
      }
    },
    {
      "cell_type": "code",
      "source": [
        "# TODO: Submit your experiment\n",
        "\n",
        "automl_run = exp.submit(config=automl_config, show_output=False)"
      ],
      "outputs": [
        {
          "output_type": "stream",
          "name": "stdout",
          "text": [
            "Running on remote.\n"
          ]
        }
      ],
      "execution_count": 8,
      "metadata": {
        "gather": {
          "logged": 1612454127100
        },
        "jupyter": {
          "outputs_hidden": false,
          "source_hidden": false
        },
        "nteract": {
          "transient": {
            "deleting": false
          }
        }
      }
    },
    {
      "cell_type": "markdown",
      "source": [
        "## Run Details\n",
        "In the cell below, we are using the `RunDetails` widget to show the training logs almost in real-time."
      ],
      "metadata": {}
    },
    {
      "cell_type": "code",
      "source": [
        "RunDetails(automl_run).show()"
      ],
      "outputs": [
        {
          "output_type": "display_data",
          "data": {
            "text/plain": "_AutoMLWidget(widget_settings={'childWidgetDisplay': 'popup', 'send_telemetry': False, 'log_level': 'INFO', 's…",
            "application/vnd.jupyter.widget-view+json": {
              "version_major": 2,
              "version_minor": 0,
              "model_id": "68951ab6c8264c238928ecd552eafc23"
            }
          },
          "metadata": {}
        },
        {
          "output_type": "display_data",
          "data": {
            "application/aml.mini.widget.v1": "{\"status\": \"Completed\", \"workbench_run_details_uri\": \"https://ml.azure.com/experiments/capstone_automl/runs/AutoML_5af2e08d-eba9-459a-a547-7028c821b365?wsid=/subscriptions/61c5c3f0-6dc7-4ed9-a7f3-c704b20e3b30/resourcegroups/aml-quickstarts-137239/workspaces/quick-starts-ws-137239\", \"run_id\": \"AutoML_5af2e08d-eba9-459a-a547-7028c821b365\", \"run_properties\": {\"run_id\": \"AutoML_5af2e08d-eba9-459a-a547-7028c821b365\", \"created_utc\": \"2021-02-04T15:55:25.981971Z\", \"properties\": {\"num_iterations\": \"1000\", \"training_type\": \"TrainFull\", \"acquisition_function\": \"EI\", \"primary_metric\": \"accuracy\", \"train_split\": \"0\", \"acquisition_parameter\": \"0\", \"num_cross_validation\": \"5\", \"target\": \"cpu-cluster\", \"AMLSettingsJsonString\": \"{\\\"path\\\":null,\\\"name\\\":\\\"capstone_automl\\\",\\\"subscription_id\\\":\\\"61c5c3f0-6dc7-4ed9-a7f3-c704b20e3b30\\\",\\\"resource_group\\\":\\\"aml-quickstarts-137239\\\",\\\"workspace_name\\\":\\\"quick-starts-ws-137239\\\",\\\"region\\\":\\\"southcentralus\\\",\\\"compute_target\\\":\\\"cpu-cluster\\\",\\\"spark_service\\\":null,\\\"azure_service\\\":\\\"remote\\\",\\\"many_models\\\":false,\\\"pipeline_fetch_max_batch_size\\\":1,\\\"iterations\\\":1000,\\\"primary_metric\\\":\\\"accuracy\\\",\\\"task_type\\\":\\\"classification\\\",\\\"data_script\\\":null,\\\"validation_size\\\":0.0,\\\"n_cross_validations\\\":5,\\\"y_min\\\":null,\\\"y_max\\\":null,\\\"num_classes\\\":null,\\\"featurization\\\":\\\"auto\\\",\\\"_ignore_package_version_incompatibilities\\\":false,\\\"is_timeseries\\\":false,\\\"max_cores_per_iteration\\\":1,\\\"max_concurrent_iterations\\\":5,\\\"iteration_timeout_minutes\\\":null,\\\"mem_in_mb\\\":null,\\\"enforce_time_on_windows\\\":false,\\\"experiment_timeout_minutes\\\":30,\\\"experiment_exit_score\\\":null,\\\"whitelist_models\\\":null,\\\"blacklist_algos\\\":[\\\"TensorFlowLinearClassifier\\\",\\\"TensorFlowDNN\\\"],\\\"supported_models\\\":[\\\"KNN\\\",\\\"AveragedPerceptronClassifier\\\",\\\"LightGBM\\\",\\\"LinearSVM\\\",\\\"DecisionTree\\\",\\\"XGBoostClassifier\\\",\\\"GradientBoosting\\\",\\\"BernoulliNaiveBayes\\\",\\\"MultinomialNaiveBayes\\\",\\\"SGD\\\",\\\"TensorFlowDNN\\\",\\\"SVM\\\",\\\"RandomForest\\\",\\\"ExtremeRandomTrees\\\",\\\"TensorFlowLinearClassifier\\\",\\\"LogisticRegression\\\"],\\\"auto_blacklist\\\":true,\\\"blacklist_samples_reached\\\":false,\\\"exclude_nan_labels\\\":true,\\\"verbosity\\\":20,\\\"_debug_log\\\":\\\"azureml_automl.log\\\",\\\"show_warnings\\\":false,\\\"model_explainability\\\":true,\\\"service_url\\\":null,\\\"sdk_url\\\":null,\\\"sdk_packages\\\":null,\\\"enable_onnx_compatible_models\\\":false,\\\"enable_split_onnx_featurizer_estimator_models\\\":false,\\\"vm_type\\\":\\\"STANDARD_D2_V2\\\",\\\"telemetry_verbosity\\\":20,\\\"send_telemetry\\\":true,\\\"enable_dnn\\\":false,\\\"scenario\\\":\\\"SDK-1.13.0\\\",\\\"environment_label\\\":null,\\\"force_text_dnn\\\":false,\\\"enable_feature_sweeping\\\":true,\\\"enable_early_stopping\\\":true,\\\"early_stopping_n_iters\\\":10,\\\"metrics\\\":null,\\\"enable_ensembling\\\":true,\\\"enable_stack_ensembling\\\":true,\\\"ensemble_iterations\\\":15,\\\"enable_tf\\\":false,\\\"enable_subsampling\\\":null,\\\"subsample_seed\\\":null,\\\"enable_nimbusml\\\":false,\\\"enable_streaming\\\":false,\\\"force_streaming\\\":false,\\\"track_child_runs\\\":true,\\\"allowed_private_models\\\":[],\\\"label_column_name\\\":\\\"Hazardous\\\",\\\"weight_column_name\\\":null,\\\"cv_split_column_names\\\":null,\\\"enable_local_managed\\\":false,\\\"_local_managed_run_id\\\":null,\\\"cost_mode\\\":1,\\\"lag_length\\\":0,\\\"metric_operation\\\":\\\"maximize\\\",\\\"preprocess\\\":true}\", \"DataPrepJsonString\": \"{\\\\\\\"training_data\\\\\\\": \\\\\\\"{\\\\\\\\\\\\\\\"blocks\\\\\\\\\\\\\\\": [{\\\\\\\\\\\\\\\"id\\\\\\\\\\\\\\\": \\\\\\\\\\\\\\\"d9c0f24e-fecb-4c10-bd51-cabe8aa41445\\\\\\\\\\\\\\\", \\\\\\\\\\\\\\\"type\\\\\\\\\\\\\\\": \\\\\\\\\\\\\\\"Microsoft.DPrep.GetDatastoreFilesBlock\\\\\\\\\\\\\\\", \\\\\\\\\\\\\\\"arguments\\\\\\\\\\\\\\\": {\\\\\\\\\\\\\\\"datastores\\\\\\\\\\\\\\\": [{\\\\\\\\\\\\\\\"datastoreName\\\\\\\\\\\\\\\": \\\\\\\\\\\\\\\"workspaceblobstore\\\\\\\\\\\\\\\", \\\\\\\\\\\\\\\"path\\\\\\\\\\\\\\\": \\\\\\\\\\\\\\\"managed-dataset/2e745193-889c-4d17-9f23-902ac60aa4c5/\\\\\\\\\\\\\\\", \\\\\\\\\\\\\\\"resourceGroup\\\\\\\\\\\\\\\": \\\\\\\\\\\\\\\"aml-quickstarts-137239\\\\\\\\\\\\\\\", \\\\\\\\\\\\\\\"subscription\\\\\\\\\\\\\\\": \\\\\\\\\\\\\\\"61c5c3f0-6dc7-4ed9-a7f3-c704b20e3b30\\\\\\\\\\\\\\\", \\\\\\\\\\\\\\\"workspaceName\\\\\\\\\\\\\\\": \\\\\\\\\\\\\\\"quick-starts-ws-137239\\\\\\\\\\\\\\\"}]}, \\\\\\\\\\\\\\\"localData\\\\\\\\\\\\\\\": {}, \\\\\\\\\\\\\\\"isEnabled\\\\\\\\\\\\\\\": true, \\\\\\\\\\\\\\\"name\\\\\\\\\\\\\\\": null, \\\\\\\\\\\\\\\"annotation\\\\\\\\\\\\\\\": null}, {\\\\\\\\\\\\\\\"id\\\\\\\\\\\\\\\": \\\\\\\\\\\\\\\"da6d8877-ea75-441f-8019-7944a7d53c37\\\\\\\\\\\\\\\", \\\\\\\\\\\\\\\"type\\\\\\\\\\\\\\\": \\\\\\\\\\\\\\\"Microsoft.DPrep.ReadParquetFileBlock\\\\\\\\\\\\\\\", \\\\\\\\\\\\\\\"arguments\\\\\\\\\\\\\\\": {\\\\\\\\\\\\\\\"preview\\\\\\\\\\\\\\\": false}, \\\\\\\\\\\\\\\"localData\\\\\\\\\\\\\\\": {}, \\\\\\\\\\\\\\\"isEnabled\\\\\\\\\\\\\\\": true, \\\\\\\\\\\\\\\"name\\\\\\\\\\\\\\\": null, \\\\\\\\\\\\\\\"annotation\\\\\\\\\\\\\\\": null}, {\\\\\\\\\\\\\\\"id\\\\\\\\\\\\\\\": \\\\\\\\\\\\\\\"5cb45b23-a9e1-4807-abd8-555b2a25eb9c\\\\\\\\\\\\\\\", \\\\\\\\\\\\\\\"type\\\\\\\\\\\\\\\": \\\\\\\\\\\\\\\"Microsoft.DPrep.DropColumnsBlock\\\\\\\\\\\\\\\", \\\\\\\\\\\\\\\"arguments\\\\\\\\\\\\\\\": {\\\\\\\\\\\\\\\"columns\\\\\\\\\\\\\\\": {\\\\\\\\\\\\\\\"type\\\\\\\\\\\\\\\": 0, \\\\\\\\\\\\\\\"details\\\\\\\\\\\\\\\": {\\\\\\\\\\\\\\\"selectedColumns\\\\\\\\\\\\\\\": [\\\\\\\\\\\\\\\"Path\\\\\\\\\\\\\\\"]}}}, \\\\\\\\\\\\\\\"localData\\\\\\\\\\\\\\\": {}, \\\\\\\\\\\\\\\"isEnabled\\\\\\\\\\\\\\\": true, \\\\\\\\\\\\\\\"name\\\\\\\\\\\\\\\": null, \\\\\\\\\\\\\\\"annotation\\\\\\\\\\\\\\\": null}], \\\\\\\\\\\\\\\"inspectors\\\\\\\\\\\\\\\": [], \\\\\\\\\\\\\\\"meta\\\\\\\\\\\\\\\": {\\\\\\\\\\\\\\\"savedDatasetId\\\\\\\\\\\\\\\": \\\\\\\\\\\\\\\"8b5e12bf-030c-4cf7-8022-fdc0d8561d0d\\\\\\\\\\\\\\\", \\\\\\\\\\\\\\\"datasetType\\\\\\\\\\\\\\\": \\\\\\\\\\\\\\\"tabular\\\\\\\\\\\\\\\", \\\\\\\\\\\\\\\"subscriptionId\\\\\\\\\\\\\\\": \\\\\\\\\\\\\\\"61c5c3f0-6dc7-4ed9-a7f3-c704b20e3b30\\\\\\\\\\\\\\\", \\\\\\\\\\\\\\\"workspaceId\\\\\\\\\\\\\\\": \\\\\\\\\\\\\\\"d002fa87-dd38-4360-823f-7a404f062385\\\\\\\\\\\\\\\", \\\\\\\\\\\\\\\"workspaceLocation\\\\\\\\\\\\\\\": \\\\\\\\\\\\\\\"southcentralus\\\\\\\\\\\\\\\"}}\\\\\\\", \\\\\\\"activities\\\\\\\": 0}\", \"EnableSubsampling\": null, \"runTemplate\": \"AutoML\", \"azureml.runsource\": \"automl\", \"display_task_type\": \"classification\", \"dependencies_versions\": \"{\\\"azureml-widgets\\\": \\\"1.20.0\\\", \\\"azureml-train\\\": \\\"1.20.0\\\", \\\"azureml-train-restclients-hyperdrive\\\": \\\"1.20.0\\\", \\\"azureml-train-core\\\": \\\"1.20.0\\\", \\\"azureml-train-automl\\\": \\\"1.20.0\\\", \\\"azureml-train-automl-runtime\\\": \\\"1.20.0\\\", \\\"azureml-train-automl-client\\\": \\\"1.20.0\\\", \\\"azureml-tensorboard\\\": \\\"1.20.0\\\", \\\"azureml-telemetry\\\": \\\"1.20.0\\\", \\\"azureml-sdk\\\": \\\"1.20.0\\\", \\\"azureml-samples\\\": \\\"0+unknown\\\", \\\"azureml-pipeline\\\": \\\"1.20.0\\\", \\\"azureml-pipeline-steps\\\": \\\"1.20.0\\\", \\\"azureml-pipeline-core\\\": \\\"1.20.0\\\", \\\"azureml-opendatasets\\\": \\\"1.20.0\\\", \\\"azureml-model-management-sdk\\\": \\\"1.0.1b6.post1\\\", \\\"azureml-mlflow\\\": \\\"1.20.0.post1\\\", \\\"azureml-interpret\\\": \\\"1.20.0\\\", \\\"azureml-explain-model\\\": \\\"1.20.0\\\", \\\"azureml-defaults\\\": \\\"1.20.0\\\", \\\"azureml-dataset-runtime\\\": \\\"1.20.0\\\", \\\"azureml-dataprep\\\": \\\"2.7.3\\\", \\\"azureml-dataprep-rslex\\\": \\\"1.5.0\\\", \\\"azureml-dataprep-native\\\": \\\"27.0.0\\\", \\\"azureml-datadrift\\\": \\\"1.20.0\\\", \\\"azureml-core\\\": \\\"1.20.0\\\", \\\"azureml-contrib-services\\\": \\\"1.20.0\\\", \\\"azureml-contrib-server\\\": \\\"1.20.0\\\", \\\"azureml-contrib-reinforcementlearning\\\": \\\"1.20.0\\\", \\\"azureml-contrib-pipeline-steps\\\": \\\"1.20.0\\\", \\\"azureml-contrib-notebook\\\": \\\"1.20.0\\\", \\\"azureml-contrib-interpret\\\": \\\"1.20.0\\\", \\\"azureml-contrib-gbdt\\\": \\\"1.20.0\\\", \\\"azureml-contrib-fairness\\\": \\\"1.20.0\\\", \\\"azureml-contrib-dataset\\\": \\\"1.20.0\\\", \\\"azureml-cli-common\\\": \\\"1.20.0\\\", \\\"azureml-automl-runtime\\\": \\\"1.20.0\\\", \\\"azureml-automl-core\\\": \\\"1.20.0\\\", \\\"azureml-accel-models\\\": \\\"1.20.0\\\"}\", \"_aml_system_scenario_identification\": \"Remote.Parent\", \"ClientType\": \"SDK\", \"environment_cpu_name\": \"AzureML-AutoML\", \"environment_cpu_label\": \"prod\", \"environment_gpu_name\": \"AzureML-AutoML-GPU\", \"environment_gpu_label\": \"prod\", \"root_attribution\": \"automl\", \"attribution\": \"AutoML\", \"Orchestrator\": \"AutoML\", \"CancelUri\": \"https://southcentralus.experiments.azureml.net/jasmine/v1.0/subscriptions/61c5c3f0-6dc7-4ed9-a7f3-c704b20e3b30/resourceGroups/aml-quickstarts-137239/providers/Microsoft.MachineLearningServices/workspaces/quick-starts-ws-137239/experimentids/926c356c-c3f0-4d50-9b05-0b1605d32902/cancel/AutoML_5af2e08d-eba9-459a-a547-7028c821b365\", \"ClientSdkVersion\": \"1.21.0\", \"snapshotId\": \"00000000-0000-0000-0000-000000000000\", \"SetupRunId\": \"AutoML_5af2e08d-eba9-459a-a547-7028c821b365_setup\", \"SetupRunContainerId\": \"dcid.AutoML_5af2e08d-eba9-459a-a547-7028c821b365_setup\", \"FeaturizationRunJsonPath\": \"featurizer_container.json\", \"FeaturizationRunId\": \"AutoML_5af2e08d-eba9-459a-a547-7028c821b365_featurize\", \"ProblemInfoJsonString\": \"{\\\"dataset_num_categorical\\\": 0, \\\"is_sparse\\\": true, \\\"subsampling\\\": false, \\\"dataset_classes\\\": 2, \\\"dataset_features\\\": 30, \\\"dataset_samples\\\": 4687, \\\"single_frequency_class_detected\\\": false}\", \"ModelExplainRunId\": \"AutoML_5af2e08d-eba9-459a-a547-7028c821b365_ModelExplain\"}, \"tags\": {\"model_explain_run\": \"best_run\", \"_aml_system_azureml.automlComponent\": \"AutoML\", \"pipeline_id\": \"\", \"score\": \"\", \"predicted_cost\": \"\", \"fit_time\": \"\", \"training_percent\": \"\", \"iteration\": \"\", \"run_preprocessor\": \"\", \"run_algorithm\": \"\", \"dynamic_whitelisting_iterations\": \"<25>;<30>;<35>;<40>;<45>;\", \"automl_best_child_run_id\": \"AutoML_5af2e08d-eba9-459a-a547-7028c821b365_49\", \"model_explain_best_run_child_id\": \"AutoML_5af2e08d-eba9-459a-a547-7028c821b365_49\"}, \"end_time_utc\": \"2021-02-04T16:20:36.103464Z\", \"status\": \"Completed\", \"log_files\": {}, \"log_groups\": [], \"run_duration\": \"0:25:10\"}, \"child_runs\": [{\"run_id\": \"AutoML_5af2e08d-eba9-459a-a547-7028c821b365_0\", \"run_number\": 6, \"metric\": null, \"status\": \"Completed\", \"run_type\": \"azureml.scriptrun\", \"training_percent\": \"100\", \"start_time\": \"2021-02-04T16:04:29.362615Z\", \"end_time\": \"2021-02-04T16:07:59.889636Z\", \"created_time\": \"2021-02-04T16:01:21.834001Z\", \"created_time_dt\": \"2021-02-04T16:01:21.834001Z\", \"duration\": \"0:06:38\", \"iteration\": \"0\", \"goal\": \"accuracy_max\", \"run_name\": \"MaxAbsScaler, LightGBM\", \"run_properties\": \"copy=True\", \"primary_metric\": 0.99594701, \"best_metric\": 0.99594701}, {\"run_id\": \"AutoML_5af2e08d-eba9-459a-a547-7028c821b365_2\", \"run_number\": 7, \"metric\": null, \"status\": \"Completed\", \"run_type\": \"azureml.scriptrun\", \"training_percent\": \"100\", \"start_time\": \"2021-02-04T16:01:34.131408Z\", \"end_time\": \"2021-02-04T16:02:28.8053Z\", \"created_time\": \"2021-02-04T16:01:21.852519Z\", \"created_time_dt\": \"2021-02-04T16:01:21.852519Z\", \"duration\": \"0:01:06\", \"iteration\": \"2\", \"goal\": \"accuracy_max\", \"run_name\": \"MaxAbsScaler, RandomForest\", \"run_properties\": \"copy=True\", \"primary_metric\": 0.9805845, \"best_metric\": 0.99594701}, {\"run_id\": \"AutoML_5af2e08d-eba9-459a-a547-7028c821b365_3\", \"run_number\": 8, \"metric\": null, \"status\": \"Completed\", \"run_type\": \"azureml.scriptrun\", \"training_percent\": \"100\", \"start_time\": \"2021-02-04T16:02:31.983998Z\", \"end_time\": \"2021-02-04T16:03:31.1593Z\", \"created_time\": \"2021-02-04T16:01:21.861723Z\", \"created_time_dt\": \"2021-02-04T16:01:21.861723Z\", \"duration\": \"0:02:09\", \"iteration\": \"3\", \"goal\": \"accuracy_max\", \"run_name\": \"MaxAbsScaler, RandomForest\", \"run_properties\": \"copy=True\", \"primary_metric\": 0.95306984, \"best_metric\": 0.99594701}, {\"run_id\": \"AutoML_5af2e08d-eba9-459a-a547-7028c821b365_4\", \"run_number\": 9, \"metric\": null, \"status\": \"Completed\", \"run_type\": \"azureml.scriptrun\", \"training_percent\": \"100\", \"start_time\": \"2021-02-04T16:04:30.188201Z\", \"end_time\": \"2021-02-04T16:07:53.19017Z\", \"created_time\": \"2021-02-04T16:01:22.1758Z\", \"created_time_dt\": \"2021-02-04T16:01:22.1758Z\", \"duration\": \"0:06:31\", \"iteration\": \"4\", \"goal\": \"accuracy_max\", \"run_name\": \"MaxAbsScaler, RandomForest\", \"run_properties\": \"copy=True\", \"primary_metric\": 0.99274553, \"best_metric\": 0.99594701}, {\"run_id\": \"AutoML_5af2e08d-eba9-459a-a547-7028c821b365_1\", \"run_number\": 10, \"metric\": null, \"status\": \"Completed\", \"run_type\": \"azureml.scriptrun\", \"training_percent\": \"100\", \"start_time\": \"2021-02-04T16:03:36.430593Z\", \"end_time\": \"2021-02-04T16:04:34.920882Z\", \"created_time\": \"2021-02-04T16:01:22.267714Z\", \"created_time_dt\": \"2021-02-04T16:01:22.267714Z\", \"duration\": \"0:03:12\", \"iteration\": \"1\", \"goal\": \"accuracy_max\", \"run_name\": \"MaxAbsScaler, XGBoostClassifier\", \"run_properties\": \"copy=True\", \"primary_metric\": 0.99509345, \"best_metric\": 0.99594701}, {\"run_id\": \"AutoML_5af2e08d-eba9-459a-a547-7028c821b365_5\", \"run_number\": 11, \"metric\": null, \"status\": \"Completed\", \"run_type\": \"azureml.scriptrun\", \"training_percent\": \"100\", \"start_time\": \"2021-02-04T16:04:33.674186Z\", \"end_time\": \"2021-02-04T16:08:03.242288Z\", \"created_time\": \"2021-02-04T16:02:32.187587Z\", \"created_time_dt\": \"2021-02-04T16:02:32.187587Z\", \"duration\": \"0:05:31\", \"iteration\": \"5\", \"goal\": \"accuracy_max\", \"run_name\": \"MaxAbsScaler, RandomForest\", \"run_properties\": \"copy=True\", \"primary_metric\": 0.94557552, \"best_metric\": 0.99594701}, {\"run_id\": \"AutoML_5af2e08d-eba9-459a-a547-7028c821b365_6\", \"run_number\": 12, \"metric\": null, \"status\": \"Completed\", \"run_type\": \"azureml.scriptrun\", \"training_percent\": \"100\", \"start_time\": \"2021-02-04T16:04:35.694359Z\", \"end_time\": \"2021-02-04T16:05:37.13316Z\", \"created_time\": \"2021-02-04T16:03:34.00118Z\", \"created_time_dt\": \"2021-02-04T16:03:34.00118Z\", \"duration\": \"0:02:03\", \"iteration\": \"6\", \"goal\": \"accuracy_max\", \"run_name\": \"SparseNormalizer, XGBoostClassifier\", \"run_properties\": \"<azureml.automl.runtime.shared.model_wrappers.SparseNormalizer object at 0x7f0f00075208\", \"primary_metric\": 0.98762666, \"best_metric\": 0.99594701}, {\"run_id\": \"AutoML_5af2e08d-eba9-459a-a547-7028c821b365_7\", \"run_number\": 13, \"metric\": null, \"status\": \"Completed\", \"run_type\": \"azureml.scriptrun\", \"training_percent\": \"100\", \"start_time\": \"2021-02-04T16:05:42.532782Z\", \"end_time\": \"2021-02-04T16:06:37.599366Z\", \"created_time\": \"2021-02-04T16:04:37.306486Z\", \"created_time_dt\": \"2021-02-04T16:04:37.306486Z\", \"duration\": \"0:02:00\", \"iteration\": \"7\", \"goal\": \"accuracy_max\", \"run_name\": \"MaxAbsScaler, LogisticRegression\", \"run_properties\": \"copy=True\", \"primary_metric\": 0.95071828, \"best_metric\": 0.99594701}, {\"run_id\": \"AutoML_5af2e08d-eba9-459a-a547-7028c821b365_8\", \"run_number\": 14, \"metric\": null, \"status\": \"Completed\", \"run_type\": \"azureml.scriptrun\", \"training_percent\": \"100\", \"start_time\": \"2021-02-04T16:06:38.845413Z\", \"end_time\": \"2021-02-04T16:07:39.632089Z\", \"created_time\": \"2021-02-04T16:05:39.933901Z\", \"created_time_dt\": \"2021-02-04T16:05:39.933901Z\", \"duration\": \"0:01:59\", \"iteration\": \"8\", \"goal\": \"accuracy_max\", \"run_name\": \"MaxAbsScaler, LogisticRegression\", \"run_properties\": \"copy=True\", \"primary_metric\": 0.94026528, \"best_metric\": 0.99594701}, {\"run_id\": \"AutoML_5af2e08d-eba9-459a-a547-7028c821b365_9\", \"run_number\": 15, \"metric\": null, \"status\": \"Completed\", \"run_type\": \"azureml.scriptrun\", \"training_percent\": \"100\", \"start_time\": \"2021-02-04T16:07:41.450515Z\", \"end_time\": \"2021-02-04T16:08:42.913822Z\", \"created_time\": \"2021-02-04T16:06:39.797881Z\", \"created_time_dt\": \"2021-02-04T16:06:39.797881Z\", \"duration\": \"0:02:03\", \"iteration\": \"9\", \"goal\": \"accuracy_max\", \"run_name\": \"MaxAbsScaler, LightGBM\", \"run_properties\": \"copy=True\", \"primary_metric\": 0.99381276, \"best_metric\": 0.99594701}, {\"run_id\": \"AutoML_5af2e08d-eba9-459a-a547-7028c821b365_10\", \"run_number\": 16, \"metric\": null, \"status\": \"Completed\", \"run_type\": \"azureml.scriptrun\", \"training_percent\": \"100\", \"start_time\": \"2021-02-04T16:07:56.40081Z\", \"end_time\": \"2021-02-04T16:09:13.574258Z\", \"created_time\": \"2021-02-04T16:07:42.283823Z\", \"created_time_dt\": \"2021-02-04T16:07:42.283823Z\", \"duration\": \"0:01:31\", \"iteration\": \"10\", \"goal\": \"accuracy_max\", \"run_name\": \"StandardScalerWrapper, RandomForest\", \"run_properties\": \"<azureml.automl.runtime.shared.model_wrappers.StandardScalerWrapper object at 0x7f35f03f5cc0\", \"primary_metric\": 0.99253253, \"best_metric\": 0.99594701}, {\"run_id\": \"AutoML_5af2e08d-eba9-459a-a547-7028c821b365_11\", \"run_number\": 17, \"metric\": null, \"status\": \"Completed\", \"run_type\": \"azureml.scriptrun\", \"training_percent\": \"100\", \"start_time\": \"2021-02-04T16:08:12.772625Z\", \"end_time\": \"2021-02-04T16:09:05.203887Z\", \"created_time\": \"2021-02-04T16:07:56.478764Z\", \"created_time_dt\": \"2021-02-04T16:07:56.478764Z\", \"duration\": \"0:01:08\", \"iteration\": \"11\", \"goal\": \"accuracy_max\", \"run_name\": \"MaxAbsScaler, LightGBM\", \"run_properties\": \"copy=True\", \"primary_metric\": 0.83977513, \"best_metric\": 0.99594701}, {\"run_id\": \"AutoML_5af2e08d-eba9-459a-a547-7028c821b365_12\", \"run_number\": 18, \"metric\": null, \"status\": \"Completed\", \"run_type\": \"azureml.scriptrun\", \"training_percent\": \"100\", \"start_time\": \"2021-02-04T16:08:24.340892Z\", \"end_time\": \"2021-02-04T16:09:12.254554Z\", \"created_time\": \"2021-02-04T16:08:11.626287Z\", \"created_time_dt\": \"2021-02-04T16:08:11.626287Z\", \"duration\": \"0:01:00\", \"iteration\": \"12\", \"goal\": \"accuracy_max\", \"run_name\": \"SparseNormalizer, LightGBM\", \"run_properties\": \"<azureml.automl.runtime.shared.model_wrappers.SparseNormalizer object at 0x7f211d7f33c8\", \"primary_metric\": 0.97140991, \"best_metric\": 0.99594701}, {\"run_id\": \"AutoML_5af2e08d-eba9-459a-a547-7028c821b365_13\", \"run_number\": 19, \"metric\": null, \"status\": \"Completed\", \"run_type\": \"azureml.scriptrun\", \"training_percent\": \"100\", \"start_time\": \"2021-02-04T16:08:43.460083Z\", \"end_time\": \"2021-02-04T16:09:36.747218Z\", \"created_time\": \"2021-02-04T16:08:17.1514Z\", \"created_time_dt\": \"2021-02-04T16:08:17.1514Z\", \"duration\": \"0:01:19\", \"iteration\": \"13\", \"goal\": \"accuracy_max\", \"run_name\": \"MaxAbsScaler, LightGBM\", \"run_properties\": \"copy=True\", \"primary_metric\": 0.99423988, \"best_metric\": 0.99594701}, {\"run_id\": \"AutoML_5af2e08d-eba9-459a-a547-7028c821b365_14\", \"run_number\": 20, \"metric\": null, \"status\": \"Completed\", \"run_type\": \"azureml.scriptrun\", \"training_percent\": \"100\", \"start_time\": \"2021-02-04T16:09:06.958522Z\", \"end_time\": \"2021-02-04T16:10:17.999173Z\", \"created_time\": \"2021-02-04T16:08:45.833802Z\", \"created_time_dt\": \"2021-02-04T16:08:45.833802Z\", \"duration\": \"0:01:32\", \"iteration\": \"14\", \"goal\": \"accuracy_max\", \"run_name\": \"MaxAbsScaler, LightGBM\", \"run_properties\": \"copy=True\", \"primary_metric\": 0.88543189, \"best_metric\": 0.99594701}, {\"run_id\": \"AutoML_5af2e08d-eba9-459a-a547-7028c821b365_15\", \"run_number\": 21, \"metric\": null, \"status\": \"Completed\", \"run_type\": \"azureml.scriptrun\", \"training_percent\": \"100\", \"start_time\": \"2021-02-04T16:09:18.411361Z\", \"end_time\": \"2021-02-04T16:10:14.949989Z\", \"created_time\": \"2021-02-04T16:09:07.069279Z\", \"created_time_dt\": \"2021-02-04T16:09:07.069279Z\", \"duration\": \"0:01:07\", \"iteration\": \"15\", \"goal\": \"accuracy_max\", \"run_name\": \"SparseNormalizer, XGBoostClassifier\", \"run_properties\": \"<azureml.automl.runtime.shared.model_wrappers.SparseNormalizer object at 0x7f95aea7da90\", \"primary_metric\": 0.9872, \"best_metric\": 0.99594701}, {\"run_id\": \"AutoML_5af2e08d-eba9-459a-a547-7028c821b365_16\", \"run_number\": 22, \"metric\": null, \"status\": \"Completed\", \"run_type\": \"azureml.scriptrun\", \"training_percent\": \"100\", \"start_time\": \"2021-02-04T16:09:23.821754Z\", \"end_time\": \"2021-02-04T16:10:20.732126Z\", \"created_time\": \"2021-02-04T16:09:13.89778Z\", \"created_time_dt\": \"2021-02-04T16:09:13.89778Z\", \"duration\": \"0:01:06\", \"iteration\": \"16\", \"goal\": \"accuracy_max\", \"run_name\": \"MaxAbsScaler, LightGBM\", \"run_properties\": \"copy=True\", \"primary_metric\": 0.87625776, \"best_metric\": 0.99594701}, {\"run_id\": \"AutoML_5af2e08d-eba9-459a-a547-7028c821b365_17\", \"run_number\": 23, \"metric\": null, \"status\": \"Completed\", \"run_type\": \"azureml.scriptrun\", \"training_percent\": \"100\", \"start_time\": \"2021-02-04T16:09:36.636702Z\", \"end_time\": \"2021-02-04T16:10:29.474098Z\", \"created_time\": \"2021-02-04T16:09:16.697874Z\", \"created_time_dt\": \"2021-02-04T16:09:16.697874Z\", \"duration\": \"0:01:12\", \"iteration\": \"17\", \"goal\": \"accuracy_max\", \"run_name\": \"SparseNormalizer, XGBoostClassifier\", \"run_properties\": \"<azureml.automl.runtime.shared.model_wrappers.SparseNormalizer object at 0x7fe656de5e10\", \"primary_metric\": 0.98890735, \"best_metric\": 0.99594701}, {\"run_id\": \"AutoML_5af2e08d-eba9-459a-a547-7028c821b365_18\", \"run_number\": 24, \"metric\": null, \"status\": \"Completed\", \"run_type\": \"azureml.scriptrun\", \"training_percent\": \"100\", \"start_time\": \"2021-02-04T16:10:18.801209Z\", \"end_time\": \"2021-02-04T16:11:23.651577Z\", \"created_time\": \"2021-02-04T16:09:38.433301Z\", \"created_time_dt\": \"2021-02-04T16:09:38.433301Z\", \"duration\": \"0:01:45\", \"iteration\": \"18\", \"goal\": \"accuracy_max\", \"run_name\": \"SparseNormalizer, XGBoostClassifier\", \"run_properties\": \"<azureml.automl.runtime.shared.model_wrappers.SparseNormalizer object at 0x7f34795580f0\", \"primary_metric\": 0.98613413, \"best_metric\": 0.99594701}, {\"run_id\": \"AutoML_5af2e08d-eba9-459a-a547-7028c821b365_19\", \"run_number\": 25, \"metric\": null, \"status\": \"Completed\", \"run_type\": \"azureml.scriptrun\", \"training_percent\": \"100\", \"start_time\": \"2021-02-04T16:10:28.844925Z\", \"end_time\": \"2021-02-04T16:11:11.777682Z\", \"created_time\": \"2021-02-04T16:10:16.800549Z\", \"created_time_dt\": \"2021-02-04T16:10:16.800549Z\", \"duration\": \"0:00:54\", \"iteration\": \"19\", \"goal\": \"accuracy_max\", \"run_name\": \"StandardScalerWrapper, LightGBM\", \"run_properties\": \"<azureml.automl.runtime.shared.model_wrappers.StandardScalerWrapper object at 0x7f53b7565f60\", \"primary_metric\": 0.99424034, \"best_metric\": 0.99594701}, {\"run_id\": \"AutoML_5af2e08d-eba9-459a-a547-7028c821b365_20\", \"run_number\": 26, \"metric\": null, \"status\": \"Completed\", \"run_type\": \"azureml.scriptrun\", \"training_percent\": \"100\", \"start_time\": \"2021-02-04T16:10:32.4125Z\", \"end_time\": \"2021-02-04T16:11:17.555445Z\", \"created_time\": \"2021-02-04T16:10:20.294783Z\", \"created_time_dt\": \"2021-02-04T16:10:20.294783Z\", \"duration\": \"0:00:57\", \"iteration\": \"20\", \"goal\": \"accuracy_max\", \"run_name\": \"StandardScalerWrapper, LightGBM\", \"run_properties\": \"<azureml.automl.runtime.shared.model_wrappers.StandardScalerWrapper object at 0x7f408933a400\", \"primary_metric\": 0.84148225, \"best_metric\": 0.99594701}, {\"run_id\": \"AutoML_5af2e08d-eba9-459a-a547-7028c821b365_21\", \"run_number\": 27, \"metric\": null, \"status\": \"Completed\", \"run_type\": \"azureml.scriptrun\", \"training_percent\": \"100\", \"start_time\": \"2021-02-04T16:10:37.815822Z\", \"end_time\": \"2021-02-04T16:11:30.170477Z\", \"created_time\": \"2021-02-04T16:10:25.563781Z\", \"created_time_dt\": \"2021-02-04T16:10:25.563781Z\", \"duration\": \"0:01:04\", \"iteration\": \"21\", \"goal\": \"accuracy_max\", \"run_name\": \"StandardScalerWrapper, RandomForest\", \"run_properties\": \"<azureml.automl.runtime.shared.model_wrappers.StandardScalerWrapper object at 0x7f7ab81e7f60\", \"primary_metric\": 0.97397242, \"best_metric\": 0.99594701}, {\"run_id\": \"AutoML_5af2e08d-eba9-459a-a547-7028c821b365_22\", \"run_number\": 28, \"metric\": null, \"status\": \"Completed\", \"run_type\": \"azureml.scriptrun\", \"training_percent\": \"100\", \"start_time\": \"2021-02-04T16:11:15.091725Z\", \"end_time\": \"2021-02-04T16:12:07.07781Z\", \"created_time\": \"2021-02-04T16:10:31.303112Z\", \"created_time_dt\": \"2021-02-04T16:10:31.303112Z\", \"duration\": \"0:01:35\", \"iteration\": \"22\", \"goal\": \"accuracy_max\", \"run_name\": \"MaxAbsScaler, LightGBM\", \"run_properties\": \"copy=True\", \"primary_metric\": 0.99466632, \"best_metric\": 0.99594701}, {\"run_id\": \"AutoML_5af2e08d-eba9-459a-a547-7028c821b365_23\", \"run_number\": 29, \"metric\": null, \"status\": \"Completed\", \"run_type\": \"azureml.scriptrun\", \"training_percent\": \"100\", \"start_time\": \"2021-02-04T16:11:27.540977Z\", \"end_time\": \"2021-02-04T16:12:13.871889Z\", \"created_time\": \"2021-02-04T16:11:13.610832Z\", \"created_time_dt\": \"2021-02-04T16:11:13.610832Z\", \"duration\": \"0:01:00\", \"iteration\": \"23\", \"goal\": \"accuracy_max\", \"run_name\": \"MaxAbsScaler, LightGBM\", \"run_properties\": \"copy=True\", \"primary_metric\": 0.99423966, \"best_metric\": 0.99594701}, {\"run_id\": \"AutoML_5af2e08d-eba9-459a-a547-7028c821b365_24\", \"run_number\": 30, \"metric\": null, \"status\": \"Completed\", \"run_type\": \"azureml.scriptrun\", \"training_percent\": \"100\", \"start_time\": \"2021-02-04T16:11:31.755329Z\", \"end_time\": \"2021-02-04T16:12:33.269656Z\", \"created_time\": \"2021-02-04T16:11:19.396995Z\", \"created_time_dt\": \"2021-02-04T16:11:19.396995Z\", \"duration\": \"0:01:13\", \"iteration\": \"24\", \"goal\": \"accuracy_max\", \"run_name\": \"MaxAbsScaler, LightGBM\", \"run_properties\": \"copy=True\", \"primary_metric\": 0.99210746, \"best_metric\": 0.99594701}, {\"run_id\": \"AutoML_5af2e08d-eba9-459a-a547-7028c821b365_25\", \"run_number\": 31, \"metric\": null, \"status\": \"Completed\", \"run_type\": \"azureml.scriptrun\", \"training_percent\": \"100\", \"start_time\": \"2021-02-04T16:11:36.481967Z\", \"end_time\": \"2021-02-04T16:12:39.213244Z\", \"created_time\": \"2021-02-04T16:11:26.431062Z\", \"created_time_dt\": \"2021-02-04T16:11:26.431062Z\", \"duration\": \"0:01:12\", \"iteration\": \"25\", \"goal\": \"accuracy_max\", \"run_name\": \"SparseNormalizer, LightGBM\", \"run_properties\": \"<azureml.automl.runtime.shared.model_wrappers.SparseNormalizer object at 0x7f80ae5d6b00\", \"primary_metric\": 0.94495612, \"best_metric\": 0.99594701}, {\"run_id\": \"AutoML_5af2e08d-eba9-459a-a547-7028c821b365_26\", \"run_number\": 32, \"metric\": null, \"status\": \"Completed\", \"run_type\": \"azureml.scriptrun\", \"training_percent\": \"100\", \"start_time\": \"2021-02-04T16:12:08.256716Z\", \"end_time\": \"2021-02-04T16:13:05.184914Z\", \"created_time\": \"2021-02-04T16:11:32.554965Z\", \"created_time_dt\": \"2021-02-04T16:11:32.554965Z\", \"duration\": \"0:01:32\", \"iteration\": \"26\", \"goal\": \"accuracy_max\", \"run_name\": \"SparseNormalizer, XGBoostClassifier\", \"run_properties\": \"<azureml.automl.runtime.shared.model_wrappers.SparseNormalizer object at 0x7f55b4127ef0\", \"primary_metric\": 0.98720091, \"best_metric\": 0.99594701}, {\"run_id\": \"AutoML_5af2e08d-eba9-459a-a547-7028c821b365_27\", \"run_number\": 33, \"metric\": null, \"status\": \"Completed\", \"run_type\": \"azureml.scriptrun\", \"training_percent\": \"100\", \"start_time\": \"2021-02-04T16:12:19.378735Z\", \"end_time\": \"2021-02-04T16:13:25.53825Z\", \"created_time\": \"2021-02-04T16:12:08.980957Z\", \"created_time_dt\": \"2021-02-04T16:12:08.980957Z\", \"duration\": \"0:01:16\", \"iteration\": \"27\", \"goal\": \"accuracy_max\", \"run_name\": \"SparseNormalizer, XGBoostClassifier\", \"run_properties\": \"<azureml.automl.runtime.shared.model_wrappers.SparseNormalizer object at 0x7f067ae39f98\", \"primary_metric\": 0.98826723, \"best_metric\": 0.99594701}, {\"run_id\": \"AutoML_5af2e08d-eba9-459a-a547-7028c821b365_28\", \"run_number\": 34, \"metric\": null, \"status\": \"Completed\", \"run_type\": \"azureml.scriptrun\", \"training_percent\": \"100\", \"start_time\": \"2021-02-04T16:12:38.021454Z\", \"end_time\": \"2021-02-04T16:13:33.400535Z\", \"created_time\": \"2021-02-04T16:12:15.54954Z\", \"created_time_dt\": \"2021-02-04T16:12:15.54954Z\", \"duration\": \"0:01:17\", \"iteration\": \"28\", \"goal\": \"accuracy_max\", \"run_name\": \"SparseNormalizer, XGBoostClassifier\", \"run_properties\": \"<azureml.automl.runtime.shared.model_wrappers.SparseNormalizer object at 0x7f111e138438\", \"primary_metric\": 0.98890666, \"best_metric\": 0.99594701}, {\"run_id\": \"AutoML_5af2e08d-eba9-459a-a547-7028c821b365_29\", \"run_number\": 35, \"metric\": null, \"status\": \"Completed\", \"run_type\": \"azureml.scriptrun\", \"training_percent\": \"100\", \"start_time\": \"2021-02-04T16:12:46.953793Z\", \"end_time\": \"2021-02-04T16:13:47.071153Z\", \"created_time\": \"2021-02-04T16:12:35.194233Z\", \"created_time_dt\": \"2021-02-04T16:12:35.194233Z\", \"duration\": \"0:01:11\", \"iteration\": \"29\", \"goal\": \"accuracy_max\", \"run_name\": \"MaxAbsScaler, RandomForest\", \"run_properties\": \"copy=True\", \"primary_metric\": 0.99167875, \"best_metric\": 0.99594701}, {\"run_id\": \"AutoML_5af2e08d-eba9-459a-a547-7028c821b365_30\", \"run_number\": 36, \"metric\": null, \"status\": \"Completed\", \"run_type\": \"azureml.scriptrun\", \"training_percent\": \"100\", \"start_time\": \"2021-02-04T16:13:08.044786Z\", \"end_time\": \"2021-02-04T16:13:59.264154Z\", \"created_time\": \"2021-02-04T16:12:41.835591Z\", \"created_time_dt\": \"2021-02-04T16:12:41.835591Z\", \"duration\": \"0:01:17\", \"iteration\": \"30\", \"goal\": \"accuracy_max\", \"run_name\": \"MaxAbsScaler, LightGBM\", \"run_properties\": \"copy=True\", \"primary_metric\": 0.99615954, \"best_metric\": 0.99615954}, {\"run_id\": \"AutoML_5af2e08d-eba9-459a-a547-7028c821b365_31\", \"run_number\": 37, \"metric\": null, \"status\": \"Completed\", \"run_type\": \"azureml.scriptrun\", \"training_percent\": \"100\", \"start_time\": \"2021-02-04T16:13:30.791569Z\", \"end_time\": \"2021-02-04T16:14:29.672105Z\", \"created_time\": \"2021-02-04T16:13:07.197256Z\", \"created_time_dt\": \"2021-02-04T16:13:07.197256Z\", \"duration\": \"0:01:22\", \"iteration\": \"31\", \"goal\": \"accuracy_max\", \"run_name\": \"StandardScalerWrapper, ExtremeRandomTrees\", \"run_properties\": \"<azureml.automl.runtime.shared.model_wrappers.StandardScalerWrapper object at 0x7fca98a35080\", \"primary_metric\": 0.8371926, \"best_metric\": 0.99615954}, {\"run_id\": \"AutoML_5af2e08d-eba9-459a-a547-7028c821b365_32\", \"run_number\": 38, \"metric\": null, \"status\": \"Completed\", \"run_type\": \"azureml.scriptrun\", \"training_percent\": \"100\", \"start_time\": \"2021-02-04T16:13:40.237815Z\", \"end_time\": \"2021-02-04T16:14:39.567552Z\", \"created_time\": \"2021-02-04T16:13:27.480374Z\", \"created_time_dt\": \"2021-02-04T16:13:27.480374Z\", \"duration\": \"0:01:12\", \"iteration\": \"32\", \"goal\": \"accuracy_max\", \"run_name\": \"MaxAbsScaler, GradientBoosting\", \"run_properties\": \"copy=True\", \"primary_metric\": 0.94687964, \"best_metric\": 0.99615954}, {\"run_id\": \"AutoML_5af2e08d-eba9-459a-a547-7028c821b365_33\", \"run_number\": 39, \"metric\": null, \"status\": \"Completed\", \"run_type\": \"azureml.scriptrun\", \"training_percent\": \"100\", \"start_time\": \"2021-02-04T16:13:50.249962Z\", \"end_time\": \"2021-02-04T16:14:49.82323Z\", \"created_time\": \"2021-02-04T16:13:35.293762Z\", \"created_time_dt\": \"2021-02-04T16:13:35.293762Z\", \"duration\": \"0:01:14\", \"iteration\": \"33\", \"goal\": \"accuracy_max\", \"run_name\": \"MaxAbsScaler, GradientBoosting\", \"run_properties\": \"copy=True\", \"primary_metric\": 0.99402621, \"best_metric\": 0.99615954}, {\"run_id\": \"AutoML_5af2e08d-eba9-459a-a547-7028c821b365_34\", \"run_number\": 40, \"metric\": null, \"status\": \"Completed\", \"run_type\": \"azureml.scriptrun\", \"training_percent\": \"100\", \"start_time\": \"2021-02-04T16:14:01.178303Z\", \"end_time\": \"2021-02-04T16:14:55.844134Z\", \"created_time\": \"2021-02-04T16:13:49.060397Z\", \"created_time_dt\": \"2021-02-04T16:13:49.060397Z\", \"duration\": \"0:01:06\", \"iteration\": \"34\", \"goal\": \"accuracy_max\", \"run_name\": \"StandardScalerWrapper, XGBoostClassifier\", \"run_properties\": \"<azureml.automl.runtime.shared.model_wrappers.StandardScalerWrapper object at 0x7f5ccb92a780\", \"primary_metric\": 0.99423966, \"best_metric\": 0.99615954}, {\"run_id\": \"AutoML_5af2e08d-eba9-459a-a547-7028c821b365_35\", \"run_number\": 41, \"metric\": null, \"status\": \"Completed\", \"run_type\": \"azureml.scriptrun\", \"training_percent\": \"100\", \"start_time\": \"2021-02-04T16:14:31.894429Z\", \"end_time\": \"2021-02-04T16:15:40.848599Z\", \"created_time\": \"2021-02-04T16:14:02.39229Z\", \"created_time_dt\": \"2021-02-04T16:14:02.39229Z\", \"duration\": \"0:01:38\", \"iteration\": \"35\", \"goal\": \"accuracy_max\", \"run_name\": \"StandardScalerWrapper, LightGBM\", \"run_properties\": \"<azureml.automl.runtime.shared.model_wrappers.StandardScalerWrapper object at 0x7fbd70eaceb8\", \"primary_metric\": 0.85407017, \"best_metric\": 0.99615954}, {\"run_id\": \"AutoML_5af2e08d-eba9-459a-a547-7028c821b365_36\", \"run_number\": 42, \"metric\": null, \"status\": \"Completed\", \"run_type\": \"azureml.scriptrun\", \"training_percent\": \"100\", \"start_time\": \"2021-02-04T16:14:44.470232Z\", \"end_time\": \"2021-02-04T16:15:33.61707Z\", \"created_time\": \"2021-02-04T16:14:31.309689Z\", \"created_time_dt\": \"2021-02-04T16:14:31.309689Z\", \"duration\": \"0:01:02\", \"iteration\": \"36\", \"goal\": \"accuracy_max\", \"run_name\": \"MaxAbsScaler, RandomForest\", \"run_properties\": \"copy=True\", \"primary_metric\": 0.84254903, \"best_metric\": 0.99615954}, {\"run_id\": \"AutoML_5af2e08d-eba9-459a-a547-7028c821b365_37\", \"run_number\": 43, \"metric\": null, \"status\": \"Completed\", \"run_type\": \"azureml.scriptrun\", \"training_percent\": \"100\", \"start_time\": \"2021-02-04T16:14:54.906757Z\", \"end_time\": \"2021-02-04T16:15:53.009482Z\", \"created_time\": \"2021-02-04T16:14:42.249136Z\", \"created_time_dt\": \"2021-02-04T16:14:42.249136Z\", \"duration\": \"0:01:10\", \"iteration\": \"37\", \"goal\": \"accuracy_max\", \"run_name\": \"SparseNormalizer, XGBoostClassifier\", \"run_properties\": \"<azureml.automl.runtime.shared.model_wrappers.SparseNormalizer object at 0x7efcffdcaf60\", \"primary_metric\": 0.9874139, \"best_metric\": 0.99615954}, {\"run_id\": \"AutoML_5af2e08d-eba9-459a-a547-7028c821b365_38\", \"run_number\": 44, \"metric\": null, \"status\": \"Completed\", \"run_type\": \"azureml.scriptrun\", \"training_percent\": \"100\", \"start_time\": \"2021-02-04T16:15:03.219035Z\", \"end_time\": \"2021-02-04T16:16:04.146084Z\", \"created_time\": \"2021-02-04T16:14:51.579779Z\", \"created_time_dt\": \"2021-02-04T16:14:51.579779Z\", \"duration\": \"0:01:12\", \"iteration\": \"38\", \"goal\": \"accuracy_max\", \"run_name\": \"StandardScalerWrapper, XGBoostClassifier\", \"run_properties\": \"<azureml.automl.runtime.shared.model_wrappers.StandardScalerWrapper object at 0x7ff1992d5fd0\", \"primary_metric\": 0.99402598, \"best_metric\": 0.99615954}, {\"run_id\": \"AutoML_5af2e08d-eba9-459a-a547-7028c821b365_39\", \"run_number\": 45, \"metric\": null, \"status\": \"Completed\", \"run_type\": \"azureml.scriptrun\", \"training_percent\": \"100\", \"start_time\": \"2021-02-04T16:15:39.169475Z\", \"end_time\": \"2021-02-04T16:16:57.418884Z\", \"created_time\": \"2021-02-04T16:14:57.697696Z\", \"created_time_dt\": \"2021-02-04T16:14:57.697696Z\", \"duration\": \"0:01:59\", \"iteration\": \"39\", \"goal\": \"accuracy_max\", \"run_name\": \"MaxAbsScaler, RandomForest\", \"run_properties\": \"copy=True\", \"primary_metric\": 0.99274621, \"best_metric\": 0.99615954}, {\"run_id\": \"AutoML_5af2e08d-eba9-459a-a547-7028c821b365_40\", \"run_number\": 46, \"metric\": null, \"status\": \"Completed\", \"run_type\": \"azureml.scriptrun\", \"training_percent\": \"100\", \"start_time\": \"2021-02-04T16:15:48.593207Z\", \"end_time\": \"2021-02-04T16:16:53.531269Z\", \"created_time\": \"2021-02-04T16:15:36.595816Z\", \"created_time_dt\": \"2021-02-04T16:15:36.595816Z\", \"duration\": \"0:01:16\", \"iteration\": \"40\", \"goal\": \"accuracy_max\", \"run_name\": \"SparseNormalizer, LightGBM\", \"run_properties\": \"<azureml.automl.runtime.shared.model_wrappers.SparseNormalizer object at 0x7fe497353668\", \"primary_metric\": 0.97375897, \"best_metric\": 0.99615954}, {\"run_id\": \"AutoML_5af2e08d-eba9-459a-a547-7028c821b365_41\", \"run_number\": 47, \"metric\": null, \"status\": \"Completed\", \"run_type\": \"azureml.scriptrun\", \"training_percent\": \"100\", \"start_time\": \"2021-02-04T16:15:57.134868Z\", \"end_time\": \"2021-02-04T16:17:00.568801Z\", \"created_time\": \"2021-02-04T16:15:42.462212Z\", \"created_time_dt\": \"2021-02-04T16:15:42.462212Z\", \"duration\": \"0:01:18\", \"iteration\": \"41\", \"goal\": \"accuracy_max\", \"run_name\": \"SparseNormalizer, XGBoostClassifier\", \"run_properties\": \"<azureml.automl.runtime.shared.model_wrappers.SparseNormalizer object at 0x7f4ce45e20f0\", \"primary_metric\": 0.988267, \"best_metric\": 0.99615954}, {\"run_id\": \"AutoML_5af2e08d-eba9-459a-a547-7028c821b365_42\", \"run_number\": 48, \"metric\": null, \"status\": \"Completed\", \"run_type\": \"azureml.scriptrun\", \"training_percent\": \"100\", \"start_time\": \"2021-02-04T16:16:10.047148Z\", \"end_time\": \"2021-02-04T16:16:59.884267Z\", \"created_time\": \"2021-02-04T16:15:55.340529Z\", \"created_time_dt\": \"2021-02-04T16:15:55.340529Z\", \"duration\": \"0:01:04\", \"iteration\": \"42\", \"goal\": \"accuracy_max\", \"run_name\": \"MaxAbsScaler, LightGBM\", \"run_properties\": \"copy=True\", \"primary_metric\": 0.9889053, \"best_metric\": 0.99615954}, {\"run_id\": \"AutoML_5af2e08d-eba9-459a-a547-7028c821b365_43\", \"run_number\": 49, \"metric\": null, \"status\": \"Completed\", \"run_type\": \"azureml.scriptrun\", \"training_percent\": \"100\", \"start_time\": \"2021-02-04T16:16:53.734408Z\", \"end_time\": \"2021-02-04T16:17:53.835033Z\", \"created_time\": \"2021-02-04T16:16:06.139025Z\", \"created_time_dt\": \"2021-02-04T16:16:06.139025Z\", \"duration\": \"0:01:47\", \"iteration\": \"43\", \"goal\": \"accuracy_max\", \"run_name\": \"SparseNormalizer, XGBoostClassifier\", \"run_properties\": \"<azureml.automl.runtime.shared.model_wrappers.SparseNormalizer object at 0x7f93a7c9d080\", \"primary_metric\": 0.98741322, \"best_metric\": 0.99615954}, {\"run_id\": \"AutoML_5af2e08d-eba9-459a-a547-7028c821b365_44\", \"run_number\": 50, \"metric\": null, \"status\": \"Canceled\", \"run_type\": \"azureml.scriptrun\", \"training_percent\": \"100\", \"start_time\": \"2021-02-04T16:17:11.327665Z\", \"end_time\": \"2021-02-04T16:18:14.531012Z\", \"created_time\": \"2021-02-04T16:16:56.978851Z\", \"created_time_dt\": \"2021-02-04T16:16:56.978851Z\", \"duration\": \"0:01:17\", \"iteration\": \"44\", \"goal\": \"accuracy_max\", \"run_name\": \"StandardScalerWrapper, XGBoostClassifier\", \"run_properties\": \"<azureml.automl.runtime.shared.model_wrappers.StandardScalerWrapper object at 0x7f3e62defe10\", \"primary_metric\": 0.9921061, \"best_metric\": 0.99615954}, {\"run_id\": \"AutoML_5af2e08d-eba9-459a-a547-7028c821b365_46\", \"run_number\": 51, \"metric\": null, \"status\": \"Canceled\", \"run_type\": \"azureml.scriptrun\", \"training_percent\": \"100\", \"start_time\": \"2021-02-04T16:17:23.017289Z\", \"end_time\": \"2021-02-04T16:18:16.562691Z\", \"created_time\": \"2021-02-04T16:17:11.014484Z\", \"created_time_dt\": \"2021-02-04T16:17:11.014484Z\", \"duration\": \"0:01:05\", \"iteration\": \"46\", \"goal\": \"accuracy_max\", \"run_name\": \"StandardScalerWrapper, XGBoostClassifier\", \"run_properties\": \"<azureml.automl.runtime.shared.model_wrappers.StandardScalerWrapper object at 0x7f59ba2d9400\", \"primary_metric\": 0.99359977, \"best_metric\": 0.99615954}, {\"run_id\": \"AutoML_5af2e08d-eba9-459a-a547-7028c821b365_47\", \"run_number\": 52, \"metric\": null, \"status\": \"Canceled\", \"run_type\": \"azureml.scriptrun\", \"training_percent\": \"100\", \"start_time\": \"2021-02-04T16:17:55.739269Z\", \"end_time\": \"2021-02-04T16:18:21.133571Z\", \"created_time\": \"2021-02-04T16:17:11.069274Z\", \"created_time_dt\": \"2021-02-04T16:17:11.069274Z\", \"duration\": \"0:01:10\", \"iteration\": \"47\", \"goal\": null, \"run_name\": \"Canceled\", \"run_properties\": null}, {\"run_id\": \"AutoML_5af2e08d-eba9-459a-a547-7028c821b365_45\", \"run_number\": 53, \"metric\": null, \"status\": \"Completed\", \"run_type\": \"azureml.scriptrun\", \"training_percent\": \"100\", \"start_time\": \"2021-02-04T16:17:22.755214Z\", \"end_time\": \"2021-02-04T16:18:10.7087Z\", \"created_time\": \"2021-02-04T16:17:11.213626Z\", \"created_time_dt\": \"2021-02-04T16:17:11.213626Z\", \"duration\": \"0:00:59\", \"iteration\": \"45\", \"goal\": \"accuracy_max\", \"run_name\": \"StandardScalerWrapper, LightGBM\", \"run_properties\": \"<azureml.automl.runtime.shared.model_wrappers.StandardScalerWrapper object at 0x7f44f5b89ef0\", \"primary_metric\": 0.99423966, \"best_metric\": 0.99615954}, {\"run_id\": \"AutoML_5af2e08d-eba9-459a-a547-7028c821b365_48\", \"run_number\": 54, \"metric\": null, \"status\": \"Canceled\", \"run_type\": \"azureml.scriptrun\", \"training_percent\": \"100\", \"start_time\": \"2021-02-04T16:17:55.535938Z\", \"end_time\": \"2021-02-04T16:18:19.565531Z\", \"created_time\": \"2021-02-04T16:17:55.535938Z\", \"created_time_dt\": \"2021-02-04T16:17:55.535938Z\", \"duration\": \"0:00:24\", \"iteration\": \"48\", \"goal\": null, \"run_name\": \"Canceled\", \"run_properties\": null}, {\"run_id\": \"AutoML_5af2e08d-eba9-459a-a547-7028c821b365_49\", \"run_number\": 55, \"metric\": null, \"status\": \"Completed\", \"run_type\": \"azureml.scriptrun\", \"training_percent\": \"100\", \"start_time\": \"2021-02-04T16:18:37.378049Z\", \"end_time\": \"2021-02-04T16:20:27.493605Z\", \"created_time\": \"2021-02-04T16:18:23.756719Z\", \"created_time_dt\": \"2021-02-04T16:18:23.756719Z\", \"duration\": \"0:02:03\", \"iteration\": \"49\", \"goal\": \"accuracy_max\", \"run_name\": \"VotingEnsemble\", \"run_properties\": \"classification_labels=None,\\n                              estimators=[('30',\\n                                           Pipeline(memory=None,\\n                                                    steps=[('maxabsscaler',\\n                                                            MaxAbsScaler(copy=True\", \"primary_metric\": 0.99637367, \"best_metric\": 0.99637367}, {\"run_id\": \"AutoML_5af2e08d-eba9-459a-a547-7028c821b365_50\", \"run_number\": 56, \"metric\": null, \"status\": \"Completed\", \"run_type\": \"azureml.scriptrun\", \"training_percent\": \"100\", \"start_time\": \"2021-02-04T16:18:37.565465Z\", \"end_time\": \"2021-02-04T16:20:26.065172Z\", \"created_time\": \"2021-02-04T16:18:23.901286Z\", \"created_time_dt\": \"2021-02-04T16:18:23.901286Z\", \"duration\": \"0:02:02\", \"iteration\": \"50\", \"goal\": \"accuracy_max\", \"run_name\": \"StackEnsemble\", \"run_properties\": \"base_learners=[('30',\\n                                        Pipeline(memory=None,\\n                                                 steps=[('maxabsscaler',\\n                                                         MaxAbsScaler(copy=True\", \"primary_metric\": 0.99551988, \"best_metric\": 0.99637367}], \"children_metrics\": {\"categories\": [0], \"series\": {\"norm_macro_recall\": [{\"categories\": [\"0\", \"1\", \"2\", \"3\", \"4\", \"5\", \"6\", \"7\", \"8\", \"9\", \"10\", \"11\", \"12\", \"13\", \"14\", \"15\", \"16\", \"17\", \"18\", \"19\", \"20\", \"21\", \"22\", \"23\", \"24\", \"25\", \"26\", \"27\", \"28\", \"29\", \"30\", \"31\", \"32\", \"33\", \"34\", \"35\", \"36\", \"37\", \"38\", \"39\", \"40\", \"41\", \"42\", \"43\", \"44\", \"45\", \"46\", \"49\", \"50\"], \"mode\": \"markers\", \"name\": \"norm_macro_recall\", \"stepped\": false, \"type\": \"scatter\", \"data\": [0.9830062025637762, 0.977478112607783, 0.8897911546007131, 0.7139804119578794, 0.9830176347010383, 0.923448302660205, 0.9458915027905583, 0.8009919648455964, 0.734218670895989, 0.970096631907299, 0.9749242083777215, 0.005399863294600138, 0.8826495248149862, 0.973202525768879, 0.289701161831701, 0.938430325716132, 0.23214971416034907, 0.9510059122926069, 0.9292186692231237, 0.9725965629637088, 0.015887696991572352, 0.8407812071471525, 0.97316450941128, 0.9717638278425167, 0.965690424891951, 0.667049532566686, 0.9350720195602044, 0.9486720772422019, 0.948861901271869, 0.9825609962637214, 0.9825033835811929, 0.7673498383593109, 0.6745889946440089, 0.9738544386184242, 0.972929665580514, 0.09729015545928243, 0.022162804515745683, 0.9410711600564949, 0.9743618191982846, 0.977879540811821, 0.8933886486486775, 0.9441542038681539, 0.9394384300080769, 0.9471272280398008, 0.9628027543108605, 0.9705966444076115, 0.974221023654146, 0.9832542852423648, 0.9799198933719296]}, {\"categories\": [\"0\", \"1\", \"2\", \"3\", \"4\", \"5\", \"6\", \"7\", \"8\", \"9\", \"10\", \"11\", \"12\", \"13\", \"14\", \"15\", \"16\", \"17\", \"18\", \"19\", \"20\", \"21\", \"22\", \"23\", \"24\", \"25\", \"26\", \"27\", \"28\", \"29\", \"30\", \"31\", \"32\", \"33\", \"34\", \"35\", \"36\", \"37\", \"38\", \"39\", \"40\", \"41\", \"42\", \"43\", \"44\", \"45\", \"46\", \"49\", \"50\"], \"mode\": \"lines\", \"name\": \"norm_macro_recall_max\", \"stepped\": true, \"type\": \"scatter\", \"data\": [0.9830062025637762, 0.9830062025637762, 0.9830062025637762, 0.9830062025637762, 0.9830176347010383, 0.9830176347010383, 0.9830176347010383, 0.9830176347010383, 0.9830176347010383, 0.9830176347010383, 0.9830176347010383, 0.9830176347010383, 0.9830176347010383, 0.9830176347010383, 0.9830176347010383, 0.9830176347010383, 0.9830176347010383, 0.9830176347010383, 0.9830176347010383, 0.9830176347010383, 0.9830176347010383, 0.9830176347010383, 0.9830176347010383, 0.9830176347010383, 0.9830176347010383, 0.9830176347010383, 0.9830176347010383, 0.9830176347010383, 0.9830176347010383, 0.9830176347010383, 0.9830176347010383, 0.9830176347010383, 0.9830176347010383, 0.9830176347010383, 0.9830176347010383, 0.9830176347010383, 0.9830176347010383, 0.9830176347010383, 0.9830176347010383, 0.9830176347010383, 0.9830176347010383, 0.9830176347010383, 0.9830176347010383, 0.9830176347010383, 0.9830176347010383, 0.9830176347010383, 0.9830176347010383, 0.9832542852423648, 0.9832542852423648]}], \"log_loss\": [{\"categories\": [\"0\", \"1\", \"2\", \"3\", \"4\", \"5\", \"6\", \"7\", \"8\", \"9\", \"10\", \"11\", \"12\", \"13\", \"14\", \"15\", \"16\", \"17\", \"18\", \"19\", \"20\", \"21\", \"22\", \"23\", \"24\", \"25\", \"26\", \"27\", \"28\", \"29\", \"30\", \"31\", \"32\", \"33\", \"34\", \"35\", \"36\", \"37\", \"38\", \"39\", \"40\", \"41\", \"42\", \"43\", \"44\", \"45\", \"46\", \"49\", \"50\"], \"mode\": \"markers\", \"name\": \"log_loss\", \"stepped\": false, \"type\": \"scatter\", \"data\": [0.020314216473189053, 0.013045169147269423, 0.1319515676738769, 0.18564873057620626, 0.14078509948813608, 0.3072621133902714, 0.03223748680581925, 0.11947349706521362, 0.14167407113322117, 0.09535336506821206, 0.07161935403274791, 0.2728051222215406, 0.08435818149624044, 0.12775519156670348, 0.22962941854881963, 0.051847867954305224, 0.2536346895365365, 0.031389759715324865, 0.2354228721137574, 0.017166327037156832, 0.2969405540110094, 0.1551696711635165, 0.017931882202536116, 0.12640848117310402, 0.019815934817342975, 0.15272735126323345, 0.24184501961453292, 0.03452842308444186, 0.029549990342467292, 0.3221435697560544, 0.016271854643878463, 0.4038451435714679, 0.19731296071300072, 0.02686093897194356, 0.017192280376951547, 0.2520221180599165, 0.24421699305714376, 0.07431037637939802, 0.024820612927611417, 0.032450543342152915, 0.0831500271395184, 0.03821901167692439, 0.04628554698339507, 0.033776300465209866, 0.22653508838637354, 0.18582110345971745, 0.018824931223485705, 0.03403913563592598, 0.016529720976579638]}, {\"categories\": [\"0\", \"1\", \"2\", \"3\", \"4\", \"5\", \"6\", \"7\", \"8\", \"9\", \"10\", \"11\", \"12\", \"13\", \"14\", \"15\", \"16\", \"17\", \"18\", \"19\", \"20\", \"21\", \"22\", \"23\", \"24\", \"25\", \"26\", \"27\", \"28\", \"29\", \"30\", \"31\", \"32\", \"33\", \"34\", \"35\", \"36\", \"37\", \"38\", \"39\", \"40\", \"41\", \"42\", \"43\", \"44\", \"45\", \"46\", \"49\", \"50\"], \"mode\": \"lines\", \"name\": \"log_loss_min\", \"stepped\": true, \"type\": \"scatter\", \"data\": [0.020314216473189053, 0.013045169147269423, 0.013045169147269423, 0.013045169147269423, 0.013045169147269423, 0.013045169147269423, 0.013045169147269423, 0.013045169147269423, 0.013045169147269423, 0.013045169147269423, 0.013045169147269423, 0.013045169147269423, 0.013045169147269423, 0.013045169147269423, 0.013045169147269423, 0.013045169147269423, 0.013045169147269423, 0.013045169147269423, 0.013045169147269423, 0.013045169147269423, 0.013045169147269423, 0.013045169147269423, 0.013045169147269423, 0.013045169147269423, 0.013045169147269423, 0.013045169147269423, 0.013045169147269423, 0.013045169147269423, 0.013045169147269423, 0.013045169147269423, 0.013045169147269423, 0.013045169147269423, 0.013045169147269423, 0.013045169147269423, 0.013045169147269423, 0.013045169147269423, 0.013045169147269423, 0.013045169147269423, 0.013045169147269423, 0.013045169147269423, 0.013045169147269423, 0.013045169147269423, 0.013045169147269423, 0.013045169147269423, 0.013045169147269423, 0.013045169147269423, 0.013045169147269423, 0.013045169147269423, 0.013045169147269423]}], \"weighted_accuracy\": [{\"categories\": [\"0\", \"1\", \"2\", \"3\", \"4\", \"5\", \"6\", \"7\", \"8\", \"9\", \"10\", \"11\", \"12\", \"13\", \"14\", \"15\", \"16\", \"17\", \"18\", \"19\", \"20\", \"21\", \"22\", \"23\", \"24\", \"25\", \"26\", \"27\", \"28\", \"29\", \"30\", \"31\", \"32\", \"33\", \"34\", \"35\", \"36\", \"37\", \"38\", \"39\", \"40\", \"41\", \"42\", \"43\", \"44\", \"45\", \"46\", \"49\", \"50\"], \"mode\": \"markers\", \"name\": \"weighted_accuracy\", \"stepped\": false, \"type\": \"scatter\", \"data\": [0.9976886094667048, 0.997509197877734, 0.9940027129460178, 0.9888923614915994, 0.9932419361288437, 0.939920266617064, 0.9930761997577735, 0.9694871717010838, 0.9675528321966171, 0.9970534504975795, 0.9944010528128823, 0.9641431448606248, 0.9823855768893415, 0.9971262277539161, 0.9741738557175754, 0.9939346879047193, 0.9722895816218051, 0.9939199453730698, 0.9942525399779761, 0.9972928009065593, 0.9645279140895836, 0.9939102319324249, 0.9976390258899392, 0.9973387333387634, 0.9956242644364425, 0.986072336350085, 0.9946788326663759, 0.9935650564972993, 0.994322444043601, 0.9918314372356921, 0.9979662792174386, 0.8200166282605668, 0.9878963317606055, 0.9966986470910904, 0.9971376248613492, 0.9671944289407076, 0.964775656839074, 0.9937744602593007, 0.9965247886115808, 0.9942312448322568, 0.9838009023309731, 0.9943626373525332, 0.9958094328607119, 0.9926020732036254, 0.9960722999422444, 0.9975391933255728, 0.9960101954041602, 0.9981810787968974, 0.9976105131145294]}, {\"categories\": [\"0\", \"1\", \"2\", \"3\", \"4\", \"5\", \"6\", \"7\", \"8\", \"9\", \"10\", \"11\", \"12\", \"13\", \"14\", \"15\", \"16\", \"17\", \"18\", \"19\", \"20\", \"21\", \"22\", \"23\", \"24\", \"25\", \"26\", \"27\", \"28\", \"29\", \"30\", \"31\", \"32\", \"33\", \"34\", \"35\", \"36\", \"37\", \"38\", \"39\", \"40\", \"41\", \"42\", \"43\", \"44\", \"45\", \"46\", \"49\", \"50\"], \"mode\": \"lines\", \"name\": \"weighted_accuracy_max\", \"stepped\": true, \"type\": \"scatter\", \"data\": [0.9976886094667048, 0.9976886094667048, 0.9976886094667048, 0.9976886094667048, 0.9976886094667048, 0.9976886094667048, 0.9976886094667048, 0.9976886094667048, 0.9976886094667048, 0.9976886094667048, 0.9976886094667048, 0.9976886094667048, 0.9976886094667048, 0.9976886094667048, 0.9976886094667048, 0.9976886094667048, 0.9976886094667048, 0.9976886094667048, 0.9976886094667048, 0.9976886094667048, 0.9976886094667048, 0.9976886094667048, 0.9976886094667048, 0.9976886094667048, 0.9976886094667048, 0.9976886094667048, 0.9976886094667048, 0.9976886094667048, 0.9976886094667048, 0.9976886094667048, 0.9979662792174386, 0.9979662792174386, 0.9979662792174386, 0.9979662792174386, 0.9979662792174386, 0.9979662792174386, 0.9979662792174386, 0.9979662792174386, 0.9979662792174386, 0.9979662792174386, 0.9979662792174386, 0.9979662792174386, 0.9979662792174386, 0.9979662792174386, 0.9979662792174386, 0.9979662792174386, 0.9979662792174386, 0.9981810787968974, 0.9981810787968974]}], \"f1_score_micro\": [{\"categories\": [\"0\", \"1\", \"2\", \"3\", \"4\", \"5\", \"6\", \"7\", \"8\", \"9\", \"10\", \"11\", \"12\", \"13\", \"14\", \"15\", \"16\", \"17\", \"18\", \"19\", \"20\", \"21\", \"22\", \"23\", \"24\", \"25\", \"26\", \"27\", \"28\", \"29\", \"30\", \"31\", \"32\", \"33\", \"34\", \"35\", \"36\", \"37\", \"38\", \"39\", \"40\", \"41\", \"42\", \"43\", \"44\", \"45\", \"46\", \"49\", \"50\"], \"mode\": \"markers\", \"name\": \"f1_score_micro\", \"stepped\": false, \"type\": \"scatter\", \"data\": [0.9959470068471485, 0.995093445715469, 0.9805844993662577, 0.9530698390954209, 0.9927455268253944, 0.9455755222970375, 0.9876266631471398, 0.9507182793154216, 0.9402652843421253, 0.993812762684519, 0.9925325347648097, 0.8397751295360368, 0.9714099118677083, 0.9942398845837894, 0.8854318891895151, 0.98719999635911, 0.8762577568022063, 0.9889073461780896, 0.9861341258337069, 0.9942403396950301, 0.8414822517993962, 0.9739724157077093, 0.9946663238161989, 0.9942396570281691, 0.9921074608661222, 0.9449561158986286, 0.9872009065815911, 0.988267232218235, 0.9889066635112288, 0.9916787460775099, 0.9961595437964925, 0.8371926008014509, 0.9468796435568765, 0.994026209856344, 0.9942396570281691, 0.8540701736021827, 0.8425490325472804, 0.9874138986421755, 0.9940259823007238, 0.9927462094922552, 0.9737589685358845, 0.9882670046626145, 0.9889052981775069, 0.9874132159753147, 0.9921060955324006, 0.9942396570281691, 0.9935997706239348, 0.9963736736351784, 0.9955198849478784]}, {\"categories\": [\"0\", \"1\", \"2\", \"3\", \"4\", \"5\", \"6\", \"7\", \"8\", \"9\", \"10\", \"11\", \"12\", \"13\", \"14\", \"15\", \"16\", \"17\", \"18\", \"19\", \"20\", \"21\", \"22\", \"23\", \"24\", \"25\", \"26\", \"27\", \"28\", \"29\", \"30\", \"31\", \"32\", \"33\", \"34\", \"35\", \"36\", \"37\", \"38\", \"39\", \"40\", \"41\", \"42\", \"43\", \"44\", \"45\", \"46\", \"49\", \"50\"], \"mode\": \"lines\", \"name\": \"f1_score_micro_max\", \"stepped\": true, \"type\": \"scatter\", \"data\": [0.9959470068471485, 0.9959470068471485, 0.9959470068471485, 0.9959470068471485, 0.9959470068471485, 0.9959470068471485, 0.9959470068471485, 0.9959470068471485, 0.9959470068471485, 0.9959470068471485, 0.9959470068471485, 0.9959470068471485, 0.9959470068471485, 0.9959470068471485, 0.9959470068471485, 0.9959470068471485, 0.9959470068471485, 0.9959470068471485, 0.9959470068471485, 0.9959470068471485, 0.9959470068471485, 0.9959470068471485, 0.9959470068471485, 0.9959470068471485, 0.9959470068471485, 0.9959470068471485, 0.9959470068471485, 0.9959470068471485, 0.9959470068471485, 0.9959470068471485, 0.9961595437964925, 0.9961595437964925, 0.9961595437964925, 0.9961595437964925, 0.9961595437964925, 0.9961595437964925, 0.9961595437964925, 0.9961595437964925, 0.9961595437964925, 0.9961595437964925, 0.9961595437964925, 0.9961595437964925, 0.9961595437964925, 0.9961595437964925, 0.9961595437964925, 0.9961595437964925, 0.9961595437964925, 0.9963736736351784, 0.9963736736351784]}], \"accuracy\": [{\"categories\": [\"0\", \"1\", \"2\", \"3\", \"4\", \"5\", \"6\", \"7\", \"8\", \"9\", \"10\", \"11\", \"12\", \"13\", \"14\", \"15\", \"16\", \"17\", \"18\", \"19\", \"20\", \"21\", \"22\", \"23\", \"24\", \"25\", \"26\", \"27\", \"28\", \"29\", \"30\", \"31\", \"32\", \"33\", \"34\", \"35\", \"36\", \"37\", \"38\", \"39\", \"40\", \"41\", \"42\", \"43\", \"44\", \"45\", \"46\", \"49\", \"50\"], \"mode\": \"markers\", \"name\": \"accuracy\", \"stepped\": false, \"type\": \"scatter\", \"data\": [0.9959470068471485, 0.995093445715469, 0.9805844993662577, 0.9530698390954209, 0.9927455268253944, 0.9455755222970375, 0.9876266631471398, 0.9507182793154216, 0.9402652843421254, 0.993812762684519, 0.9925325347648097, 0.8397751295360368, 0.9714099118677083, 0.9942398845837894, 0.8854318891895151, 0.98719999635911, 0.8762577568022063, 0.9889073461780896, 0.9861341258337069, 0.9942403396950301, 0.8414822517993962, 0.9739724157077093, 0.9946663238161989, 0.9942396570281691, 0.9921074608661222, 0.9449561158986286, 0.9872009065815911, 0.988267232218235, 0.9889066635112288, 0.9916787460775099, 0.9961595437964925, 0.8371926008014509, 0.9468796435568765, 0.994026209856344, 0.9942396570281691, 0.8540701736021827, 0.8425490325472804, 0.9874138986421755, 0.9940259823007238, 0.9927462094922552, 0.9737589685358845, 0.9882670046626145, 0.9889052981775069, 0.9874132159753147, 0.9921060955324006, 0.9942396570281691, 0.9935997706239348, 0.9963736736351784, 0.9955198849478784]}, {\"categories\": [\"0\", \"1\", \"2\", \"3\", \"4\", \"5\", \"6\", \"7\", \"8\", \"9\", \"10\", \"11\", \"12\", \"13\", \"14\", \"15\", \"16\", \"17\", \"18\", \"19\", \"20\", \"21\", \"22\", \"23\", \"24\", \"25\", \"26\", \"27\", \"28\", \"29\", \"30\", \"31\", \"32\", \"33\", \"34\", \"35\", \"36\", \"37\", \"38\", \"39\", \"40\", \"41\", \"42\", \"43\", \"44\", \"45\", \"46\", \"49\", \"50\"], \"mode\": \"lines\", \"name\": \"accuracy_max\", \"stepped\": true, \"type\": \"scatter\", \"data\": [0.9959470068471485, 0.9959470068471485, 0.9959470068471485, 0.9959470068471485, 0.9959470068471485, 0.9959470068471485, 0.9959470068471485, 0.9959470068471485, 0.9959470068471485, 0.9959470068471485, 0.9959470068471485, 0.9959470068471485, 0.9959470068471485, 0.9959470068471485, 0.9959470068471485, 0.9959470068471485, 0.9959470068471485, 0.9959470068471485, 0.9959470068471485, 0.9959470068471485, 0.9959470068471485, 0.9959470068471485, 0.9959470068471485, 0.9959470068471485, 0.9959470068471485, 0.9959470068471485, 0.9959470068471485, 0.9959470068471485, 0.9959470068471485, 0.9959470068471485, 0.9961595437964925, 0.9961595437964925, 0.9961595437964925, 0.9961595437964925, 0.9961595437964925, 0.9961595437964925, 0.9961595437964925, 0.9961595437964925, 0.9961595437964925, 0.9961595437964925, 0.9961595437964925, 0.9961595437964925, 0.9961595437964925, 0.9961595437964925, 0.9961595437964925, 0.9961595437964925, 0.9961595437964925, 0.9963736736351784, 0.9963736736351784]}], \"recall_score_weighted\": [{\"categories\": [\"0\", \"1\", \"2\", \"3\", \"4\", \"5\", \"6\", \"7\", \"8\", \"9\", \"10\", \"11\", \"12\", \"13\", \"14\", \"15\", \"16\", \"17\", \"18\", \"19\", \"20\", \"21\", \"22\", \"23\", \"24\", \"25\", \"26\", \"27\", \"28\", \"29\", \"30\", \"31\", \"32\", \"33\", \"34\", \"35\", \"36\", \"37\", \"38\", \"39\", \"40\", \"41\", \"42\", \"43\", \"44\", \"45\", \"46\", \"49\", \"50\"], \"mode\": \"markers\", \"name\": \"recall_score_weighted\", \"stepped\": false, \"type\": \"scatter\", \"data\": [0.9959470068471485, 0.995093445715469, 0.9805844993662577, 0.9530698390954209, 0.9927455268253944, 0.9455755222970375, 0.9876266631471398, 0.9507182793154216, 0.9402652843421254, 0.993812762684519, 0.9925325347648097, 0.8397751295360368, 0.9714099118677083, 0.9942398845837894, 0.8854318891895151, 0.98719999635911, 0.8762577568022063, 0.9889073461780896, 0.9861341258337069, 0.9942403396950301, 0.8414822517993962, 0.9739724157077093, 0.9946663238161989, 0.9942396570281691, 0.9921074608661222, 0.9449561158986286, 0.9872009065815911, 0.988267232218235, 0.9889066635112288, 0.9916787460775099, 0.9961595437964925, 0.8371926008014509, 0.9468796435568765, 0.994026209856344, 0.9942396570281691, 0.8540701736021827, 0.8425490325472804, 0.9874138986421755, 0.9940259823007238, 0.9927462094922552, 0.9737589685358845, 0.9882670046626145, 0.9889052981775069, 0.9874132159753147, 0.9921060955324006, 0.9942396570281691, 0.9935997706239348, 0.9963736736351784, 0.9955198849478784]}, {\"categories\": [\"0\", \"1\", \"2\", \"3\", \"4\", \"5\", \"6\", \"7\", \"8\", \"9\", \"10\", \"11\", \"12\", \"13\", \"14\", \"15\", \"16\", \"17\", \"18\", \"19\", \"20\", \"21\", \"22\", \"23\", \"24\", \"25\", \"26\", \"27\", \"28\", \"29\", \"30\", \"31\", \"32\", \"33\", \"34\", \"35\", \"36\", \"37\", \"38\", \"39\", \"40\", \"41\", \"42\", \"43\", \"44\", \"45\", \"46\", \"49\", \"50\"], \"mode\": \"lines\", \"name\": \"recall_score_weighted_max\", \"stepped\": true, \"type\": \"scatter\", \"data\": [0.9959470068471485, 0.9959470068471485, 0.9959470068471485, 0.9959470068471485, 0.9959470068471485, 0.9959470068471485, 0.9959470068471485, 0.9959470068471485, 0.9959470068471485, 0.9959470068471485, 0.9959470068471485, 0.9959470068471485, 0.9959470068471485, 0.9959470068471485, 0.9959470068471485, 0.9959470068471485, 0.9959470068471485, 0.9959470068471485, 0.9959470068471485, 0.9959470068471485, 0.9959470068471485, 0.9959470068471485, 0.9959470068471485, 0.9959470068471485, 0.9959470068471485, 0.9959470068471485, 0.9959470068471485, 0.9959470068471485, 0.9959470068471485, 0.9959470068471485, 0.9961595437964925, 0.9961595437964925, 0.9961595437964925, 0.9961595437964925, 0.9961595437964925, 0.9961595437964925, 0.9961595437964925, 0.9961595437964925, 0.9961595437964925, 0.9961595437964925, 0.9961595437964925, 0.9961595437964925, 0.9961595437964925, 0.9961595437964925, 0.9961595437964925, 0.9961595437964925, 0.9961595437964925, 0.9963736736351784, 0.9963736736351784]}], \"f1_score_weighted\": [{\"categories\": [\"0\", \"1\", \"2\", \"3\", \"4\", \"5\", \"6\", \"7\", \"8\", \"9\", \"10\", \"11\", \"12\", \"13\", \"14\", \"15\", \"16\", \"17\", \"18\", \"19\", \"20\", \"21\", \"22\", \"23\", \"24\", \"25\", \"26\", \"27\", \"28\", \"29\", \"30\", \"31\", \"32\", \"33\", \"34\", \"35\", \"36\", \"37\", \"38\", \"39\", \"40\", \"41\", \"42\", \"43\", \"44\", \"45\", \"46\", \"49\", \"50\"], \"mode\": \"markers\", \"name\": \"f1_score_weighted\", \"stepped\": false, \"type\": \"scatter\", \"data\": [0.9959382624351095, 0.9950787684814941, 0.9801193156688747, 0.9484794019871045, 0.9927860194845554, 0.9510515335161918, 0.9875710557347169, 0.9502096162822633, 0.9386887712000409, 0.9937820398650622, 0.992539608796022, 0.7675433737462187, 0.9712486845983074, 0.9942180993483541, 0.8576812220499251, 0.9870982168346275, 0.8419289337827667, 0.9888526753157645, 0.9859513564438297, 0.9942163519701521, 0.7715696093454577, 0.9730337522608832, 0.9946383351723638, 0.9942108435937103, 0.9920770551489202, 0.9404295685126092, 0.987061966488328, 0.988204114425654, 0.9888481316309793, 0.9917662654657959, 0.9961527255989671, 0.8553930924780374, 0.9422074962913142, 0.9940126073557115, 0.9942177253480246, 0.7989886541736269, 0.7738827630595895, 0.9873219663631613, 0.9940094210691454, 0.9927604188516271, 0.9736278186151035, 0.9881803869702892, 0.9887669857138978, 0.9873650535505025, 0.9920683004646893, 0.9942062438106103, 0.9935947367863449, 0.9963634100290408, 0.9955097478057112]}, {\"categories\": [\"0\", \"1\", \"2\", \"3\", \"4\", \"5\", \"6\", \"7\", \"8\", \"9\", \"10\", \"11\", \"12\", \"13\", \"14\", \"15\", \"16\", \"17\", \"18\", \"19\", \"20\", \"21\", \"22\", \"23\", \"24\", \"25\", \"26\", \"27\", \"28\", \"29\", \"30\", \"31\", \"32\", \"33\", \"34\", \"35\", \"36\", \"37\", \"38\", \"39\", \"40\", \"41\", \"42\", \"43\", \"44\", \"45\", \"46\", \"49\", \"50\"], \"mode\": \"lines\", \"name\": \"f1_score_weighted_max\", \"stepped\": true, \"type\": \"scatter\", \"data\": [0.9959382624351095, 0.9959382624351095, 0.9959382624351095, 0.9959382624351095, 0.9959382624351095, 0.9959382624351095, 0.9959382624351095, 0.9959382624351095, 0.9959382624351095, 0.9959382624351095, 0.9959382624351095, 0.9959382624351095, 0.9959382624351095, 0.9959382624351095, 0.9959382624351095, 0.9959382624351095, 0.9959382624351095, 0.9959382624351095, 0.9959382624351095, 0.9959382624351095, 0.9959382624351095, 0.9959382624351095, 0.9959382624351095, 0.9959382624351095, 0.9959382624351095, 0.9959382624351095, 0.9959382624351095, 0.9959382624351095, 0.9959382624351095, 0.9959382624351095, 0.9961527255989671, 0.9961527255989671, 0.9961527255989671, 0.9961527255989671, 0.9961527255989671, 0.9961527255989671, 0.9961527255989671, 0.9961527255989671, 0.9961527255989671, 0.9961527255989671, 0.9961527255989671, 0.9961527255989671, 0.9961527255989671, 0.9961527255989671, 0.9961527255989671, 0.9961527255989671, 0.9961527255989671, 0.9963634100290408, 0.9963634100290408]}], \"average_precision_score_macro\": [{\"categories\": [\"0\", \"1\", \"2\", \"3\", \"4\", \"5\", \"6\", \"7\", \"8\", \"9\", \"10\", \"11\", \"12\", \"13\", \"14\", \"15\", \"16\", \"17\", \"18\", \"19\", \"20\", \"21\", \"22\", \"23\", \"24\", \"25\", \"26\", \"27\", \"28\", \"29\", \"30\", \"31\", \"32\", \"33\", \"34\", \"35\", \"36\", \"37\", \"38\", \"39\", \"40\", \"41\", \"42\", \"43\", \"44\", \"45\", \"46\", \"49\", \"50\"], \"mode\": \"markers\", \"name\": \"average_precision_score_macro\", \"stepped\": false, \"type\": \"scatter\", \"data\": [0.9991696177833861, 0.999527810745181, 0.9928354940437177, 0.9915594942649694, 0.996185733132077, 0.9884728378920963, 0.9973850693546543, 0.9625163103748132, 0.9542226212234806, 0.9989933318601871, 0.9981650851656688, 0.9929032229300866, 0.986308472445752, 0.9990939545847443, 0.9918695775614461, 0.9964082030872088, 0.9605312614514082, 0.9976798560888586, 0.9919901213468778, 0.9993656135364875, 0.9701599856722819, 0.9979294425256666, 0.999144318610908, 0.9978179126845423, 0.9989613936758068, 0.9610996115586588, 0.9931961226887269, 0.9975243653851008, 0.9977203446337086, 0.9928084248431122, 0.9996699368694448, 0.9249029336761057, 0.9974220648411224, 0.9988890238293777, 0.9993620486659041, 0.9915518130331303, 0.9956304217313878, 0.9966442134605659, 0.999034686690087, 0.9955505722173988, 0.9842394542339564, 0.9974817596081749, 0.9986315874345909, 0.9972300135382742, 0.999100533886334, 0.996460530521183, 0.998520618025484, 0.9995436447690423, 0.9994136645019498]}, {\"categories\": [\"0\", \"1\", \"2\", \"3\", \"4\", \"5\", \"6\", \"7\", \"8\", \"9\", \"10\", \"11\", \"12\", \"13\", \"14\", \"15\", \"16\", \"17\", \"18\", \"19\", \"20\", \"21\", \"22\", \"23\", \"24\", \"25\", \"26\", \"27\", \"28\", \"29\", \"30\", \"31\", \"32\", \"33\", \"34\", \"35\", \"36\", \"37\", \"38\", \"39\", \"40\", \"41\", \"42\", \"43\", \"44\", \"45\", \"46\", \"49\", \"50\"], \"mode\": \"lines\", \"name\": \"average_precision_score_macro_max\", \"stepped\": true, \"type\": \"scatter\", \"data\": [0.9991696177833861, 0.999527810745181, 0.999527810745181, 0.999527810745181, 0.999527810745181, 0.999527810745181, 0.999527810745181, 0.999527810745181, 0.999527810745181, 0.999527810745181, 0.999527810745181, 0.999527810745181, 0.999527810745181, 0.999527810745181, 0.999527810745181, 0.999527810745181, 0.999527810745181, 0.999527810745181, 0.999527810745181, 0.999527810745181, 0.999527810745181, 0.999527810745181, 0.999527810745181, 0.999527810745181, 0.999527810745181, 0.999527810745181, 0.999527810745181, 0.999527810745181, 0.999527810745181, 0.999527810745181, 0.9996699368694448, 0.9996699368694448, 0.9996699368694448, 0.9996699368694448, 0.9996699368694448, 0.9996699368694448, 0.9996699368694448, 0.9996699368694448, 0.9996699368694448, 0.9996699368694448, 0.9996699368694448, 0.9996699368694448, 0.9996699368694448, 0.9996699368694448, 0.9996699368694448, 0.9996699368694448, 0.9996699368694448, 0.9996699368694448, 0.9996699368694448]}], \"average_precision_score_micro\": [{\"categories\": [\"0\", \"1\", \"2\", \"3\", \"4\", \"5\", \"6\", \"7\", \"8\", \"9\", \"10\", \"11\", \"12\", \"13\", \"14\", \"15\", \"16\", \"17\", \"18\", \"19\", \"20\", \"21\", \"22\", \"23\", \"24\", \"25\", \"26\", \"27\", \"28\", \"29\", \"30\", \"31\", \"32\", \"33\", \"34\", \"35\", \"36\", \"37\", \"38\", \"39\", \"40\", \"41\", \"42\", \"43\", \"44\", \"45\", \"46\", \"49\", \"50\"], \"mode\": \"markers\", \"name\": \"average_precision_score_micro\", \"stepped\": false, \"type\": \"scatter\", \"data\": [0.9996509750645497, 0.9997818643465417, 0.9970817310952315, 0.9914330608995495, 0.9985921465220287, 0.9846313723860659, 0.9993977477536025, 0.9917221788424431, 0.9896111653689283, 0.9992697104245337, 0.999533012251644, 0.9746202884399049, 0.9967058088510783, 0.9989941786126494, 0.9797826366341541, 0.9990709129893132, 0.9729976648849767, 0.9994473816475423, 0.9964354978496047, 0.9997648626358023, 0.9711774537752726, 0.9973074534442375, 0.9997202974567088, 0.9988161952549397, 0.9996104588497529, 0.9856589126985028, 0.9976690545945806, 0.9993432374065581, 0.9994568240893404, 0.9962030946527809, 0.99988945909722, 0.9345340174058265, 0.9899401984583746, 0.9994395961949414, 0.999720125465276, 0.9752689933000648, 0.9753317367564194, 0.9990757009202866, 0.9996747470056653, 0.9993891777310664, 0.9960114100073996, 0.9993486606783, 0.9992822362992622, 0.9993498218753267, 0.9997131080937021, 0.9983590523544636, 0.9995626388039461, 0.9998791244881131, 0.9998643077699907]}, {\"categories\": [\"0\", \"1\", \"2\", \"3\", \"4\", \"5\", \"6\", \"7\", \"8\", \"9\", \"10\", \"11\", \"12\", \"13\", \"14\", \"15\", \"16\", \"17\", \"18\", \"19\", \"20\", \"21\", \"22\", \"23\", \"24\", \"25\", \"26\", \"27\", \"28\", \"29\", \"30\", \"31\", \"32\", \"33\", \"34\", \"35\", \"36\", \"37\", \"38\", \"39\", \"40\", \"41\", \"42\", \"43\", \"44\", \"45\", \"46\", \"49\", \"50\"], \"mode\": \"lines\", \"name\": \"average_precision_score_micro_max\", \"stepped\": true, \"type\": \"scatter\", \"data\": [0.9996509750645497, 0.9997818643465417, 0.9997818643465417, 0.9997818643465417, 0.9997818643465417, 0.9997818643465417, 0.9997818643465417, 0.9997818643465417, 0.9997818643465417, 0.9997818643465417, 0.9997818643465417, 0.9997818643465417, 0.9997818643465417, 0.9997818643465417, 0.9997818643465417, 0.9997818643465417, 0.9997818643465417, 0.9997818643465417, 0.9997818643465417, 0.9997818643465417, 0.9997818643465417, 0.9997818643465417, 0.9997818643465417, 0.9997818643465417, 0.9997818643465417, 0.9997818643465417, 0.9997818643465417, 0.9997818643465417, 0.9997818643465417, 0.9997818643465417, 0.99988945909722, 0.99988945909722, 0.99988945909722, 0.99988945909722, 0.99988945909722, 0.99988945909722, 0.99988945909722, 0.99988945909722, 0.99988945909722, 0.99988945909722, 0.99988945909722, 0.99988945909722, 0.99988945909722, 0.99988945909722, 0.99988945909722, 0.99988945909722, 0.99988945909722, 0.99988945909722, 0.99988945909722]}], \"average_precision_score_weighted\": [{\"categories\": [\"0\", \"1\", \"2\", \"3\", \"4\", \"5\", \"6\", \"7\", \"8\", \"9\", \"10\", \"11\", \"12\", \"13\", \"14\", \"15\", \"16\", \"17\", \"18\", \"19\", \"20\", \"21\", \"22\", \"23\", \"24\", \"25\", \"26\", \"27\", \"28\", \"29\", \"30\", \"31\", \"32\", \"33\", \"34\", \"35\", \"36\", \"37\", \"38\", \"39\", \"40\", \"41\", \"42\", \"43\", \"44\", \"45\", \"46\", \"49\", \"50\"], \"mode\": \"markers\", \"name\": \"average_precision_score_weighted\", \"stepped\": false, \"type\": \"scatter\", \"data\": [0.9995740502651402, 0.9997974615007298, 0.9971451960076209, 0.9965926714644144, 0.9985902589097637, 0.9957352361718736, 0.999028542532956, 0.9858005899652031, 0.9826214274480563, 0.9995505935234072, 0.9993057758958066, 0.9970923640988414, 0.9948081720102291, 0.999628004492848, 0.9970446790567854, 0.998643208936971, 0.9842640697733035, 0.9991180650431095, 0.9957381193799918, 0.9997354598743137, 0.9879171513721117, 0.9991684586893277, 0.9996073025573592, 0.9990630456600036, 0.9995081520562282, 0.9818154826102715, 0.9969500808981253, 0.999049017549811, 0.9991338775950304, 0.9972437439907695, 0.9998749030220813, 0.9705626942985093, 0.9989137943048231, 0.9993838221686404, 0.9997328360907449, 0.996635561477628, 0.9983718206612601, 0.9986717174767381, 0.9995607868314347, 0.9983816316728022, 0.9938450385991221, 0.9990304387465437, 0.999383123399112, 0.998944333753836, 0.9996318897820524, 0.9987685018887452, 0.9992980573008227, 0.9998255392737206, 0.9997718717427189]}, {\"categories\": [\"0\", \"1\", \"2\", \"3\", \"4\", \"5\", \"6\", \"7\", \"8\", \"9\", \"10\", \"11\", \"12\", \"13\", \"14\", \"15\", \"16\", \"17\", \"18\", \"19\", \"20\", \"21\", \"22\", \"23\", \"24\", \"25\", \"26\", \"27\", \"28\", \"29\", \"30\", \"31\", \"32\", \"33\", \"34\", \"35\", \"36\", \"37\", \"38\", \"39\", \"40\", \"41\", \"42\", \"43\", \"44\", \"45\", \"46\", \"49\", \"50\"], \"mode\": \"lines\", \"name\": \"average_precision_score_weighted_max\", \"stepped\": true, \"type\": \"scatter\", \"data\": [0.9995740502651402, 0.9997974615007298, 0.9997974615007298, 0.9997974615007298, 0.9997974615007298, 0.9997974615007298, 0.9997974615007298, 0.9997974615007298, 0.9997974615007298, 0.9997974615007298, 0.9997974615007298, 0.9997974615007298, 0.9997974615007298, 0.9997974615007298, 0.9997974615007298, 0.9997974615007298, 0.9997974615007298, 0.9997974615007298, 0.9997974615007298, 0.9997974615007298, 0.9997974615007298, 0.9997974615007298, 0.9997974615007298, 0.9997974615007298, 0.9997974615007298, 0.9997974615007298, 0.9997974615007298, 0.9997974615007298, 0.9997974615007298, 0.9997974615007298, 0.9998749030220813, 0.9998749030220813, 0.9998749030220813, 0.9998749030220813, 0.9998749030220813, 0.9998749030220813, 0.9998749030220813, 0.9998749030220813, 0.9998749030220813, 0.9998749030220813, 0.9998749030220813, 0.9998749030220813, 0.9998749030220813, 0.9998749030220813, 0.9998749030220813, 0.9998749030220813, 0.9998749030220813, 0.9998749030220813, 0.9998749030220813]}], \"recall_score_macro\": [{\"categories\": [\"0\", \"1\", \"2\", \"3\", \"4\", \"5\", \"6\", \"7\", \"8\", \"9\", \"10\", \"11\", \"12\", \"13\", \"14\", \"15\", \"16\", \"17\", \"18\", \"19\", \"20\", \"21\", \"22\", \"23\", \"24\", \"25\", \"26\", \"27\", \"28\", \"29\", \"30\", \"31\", \"32\", \"33\", \"34\", \"35\", \"36\", \"37\", \"38\", \"39\", \"40\", \"41\", \"42\", \"43\", \"44\", \"45\", \"46\", \"49\", \"50\"], \"mode\": \"markers\", \"name\": \"recall_score_macro\", \"stepped\": false, \"type\": \"scatter\", \"data\": [0.9915031012818881, 0.9887390563038915, 0.9448955773003564, 0.8569902059789397, 0.9915088173505191, 0.9617241513301025, 0.9729457513952792, 0.9004959824227982, 0.8671093354479945, 0.9850483159536495, 0.9874621041888607, 0.5026999316473001, 0.9413247624074931, 0.9866012628844395, 0.6448505809158506, 0.9692151628580661, 0.6160748570801745, 0.9755029561463034, 0.9646093346115618, 0.9862982814818544, 0.5079438484957862, 0.9203906035735763, 0.9865822547056402, 0.9858819139212583, 0.9828452124459754, 0.8335247662833429, 0.9675360097801022, 0.9743360386211011, 0.9744309506359345, 0.9912804981318606, 0.9912516917905965, 0.8836749191796555, 0.8372944973220043, 0.9869272193092122, 0.9864648327902568, 0.5486450777296412, 0.5110814022578728, 0.9705355800282476, 0.9871809095991424, 0.9889397704059105, 0.9466943243243386, 0.972077101934077, 0.9697192150040385, 0.9735636140199004, 0.9814013771554302, 0.9852983222038058, 0.9871105118270732, 0.9916271426211825, 0.9899599466859648]}, {\"categories\": [\"0\", \"1\", \"2\", \"3\", \"4\", \"5\", \"6\", \"7\", \"8\", \"9\", \"10\", \"11\", \"12\", \"13\", \"14\", \"15\", \"16\", \"17\", \"18\", \"19\", \"20\", \"21\", \"22\", \"23\", \"24\", \"25\", \"26\", \"27\", \"28\", \"29\", \"30\", \"31\", \"32\", \"33\", \"34\", \"35\", \"36\", \"37\", \"38\", \"39\", \"40\", \"41\", \"42\", \"43\", \"44\", \"45\", \"46\", \"49\", \"50\"], \"mode\": \"lines\", \"name\": \"recall_score_macro_max\", \"stepped\": true, \"type\": \"scatter\", \"data\": [0.9915031012818881, 0.9915031012818881, 0.9915031012818881, 0.9915031012818881, 0.9915088173505191, 0.9915088173505191, 0.9915088173505191, 0.9915088173505191, 0.9915088173505191, 0.9915088173505191, 0.9915088173505191, 0.9915088173505191, 0.9915088173505191, 0.9915088173505191, 0.9915088173505191, 0.9915088173505191, 0.9915088173505191, 0.9915088173505191, 0.9915088173505191, 0.9915088173505191, 0.9915088173505191, 0.9915088173505191, 0.9915088173505191, 0.9915088173505191, 0.9915088173505191, 0.9915088173505191, 0.9915088173505191, 0.9915088173505191, 0.9915088173505191, 0.9915088173505191, 0.9915088173505191, 0.9915088173505191, 0.9915088173505191, 0.9915088173505191, 0.9915088173505191, 0.9915088173505191, 0.9915088173505191, 0.9915088173505191, 0.9915088173505191, 0.9915088173505191, 0.9915088173505191, 0.9915088173505191, 0.9915088173505191, 0.9915088173505191, 0.9915088173505191, 0.9915088173505191, 0.9915088173505191, 0.9916271426211825, 0.9916271426211825]}], \"precision_score_weighted\": [{\"categories\": [\"0\", \"1\", \"2\", \"3\", \"4\", \"5\", \"6\", \"7\", \"8\", \"9\", \"10\", \"11\", \"12\", \"13\", \"14\", \"15\", \"16\", \"17\", \"18\", \"19\", \"20\", \"21\", \"22\", \"23\", \"24\", \"25\", \"26\", \"27\", \"28\", \"29\", \"30\", \"31\", \"32\", \"33\", \"34\", \"35\", \"36\", \"37\", \"38\", \"39\", \"40\", \"41\", \"42\", \"43\", \"44\", \"45\", \"46\", \"49\", \"50\"], \"mode\": \"markers\", \"name\": \"precision_score_weighted\", \"stepped\": false, \"type\": \"scatter\", \"data\": [0.9959878247507945, 0.9951291870872361, 0.9808111161775734, 0.9563020177089964, 0.9929084136146147, 0.9688212709204154, 0.9876085715159484, 0.9500175817796486, 0.9387433059668668, 0.9938489090190215, 0.9926402465014463, 0.7658379682051516, 0.9711816787942847, 0.9942733093620539, 0.8987208836498237, 0.9871642758342049, 0.8923307742136025, 0.9888978543721378, 0.9861656324322153, 0.9942585302558793, 0.8367960993396377, 0.9747379411621397, 0.9947014140613154, 0.9942651789331878, 0.9921179069412362, 0.9474533697825198, 0.9872104288065673, 0.9882660781973789, 0.9888805094588597, 0.9920804114782887, 0.996178920719011, 0.9119340086439195, 0.9502886185179662, 0.9940862619574364, 0.9942843866272325, 0.8760644502017506, 0.7720622534529415, 0.9873835785299434, 0.9940930817529461, 0.9928833901163454, 0.9736193594542752, 0.9882699103802743, 0.9889734605662277, 0.9873823743946474, 0.9921314114711187, 0.9942780567758712, 0.99369273193595, 0.9963905651855353, 0.9955478672247698]}, {\"categories\": [\"0\", \"1\", \"2\", \"3\", \"4\", \"5\", \"6\", \"7\", \"8\", \"9\", \"10\", \"11\", \"12\", \"13\", \"14\", \"15\", \"16\", \"17\", \"18\", \"19\", \"20\", \"21\", \"22\", \"23\", \"24\", \"25\", \"26\", \"27\", \"28\", \"29\", \"30\", \"31\", \"32\", \"33\", \"34\", \"35\", \"36\", \"37\", \"38\", \"39\", \"40\", \"41\", \"42\", \"43\", \"44\", \"45\", \"46\", \"49\", \"50\"], \"mode\": \"lines\", \"name\": \"precision_score_weighted_max\", \"stepped\": true, \"type\": \"scatter\", \"data\": [0.9959878247507945, 0.9959878247507945, 0.9959878247507945, 0.9959878247507945, 0.9959878247507945, 0.9959878247507945, 0.9959878247507945, 0.9959878247507945, 0.9959878247507945, 0.9959878247507945, 0.9959878247507945, 0.9959878247507945, 0.9959878247507945, 0.9959878247507945, 0.9959878247507945, 0.9959878247507945, 0.9959878247507945, 0.9959878247507945, 0.9959878247507945, 0.9959878247507945, 0.9959878247507945, 0.9959878247507945, 0.9959878247507945, 0.9959878247507945, 0.9959878247507945, 0.9959878247507945, 0.9959878247507945, 0.9959878247507945, 0.9959878247507945, 0.9959878247507945, 0.996178920719011, 0.996178920719011, 0.996178920719011, 0.996178920719011, 0.996178920719011, 0.996178920719011, 0.996178920719011, 0.996178920719011, 0.996178920719011, 0.996178920719011, 0.996178920719011, 0.996178920719011, 0.996178920719011, 0.996178920719011, 0.996178920719011, 0.996178920719011, 0.996178920719011, 0.9963905651855353, 0.9963905651855353]}], \"precision_score_micro\": [{\"categories\": [\"0\", \"1\", \"2\", \"3\", \"4\", \"5\", \"6\", \"7\", \"8\", \"9\", \"10\", \"11\", \"12\", \"13\", \"14\", \"15\", \"16\", \"17\", \"18\", \"19\", \"20\", \"21\", \"22\", \"23\", \"24\", \"25\", \"26\", \"27\", \"28\", \"29\", \"30\", \"31\", \"32\", \"33\", \"34\", \"35\", \"36\", \"37\", \"38\", \"39\", \"40\", \"41\", \"42\", \"43\", \"44\", \"45\", \"46\", \"49\", \"50\"], \"mode\": \"markers\", \"name\": \"precision_score_micro\", \"stepped\": false, \"type\": \"scatter\", \"data\": [0.9959470068471485, 0.995093445715469, 0.9805844993662577, 0.9530698390954209, 0.9927455268253944, 0.9455755222970375, 0.9876266631471398, 0.9507182793154216, 0.9402652843421254, 0.993812762684519, 0.9925325347648097, 0.8397751295360368, 0.9714099118677083, 0.9942398845837894, 0.8854318891895151, 0.98719999635911, 0.8762577568022063, 0.9889073461780896, 0.9861341258337069, 0.9942403396950301, 0.8414822517993962, 0.9739724157077093, 0.9946663238161989, 0.9942396570281691, 0.9921074608661222, 0.9449561158986286, 0.9872009065815911, 0.988267232218235, 0.9889066635112288, 0.9916787460775099, 0.9961595437964925, 0.8371926008014509, 0.9468796435568765, 0.994026209856344, 0.9942396570281691, 0.8540701736021827, 0.8425490325472804, 0.9874138986421755, 0.9940259823007238, 0.9927462094922552, 0.9737589685358845, 0.9882670046626145, 0.9889052981775069, 0.9874132159753147, 0.9921060955324006, 0.9942396570281691, 0.9935997706239348, 0.9963736736351784, 0.9955198849478784]}, {\"categories\": [\"0\", \"1\", \"2\", \"3\", \"4\", \"5\", \"6\", \"7\", \"8\", \"9\", \"10\", \"11\", \"12\", \"13\", \"14\", \"15\", \"16\", \"17\", \"18\", \"19\", \"20\", \"21\", \"22\", \"23\", \"24\", \"25\", \"26\", \"27\", \"28\", \"29\", \"30\", \"31\", \"32\", \"33\", \"34\", \"35\", \"36\", \"37\", \"38\", \"39\", \"40\", \"41\", \"42\", \"43\", \"44\", \"45\", \"46\", \"49\", \"50\"], \"mode\": \"lines\", \"name\": \"precision_score_micro_max\", \"stepped\": true, \"type\": \"scatter\", \"data\": [0.9959470068471485, 0.9959470068471485, 0.9959470068471485, 0.9959470068471485, 0.9959470068471485, 0.9959470068471485, 0.9959470068471485, 0.9959470068471485, 0.9959470068471485, 0.9959470068471485, 0.9959470068471485, 0.9959470068471485, 0.9959470068471485, 0.9959470068471485, 0.9959470068471485, 0.9959470068471485, 0.9959470068471485, 0.9959470068471485, 0.9959470068471485, 0.9959470068471485, 0.9959470068471485, 0.9959470068471485, 0.9959470068471485, 0.9959470068471485, 0.9959470068471485, 0.9959470068471485, 0.9959470068471485, 0.9959470068471485, 0.9959470068471485, 0.9959470068471485, 0.9961595437964925, 0.9961595437964925, 0.9961595437964925, 0.9961595437964925, 0.9961595437964925, 0.9961595437964925, 0.9961595437964925, 0.9961595437964925, 0.9961595437964925, 0.9961595437964925, 0.9961595437964925, 0.9961595437964925, 0.9961595437964925, 0.9961595437964925, 0.9961595437964925, 0.9961595437964925, 0.9961595437964925, 0.9963736736351784, 0.9963736736351784]}], \"precision_score_macro\": [{\"categories\": [\"0\", \"1\", \"2\", \"3\", \"4\", \"5\", \"6\", \"7\", \"8\", \"9\", \"10\", \"11\", \"12\", \"13\", \"14\", \"15\", \"16\", \"17\", \"18\", \"19\", \"20\", \"21\", \"22\", \"23\", \"24\", \"25\", \"26\", \"27\", \"28\", \"29\", \"30\", \"31\", \"32\", \"33\", \"34\", \"35\", \"36\", \"37\", \"38\", \"39\", \"40\", \"41\", \"42\", \"43\", \"44\", \"45\", \"46\", \"49\", \"50\"], \"mode\": \"markers\", \"name\": \"precision_score_macro\", \"stepped\": false, \"type\": \"scatter\", \"data\": [0.993673541445299, 0.9931408315683846, 0.9835767560334961, 0.9727810061551612, 0.9818738166159905, 0.9059751027072647, 0.9810030588683987, 0.915377360006475, 0.9055364390694185, 0.9917749880376358, 0.9846914688503061, 0.6198208624090358, 0.9510590774956638, 0.9920300158199984, 0.9373508025219497, 0.98342857811468, 0.9357147334404022, 0.9837856277234088, 0.9843933715980313, 0.9926548716974855, 0.8205383133366857, 0.984275894681933, 0.9934930946386868, 0.9926232988595627, 0.9883414622219341, 0.962811342390131, 0.985637769444111, 0.9825632076813966, 0.9847007231740527, 0.9787741998956495, 0.9943795874751817, 0.7476625639439974, 0.9702429063132861, 0.990756321153245, 0.9921231388017586, 0.9259689321293267, 0.620992051448592, 0.9830554956906035, 0.9903322247079991, 0.9843052618716517, 0.9562070124360724, 0.9847820514659483, 0.9884577714500553, 0.9800244607211729, 0.9891202225391227, 0.9932359256389045, 0.989231128436041, 0.9952023766397111, 0.9934817251246464]}, {\"categories\": [\"0\", \"1\", \"2\", \"3\", \"4\", \"5\", \"6\", \"7\", \"8\", \"9\", \"10\", \"11\", \"12\", \"13\", \"14\", \"15\", \"16\", \"17\", \"18\", \"19\", \"20\", \"21\", \"22\", \"23\", \"24\", \"25\", \"26\", \"27\", \"28\", \"29\", \"30\", \"31\", \"32\", \"33\", \"34\", \"35\", \"36\", \"37\", \"38\", \"39\", \"40\", \"41\", \"42\", \"43\", \"44\", \"45\", \"46\", \"49\", \"50\"], \"mode\": \"lines\", \"name\": \"precision_score_macro_max\", \"stepped\": true, \"type\": \"scatter\", \"data\": [0.993673541445299, 0.993673541445299, 0.993673541445299, 0.993673541445299, 0.993673541445299, 0.993673541445299, 0.993673541445299, 0.993673541445299, 0.993673541445299, 0.993673541445299, 0.993673541445299, 0.993673541445299, 0.993673541445299, 0.993673541445299, 0.993673541445299, 0.993673541445299, 0.993673541445299, 0.993673541445299, 0.993673541445299, 0.993673541445299, 0.993673541445299, 0.993673541445299, 0.993673541445299, 0.993673541445299, 0.993673541445299, 0.993673541445299, 0.993673541445299, 0.993673541445299, 0.993673541445299, 0.993673541445299, 0.9943795874751817, 0.9943795874751817, 0.9943795874751817, 0.9943795874751817, 0.9943795874751817, 0.9943795874751817, 0.9943795874751817, 0.9943795874751817, 0.9943795874751817, 0.9943795874751817, 0.9943795874751817, 0.9943795874751817, 0.9943795874751817, 0.9943795874751817, 0.9943795874751817, 0.9943795874751817, 0.9943795874751817, 0.9952023766397111, 0.9952023766397111]}], \"balanced_accuracy\": [{\"categories\": [\"0\", \"1\", \"2\", \"3\", \"4\", \"5\", \"6\", \"7\", \"8\", \"9\", \"10\", \"11\", \"12\", \"13\", \"14\", \"15\", \"16\", \"17\", \"18\", \"19\", \"20\", \"21\", \"22\", \"23\", \"24\", \"25\", \"26\", \"27\", \"28\", \"29\", \"30\", \"31\", \"32\", \"33\", \"34\", \"35\", \"36\", \"37\", \"38\", \"39\", \"40\", \"41\", \"42\", \"43\", \"44\", \"45\", \"46\", \"49\", \"50\"], \"mode\": \"markers\", \"name\": \"balanced_accuracy\", \"stepped\": false, \"type\": \"scatter\", \"data\": [0.9915031012818881, 0.9887390563038915, 0.9448955773003564, 0.8569902059789397, 0.9915088173505191, 0.9617241513301025, 0.9729457513952792, 0.9004959824227982, 0.8671093354479945, 0.9850483159536495, 0.9874621041888607, 0.5026999316473001, 0.9413247624074931, 0.9866012628844395, 0.6448505809158506, 0.9692151628580661, 0.6160748570801745, 0.9755029561463034, 0.9646093346115618, 0.9862982814818544, 0.5079438484957862, 0.9203906035735763, 0.9865822547056402, 0.9858819139212583, 0.9828452124459754, 0.8335247662833429, 0.9675360097801022, 0.9743360386211011, 0.9744309506359345, 0.9912804981318606, 0.9912516917905965, 0.8836749191796555, 0.8372944973220043, 0.9869272193092122, 0.9864648327902568, 0.5486450777296412, 0.5110814022578728, 0.9705355800282476, 0.9871809095991424, 0.9889397704059105, 0.9466943243243386, 0.972077101934077, 0.9697192150040385, 0.9735636140199004, 0.9814013771554302, 0.9852983222038058, 0.9871105118270732, 0.9916271426211825, 0.9899599466859648]}, {\"categories\": [\"0\", \"1\", \"2\", \"3\", \"4\", \"5\", \"6\", \"7\", \"8\", \"9\", \"10\", \"11\", \"12\", \"13\", \"14\", \"15\", \"16\", \"17\", \"18\", \"19\", \"20\", \"21\", \"22\", \"23\", \"24\", \"25\", \"26\", \"27\", \"28\", \"29\", \"30\", \"31\", \"32\", \"33\", \"34\", \"35\", \"36\", \"37\", \"38\", \"39\", \"40\", \"41\", \"42\", \"43\", \"44\", \"45\", \"46\", \"49\", \"50\"], \"mode\": \"lines\", \"name\": \"balanced_accuracy_max\", \"stepped\": true, \"type\": \"scatter\", \"data\": [0.9915031012818881, 0.9915031012818881, 0.9915031012818881, 0.9915031012818881, 0.9915088173505191, 0.9915088173505191, 0.9915088173505191, 0.9915088173505191, 0.9915088173505191, 0.9915088173505191, 0.9915088173505191, 0.9915088173505191, 0.9915088173505191, 0.9915088173505191, 0.9915088173505191, 0.9915088173505191, 0.9915088173505191, 0.9915088173505191, 0.9915088173505191, 0.9915088173505191, 0.9915088173505191, 0.9915088173505191, 0.9915088173505191, 0.9915088173505191, 0.9915088173505191, 0.9915088173505191, 0.9915088173505191, 0.9915088173505191, 0.9915088173505191, 0.9915088173505191, 0.9915088173505191, 0.9915088173505191, 0.9915088173505191, 0.9915088173505191, 0.9915088173505191, 0.9915088173505191, 0.9915088173505191, 0.9915088173505191, 0.9915088173505191, 0.9915088173505191, 0.9915088173505191, 0.9915088173505191, 0.9915088173505191, 0.9915088173505191, 0.9915088173505191, 0.9915088173505191, 0.9915088173505191, 0.9916271426211825, 0.9916271426211825]}], \"f1_score_macro\": [{\"categories\": [\"0\", \"1\", \"2\", \"3\", \"4\", \"5\", \"6\", \"7\", \"8\", \"9\", \"10\", \"11\", \"12\", \"13\", \"14\", \"15\", \"16\", \"17\", \"18\", \"19\", \"20\", \"21\", \"22\", \"23\", \"24\", \"25\", \"26\", \"27\", \"28\", \"29\", \"30\", \"31\", \"32\", \"33\", \"34\", \"35\", \"36\", \"37\", \"38\", \"39\", \"40\", \"41\", \"42\", \"43\", \"44\", \"45\", \"46\", \"49\", \"50\"], \"mode\": \"markers\", \"name\": \"f1_score_macro\", \"stepped\": false, \"type\": \"scatter\", \"data\": [0.9925085124906066, 0.9908518484100682, 0.9627197676699553, 0.8981219982879051, 0.9865735151975199, 0.9204548247353996, 0.9768494016933275, 0.9075530976646473, 0.8842660173010136, 0.9882764812180811, 0.9859488390873314, 0.46169418271337187, 0.9460666723618953, 0.9892117113840507, 0.6925000023606552, 0.9761066902741291, 0.6539055961910963, 0.9795102726129807, 0.974001473039848, 0.9893906953820073, 0.47230270092739224, 0.9487844870899209, 0.9899116818556148, 0.9891389192825037, 0.9854970804923084, 0.8821082598448973, 0.9762295374108672, 0.9782918406095018, 0.9794452840203455, 0.9847057541962094, 0.9927692714867365, 0.77524198711158, 0.8865430640544794, 0.9887206188920461, 0.9891720625767254, 0.5467206176344226, 0.4780377421435137, 0.9765966255387584, 0.988615904568308, 0.9864672500592281, 0.9512881429250172, 0.978200396338098, 0.9786077900427014, 0.9767085956884356, 0.9851203700066758, 0.9891210887942934, 0.9880259292875528, 0.9933655098771016, 0.9916554543035468]}, {\"categories\": [\"0\", \"1\", \"2\", \"3\", \"4\", \"5\", \"6\", \"7\", \"8\", \"9\", \"10\", \"11\", \"12\", \"13\", \"14\", \"15\", \"16\", \"17\", \"18\", \"19\", \"20\", \"21\", \"22\", \"23\", \"24\", \"25\", \"26\", \"27\", \"28\", \"29\", \"30\", \"31\", \"32\", \"33\", \"34\", \"35\", \"36\", \"37\", \"38\", \"39\", \"40\", \"41\", \"42\", \"43\", \"44\", \"45\", \"46\", \"49\", \"50\"], \"mode\": \"lines\", \"name\": \"f1_score_macro_max\", \"stepped\": true, \"type\": \"scatter\", \"data\": [0.9925085124906066, 0.9925085124906066, 0.9925085124906066, 0.9925085124906066, 0.9925085124906066, 0.9925085124906066, 0.9925085124906066, 0.9925085124906066, 0.9925085124906066, 0.9925085124906066, 0.9925085124906066, 0.9925085124906066, 0.9925085124906066, 0.9925085124906066, 0.9925085124906066, 0.9925085124906066, 0.9925085124906066, 0.9925085124906066, 0.9925085124906066, 0.9925085124906066, 0.9925085124906066, 0.9925085124906066, 0.9925085124906066, 0.9925085124906066, 0.9925085124906066, 0.9925085124906066, 0.9925085124906066, 0.9925085124906066, 0.9925085124906066, 0.9925085124906066, 0.9927692714867365, 0.9927692714867365, 0.9927692714867365, 0.9927692714867365, 0.9927692714867365, 0.9927692714867365, 0.9927692714867365, 0.9927692714867365, 0.9927692714867365, 0.9927692714867365, 0.9927692714867365, 0.9927692714867365, 0.9927692714867365, 0.9927692714867365, 0.9927692714867365, 0.9927692714867365, 0.9927692714867365, 0.9933655098771016, 0.9933655098771016]}], \"matthews_correlation\": [{\"categories\": [\"0\", \"1\", \"2\", \"3\", \"4\", \"5\", \"6\", \"7\", \"8\", \"9\", \"10\", \"11\", \"12\", \"13\", \"14\", \"15\", \"16\", \"17\", \"18\", \"19\", \"20\", \"21\", \"22\", \"23\", \"24\", \"25\", \"26\", \"27\", \"28\", \"29\", \"30\", \"31\", \"32\", \"33\", \"34\", \"35\", \"36\", \"37\", \"38\", \"39\", \"40\", \"41\", \"42\", \"43\", \"44\", \"45\", \"46\", \"49\", \"50\"], \"mode\": \"markers\", \"name\": \"matthews_correlation\", \"stepped\": false, \"type\": \"scatter\", \"data\": [0.9851259401708884, 0.9818241108918544, 0.9275145106522833, 0.8182651568220374, 0.9733068160997433, 0.8624160878752228, 0.9538700879663896, 0.8156505904859059, 0.7713933136018145, 0.9767364449932611, 0.9720723690682883, 0.04163417477933924, 0.8923062482721267, 0.978565495765295, 0.5033705166943313, 0.952511654048181, 0.4495708172790896, 0.9592042013638924, 0.9486968654433282, 0.978900139200196, 0.09912535708894343, 0.9023743348459389, 0.9799943308253644, 0.9784326446976565, 0.9711258702377809, 0.7853892884328908, 0.9529576338958543, 0.9568034745305555, 0.9590562733126264, 0.9698517255666722, 0.9856013364712319, 0.6158252847927747, 0.795865214597862, 0.9776058685889673, 0.9785099082582075, 0.2781659898229243, 0.08615142492683128, 0.9534681977429225, 0.9774223696918114, 0.9731448139247618, 0.9028005419275408, 0.9567170370944114, 0.9578648596961628, 0.9535353275205656, 0.9704312146004502, 0.9784401489983635, 0.9762482618549742, 0.9867988285615781, 0.9834002651766657]}, {\"categories\": [\"0\", \"1\", \"2\", \"3\", \"4\", \"5\", \"6\", \"7\", \"8\", \"9\", \"10\", \"11\", \"12\", \"13\", \"14\", \"15\", \"16\", \"17\", \"18\", \"19\", \"20\", \"21\", \"22\", \"23\", \"24\", \"25\", \"26\", \"27\", \"28\", \"29\", \"30\", \"31\", \"32\", \"33\", \"34\", \"35\", \"36\", \"37\", \"38\", \"39\", \"40\", \"41\", \"42\", \"43\", \"44\", \"45\", \"46\", \"49\", \"50\"], \"mode\": \"lines\", \"name\": \"matthews_correlation_max\", \"stepped\": true, \"type\": \"scatter\", \"data\": [0.9851259401708884, 0.9851259401708884, 0.9851259401708884, 0.9851259401708884, 0.9851259401708884, 0.9851259401708884, 0.9851259401708884, 0.9851259401708884, 0.9851259401708884, 0.9851259401708884, 0.9851259401708884, 0.9851259401708884, 0.9851259401708884, 0.9851259401708884, 0.9851259401708884, 0.9851259401708884, 0.9851259401708884, 0.9851259401708884, 0.9851259401708884, 0.9851259401708884, 0.9851259401708884, 0.9851259401708884, 0.9851259401708884, 0.9851259401708884, 0.9851259401708884, 0.9851259401708884, 0.9851259401708884, 0.9851259401708884, 0.9851259401708884, 0.9851259401708884, 0.9856013364712319, 0.9856013364712319, 0.9856013364712319, 0.9856013364712319, 0.9856013364712319, 0.9856013364712319, 0.9856013364712319, 0.9856013364712319, 0.9856013364712319, 0.9856013364712319, 0.9856013364712319, 0.9856013364712319, 0.9856013364712319, 0.9856013364712319, 0.9856013364712319, 0.9856013364712319, 0.9856013364712319, 0.9867988285615781, 0.9867988285615781]}], \"AUC_weighted\": [{\"categories\": [\"0\", \"1\", \"2\", \"3\", \"4\", \"5\", \"6\", \"7\", \"8\", \"9\", \"10\", \"11\", \"12\", \"13\", \"14\", \"15\", \"16\", \"17\", \"18\", \"19\", \"20\", \"21\", \"22\", \"23\", \"24\", \"25\", \"26\", \"27\", \"28\", \"29\", \"30\", \"31\", \"32\", \"33\", \"34\", \"35\", \"36\", \"37\", \"38\", \"39\", \"40\", \"41\", \"42\", \"43\", \"44\", \"45\", \"46\", \"49\", \"50\"], \"mode\": \"markers\", \"name\": \"AUC_weighted\", \"stepped\": false, \"type\": \"scatter\", \"data\": [0.9993010395780283, 0.9997647154977154, 0.9960612653211033, 0.9948067250238541, 0.9986175314346981, 0.9957626351572328, 0.9989812138361112, 0.9840442047594324, 0.980248136965956, 0.9993964755052316, 0.9991858418059915, 0.9956634829440105, 0.9943851654051603, 0.9996319759764776, 0.996650812358266, 0.9984537454254641, 0.9775209195641648, 0.9989924664256031, 0.9934171340775798, 0.9997014440698789, 0.9826167563253538, 0.9988450047128298, 0.9994687636346896, 0.99860368792853, 0.9992509342373769, 0.9687744899296524, 0.9954876484529281, 0.9988856382567987, 0.9989897411855793, 0.9968612754071116, 0.9998713516463015, 0.9591991347599154, 0.9982962540369211, 0.999130780782585, 0.9997258714508522, 0.9952849819987568, 0.9979933236531195, 0.9982454847604055, 0.9993403348310194, 0.998935177304474, 0.9924797049616974, 0.998837563073289, 0.9990994984506184, 0.9988007751589192, 0.9995646964092544, 0.9993229449680221, 0.9991606914680771, 0.9998172390586391, 0.999748779234045]}, {\"categories\": [\"0\", \"1\", \"2\", \"3\", \"4\", \"5\", \"6\", \"7\", \"8\", \"9\", \"10\", \"11\", \"12\", \"13\", \"14\", \"15\", \"16\", \"17\", \"18\", \"19\", \"20\", \"21\", \"22\", \"23\", \"24\", \"25\", \"26\", \"27\", \"28\", \"29\", \"30\", \"31\", \"32\", \"33\", \"34\", \"35\", \"36\", \"37\", \"38\", \"39\", \"40\", \"41\", \"42\", \"43\", \"44\", \"45\", \"46\", \"49\", \"50\"], \"mode\": \"lines\", \"name\": \"AUC_weighted_max\", \"stepped\": true, \"type\": \"scatter\", \"data\": [0.9993010395780283, 0.9997647154977154, 0.9997647154977154, 0.9997647154977154, 0.9997647154977154, 0.9997647154977154, 0.9997647154977154, 0.9997647154977154, 0.9997647154977154, 0.9997647154977154, 0.9997647154977154, 0.9997647154977154, 0.9997647154977154, 0.9997647154977154, 0.9997647154977154, 0.9997647154977154, 0.9997647154977154, 0.9997647154977154, 0.9997647154977154, 0.9997647154977154, 0.9997647154977154, 0.9997647154977154, 0.9997647154977154, 0.9997647154977154, 0.9997647154977154, 0.9997647154977154, 0.9997647154977154, 0.9997647154977154, 0.9997647154977154, 0.9997647154977154, 0.9998713516463015, 0.9998713516463015, 0.9998713516463015, 0.9998713516463015, 0.9998713516463015, 0.9998713516463015, 0.9998713516463015, 0.9998713516463015, 0.9998713516463015, 0.9998713516463015, 0.9998713516463015, 0.9998713516463015, 0.9998713516463015, 0.9998713516463015, 0.9998713516463015, 0.9998713516463015, 0.9998713516463015, 0.9998713516463015, 0.9998713516463015]}], \"AUC_micro\": [{\"categories\": [\"0\", \"1\", \"2\", \"3\", \"4\", \"5\", \"6\", \"7\", \"8\", \"9\", \"10\", \"11\", \"12\", \"13\", \"14\", \"15\", \"16\", \"17\", \"18\", \"19\", \"20\", \"21\", \"22\", \"23\", \"24\", \"25\", \"26\", \"27\", \"28\", \"29\", \"30\", \"31\", \"32\", \"33\", \"34\", \"35\", \"36\", \"37\", \"38\", \"39\", \"40\", \"41\", \"42\", \"43\", \"44\", \"45\", \"46\", \"49\", \"50\"], \"mode\": \"markers\", \"name\": \"AUC_micro\", \"stepped\": false, \"type\": \"scatter\", \"data\": [0.9996637584054886, 0.9997774134609683, 0.9970516554208398, 0.9911621312943684, 0.9985831192092254, 0.9836739889520215, 0.9993874602142363, 0.991411693930728, 0.9892058501701688, 0.999259827895775, 0.9995277918425634, 0.9726827226824156, 0.9966229115038054, 0.9989791430363718, 0.9784979230951757, 0.9990524403818212, 0.9713991389525374, 0.9994388902409372, 0.9971628261738896, 0.9997612203511015, 0.9691350831541217, 0.9972454120417765, 0.999729883193675, 0.9988155730508002, 0.9996218740694254, 0.9868230319956035, 0.9977640726408368, 0.9993352185113181, 0.9994483873863624, 0.9961918193331412, 0.9998885190425227, 0.9292956965615227, 0.989527494457386, 0.9995430202373653, 0.9997235096908741, 0.9734149600692776, 0.9733850431024402, 0.999064024122438, 0.999680503353256, 0.9993859534917409, 0.995941840543139, 0.9993382965214422, 0.9992954649465904, 0.9993394413392467, 0.9997117919654699, 0.9984006264154355, 0.9996227862342326, 0.9998778809629103, 0.9998628705361139]}, {\"categories\": [\"0\", \"1\", \"2\", \"3\", \"4\", \"5\", \"6\", \"7\", \"8\", \"9\", \"10\", \"11\", \"12\", \"13\", \"14\", \"15\", \"16\", \"17\", \"18\", \"19\", \"20\", \"21\", \"22\", \"23\", \"24\", \"25\", \"26\", \"27\", \"28\", \"29\", \"30\", \"31\", \"32\", \"33\", \"34\", \"35\", \"36\", \"37\", \"38\", \"39\", \"40\", \"41\", \"42\", \"43\", \"44\", \"45\", \"46\", \"49\", \"50\"], \"mode\": \"lines\", \"name\": \"AUC_micro_max\", \"stepped\": true, \"type\": \"scatter\", \"data\": [0.9996637584054886, 0.9997774134609683, 0.9997774134609683, 0.9997774134609683, 0.9997774134609683, 0.9997774134609683, 0.9997774134609683, 0.9997774134609683, 0.9997774134609683, 0.9997774134609683, 0.9997774134609683, 0.9997774134609683, 0.9997774134609683, 0.9997774134609683, 0.9997774134609683, 0.9997774134609683, 0.9997774134609683, 0.9997774134609683, 0.9997774134609683, 0.9997774134609683, 0.9997774134609683, 0.9997774134609683, 0.9997774134609683, 0.9997774134609683, 0.9997774134609683, 0.9997774134609683, 0.9997774134609683, 0.9997774134609683, 0.9997774134609683, 0.9997774134609683, 0.9998885190425227, 0.9998885190425227, 0.9998885190425227, 0.9998885190425227, 0.9998885190425227, 0.9998885190425227, 0.9998885190425227, 0.9998885190425227, 0.9998885190425227, 0.9998885190425227, 0.9998885190425227, 0.9998885190425227, 0.9998885190425227, 0.9998885190425227, 0.9998885190425227, 0.9998885190425227, 0.9998885190425227, 0.9998885190425227, 0.9998885190425227]}], \"recall_score_micro\": [{\"categories\": [\"0\", \"1\", \"2\", \"3\", \"4\", \"5\", \"6\", \"7\", \"8\", \"9\", \"10\", \"11\", \"12\", \"13\", \"14\", \"15\", \"16\", \"17\", \"18\", \"19\", \"20\", \"21\", \"22\", \"23\", \"24\", \"25\", \"26\", \"27\", \"28\", \"29\", \"30\", \"31\", \"32\", \"33\", \"34\", \"35\", \"36\", \"37\", \"38\", \"39\", \"40\", \"41\", \"42\", \"43\", \"44\", \"45\", \"46\", \"49\", \"50\"], \"mode\": \"markers\", \"name\": \"recall_score_micro\", \"stepped\": false, \"type\": \"scatter\", \"data\": [0.9959470068471485, 0.995093445715469, 0.9805844993662577, 0.9530698390954209, 0.9927455268253944, 0.9455755222970375, 0.9876266631471398, 0.9507182793154216, 0.9402652843421254, 0.993812762684519, 0.9925325347648097, 0.8397751295360368, 0.9714099118677083, 0.9942398845837894, 0.8854318891895151, 0.98719999635911, 0.8762577568022063, 0.9889073461780896, 0.9861341258337069, 0.9942403396950301, 0.8414822517993962, 0.9739724157077093, 0.9946663238161989, 0.9942396570281691, 0.9921074608661222, 0.9449561158986286, 0.9872009065815911, 0.988267232218235, 0.9889066635112288, 0.9916787460775099, 0.9961595437964925, 0.8371926008014509, 0.9468796435568765, 0.994026209856344, 0.9942396570281691, 0.8540701736021827, 0.8425490325472804, 0.9874138986421755, 0.9940259823007238, 0.9927462094922552, 0.9737589685358845, 0.9882670046626145, 0.9889052981775069, 0.9874132159753147, 0.9921060955324006, 0.9942396570281691, 0.9935997706239348, 0.9963736736351784, 0.9955198849478784]}, {\"categories\": [\"0\", \"1\", \"2\", \"3\", \"4\", \"5\", \"6\", \"7\", \"8\", \"9\", \"10\", \"11\", \"12\", \"13\", \"14\", \"15\", \"16\", \"17\", \"18\", \"19\", \"20\", \"21\", \"22\", \"23\", \"24\", \"25\", \"26\", \"27\", \"28\", \"29\", \"30\", \"31\", \"32\", \"33\", \"34\", \"35\", \"36\", \"37\", \"38\", \"39\", \"40\", \"41\", \"42\", \"43\", \"44\", \"45\", \"46\", \"49\", \"50\"], \"mode\": \"lines\", \"name\": \"recall_score_micro_max\", \"stepped\": true, \"type\": \"scatter\", \"data\": [0.9959470068471485, 0.9959470068471485, 0.9959470068471485, 0.9959470068471485, 0.9959470068471485, 0.9959470068471485, 0.9959470068471485, 0.9959470068471485, 0.9959470068471485, 0.9959470068471485, 0.9959470068471485, 0.9959470068471485, 0.9959470068471485, 0.9959470068471485, 0.9959470068471485, 0.9959470068471485, 0.9959470068471485, 0.9959470068471485, 0.9959470068471485, 0.9959470068471485, 0.9959470068471485, 0.9959470068471485, 0.9959470068471485, 0.9959470068471485, 0.9959470068471485, 0.9959470068471485, 0.9959470068471485, 0.9959470068471485, 0.9959470068471485, 0.9959470068471485, 0.9961595437964925, 0.9961595437964925, 0.9961595437964925, 0.9961595437964925, 0.9961595437964925, 0.9961595437964925, 0.9961595437964925, 0.9961595437964925, 0.9961595437964925, 0.9961595437964925, 0.9961595437964925, 0.9961595437964925, 0.9961595437964925, 0.9961595437964925, 0.9961595437964925, 0.9961595437964925, 0.9961595437964925, 0.9963736736351784, 0.9963736736351784]}], \"AUC_macro\": [{\"categories\": [\"0\", \"1\", \"2\", \"3\", \"4\", \"5\", \"6\", \"7\", \"8\", \"9\", \"10\", \"11\", \"12\", \"13\", \"14\", \"15\", \"16\", \"17\", \"18\", \"19\", \"20\", \"21\", \"22\", \"23\", \"24\", \"25\", \"26\", \"27\", \"28\", \"29\", \"30\", \"31\", \"32\", \"33\", \"34\", \"35\", \"36\", \"37\", \"38\", \"39\", \"40\", \"41\", \"42\", \"43\", \"44\", \"45\", \"46\", \"49\", \"50\"], \"mode\": \"markers\", \"name\": \"AUC_macro\", \"stepped\": false, \"type\": \"scatter\", \"data\": [0.9993010395780283, 0.9997647154977154, 0.9960612653211033, 0.9948067250238543, 0.9986175314346981, 0.9957626351572328, 0.9989812138361114, 0.9840442047594324, 0.980248136965956, 0.9993964755052316, 0.9991858418059915, 0.9956634829440105, 0.9943851654051603, 0.9996319759764776, 0.996650812358266, 0.9984537454254638, 0.9775209195641648, 0.998992466425603, 0.9934171340775798, 0.9997014440698792, 0.9826167563253538, 0.9988450047128298, 0.9994687636346896, 0.9986036879285299, 0.9992509342373769, 0.9687744899296524, 0.9954876484529281, 0.9988856382567987, 0.9989897411855793, 0.9968612754071116, 0.9998713516463015, 0.9591991347599155, 0.9982962540369211, 0.999130780782585, 0.9997258714508522, 0.9952849819987568, 0.9979933236531195, 0.9982454847604055, 0.9993403348310194, 0.998935177304474, 0.9924797049616974, 0.998837563073289, 0.9990994984506184, 0.9988007751589192, 0.9995646964092544, 0.9993229449680221, 0.9991606914680771, 0.9998172390586391, 0.999748779234045]}, {\"categories\": [\"0\", \"1\", \"2\", \"3\", \"4\", \"5\", \"6\", \"7\", \"8\", \"9\", \"10\", \"11\", \"12\", \"13\", \"14\", \"15\", \"16\", \"17\", \"18\", \"19\", \"20\", \"21\", \"22\", \"23\", \"24\", \"25\", \"26\", \"27\", \"28\", \"29\", \"30\", \"31\", \"32\", \"33\", \"34\", \"35\", \"36\", \"37\", \"38\", \"39\", \"40\", \"41\", \"42\", \"43\", \"44\", \"45\", \"46\", \"49\", \"50\"], \"mode\": \"lines\", \"name\": \"AUC_macro_max\", \"stepped\": true, \"type\": \"scatter\", \"data\": [0.9993010395780283, 0.9997647154977154, 0.9997647154977154, 0.9997647154977154, 0.9997647154977154, 0.9997647154977154, 0.9997647154977154, 0.9997647154977154, 0.9997647154977154, 0.9997647154977154, 0.9997647154977154, 0.9997647154977154, 0.9997647154977154, 0.9997647154977154, 0.9997647154977154, 0.9997647154977154, 0.9997647154977154, 0.9997647154977154, 0.9997647154977154, 0.9997647154977154, 0.9997647154977154, 0.9997647154977154, 0.9997647154977154, 0.9997647154977154, 0.9997647154977154, 0.9997647154977154, 0.9997647154977154, 0.9997647154977154, 0.9997647154977154, 0.9997647154977154, 0.9998713516463015, 0.9998713516463015, 0.9998713516463015, 0.9998713516463015, 0.9998713516463015, 0.9998713516463015, 0.9998713516463015, 0.9998713516463015, 0.9998713516463015, 0.9998713516463015, 0.9998713516463015, 0.9998713516463015, 0.9998713516463015, 0.9998713516463015, 0.9998713516463015, 0.9998713516463015, 0.9998713516463015, 0.9998713516463015, 0.9998713516463015]}]}, \"metricName\": null, \"primaryMetricName\": \"accuracy\", \"showLegend\": false}, \"run_metrics\": [{\"name\": \"experiment_status\", \"run_id\": \"AutoML_5af2e08d-eba9-459a-a547-7028c821b365\", \"categories\": [0, 1, 2, 3, 4, 5, 6, 7, 8, 9, 10, 11, 12, 13, 14], \"series\": [{\"data\": [\"DatasetEvaluation\", \"FeaturesGeneration\", \"DatasetFeaturization\", \"DatasetFeaturizationCompleted\", \"DatasetBalancing\", \"DatasetCrossValidationSplit\", \"ModelSelection\", \"BestRunExplainModel\", \"ModelExplanationDataSetSetup\", \"PickSurrogateModel\", \"EngineeredFeatureExplanations\", \"EngineeredFeatureExplanations\", \"RawFeaturesExplanations\", \"RawFeaturesExplanations\", \"BestRunExplainModel\"]}]}, {\"name\": \"experiment_status_description\", \"run_id\": \"AutoML_5af2e08d-eba9-459a-a547-7028c821b365\", \"categories\": [0, 1, 2, 3, 4, 5, 6, 7, 8, 9, 10, 11, 12, 13, 14], \"series\": [{\"data\": [\"Gathering dataset statistics.\", \"Generating features for the dataset.\", \"Beginning to fit featurizers and featurize the dataset.\", \"Completed fit featurizers and featurizing the dataset.\", \"Performing class balancing sweeping\", \"Generating individually featurized CV splits.\", \"Beginning model selection.\", \"Best run model explanations started\", \"Model explanations data setup completed\", \"Choosing LightGBM as the surrogate model for explanations\", \"Computation of engineered features started\", \"Computation of engineered features completed\", \"Computation of raw features started\", \"Computation of raw features completed\", \"Best run model explanations completed\"]}]}, {\"name\": \"AUC_micro\", \"run_id\": \"AutoML_5af2e08d-eba9-459a-a547-7028c821b365\", \"categories\": [0], \"series\": [{\"data\": [0.9998778809629103]}]}, {\"name\": \"norm_macro_recall\", \"run_id\": \"AutoML_5af2e08d-eba9-459a-a547-7028c821b365\", \"categories\": [0], \"series\": [{\"data\": [0.9832542852423648]}]}, {\"name\": \"accuracy\", \"run_id\": \"AutoML_5af2e08d-eba9-459a-a547-7028c821b365\", \"categories\": [0], \"series\": [{\"data\": [0.9963736736351784]}]}, {\"name\": \"matthews_correlation\", \"run_id\": \"AutoML_5af2e08d-eba9-459a-a547-7028c821b365\", \"categories\": [0], \"series\": [{\"data\": [0.9867988285615781]}]}, {\"name\": \"recall_score_weighted\", \"run_id\": \"AutoML_5af2e08d-eba9-459a-a547-7028c821b365\", \"categories\": [0], \"series\": [{\"data\": [0.9963736736351784]}]}, {\"name\": \"average_precision_score_weighted\", \"run_id\": \"AutoML_5af2e08d-eba9-459a-a547-7028c821b365\", \"categories\": [0], \"series\": [{\"data\": [0.9998255392737206]}]}, {\"name\": \"balanced_accuracy\", \"run_id\": \"AutoML_5af2e08d-eba9-459a-a547-7028c821b365\", \"categories\": [0], \"series\": [{\"data\": [0.9916271426211825]}]}, {\"name\": \"recall_score_macro\", \"run_id\": \"AutoML_5af2e08d-eba9-459a-a547-7028c821b365\", \"categories\": [0], \"series\": [{\"data\": [0.9916271426211825]}]}, {\"name\": \"precision_score_macro\", \"run_id\": \"AutoML_5af2e08d-eba9-459a-a547-7028c821b365\", \"categories\": [0], \"series\": [{\"data\": [0.9952023766397111]}]}, {\"name\": \"precision_score_weighted\", \"run_id\": \"AutoML_5af2e08d-eba9-459a-a547-7028c821b365\", \"categories\": [0], \"series\": [{\"data\": [0.9963905651855353]}]}, {\"name\": \"f1_score_weighted\", \"run_id\": \"AutoML_5af2e08d-eba9-459a-a547-7028c821b365\", \"categories\": [0], \"series\": [{\"data\": [0.9963634100290408]}]}, {\"name\": \"log_loss\", \"run_id\": \"AutoML_5af2e08d-eba9-459a-a547-7028c821b365\", \"categories\": [0], \"series\": [{\"data\": [0.03403913563592598]}]}, {\"name\": \"average_precision_score_micro\", \"run_id\": \"AutoML_5af2e08d-eba9-459a-a547-7028c821b365\", \"categories\": [0], \"series\": [{\"data\": [0.9998791244881131]}]}, {\"name\": \"AUC_weighted\", \"run_id\": \"AutoML_5af2e08d-eba9-459a-a547-7028c821b365\", \"categories\": [0], \"series\": [{\"data\": [0.9998172390586391]}]}, {\"name\": \"recall_score_micro\", \"run_id\": \"AutoML_5af2e08d-eba9-459a-a547-7028c821b365\", \"categories\": [0], \"series\": [{\"data\": [0.9963736736351784]}]}, {\"name\": \"f1_score_macro\", \"run_id\": \"AutoML_5af2e08d-eba9-459a-a547-7028c821b365\", \"categories\": [0], \"series\": [{\"data\": [0.9933655098771016]}]}, {\"name\": \"f1_score_micro\", \"run_id\": \"AutoML_5af2e08d-eba9-459a-a547-7028c821b365\", \"categories\": [0], \"series\": [{\"data\": [0.9963736736351784]}]}, {\"name\": \"average_precision_score_macro\", \"run_id\": \"AutoML_5af2e08d-eba9-459a-a547-7028c821b365\", \"categories\": [0], \"series\": [{\"data\": [0.9995436447690423]}]}, {\"name\": \"AUC_macro\", \"run_id\": \"AutoML_5af2e08d-eba9-459a-a547-7028c821b365\", \"categories\": [0], \"series\": [{\"data\": [0.9998172390586391]}]}, {\"name\": \"precision_score_micro\", \"run_id\": \"AutoML_5af2e08d-eba9-459a-a547-7028c821b365\", \"categories\": [0], \"series\": [{\"data\": [0.9963736736351784]}]}, {\"name\": \"weighted_accuracy\", \"run_id\": \"AutoML_5af2e08d-eba9-459a-a547-7028c821b365\", \"categories\": [0], \"series\": [{\"data\": [0.9981810787968974]}]}], \"run_logs\": \"\\nRun is completed.\", \"graph\": {}, \"widget_settings\": {\"childWidgetDisplay\": \"popup\", \"send_telemetry\": false, \"log_level\": \"INFO\", \"sdk_version\": \"1.20.0\"}, \"loading\": false}"
          },
          "metadata": {}
        }
      ],
      "execution_count": 9,
      "metadata": {
        "collapsed": true,
        "gather": {
          "logged": 1612454138885
        },
        "jupyter": {
          "outputs_hidden": false,
          "source_hidden": false
        },
        "nteract": {
          "transient": {
            "deleting": false
          }
        }
      }
    },
    {
      "cell_type": "code",
      "source": [
        "automl_run.wait_for_completion(show_output=True)"
      ],
      "outputs": [
        {
          "output_type": "stream",
          "name": "stdout",
          "text": [
            "\n",
            "Current status: FeaturesGeneration. Generating features for the dataset.\n",
            "Current status: DatasetBalancing. Performing class balancing sweeping\n",
            "Current status: DatasetCrossValidationSplit. Generating individually featurized CV splits.\n",
            "Current status: ModelSelection. Beginning model selection.\n",
            "\n",
            "****************************************************************************************************\n",
            "DATA GUARDRAILS: \n",
            "\n",
            "TYPE:         Class balancing detection\n",
            "STATUS:       ALERTED\n",
            "DESCRIPTION:  To decrease model bias, please cancel the current run and fix balancing problem.\n",
            "              Learn more about imbalanced data: https://aka.ms/AutomatedMLImbalancedData\n",
            "DETAILS:      Imbalanced data can lead to a falsely perceived positive effect of a model's accuracy because the input data has bias towards one class.\n",
            "+---------------------------------+---------------------------------+--------------------------------------+\n",
            "|Size of the smallest class       |Name/Label of the smallest class |Number of samples in the training data|\n",
            "+=================================+=================================+======================================+\n",
            "|755                              |1                                |4687                                  |\n",
            "+---------------------------------+---------------------------------+--------------------------------------+\n",
            "\n",
            "****************************************************************************************************\n",
            "\n",
            "TYPE:         Missing feature values imputation\n",
            "STATUS:       PASSED\n",
            "DESCRIPTION:  No feature missing values were detected in the training data.\n",
            "              Learn more about missing value imputation: https://aka.ms/AutomatedMLFeaturization\n",
            "\n",
            "****************************************************************************************************\n",
            "\n",
            "TYPE:         High cardinality feature detection\n",
            "STATUS:       PASSED\n",
            "DESCRIPTION:  Your inputs were analyzed, and no high cardinality features were detected.\n",
            "              Learn more about high cardinality feature handling: https://aka.ms/AutomatedMLFeaturization\n",
            "\n",
            "****************************************************************************************************\n",
            "\n",
            "****************************************************************************************************\n",
            "ITERATION: The iteration being evaluated.\n",
            "PIPELINE: A summary description of the pipeline being evaluated.\n",
            "DURATION: Time taken for the current iteration.\n",
            "METRIC: The result of computing score on the fitted pipeline.\n",
            "BEST: The best observed score thus far.\n",
            "****************************************************************************************************\n",
            "\n",
            " ITERATION   PIPELINE                                       DURATION      METRIC      BEST\n",
            "         2   MaxAbsScaler RandomForest                      0:00:55       0.9806    0.9806\n",
            "         3   MaxAbsScaler RandomForest                      0:00:59       0.9531    0.9806\n",
            "         1   MaxAbsScaler XGBoostClassifier                 0:00:58       0.9951    0.9951\n",
            "         6   SparseNormalizer XGBoostClassifier             0:01:01       0.9876    0.9951\n",
            "         7   MaxAbsScaler LogisticRegression                0:00:55       0.9507    0.9951\n",
            "         8   MaxAbsScaler LogisticRegression                0:01:01       0.9403    0.9951\n",
            "         4   MaxAbsScaler RandomForest                      0:03:23       0.9927    0.9951\n",
            "         0   MaxAbsScaler LightGBM                          0:03:31       0.9959    0.9959\n",
            "         5   MaxAbsScaler RandomForest                      0:03:30       0.9456    0.9959\n",
            "         9   MaxAbsScaler LightGBM                          0:01:01       0.9938    0.9959\n",
            "        11   MaxAbsScaler LightGBM                          0:00:52       0.8398    0.9959\n",
            "        10   StandardScalerWrapper RandomForest             0:01:17       0.9925    0.9959\n",
            "        12   SparseNormalizer LightGBM                      0:00:48       0.9714    0.9959\n",
            "        13   MaxAbsScaler LightGBM                          0:00:53       0.9942    0.9959\n",
            "        14   MaxAbsScaler LightGBM                          0:01:11       0.8854    0.9959\n",
            "        15   SparseNormalizer XGBoostClassifier             0:00:57       0.9872    0.9959\n",
            "        16   MaxAbsScaler LightGBM                          0:00:57       0.8763    0.9959\n",
            "        17   SparseNormalizer XGBoostClassifier             0:00:53       0.9889    0.9959\n",
            "        19   StandardScalerWrapper LightGBM                 0:00:43       0.9942    0.9959\n",
            "        18   SparseNormalizer XGBoostClassifier             0:01:05       0.9861    0.9959\n",
            "        20   StandardScalerWrapper LightGBM                 0:00:45       0.8415    0.9959\n",
            "        21   StandardScalerWrapper RandomForest             0:00:52       0.9740    0.9959\n",
            "        22   MaxAbsScaler LightGBM                          0:00:52       0.9947    0.9959\n",
            "        23   MaxAbsScaler LightGBM                          0:00:46       0.9942    0.9959\n",
            "        24   MaxAbsScaler LightGBM                          0:01:02       0.9921    0.9959\n",
            "        25   SparseNormalizer LightGBM                      0:01:03       0.9450    0.9959\n",
            "        26   SparseNormalizer XGBoostClassifier             0:00:57       0.9872    0.9959\n",
            "        27   SparseNormalizer XGBoostClassifier             0:01:06       0.9883    0.9959\n",
            "        28   SparseNormalizer XGBoostClassifier             0:00:55       0.9889    0.9959\n",
            "        29   MaxAbsScaler RandomForest                      0:01:00       0.9917    0.9959\n",
            "        30   MaxAbsScaler LightGBM                          0:00:51       0.9962    0.9962\n",
            "        31   StandardScalerWrapper ExtremeRandomTrees       0:00:59       0.8372    0.9962\n",
            "        32   MaxAbsScaler GradientBoosting                  0:00:59       0.9469    0.9962\n",
            "        33   MaxAbsScaler GradientBoosting                  0:01:00       0.9940    0.9962\n",
            "        34   StandardScalerWrapper XGBoostClassifier        0:00:55       0.9942    0.9962\n",
            "        36   MaxAbsScaler RandomForest                      0:00:49       0.8425    0.9962\n",
            "        35   StandardScalerWrapper LightGBM                 0:01:09       0.8541    0.9962\n",
            "        37   SparseNormalizer XGBoostClassifier             0:00:58       0.9874    0.9962\n",
            "        38   StandardScalerWrapper XGBoostClassifier        0:01:01       0.9940    0.9962\n",
            "        39   MaxAbsScaler RandomForest                      0:01:18       0.9927    0.9962\n",
            "        40   SparseNormalizer LightGBM                      0:01:05       0.9738    0.9962\n",
            "        41   SparseNormalizer XGBoostClassifier             0:01:03       0.9883    0.9962\n",
            "        42   MaxAbsScaler LightGBM                          0:00:50       0.9889    0.9962\n",
            "        43   SparseNormalizer XGBoostClassifier             0:01:00       0.9874    0.9962\n",
            "        45   StandardScalerWrapper LightGBM                 0:00:48       0.9942    0.9962\n",
            "        44   StandardScalerWrapper XGBoostClassifier        0:01:03       0.9921    0.9962\n",
            "        46   StandardScalerWrapper XGBoostClassifier        0:00:54       0.9936    0.9962\n",
            "        47                                                  0:00:25          nan    0.9962\n",
            "        48                                                  0:00:24          nan    0.9962\n",
            "        49    VotingEnsemble                                0:01:50       0.9964    0.9964\n",
            "        50    StackEnsemble                                 0:01:48       0.9955    0.9964\n"
          ]
        },
        {
          "output_type": "execute_result",
          "execution_count": 10,
          "data": {
            "text/plain": "{'runId': 'AutoML_5af2e08d-eba9-459a-a547-7028c821b365',\n 'target': 'cpu-cluster',\n 'status': 'Completed',\n 'startTimeUtc': '2021-02-04T15:55:43.072891Z',\n 'endTimeUtc': '2021-02-04T16:20:36.103464Z',\n 'properties': {'num_iterations': '1000',\n  'training_type': 'TrainFull',\n  'acquisition_function': 'EI',\n  'primary_metric': 'accuracy',\n  'train_split': '0',\n  'acquisition_parameter': '0',\n  'num_cross_validation': '5',\n  'target': 'cpu-cluster',\n  'AMLSettingsJsonString': '{\"path\":null,\"name\":\"capstone_automl\",\"subscription_id\":\"61c5c3f0-6dc7-4ed9-a7f3-c704b20e3b30\",\"resource_group\":\"aml-quickstarts-137239\",\"workspace_name\":\"quick-starts-ws-137239\",\"region\":\"southcentralus\",\"compute_target\":\"cpu-cluster\",\"spark_service\":null,\"azure_service\":\"remote\",\"many_models\":false,\"pipeline_fetch_max_batch_size\":1,\"iterations\":1000,\"primary_metric\":\"accuracy\",\"task_type\":\"classification\",\"data_script\":null,\"validation_size\":0.0,\"n_cross_validations\":5,\"y_min\":null,\"y_max\":null,\"num_classes\":null,\"featurization\":\"auto\",\"_ignore_package_version_incompatibilities\":false,\"is_timeseries\":false,\"max_cores_per_iteration\":1,\"max_concurrent_iterations\":5,\"iteration_timeout_minutes\":null,\"mem_in_mb\":null,\"enforce_time_on_windows\":false,\"experiment_timeout_minutes\":30,\"experiment_exit_score\":null,\"whitelist_models\":null,\"blacklist_algos\":[\"TensorFlowLinearClassifier\",\"TensorFlowDNN\"],\"supported_models\":[\"KNN\",\"AveragedPerceptronClassifier\",\"LightGBM\",\"LinearSVM\",\"DecisionTree\",\"XGBoostClassifier\",\"GradientBoosting\",\"BernoulliNaiveBayes\",\"MultinomialNaiveBayes\",\"SGD\",\"TensorFlowDNN\",\"SVM\",\"RandomForest\",\"ExtremeRandomTrees\",\"TensorFlowLinearClassifier\",\"LogisticRegression\"],\"auto_blacklist\":true,\"blacklist_samples_reached\":false,\"exclude_nan_labels\":true,\"verbosity\":20,\"_debug_log\":\"azureml_automl.log\",\"show_warnings\":false,\"model_explainability\":true,\"service_url\":null,\"sdk_url\":null,\"sdk_packages\":null,\"enable_onnx_compatible_models\":false,\"enable_split_onnx_featurizer_estimator_models\":false,\"vm_type\":\"STANDARD_D2_V2\",\"telemetry_verbosity\":20,\"send_telemetry\":true,\"enable_dnn\":false,\"scenario\":\"SDK-1.13.0\",\"environment_label\":null,\"force_text_dnn\":false,\"enable_feature_sweeping\":true,\"enable_early_stopping\":true,\"early_stopping_n_iters\":10,\"metrics\":null,\"enable_ensembling\":true,\"enable_stack_ensembling\":true,\"ensemble_iterations\":15,\"enable_tf\":false,\"enable_subsampling\":null,\"subsample_seed\":null,\"enable_nimbusml\":false,\"enable_streaming\":false,\"force_streaming\":false,\"track_child_runs\":true,\"allowed_private_models\":[],\"label_column_name\":\"Hazardous\",\"weight_column_name\":null,\"cv_split_column_names\":null,\"enable_local_managed\":false,\"_local_managed_run_id\":null,\"cost_mode\":1,\"lag_length\":0,\"metric_operation\":\"maximize\",\"preprocess\":true}',\n  'DataPrepJsonString': '{\\\\\"training_data\\\\\": \\\\\"{\\\\\\\\\\\\\"blocks\\\\\\\\\\\\\": [{\\\\\\\\\\\\\"id\\\\\\\\\\\\\": \\\\\\\\\\\\\"d9c0f24e-fecb-4c10-bd51-cabe8aa41445\\\\\\\\\\\\\", \\\\\\\\\\\\\"type\\\\\\\\\\\\\": \\\\\\\\\\\\\"Microsoft.DPrep.GetDatastoreFilesBlock\\\\\\\\\\\\\", \\\\\\\\\\\\\"arguments\\\\\\\\\\\\\": {\\\\\\\\\\\\\"datastores\\\\\\\\\\\\\": [{\\\\\\\\\\\\\"datastoreName\\\\\\\\\\\\\": \\\\\\\\\\\\\"workspaceblobstore\\\\\\\\\\\\\", \\\\\\\\\\\\\"path\\\\\\\\\\\\\": \\\\\\\\\\\\\"managed-dataset/2e745193-889c-4d17-9f23-902ac60aa4c5/\\\\\\\\\\\\\", \\\\\\\\\\\\\"resourceGroup\\\\\\\\\\\\\": \\\\\\\\\\\\\"aml-quickstarts-137239\\\\\\\\\\\\\", \\\\\\\\\\\\\"subscription\\\\\\\\\\\\\": \\\\\\\\\\\\\"61c5c3f0-6dc7-4ed9-a7f3-c704b20e3b30\\\\\\\\\\\\\", \\\\\\\\\\\\\"workspaceName\\\\\\\\\\\\\": \\\\\\\\\\\\\"quick-starts-ws-137239\\\\\\\\\\\\\"}]}, \\\\\\\\\\\\\"localData\\\\\\\\\\\\\": {}, \\\\\\\\\\\\\"isEnabled\\\\\\\\\\\\\": true, \\\\\\\\\\\\\"name\\\\\\\\\\\\\": null, \\\\\\\\\\\\\"annotation\\\\\\\\\\\\\": null}, {\\\\\\\\\\\\\"id\\\\\\\\\\\\\": \\\\\\\\\\\\\"da6d8877-ea75-441f-8019-7944a7d53c37\\\\\\\\\\\\\", \\\\\\\\\\\\\"type\\\\\\\\\\\\\": \\\\\\\\\\\\\"Microsoft.DPrep.ReadParquetFileBlock\\\\\\\\\\\\\", \\\\\\\\\\\\\"arguments\\\\\\\\\\\\\": {\\\\\\\\\\\\\"preview\\\\\\\\\\\\\": false}, \\\\\\\\\\\\\"localData\\\\\\\\\\\\\": {}, \\\\\\\\\\\\\"isEnabled\\\\\\\\\\\\\": true, \\\\\\\\\\\\\"name\\\\\\\\\\\\\": null, \\\\\\\\\\\\\"annotation\\\\\\\\\\\\\": null}, {\\\\\\\\\\\\\"id\\\\\\\\\\\\\": \\\\\\\\\\\\\"5cb45b23-a9e1-4807-abd8-555b2a25eb9c\\\\\\\\\\\\\", \\\\\\\\\\\\\"type\\\\\\\\\\\\\": \\\\\\\\\\\\\"Microsoft.DPrep.DropColumnsBlock\\\\\\\\\\\\\", \\\\\\\\\\\\\"arguments\\\\\\\\\\\\\": {\\\\\\\\\\\\\"columns\\\\\\\\\\\\\": {\\\\\\\\\\\\\"type\\\\\\\\\\\\\": 0, \\\\\\\\\\\\\"details\\\\\\\\\\\\\": {\\\\\\\\\\\\\"selectedColumns\\\\\\\\\\\\\": [\\\\\\\\\\\\\"Path\\\\\\\\\\\\\"]}}}, \\\\\\\\\\\\\"localData\\\\\\\\\\\\\": {}, \\\\\\\\\\\\\"isEnabled\\\\\\\\\\\\\": true, \\\\\\\\\\\\\"name\\\\\\\\\\\\\": null, \\\\\\\\\\\\\"annotation\\\\\\\\\\\\\": null}], \\\\\\\\\\\\\"inspectors\\\\\\\\\\\\\": [], \\\\\\\\\\\\\"meta\\\\\\\\\\\\\": {\\\\\\\\\\\\\"savedDatasetId\\\\\\\\\\\\\": \\\\\\\\\\\\\"8b5e12bf-030c-4cf7-8022-fdc0d8561d0d\\\\\\\\\\\\\", \\\\\\\\\\\\\"datasetType\\\\\\\\\\\\\": \\\\\\\\\\\\\"tabular\\\\\\\\\\\\\", \\\\\\\\\\\\\"subscriptionId\\\\\\\\\\\\\": \\\\\\\\\\\\\"61c5c3f0-6dc7-4ed9-a7f3-c704b20e3b30\\\\\\\\\\\\\", \\\\\\\\\\\\\"workspaceId\\\\\\\\\\\\\": \\\\\\\\\\\\\"d002fa87-dd38-4360-823f-7a404f062385\\\\\\\\\\\\\", \\\\\\\\\\\\\"workspaceLocation\\\\\\\\\\\\\": \\\\\\\\\\\\\"southcentralus\\\\\\\\\\\\\"}}\\\\\", \\\\\"activities\\\\\": 0}',\n  'EnableSubsampling': None,\n  'runTemplate': 'AutoML',\n  'azureml.runsource': 'automl',\n  'display_task_type': 'classification',\n  'dependencies_versions': '{\"azureml-widgets\": \"1.20.0\", \"azureml-train\": \"1.20.0\", \"azureml-train-restclients-hyperdrive\": \"1.20.0\", \"azureml-train-core\": \"1.20.0\", \"azureml-train-automl\": \"1.20.0\", \"azureml-train-automl-runtime\": \"1.20.0\", \"azureml-train-automl-client\": \"1.20.0\", \"azureml-tensorboard\": \"1.20.0\", \"azureml-telemetry\": \"1.20.0\", \"azureml-sdk\": \"1.20.0\", \"azureml-samples\": \"0+unknown\", \"azureml-pipeline\": \"1.20.0\", \"azureml-pipeline-steps\": \"1.20.0\", \"azureml-pipeline-core\": \"1.20.0\", \"azureml-opendatasets\": \"1.20.0\", \"azureml-model-management-sdk\": \"1.0.1b6.post1\", \"azureml-mlflow\": \"1.20.0.post1\", \"azureml-interpret\": \"1.20.0\", \"azureml-explain-model\": \"1.20.0\", \"azureml-defaults\": \"1.20.0\", \"azureml-dataset-runtime\": \"1.20.0\", \"azureml-dataprep\": \"2.7.3\", \"azureml-dataprep-rslex\": \"1.5.0\", \"azureml-dataprep-native\": \"27.0.0\", \"azureml-datadrift\": \"1.20.0\", \"azureml-core\": \"1.20.0\", \"azureml-contrib-services\": \"1.20.0\", \"azureml-contrib-server\": \"1.20.0\", \"azureml-contrib-reinforcementlearning\": \"1.20.0\", \"azureml-contrib-pipeline-steps\": \"1.20.0\", \"azureml-contrib-notebook\": \"1.20.0\", \"azureml-contrib-interpret\": \"1.20.0\", \"azureml-contrib-gbdt\": \"1.20.0\", \"azureml-contrib-fairness\": \"1.20.0\", \"azureml-contrib-dataset\": \"1.20.0\", \"azureml-cli-common\": \"1.20.0\", \"azureml-automl-runtime\": \"1.20.0\", \"azureml-automl-core\": \"1.20.0\", \"azureml-accel-models\": \"1.20.0\"}',\n  '_aml_system_scenario_identification': 'Remote.Parent',\n  'ClientType': 'SDK',\n  'environment_cpu_name': 'AzureML-AutoML',\n  'environment_cpu_label': 'prod',\n  'environment_gpu_name': 'AzureML-AutoML-GPU',\n  'environment_gpu_label': 'prod',\n  'root_attribution': 'automl',\n  'attribution': 'AutoML',\n  'Orchestrator': 'AutoML',\n  'CancelUri': 'https://southcentralus.experiments.azureml.net/jasmine/v1.0/subscriptions/61c5c3f0-6dc7-4ed9-a7f3-c704b20e3b30/resourceGroups/aml-quickstarts-137239/providers/Microsoft.MachineLearningServices/workspaces/quick-starts-ws-137239/experimentids/926c356c-c3f0-4d50-9b05-0b1605d32902/cancel/AutoML_5af2e08d-eba9-459a-a547-7028c821b365',\n  'ClientSdkVersion': '1.21.0',\n  'snapshotId': '00000000-0000-0000-0000-000000000000',\n  'SetupRunId': 'AutoML_5af2e08d-eba9-459a-a547-7028c821b365_setup',\n  'SetupRunContainerId': 'dcid.AutoML_5af2e08d-eba9-459a-a547-7028c821b365_setup',\n  'FeaturizationRunJsonPath': 'featurizer_container.json',\n  'FeaturizationRunId': 'AutoML_5af2e08d-eba9-459a-a547-7028c821b365_featurize',\n  'ProblemInfoJsonString': '{\"dataset_num_categorical\": 0, \"is_sparse\": true, \"subsampling\": false, \"dataset_classes\": 2, \"dataset_features\": 30, \"dataset_samples\": 4687, \"single_frequency_class_detected\": false}',\n  'ModelExplainRunId': 'AutoML_5af2e08d-eba9-459a-a547-7028c821b365_ModelExplain'},\n 'inputDatasets': [{'dataset': {'id': '8b5e12bf-030c-4cf7-8022-fdc0d8561d0d'}, 'consumptionDetails': {'type': 'RunInput', 'inputName': 'training_data', 'mechanism': 'Direct'}}],\n 'outputDatasets': [],\n 'logFiles': {},\n 'submittedBy': 'ODL_User 137239'}"
          },
          "metadata": {}
        }
      ],
      "execution_count": 10,
      "metadata": {
        "collapsed": true,
        "gather": {
          "logged": 1612455649054
        },
        "jupyter": {
          "outputs_hidden": false,
          "source_hidden": false
        },
        "nteract": {
          "transient": {
            "deleting": false
          }
        }
      }
    },
    {
      "cell_type": "markdown",
      "source": [
        "## Best Model\n",
        "In the cell below, we are retrieving the best model from the AutoML experiment using `get_output()` method. Further, we are displaying the details associated with the best AutoML run and they are:\n",
        "1. Run ID\n",
        "2. Status\n",
        "3. Accuracy\n",
        "4. Model Steps\n",
        "5. Files uploaded during the run"
      ],
      "metadata": {}
    },
    {
      "cell_type": "code",
      "source": [
        "#TODO: Save the best model\n",
        "\n",
        "best_automl_run, model = automl_run.get_output()\n",
        "\n",
        "print(best_automl_run)\n",
        "\n",
        "print(best_automl_run.get_metrics()['accuracy'])\n"
      ],
      "outputs": [
        {
          "output_type": "stream",
          "name": "stderr",
          "text": [
            "WARNING:root:The version of the SDK does not match the version the model was trained on.\n",
            "WARNING:root:The consistency in the result may not be guaranteed.\n",
            "WARNING:root:Package:azureml-automl-core, training version:1.21.0, current version:1.20.0\n",
            "Package:azureml-automl-runtime, training version:1.21.0, current version:1.20.0\n",
            "Package:azureml-core, training version:1.21.0.post1, current version:1.20.0\n",
            "Package:azureml-dataprep, training version:2.8.2, current version:2.7.3\n",
            "Package:azureml-dataprep-native, training version:28.0.0, current version:27.0.0\n",
            "Package:azureml-dataprep-rslex, training version:1.6.0, current version:1.5.0\n",
            "Package:azureml-dataset-runtime, training version:1.21.0, current version:1.20.0\n",
            "Package:azureml-defaults, training version:1.21.0, current version:1.20.0\n",
            "Package:azureml-interpret, training version:1.21.0, current version:1.20.0\n",
            "Package:azureml-pipeline-core, training version:1.21.0, current version:1.20.0\n",
            "Package:azureml-telemetry, training version:1.21.0, current version:1.20.0\n",
            "Package:azureml-train-automl-client, training version:1.21.0, current version:1.20.0\n",
            "Package:azureml-train-automl-runtime, training version:1.21.0, current version:1.20.0\n",
            "WARNING:root:Please ensure the version of your local conda dependencies match the version on which your model was trained in order to properly retrieve your model.\n"
          ]
        },
        {
          "output_type": "stream",
          "name": "stdout",
          "text": [
            "Run(Experiment: capstone_automl,\n",
            "Id: AutoML_5af2e08d-eba9-459a-a547-7028c821b365_49,\n",
            "Type: azureml.scriptrun,\n",
            "Status: Completed)\n",
            "0.9963736736351784\n"
          ]
        }
      ],
      "execution_count": 11,
      "metadata": {
        "gather": {
          "logged": 1612455936544
        },
        "jupyter": {
          "outputs_hidden": false,
          "source_hidden": false
        },
        "nteract": {
          "transient": {
            "deleting": false
          }
        }
      }
    },
    {
      "cell_type": "code",
      "source": [
        "# list the model files uploaded during the run\n",
        "\n",
        "print(\"\\n\", best_automl_run.get_file_names())"
      ],
      "outputs": [
        {
          "output_type": "stream",
          "name": "stdout",
          "text": [
            "\n",
            " ['accuracy_table', 'automl_driver.py', 'azureml-logs/55_azureml-execution-tvmps_8f7804b6fc718bd33d7ac2378b83c8f46f0ee1858fd3ea463d6ee8723c52468c_d.txt', 'azureml-logs/65_job_prep-tvmps_8f7804b6fc718bd33d7ac2378b83c8f46f0ee1858fd3ea463d6ee8723c52468c_d.txt', 'azureml-logs/70_driver_log.txt', 'azureml-logs/75_job_post-tvmps_8f7804b6fc718bd33d7ac2378b83c8f46f0ee1858fd3ea463d6ee8723c52468c_d.txt', 'azureml-logs/process_info.json', 'azureml-logs/process_status.json', 'confusion_matrix', 'logs/azureml/104_azureml.log', 'logs/azureml/azureml_automl.log', 'logs/azureml/job_prep_azureml.log', 'logs/azureml/job_release_azureml.log', 'outputs/conda_env_v_1_0_0.yml', 'outputs/env_dependencies.json', 'outputs/internal_cross_validated_models.pkl', 'outputs/model.pkl', 'outputs/pipeline_graph.json', 'outputs/scoring_file_v_1_0_0.py']\n"
          ]
        }
      ],
      "execution_count": 12,
      "metadata": {
        "gather": {
          "logged": 1612456238079
        }
      }
    },
    {
      "cell_type": "code",
      "source": [
        "model.steps"
      ],
      "outputs": [
        {
          "output_type": "execute_result",
          "execution_count": 13,
          "data": {
            "text/plain": "[('datatransformer',\n  DataTransformer(enable_dnn=None, enable_feature_sweeping=None,\n                  feature_sweeping_config=None, feature_sweeping_timeout=None,\n                  featurization_config=None, force_text_dnn=None,\n                  is_cross_validation=None, is_onnx_compatible=None, logger=None,\n                  observer=None, task=None, working_dir=None)),\n ('prefittedsoftvotingclassifier',\n  PreFittedSoftVotingClassifier(classification_labels=None,\n                                estimators=[('30',\n                                             Pipeline(memory=None,\n                                                      steps=[('maxabsscaler',\n                                                              MaxAbsScaler(copy=True)),\n                                                             ('lightgbmclassifier',\n                                                              LightGBMClassifier(boosting_type='goss',\n                                                                                 class_weight=None,\n                                                                                 colsample_bytree=0.5944444444444444,\n                                                                                 importance_type='split',\n                                                                                 learning_rate=0.07368684210526316,\n                                                                                 max_bin=370,\n                                                                                 max_depth=10,\n                                                                                 min_chi...\n                                                             ('logisticregression',\n                                                              LogisticRegression(C=109.85411419875572,\n                                                                                 class_weight=None,\n                                                                                 dual=False,\n                                                                                 fit_intercept=True,\n                                                                                 intercept_scaling=1,\n                                                                                 l1_ratio=None,\n                                                                                 max_iter=100,\n                                                                                 multi_class='ovr',\n                                                                                 n_jobs=1,\n                                                                                 penalty='l1',\n                                                                                 random_state=None,\n                                                                                 solver='saga',\n                                                                                 tol=0.0001,\n                                                                                 verbose=0,\n                                                                                 warm_start=False))],\n                                                      verbose=False))],\n                                flatten_transform=None,\n                                weights=[0.125, 0.125, 0.125, 0.125, 0.125, 0.25,\n                                         0.125]))]"
          },
          "metadata": {}
        }
      ],
      "execution_count": 13,
      "metadata": {
        "collapsed": true,
        "jupyter": {
          "source_hidden": false,
          "outputs_hidden": false
        },
        "nteract": {
          "transient": {
            "deleting": false
          }
        },
        "gather": {
          "logged": 1612456429007
        }
      }
    },
    {
      "cell_type": "markdown",
      "source": [
        "## Model Deployment\n",
        "\n",
        "Since this is the best of the two models we have we will go further with the deployment of this model.\n",
        "\n",
        "In the cell below, we register the model."
      ],
      "metadata": {}
    },
    {
      "cell_type": "code",
      "source": [
        "registered_model = best_automl_run.register_model(model_name='automl-model', model_path='outputs/model.pkl')"
      ],
      "outputs": [],
      "execution_count": 14,
      "metadata": {
        "gather": {
          "logged": 1612456507334
        },
        "jupyter": {
          "outputs_hidden": false,
          "source_hidden": false
        },
        "nteract": {
          "transient": {
            "deleting": false
          }
        }
      }
    },
    {
      "cell_type": "markdown",
      "source": [
        "In the cell below, we download the `model.pkl` and `scoring_file_v_1_0_0.py` as `scoring.py` so that we can use them for inferencing purpose in the next step."
      ],
      "metadata": {}
    },
    {
      "cell_type": "code",
      "source": [
        "best_automl_run.download_file('outputs/scoring_file_v_1_0_0.py', 'score.py')\n",
        "best_automl_run.download_file('outputs/model.pkl', 'automl_model.pkl')"
      ],
      "outputs": [],
      "execution_count": 15,
      "metadata": {
        "collapsed": true,
        "gather": {
          "logged": 1612456526046
        },
        "jupyter": {
          "outputs_hidden": false,
          "source_hidden": false
        },
        "nteract": {
          "transient": {
            "deleting": false
          }
        }
      }
    },
    {
      "cell_type": "markdown",
      "source": [
        "In the cell below, we create an inference config."
      ],
      "metadata": {}
    },
    {
      "cell_type": "code",
      "source": [
        "inference_config = InferenceConfig(entry_script='score.py', environment=best_automl_run.get_environment())"
      ],
      "outputs": [],
      "execution_count": 16,
      "metadata": {
        "gather": {
          "logged": 1612456551079
        }
      }
    },
    {
      "cell_type": "markdown",
      "source": [
        "In the cell below, we deploy the model as a webservice named `asteroid-classification` and retrieve the deploy state alongwith the HTTP API to interact with the deployed model."
      ],
      "metadata": {}
    },
    {
      "cell_type": "code",
      "source": [
        "service_name = 'asteroid-classification'\n",
        "\n",
        "service = Model.deploy(ws, service_name, [registered_model], inference_config, overwrite=True)\n",
        "service.wait_for_deployment(show_output=True)\n",
        "\n",
        "print(service.state)\n",
        "print(service.scoring_uri)"
      ],
      "outputs": [
        {
          "output_type": "stream",
          "name": "stdout",
          "text": [
            "Tips: You can try get_logs(): https://aka.ms/debugimage#dockerlog or local deployment: https://aka.ms/debugimage#debug-locally to debug if deployment takes longer than 10 minutes.\n",
            "Running...........................................\n",
            "Succeeded\n",
            "ACI service creation operation finished, operation \"Succeeded\"\n",
            "Healthy\n",
            "http://9963985c-d001-4e39-88f6-91782452c7a6.southcentralus.azurecontainer.io/score\n"
          ]
        }
      ],
      "execution_count": 17,
      "metadata": {
        "gather": {
          "logged": 1612456852523
        }
      }
    },
    {
      "cell_type": "markdown",
      "source": [
        "### ***In the following cell we implement one of the stand out suggestions. This line of code will enable logging in our deployed web service.***"
      ],
      "metadata": {}
    },
    {
      "cell_type": "code",
      "source": [
        "service.update(enable_app_insights=True)"
      ],
      "outputs": [],
      "execution_count": 18,
      "metadata": {
        "collapsed": true,
        "gather": {
          "logged": 1612457192381
        },
        "jupyter": {
          "outputs_hidden": false,
          "source_hidden": false
        },
        "nteract": {
          "transient": {
            "deleting": false
          }
        }
      }
    },
    {
      "cell_type": "markdown",
      "source": [
        "In the cell below, we are creating a sample data for testing our deployed service."
      ],
      "metadata": {}
    },
    {
      "cell_type": "code",
      "source": [
        "df=dataset.to_pandas_dataframe()\n",
        "\n",
        "Hazardous=df.pop('Hazardous')\n",
        "\n",
        "keys=[]\n",
        "\n",
        "for col in df.columns:\n",
        "    keys.append(col)\n",
        "\n",
        "data={'data':[dict(zip(keys, df.iloc[0].tolist()))]}"
      ],
      "outputs": [],
      "execution_count": 20,
      "metadata": {
        "collapsed": true,
        "gather": {
          "logged": 1612457477989
        },
        "jupyter": {
          "outputs_hidden": false,
          "source_hidden": false
        },
        "nteract": {
          "transient": {
            "deleting": false
          }
        }
      }
    },
    {
      "cell_type": "markdown",
      "source": [
        "### In the following two cells we will be testing our deployed model by two different ways."
      ],
      "metadata": {}
    },
    {
      "cell_type": "markdown",
      "source": [
        "**This is the first method.** We send a request to the web service we deployed using `requests.post()` method."
      ],
      "metadata": {
        "collapsed": true,
        "gather": {
          "logged": 1598431657736
        },
        "jupyter": {
          "outputs_hidden": false,
          "source_hidden": false
        },
        "nteract": {
          "transient": {
            "deleting": false
          }
        }
      }
    },
    {
      "cell_type": "code",
      "source": [
        "scoring_uri=service.scoring_uri\n",
        "\n",
        "input_data = json.dumps(data)\n",
        "with open(\"data.json\", \"w\") as _f:\n",
        "    _f.write(input_data)\n",
        "\n",
        "# Set the content type\n",
        "headers = {'Content-Type': 'application/json'}\n",
        "\n",
        "# Make the request and display the response\n",
        "response = requests.post(scoring_uri, input_data, headers=headers)\n",
        "print(response.json())"
      ],
      "outputs": [
        {
          "output_type": "stream",
          "name": "stdout",
          "text": [
            "{\"result\": [1]}\n"
          ]
        }
      ],
      "execution_count": 27,
      "metadata": {
        "gather": {
          "logged": 1612460766352
        }
      }
    },
    {
      "cell_type": "markdown",
      "source": [
        "**This is the second method.** We send a request to the web service we deployed using `service.run()` method."
      ],
      "metadata": {}
    },
    {
      "cell_type": "code",
      "source": [
        "prediction = service.run(input_data)\n",
        "\n",
        "print(prediction)"
      ],
      "outputs": [
        {
          "output_type": "stream",
          "name": "stdout",
          "text": [
            "{\"result\": [1]}\n"
          ]
        }
      ],
      "execution_count": 28,
      "metadata": {
        "gather": {
          "logged": 1612460781552
        },
        "jupyter": {
          "outputs_hidden": false,
          "source_hidden": false
        },
        "nteract": {
          "transient": {
            "deleting": false
          }
        }
      }
    },
    {
      "cell_type": "markdown",
      "source": [
        "In the cell below, we print the logs of the web service."
      ],
      "metadata": {
        "collapsed": true,
        "gather": {
          "logged": 1598432765711
        },
        "jupyter": {
          "outputs_hidden": false,
          "source_hidden": false
        },
        "nteract": {
          "transient": {
            "deleting": false
          }
        }
      }
    },
    {
      "cell_type": "code",
      "source": [
        "logs = service.get_logs()\n",
        "\n",
        "for line in logs.split('\\n'):\n",
        "    print(line)"
      ],
      "outputs": [
        {
          "output_type": "stream",
          "name": "stdout",
          "text": [
            "2021-02-04T16:46:40,810649437+00:00 - gunicorn/run \n",
            "2021-02-04T16:46:41,011220128+00:00 - rsyslog/run \n",
            "2021-02-04T16:46:41,012669794+00:00 - iot-server/run \n",
            "2021-02-04T16:46:41,111070254+00:00 - nginx/run \n",
            "/usr/sbin/nginx: /azureml-envs/azureml_20a8278aa8b20dd48cc50f56a6d2586c/lib/libcrypto.so.1.0.0: no version information available (required by /usr/sbin/nginx)\n",
            "/usr/sbin/nginx: /azureml-envs/azureml_20a8278aa8b20dd48cc50f56a6d2586c/lib/libcrypto.so.1.0.0: no version information available (required by /usr/sbin/nginx)\n",
            "/usr/sbin/nginx: /azureml-envs/azureml_20a8278aa8b20dd48cc50f56a6d2586c/lib/libssl.so.1.0.0: no version information available (required by /usr/sbin/nginx)\n",
            "/usr/sbin/nginx: /azureml-envs/azureml_20a8278aa8b20dd48cc50f56a6d2586c/lib/libssl.so.1.0.0: no version information available (required by /usr/sbin/nginx)\n",
            "/usr/sbin/nginx: /azureml-envs/azureml_20a8278aa8b20dd48cc50f56a6d2586c/lib/libssl.so.1.0.0: no version information available (required by /usr/sbin/nginx)\n",
            "rsyslogd: /azureml-envs/azureml_20a8278aa8b20dd48cc50f56a6d2586c/lib/libuuid.so.1: no version information available (required by rsyslogd)\n",
            "EdgeHubConnectionString and IOTEDGE_IOTHUBHOSTNAME are not set. Exiting...\n",
            "2021-02-04T16:46:43,113715709+00:00 - iot-server/finish 1 0\n",
            "2021-02-04T16:46:43,210619399+00:00 - Exit code 1 is normal. Not restarting iot-server.\n",
            "Starting gunicorn 19.9.0\n",
            "Listening at: http://127.0.0.1:31311 (12)\n",
            "Using worker: sync\n",
            "worker timeout is set to 300\n",
            "Booting worker with pid: 42\n",
            "SPARK_HOME not set. Skipping PySpark Initialization.\n",
            "Generating new fontManager, this may take some time...\n",
            "Initializing logger\n",
            "2021-02-04 16:46:58,313 | root | INFO | Starting up app insights client\n",
            "2021-02-04 16:46:58,314 | root | INFO | Starting up request id generator\n",
            "2021-02-04 16:46:58,314 | root | INFO | Starting up app insight hooks\n",
            "2021-02-04 16:46:58,314 | root | INFO | Invoking user's init function\n",
            "2021-02-04 16:47:27,113 | root | INFO | Users's init has completed successfully\n",
            "2021-02-04 16:47:27,411 | root | INFO | Skipping middleware: dbg_model_info as it's not enabled.\n",
            "2021-02-04 16:47:27,411 | root | INFO | Skipping middleware: dbg_resource_usage as it's not enabled.\n",
            "2021-02-04 16:47:27,413 | root | INFO | Scoring timeout is found from os.environ: 60000 ms\n",
            "2021-02-04 16:47:38,635 | root | INFO | 200\n",
            "127.0.0.1 - - [04/Feb/2021:16:47:38 +0000] \"GET /swagger.json HTTP/1.0\" 200 3809 \"-\" \"Go-http-client/1.1\"\n",
            "2021-02-04 16:47:56,715 | root | INFO | 200\n",
            "127.0.0.1 - - [04/Feb/2021:16:47:56 +0000] \"GET /swagger.json HTTP/1.0\" 200 3809 \"-\" \"Go-http-client/1.1\"\n",
            "2021-02-04 16:47:57,043 | root | INFO | 200\n",
            "127.0.0.1 - - [04/Feb/2021:16:47:57 +0000] \"GET /swagger.json HTTP/1.0\" 200 3809 \"-\" \"Go-http-client/1.1\"\n",
            "2021-02-04 16:48:17,909 | root | INFO | 200\n",
            "127.0.0.1 - - [04/Feb/2021:16:48:17 +0000] \"GET /swagger.json HTTP/1.0\" 200 3809 \"-\" \"Mozilla/5.0 (Windows NT 10.0; Win64; x64) AppleWebKit/537.36 (KHTML, like Gecko) Chrome/86.0.4240.75 Safari/537.36\"\n",
            "127.0.0.1 - - [04/Feb/2021:16:48:18 +0000] \"GET /favicon.ico HTTP/1.0\" 404 232 \"http://9963985c-d001-4e39-88f6-91782452c7a6.southcentralus.azurecontainer.io/swagger.json\" \"Mozilla/5.0 (Windows NT 10.0; Win64; x64) AppleWebKit/537.36 (KHTML, like Gecko) Chrome/86.0.4240.75 Safari/537.36\"\n",
            "2021-02-04 16:52:28,409 | root | INFO | Validation Request Content-Type\n",
            "2021-02-04 16:52:28,410 | root | INFO | Scoring Timer is set to 60.0 seconds\n",
            "2021-02-04 16:52:31,512 | root | INFO | 200\n",
            "127.0.0.1 - - [04/Feb/2021:16:52:31 +0000] \"POST /score HTTP/1.0\" 200 19 \"-\" \"python-requests/2.25.1\"\n",
            "2021-02-04 16:53:02,785 | root | INFO | Validation Request Content-Type\n",
            "2021-02-04 16:53:02,785 | root | INFO | Scoring Timer is set to 60.0 seconds\n",
            "2021-02-04 16:53:05,411 | root | INFO | 200\n",
            "127.0.0.1 - - [04/Feb/2021:16:53:05 +0000] \"POST /score HTTP/1.0\" 200 19 \"-\" \"python-requests/2.25.1\"\n",
            "\n"
          ]
        }
      ],
      "execution_count": 23,
      "metadata": {
        "gather": {
          "logged": 1612457610677
        },
        "jupyter": {
          "outputs_hidden": false,
          "source_hidden": false
        },
        "nteract": {
          "transient": {
            "deleting": false
          }
        }
      }
    },
    {
      "cell_type": "markdown",
      "source": [
        "In the cell below, we delete the service."
      ],
      "metadata": {}
    },
    {
      "cell_type": "code",
      "source": [
        "service.delete()"
      ],
      "outputs": [],
      "execution_count": 29,
      "metadata": {
        "gather": {
          "logged": 1612460859868
        }
      }
    },
    {
      "cell_type": "markdown",
      "source": [
        "In the cell below, we delete the previously created compute cluster to avoid the unnecessary comsumption of resources."
      ],
      "metadata": {}
    },
    {
      "cell_type": "code",
      "source": [
        "aml_compute.delete()"
      ],
      "outputs": [
        {
          "output_type": "stream",
          "name": "stdout",
          "text": [
            "Current provisioning state of AmlCompute is \"Deleting\"\n",
            "\n",
            "Current provisioning state of AmlCompute is \"Deleting\"\n",
            "\n",
            "Current provisioning state of AmlCompute is \"Deleting\"\n",
            "\n",
            "Current provisioning state of AmlCompute is \"Deleting\"\n",
            "\n"
          ]
        }
      ],
      "execution_count": 30,
      "metadata": {
        "gather": {
          "logged": 1612460865317
        }
      }
    }
  ],
  "metadata": {
    "kernel_info": {
      "name": "python3"
    },
    "kernelspec": {
      "name": "python3",
      "language": "python",
      "display_name": "Python 3"
    },
    "language_info": {
      "name": "python",
      "version": "3.6.9",
      "mimetype": "text/x-python",
      "codemirror_mode": {
        "name": "ipython",
        "version": 3
      },
      "pygments_lexer": "ipython3",
      "nbconvert_exporter": "python",
      "file_extension": ".py"
    },
    "nteract": {
      "version": "nteract-front-end@1.0.0"
    }
  },
  "nbformat": 4,
  "nbformat_minor": 2
}