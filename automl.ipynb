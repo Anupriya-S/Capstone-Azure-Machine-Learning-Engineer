{
 "cells": [
  {
   "cell_type": "markdown",
   "metadata": {},
   "source": [
    "# Automated ML"
   ]
  },
  {
   "cell_type": "markdown",
   "metadata": {},
   "source": [
    "## Introduction\n",
    "Asteroids are minor planets, especially of the inner Solar System. Larger asteroids have also been called planetoids.\n",
    "The study of asteroids is also crucial as historical events prove some of them being hazardous.\n",
    "\n",
    "For the purpose of this Capstone project, I thought of using machine learning to predict whether an asteroid could be hazardous or not."
   ]
  },
  {
   "cell_type": "markdown",
   "metadata": {},
   "source": [
    "## Azure Machine Learning SDK-specific Imports\n",
    "In the cell below, we are importing all the dependencies that we will need to complete the project."
   ]
  },
  {
   "cell_type": "code",
   "execution_count": 18,
   "metadata": {
    "gather": {
     "logged": 1612384872084
    },
    "jupyter": {
     "outputs_hidden": false,
     "source_hidden": false
    },
    "nteract": {
     "transient": {
      "deleting": false
     }
    }
   },
   "outputs": [],
   "source": [
    "from azureml.core.workspace import Workspace\n",
    "from azureml.core.experiment import Experiment\n",
    "from azureml.core.compute import ComputeTarget, AmlCompute\n",
    "from azureml.core.compute_target import ComputeTargetException\n",
    "from train import clean_data\n",
    "from azureml.core.datastore import Datastore\n",
    "from azureml.data.dataset_factory import TabularDatasetFactory\n",
    "from azureml.train.automl import AutoMLConfig\n",
    "from azureml.widgets import RunDetails\n",
    "import pandas as pd\n",
    "from azureml.core.model import InferenceConfig\n",
    "import json\n",
    "import requests\n",
    "from azureml.core.model import Model"
   ]
  },
  {
   "cell_type": "markdown",
   "metadata": {},
   "source": [
    "## Initialize Workspace and Create an Azure ML Experiment\n",
    "Let's initialize a workspace object from persisted configuration and create an experiment named \"capstone_automl\"."
   ]
  },
  {
   "cell_type": "code",
   "execution_count": 2,
   "metadata": {
    "gather": {
     "logged": 1612382676951
    },
    "jupyter": {
     "outputs_hidden": false,
     "source_hidden": false
    },
    "nteract": {
     "transient": {
      "deleting": false
     }
    }
   },
   "outputs": [
    {
     "name": "stdout",
     "output_type": "stream",
     "text": [
      "Workspace name: quick-starts-ws-137123\n",
      "Azure region: southcentralus\n",
      "Subscription id: a24a24d5-8d87-4c8a-99b6-91ed2d2df51f\n",
      "Resource group: aml-quickstarts-137123\n"
     ]
    }
   ],
   "source": [
    "ws = Workspace.from_config()\n",
    "\n",
    "# choose a name for experiment\n",
    "experiment_name = 'capstone_automl'\n",
    "\n",
    "exp = Experiment(ws, experiment_name)\n",
    "\n",
    "print('Workspace name: ' + ws.name, \n",
    "      'Azure region: ' + ws.location, \n",
    "      'Subscription id: ' + ws.subscription_id, \n",
    "      'Resource group: ' + ws.resource_group, sep = '\\n')\n",
    "\n",
    "run = exp.start_logging()"
   ]
  },
  {
   "cell_type": "markdown",
   "metadata": {},
   "source": [
    "## Create or Attach an AmlCompute Cluster\n",
    "We need to create a compute target for our AutoML run. The compute target previously created for the HyperDrive run can also be reused for executing this AutoML run."
   ]
  },
  {
   "cell_type": "code",
   "execution_count": 3,
   "metadata": {
    "gather": {
     "logged": 1612382682472
    }
   },
   "outputs": [
    {
     "name": "stdout",
     "output_type": "stream",
     "text": [
      "Found existing compute target!\n",
      "Azure Machine Learning Compute Cluster Created!\n"
     ]
    }
   ],
   "source": [
    "aml_compute_target = \"cpu-cluster\"\n",
    "try:\n",
    "  aml_compute = AmlCompute(ws, aml_compute_target)\n",
    "  print(\"Found existing compute target!\")\n",
    "except ComputeTargetException:\n",
    "  print(\"Creating new compute cluster...\")\n",
    "  provisioning_config = AmlCompute.provisioning_configuration(vm_size = \"STANDARD_D2_V2\", min_nodes = 1, max_nodes = 6)\n",
    "  aml_compute = ComputeTarget.create(ws, aml_compute_target, provisioning_config)\n",
    "  aml_compute.wait_for_completion(show_output=True, min_node_count=None, timeout_in_minutes=20)\n",
    "\n",
    "print(\"Azure Machine Learning Compute Cluster Created!\")"
   ]
  },
  {
   "cell_type": "markdown",
   "metadata": {},
   "source": [
    "## Dataset\n",
    "\n",
    "### Overview\n",
    "The data is about Asteroids and is provided by NEOWS(Near-Earth Object Web Service). It is a NASA's dataset and can be found on Kaggle. One can download the dataset from [this](https://www.kaggle.com/shrutimehta/nasa-asteroids-classification/download) link.\n",
    "\n",
    "The dataset contains various information about the asteroids and labels each asteroid as hazardous(1) or non-hazardous(0). The dataset consists of ***4687 data instances(rows) and 40 features(columns)***. Also, there are no null values in the dataset.\n",
    "\n",
    "The task here is to use AutoML to perform Classification on this dataset and predict whether a given asteroid is hazardous or not.\n",
    "\n",
    "For the purpose of this project, I downloaded this dataset and saved it in the project's GitHub repository and accessing it using [this](https://raw.githubusercontent.com/Anupriya-S/Capstone-Azure-Machine-Learning-Engineer/main/nasa.csv) link."
   ]
  },
  {
   "cell_type": "code",
   "execution_count": 4,
   "metadata": {
    "collapsed": true,
    "gather": {
     "logged": 1612382690458
    },
    "jupyter": {
     "outputs_hidden": false,
     "source_hidden": false
    },
    "nteract": {
     "transient": {
      "deleting": false
     }
    }
   },
   "outputs": [],
   "source": [
    "df = pd.read_csv('https://raw.githubusercontent.com/Anupriya-S/Capstone-Azure-Machine-Learning-Engineer/main/nasa.csv')"
   ]
  },
  {
   "cell_type": "code",
   "execution_count": 5,
   "metadata": {
    "gather": {
     "logged": 1612382697344
    }
   },
   "outputs": [],
   "source": [
    "# Use clean_data() (defined in 'train.py') for processing the dataframe\n",
    "\n",
    "df = clean_data(df)"
   ]
  },
  {
   "cell_type": "code",
   "execution_count": 6,
   "metadata": {
    "gather": {
     "logged": 1612382715641
    },
    "jupyter": {
     "outputs_hidden": false,
     "source_hidden": false
    },
    "nteract": {
     "transient": {
      "deleting": false
     }
    }
   },
   "outputs": [
    {
     "name": "stderr",
     "output_type": "stream",
     "text": [
      "Method register_pandas_dataframe: This is an experimental method, and may change at any time.<br/>For more information, see https://aka.ms/azuremlexperimental.\n"
     ]
    },
    {
     "name": "stdout",
     "output_type": "stream",
     "text": [
      "Validating arguments.\n",
      "Arguments validated.\n",
      "Successfully obtained datastore reference and path.\n",
      "Uploading file to managed-dataset/df3c3c5e-debf-4e25-9109-00a5dbb754c4/\n",
      "Successfully uploaded file to datastore.\n",
      "Creating and registering a new dataset.\n",
      "Successfully created and registered a new dataset.\n"
     ]
    }
   ],
   "source": [
    "found = False\n",
    "key = \"NASA Asteroids\"\n",
    "description_text = \"The data is about Asteroids and is provided by NEOWS(Near-Earth Object Web Service).\"\n",
    "\n",
    "if key in ws.datasets.keys(): \n",
    "        found = True\n",
    "        dataset = ws.datasets[key] \n",
    "\n",
    "if not found:\n",
    "        # Create AML Dataset and register it into Workspace\n",
    "        data_store = Datastore.get_default(ws)\n",
    "        dataset = TabularDatasetFactory.register_pandas_dataframe(df, target=data_store, name=key, description=description_text, tags=None, show_progress=True)"
   ]
  },
  {
   "cell_type": "markdown",
   "metadata": {},
   "source": [
    "## AutoML Configuration\n",
    "For the AutoML run we use several settings and configurations as follows:\n",
    "1. Experiment timeout is set to 30 minutes because we want our AutoML run to complete in a given timeframe.\n",
    "2. Maximum Concurrent Iterations are set to 5 because the upper limit of nodes for our compute cluster is set to 6.\n",
    "3. Primary metric is set to Accuracy so that we can measure the 'goodness' of our model.\n",
    "4. Task is set to classification for obvious reasons.\n",
    "5. Value of n for n cross validations is set to 5 so that our model can be properly validated.\n",
    "6. Enable early stopping is set to True so that our experiment does not waste time once the performance of models starts deteriorating."
   ]
  },
  {
   "cell_type": "code",
   "execution_count": 7,
   "metadata": {
    "gather": {
     "logged": 1612382723098
    },
    "jupyter": {
     "outputs_hidden": false,
     "source_hidden": false
    },
    "nteract": {
     "transient": {
      "deleting": false
     }
    }
   },
   "outputs": [],
   "source": [
    "# TODO: Put your automl settings here\n",
    "automl_settings = {\n",
    "    \"experiment_timeout_minutes\": 30,\n",
    "    \"max_concurrent_iterations\": 5,\n",
    "    \"primary_metric\" : 'accuracy'\n",
    "}\n",
    "\n",
    "# TODO: Put your automl config here\n",
    "automl_config = AutoMLConfig(compute_target=aml_compute,\n",
    "                             task = \"classification\",\n",
    "                             training_data=dataset,\n",
    "                             label_column_name=\"Hazardous\",  \n",
    "                             n_cross_validations=5,\n",
    "                             enable_early_stopping= True,\n",
    "                             featurization= 'auto',\n",
    "                             debug_log = \"automl_errors.log\",\n",
    "                             **automl_settings\n",
    "                            )"
   ]
  },
  {
   "cell_type": "code",
   "execution_count": 8,
   "metadata": {
    "gather": {
     "logged": 1612384099574
    },
    "jupyter": {
     "outputs_hidden": false,
     "source_hidden": false
    },
    "nteract": {
     "transient": {
      "deleting": false
     }
    }
   },
   "outputs": [
    {
     "name": "stdout",
     "output_type": "stream",
     "text": [
      "Running on remote.\n",
      "No run_configuration provided, running on cpu-cluster with default configuration\n",
      "Running on remote compute: cpu-cluster\n",
      "Parent Run ID: AutoML_14a7c021-4812-4a2f-805c-07d30f839ab4\n",
      "\n",
      "Current status: FeaturesGeneration. Generating features for the dataset.\n",
      "Current status: DatasetFeaturization. Beginning to fit featurizers and featurize the dataset.\n",
      "Current status: DatasetCrossValidationSplit. Generating individually featurized CV splits.\n",
      "Current status: ModelSelection. Beginning model selection.\n",
      "\n",
      "****************************************************************************************************\n",
      "DATA GUARDRAILS: \n",
      "\n",
      "TYPE:         Class balancing detection\n",
      "STATUS:       ALERTED\n",
      "DESCRIPTION:  To decrease model bias, please cancel the current run and fix balancing problem.\n",
      "              Learn more about imbalanced data: https://aka.ms/AutomatedMLImbalancedData\n",
      "DETAILS:      Imbalanced data can lead to a falsely perceived positive effect of a model's accuracy because the input data has bias towards one class.\n",
      "+---------------------------------+---------------------------------+--------------------------------------+\n",
      "|Size of the smallest class       |Name/Label of the smallest class |Number of samples in the training data|\n",
      "+=================================+=================================+======================================+\n",
      "|755                              |1                                |4687                                  |\n",
      "+---------------------------------+---------------------------------+--------------------------------------+\n",
      "\n",
      "****************************************************************************************************\n",
      "\n",
      "TYPE:         Missing feature values imputation\n",
      "STATUS:       PASSED\n",
      "DESCRIPTION:  No feature missing values were detected in the training data.\n",
      "              Learn more about missing value imputation: https://aka.ms/AutomatedMLFeaturization\n",
      "\n",
      "****************************************************************************************************\n",
      "\n",
      "TYPE:         High cardinality feature detection\n",
      "STATUS:       PASSED\n",
      "DESCRIPTION:  Your inputs were analyzed, and no high cardinality features were detected.\n",
      "              Learn more about high cardinality feature handling: https://aka.ms/AutomatedMLFeaturization\n",
      "\n",
      "****************************************************************************************************\n",
      "\n",
      "****************************************************************************************************\n",
      "ITERATION: The iteration being evaluated.\n",
      "PIPELINE: A summary description of the pipeline being evaluated.\n",
      "DURATION: Time taken for the current iteration.\n",
      "METRIC: The result of computing score on the fitted pipeline.\n",
      "BEST: The best observed score thus far.\n",
      "****************************************************************************************************\n",
      "\n",
      " ITERATION   PIPELINE                                       DURATION      METRIC      BEST\n",
      "         3   MaxAbsScaler RandomForest                      0:01:03       0.9430    0.9430\n",
      "         4   MaxAbsScaler RandomForest                      0:00:58       0.9940    0.9940\n",
      "         5   MaxAbsScaler RandomForest                      0:00:56       0.9560    0.9940\n",
      "         6   SparseNormalizer XGBoostClassifier             0:00:57       0.9876    0.9940\n",
      "         7   SparseNormalizer XGBoostClassifier             0:00:57       0.9887    0.9940\n",
      "         0   MaxAbsScaler LightGBM                          0:03:41       0.9959    0.9959\n",
      "         2   MaxAbsScaler RandomForest                      0:03:39       0.9930    0.9959\n",
      "         8   MaxAbsScaler LogisticRegression                0:00:58       0.9511    0.9959\n",
      "        11   StandardScalerWrapper LightGBM                 0:00:55       0.8402    0.9959\n",
      "         9   MaxAbsScaler LightGBM                          0:00:55       0.8398    0.9959\n",
      "        10   MaxAbsScaler ExtremeRandomTrees                0:01:12       0.8389    0.9959\n",
      "         1   MaxAbsScaler XGBoostClassifier                 0:05:36       0.9951    0.9959\n",
      "        12   MaxAbsScaler LightGBM                          0:00:59       0.8662    0.9959\n",
      "        13   SparseNormalizer XGBoostClassifier             0:00:55       0.9861    0.9959\n",
      "        14   MaxAbsScaler LightGBM                          0:01:07       0.9240    0.9959\n",
      "        15   MaxAbsScaler ExtremeRandomTrees                0:00:59       0.9091    0.9959\n",
      "        16   StandardScalerWrapper RandomForest             0:00:49       0.9938    0.9959\n",
      "        17   SparseNormalizer XGBoostClassifier             0:01:06       0.9682    0.9959\n",
      "        18   StandardScalerWrapper LightGBM                 0:01:01       0.9940    0.9959\n",
      "        19   SparseNormalizer XGBoostClassifier             0:00:58       0.9881    0.9959\n",
      "        20   SparseNormalizer XGBoostClassifier             0:00:54       0.9729    0.9959\n",
      "        21   StandardScalerWrapper XGBoostClassifier        0:00:55       0.9949    0.9959\n",
      "        22   MaxAbsScaler RandomForest                      0:01:05       0.9947    0.9959\n",
      "        23   StandardScalerWrapper XGBoostClassifier        0:00:52       0.9947    0.9959\n",
      "        24   SparseNormalizer XGBoostClassifier             0:00:56       0.9740    0.9959\n",
      "        27   SparseNormalizer LightGBM                      0:00:53       0.9635    0.9959\n",
      "        25   SparseNormalizer LightGBM                      0:00:54       0.9703    0.9959\n",
      "        26   StandardScalerWrapper XGBoostClassifier        0:00:55       0.9913    0.9959\n",
      "        28   StandardScalerWrapper LightGBM                 0:00:59       0.9942    0.9959\n",
      "        29   SparseNormalizer XGBoostClassifier             0:00:57       0.9876    0.9959\n",
      "        31   StandardScalerWrapper LightGBM                 0:00:44       0.9881    0.9959\n",
      "        30   StandardScalerWrapper LightGBM                 0:00:56       0.9942    0.9959\n",
      "        32   StandardScalerWrapper XGBoostClassifier        0:00:49       0.9942    0.9959\n",
      "        33   SparseNormalizer XGBoostClassifier             0:00:58       0.9846    0.9959\n",
      "        34   MaxAbsScaler LogisticRegression                0:00:54       0.9507    0.9959\n",
      "        35   TruncatedSVDWrapper LightGBM                   0:00:46       0.8389    0.9959\n",
      "        36                                                  0:00:54          nan    0.9959\n",
      "        37   StandardScalerWrapper XGBoostClassifier        0:00:41       0.9945    0.9959\n",
      "        38    VotingEnsemble                                0:01:35       0.9962    0.9962\n",
      "        39    StackEnsemble                                 0:01:47       0.9957    0.9962\n"
     ]
    }
   ],
   "source": [
    "# TODO: Submit your experiment\n",
    "\n",
    "automl_run = exp.submit(config=automl_config, show_output=True)"
   ]
  },
  {
   "cell_type": "markdown",
   "metadata": {},
   "source": [
    "## Run Details\n",
    "In the cell below, we are using the `RunDetails` widget to show the training logs almost in real-time."
   ]
  },
  {
   "cell_type": "code",
   "execution_count": 9,
   "metadata": {
    "collapsed": true,
    "gather": {
     "logged": 1612384100119
    },
    "jupyter": {
     "outputs_hidden": false,
     "source_hidden": false
    },
    "nteract": {
     "transient": {
      "deleting": false
     }
    }
   },
   "outputs": [
    {
     "data": {
      "application/vnd.jupyter.widget-view+json": {
       "model_id": "eec09828ac8c4409b30d874cfca3e682",
       "version_major": 2,
       "version_minor": 0
      },
      "text/plain": [
       "_AutoMLWidget(widget_settings={'childWidgetDisplay': 'popup', 'send_telemetry': False, 'log_level': 'INFO', 's…"
      ]
     },
     "metadata": {},
     "output_type": "display_data"
    },
    {
     "data": {
      "application/aml.mini.widget.v1": "{\"status\": \"Completed\", \"workbench_run_details_uri\": \"https://ml.azure.com/experiments/capstone_automl/runs/AutoML_14a7c021-4812-4a2f-805c-07d30f839ab4?wsid=/subscriptions/a24a24d5-8d87-4c8a-99b6-91ed2d2df51f/resourcegroups/aml-quickstarts-137123/workspaces/quick-starts-ws-137123\", \"run_id\": \"AutoML_14a7c021-4812-4a2f-805c-07d30f839ab4\", \"run_properties\": {\"run_id\": \"AutoML_14a7c021-4812-4a2f-805c-07d30f839ab4\", \"created_utc\": \"2021-02-03T20:05:42.689257Z\", \"properties\": {\"num_iterations\": \"1000\", \"training_type\": \"TrainFull\", \"acquisition_function\": \"EI\", \"primary_metric\": \"accuracy\", \"train_split\": \"0\", \"acquisition_parameter\": \"0\", \"num_cross_validation\": \"5\", \"target\": \"cpu-cluster\", \"AMLSettingsJsonString\": \"{\\\"path\\\":null,\\\"name\\\":\\\"capstone_automl\\\",\\\"subscription_id\\\":\\\"a24a24d5-8d87-4c8a-99b6-91ed2d2df51f\\\",\\\"resource_group\\\":\\\"aml-quickstarts-137123\\\",\\\"workspace_name\\\":\\\"quick-starts-ws-137123\\\",\\\"region\\\":\\\"southcentralus\\\",\\\"compute_target\\\":\\\"cpu-cluster\\\",\\\"spark_service\\\":null,\\\"azure_service\\\":\\\"remote\\\",\\\"many_models\\\":false,\\\"pipeline_fetch_max_batch_size\\\":1,\\\"iterations\\\":1000,\\\"primary_metric\\\":\\\"accuracy\\\",\\\"task_type\\\":\\\"classification\\\",\\\"data_script\\\":null,\\\"validation_size\\\":0.0,\\\"n_cross_validations\\\":5,\\\"y_min\\\":null,\\\"y_max\\\":null,\\\"num_classes\\\":null,\\\"featurization\\\":\\\"auto\\\",\\\"_ignore_package_version_incompatibilities\\\":false,\\\"is_timeseries\\\":false,\\\"max_cores_per_iteration\\\":1,\\\"max_concurrent_iterations\\\":5,\\\"iteration_timeout_minutes\\\":null,\\\"mem_in_mb\\\":null,\\\"enforce_time_on_windows\\\":false,\\\"experiment_timeout_minutes\\\":30,\\\"experiment_exit_score\\\":null,\\\"whitelist_models\\\":null,\\\"blacklist_algos\\\":[\\\"TensorFlowLinearClassifier\\\",\\\"TensorFlowDNN\\\"],\\\"supported_models\\\":[\\\"LinearSVM\\\",\\\"ExtremeRandomTrees\\\",\\\"TensorFlowDNN\\\",\\\"SVM\\\",\\\"KNN\\\",\\\"MultinomialNaiveBayes\\\",\\\"GradientBoosting\\\",\\\"RandomForest\\\",\\\"AveragedPerceptronClassifier\\\",\\\"TensorFlowLinearClassifier\\\",\\\"DecisionTree\\\",\\\"LightGBM\\\",\\\"XGBoostClassifier\\\",\\\"LogisticRegression\\\",\\\"BernoulliNaiveBayes\\\",\\\"SGD\\\"],\\\"auto_blacklist\\\":true,\\\"blacklist_samples_reached\\\":false,\\\"exclude_nan_labels\\\":true,\\\"verbosity\\\":20,\\\"_debug_log\\\":\\\"azureml_automl.log\\\",\\\"show_warnings\\\":false,\\\"model_explainability\\\":true,\\\"service_url\\\":null,\\\"sdk_url\\\":null,\\\"sdk_packages\\\":null,\\\"enable_onnx_compatible_models\\\":false,\\\"enable_split_onnx_featurizer_estimator_models\\\":false,\\\"vm_type\\\":\\\"STANDARD_D2_V2\\\",\\\"telemetry_verbosity\\\":20,\\\"send_telemetry\\\":true,\\\"enable_dnn\\\":false,\\\"scenario\\\":\\\"SDK-1.13.0\\\",\\\"environment_label\\\":null,\\\"force_text_dnn\\\":false,\\\"enable_feature_sweeping\\\":true,\\\"enable_early_stopping\\\":true,\\\"early_stopping_n_iters\\\":10,\\\"metrics\\\":null,\\\"enable_ensembling\\\":true,\\\"enable_stack_ensembling\\\":true,\\\"ensemble_iterations\\\":15,\\\"enable_tf\\\":false,\\\"enable_subsampling\\\":null,\\\"subsample_seed\\\":null,\\\"enable_nimbusml\\\":false,\\\"enable_streaming\\\":false,\\\"force_streaming\\\":false,\\\"track_child_runs\\\":true,\\\"allowed_private_models\\\":[],\\\"label_column_name\\\":\\\"Hazardous\\\",\\\"weight_column_name\\\":null,\\\"cv_split_column_names\\\":null,\\\"enable_local_managed\\\":false,\\\"_local_managed_run_id\\\":null,\\\"cost_mode\\\":1,\\\"lag_length\\\":0,\\\"metric_operation\\\":\\\"maximize\\\",\\\"preprocess\\\":true}\", \"DataPrepJsonString\": \"{\\\\\\\"training_data\\\\\\\": \\\\\\\"{\\\\\\\\\\\\\\\"blocks\\\\\\\\\\\\\\\": [{\\\\\\\\\\\\\\\"id\\\\\\\\\\\\\\\": \\\\\\\\\\\\\\\"e362512e-bf00-43d0-bff9-ff792de028f6\\\\\\\\\\\\\\\", \\\\\\\\\\\\\\\"type\\\\\\\\\\\\\\\": \\\\\\\\\\\\\\\"Microsoft.DPrep.GetDatastoreFilesBlock\\\\\\\\\\\\\\\", \\\\\\\\\\\\\\\"arguments\\\\\\\\\\\\\\\": {\\\\\\\\\\\\\\\"datastores\\\\\\\\\\\\\\\": [{\\\\\\\\\\\\\\\"datastoreName\\\\\\\\\\\\\\\": \\\\\\\\\\\\\\\"workspaceblobstore\\\\\\\\\\\\\\\", \\\\\\\\\\\\\\\"path\\\\\\\\\\\\\\\": \\\\\\\\\\\\\\\"managed-dataset/df3c3c5e-debf-4e25-9109-00a5dbb754c4/\\\\\\\\\\\\\\\", \\\\\\\\\\\\\\\"resourceGroup\\\\\\\\\\\\\\\": \\\\\\\\\\\\\\\"aml-quickstarts-137123\\\\\\\\\\\\\\\", \\\\\\\\\\\\\\\"subscription\\\\\\\\\\\\\\\": \\\\\\\\\\\\\\\"a24a24d5-8d87-4c8a-99b6-91ed2d2df51f\\\\\\\\\\\\\\\", \\\\\\\\\\\\\\\"workspaceName\\\\\\\\\\\\\\\": \\\\\\\\\\\\\\\"quick-starts-ws-137123\\\\\\\\\\\\\\\"}]}, \\\\\\\\\\\\\\\"localData\\\\\\\\\\\\\\\": {}, \\\\\\\\\\\\\\\"isEnabled\\\\\\\\\\\\\\\": true, \\\\\\\\\\\\\\\"name\\\\\\\\\\\\\\\": null, \\\\\\\\\\\\\\\"annotation\\\\\\\\\\\\\\\": null}, {\\\\\\\\\\\\\\\"id\\\\\\\\\\\\\\\": \\\\\\\\\\\\\\\"8ba7b9e9-6988-42fb-9c69-68f5f29a3613\\\\\\\\\\\\\\\", \\\\\\\\\\\\\\\"type\\\\\\\\\\\\\\\": \\\\\\\\\\\\\\\"Microsoft.DPrep.ReadParquetFileBlock\\\\\\\\\\\\\\\", \\\\\\\\\\\\\\\"arguments\\\\\\\\\\\\\\\": {\\\\\\\\\\\\\\\"preview\\\\\\\\\\\\\\\": false}, \\\\\\\\\\\\\\\"localData\\\\\\\\\\\\\\\": {}, \\\\\\\\\\\\\\\"isEnabled\\\\\\\\\\\\\\\": true, \\\\\\\\\\\\\\\"name\\\\\\\\\\\\\\\": null, \\\\\\\\\\\\\\\"annotation\\\\\\\\\\\\\\\": null}, {\\\\\\\\\\\\\\\"id\\\\\\\\\\\\\\\": \\\\\\\\\\\\\\\"c9bcd2ed-f5f3-4b55-b368-cd660d682460\\\\\\\\\\\\\\\", \\\\\\\\\\\\\\\"type\\\\\\\\\\\\\\\": \\\\\\\\\\\\\\\"Microsoft.DPrep.DropColumnsBlock\\\\\\\\\\\\\\\", \\\\\\\\\\\\\\\"arguments\\\\\\\\\\\\\\\": {\\\\\\\\\\\\\\\"columns\\\\\\\\\\\\\\\": {\\\\\\\\\\\\\\\"type\\\\\\\\\\\\\\\": 0, \\\\\\\\\\\\\\\"details\\\\\\\\\\\\\\\": {\\\\\\\\\\\\\\\"selectedColumns\\\\\\\\\\\\\\\": [\\\\\\\\\\\\\\\"Path\\\\\\\\\\\\\\\"]}}}, \\\\\\\\\\\\\\\"localData\\\\\\\\\\\\\\\": {}, \\\\\\\\\\\\\\\"isEnabled\\\\\\\\\\\\\\\": true, \\\\\\\\\\\\\\\"name\\\\\\\\\\\\\\\": null, \\\\\\\\\\\\\\\"annotation\\\\\\\\\\\\\\\": null}], \\\\\\\\\\\\\\\"inspectors\\\\\\\\\\\\\\\": [], \\\\\\\\\\\\\\\"meta\\\\\\\\\\\\\\\": {\\\\\\\\\\\\\\\"savedDatasetId\\\\\\\\\\\\\\\": \\\\\\\\\\\\\\\"ef90df34-2ddf-43a3-8ed3-a2cb9ffa9a87\\\\\\\\\\\\\\\", \\\\\\\\\\\\\\\"datasetType\\\\\\\\\\\\\\\": \\\\\\\\\\\\\\\"tabular\\\\\\\\\\\\\\\", \\\\\\\\\\\\\\\"subscriptionId\\\\\\\\\\\\\\\": \\\\\\\\\\\\\\\"a24a24d5-8d87-4c8a-99b6-91ed2d2df51f\\\\\\\\\\\\\\\", \\\\\\\\\\\\\\\"workspaceId\\\\\\\\\\\\\\\": \\\\\\\\\\\\\\\"e9712117-0618-46a3-86b5-cbc5941e1b46\\\\\\\\\\\\\\\", \\\\\\\\\\\\\\\"workspaceLocation\\\\\\\\\\\\\\\": \\\\\\\\\\\\\\\"southcentralus\\\\\\\\\\\\\\\"}}\\\\\\\", \\\\\\\"activities\\\\\\\": 0}\", \"EnableSubsampling\": null, \"runTemplate\": \"AutoML\", \"azureml.runsource\": \"automl\", \"display_task_type\": \"classification\", \"dependencies_versions\": \"{\\\"azureml-widgets\\\": \\\"1.20.0\\\", \\\"azureml-train\\\": \\\"1.20.0\\\", \\\"azureml-train-restclients-hyperdrive\\\": \\\"1.20.0\\\", \\\"azureml-train-core\\\": \\\"1.20.0\\\", \\\"azureml-train-automl\\\": \\\"1.20.0\\\", \\\"azureml-train-automl-runtime\\\": \\\"1.20.0\\\", \\\"azureml-train-automl-client\\\": \\\"1.20.0\\\", \\\"azureml-tensorboard\\\": \\\"1.20.0\\\", \\\"azureml-telemetry\\\": \\\"1.20.0\\\", \\\"azureml-sdk\\\": \\\"1.20.0\\\", \\\"azureml-samples\\\": \\\"0+unknown\\\", \\\"azureml-pipeline\\\": \\\"1.20.0\\\", \\\"azureml-pipeline-steps\\\": \\\"1.20.0\\\", \\\"azureml-pipeline-core\\\": \\\"1.20.0\\\", \\\"azureml-opendatasets\\\": \\\"1.20.0\\\", \\\"azureml-model-management-sdk\\\": \\\"1.0.1b6.post1\\\", \\\"azureml-mlflow\\\": \\\"1.20.0.post1\\\", \\\"azureml-interpret\\\": \\\"1.20.0\\\", \\\"azureml-explain-model\\\": \\\"1.20.0\\\", \\\"azureml-defaults\\\": \\\"1.20.0\\\", \\\"azureml-dataset-runtime\\\": \\\"1.20.0\\\", \\\"azureml-dataprep\\\": \\\"2.7.3\\\", \\\"azureml-dataprep-rslex\\\": \\\"1.5.0\\\", \\\"azureml-dataprep-native\\\": \\\"27.0.0\\\", \\\"azureml-datadrift\\\": \\\"1.20.0\\\", \\\"azureml-core\\\": \\\"1.20.0\\\", \\\"azureml-contrib-services\\\": \\\"1.20.0\\\", \\\"azureml-contrib-server\\\": \\\"1.20.0\\\", \\\"azureml-contrib-reinforcementlearning\\\": \\\"1.20.0\\\", \\\"azureml-contrib-pipeline-steps\\\": \\\"1.20.0\\\", \\\"azureml-contrib-notebook\\\": \\\"1.20.0\\\", \\\"azureml-contrib-interpret\\\": \\\"1.20.0\\\", \\\"azureml-contrib-gbdt\\\": \\\"1.20.0\\\", \\\"azureml-contrib-fairness\\\": \\\"1.20.0\\\", \\\"azureml-contrib-dataset\\\": \\\"1.20.0\\\", \\\"azureml-cli-common\\\": \\\"1.20.0\\\", \\\"azureml-automl-runtime\\\": \\\"1.20.0\\\", \\\"azureml-automl-core\\\": \\\"1.20.0\\\", \\\"azureml-accel-models\\\": \\\"1.20.0\\\"}\", \"_aml_system_scenario_identification\": \"Remote.Parent\", \"ClientType\": \"SDK\", \"environment_cpu_name\": \"AzureML-AutoML\", \"environment_cpu_label\": \"prod\", \"environment_gpu_name\": \"AzureML-AutoML-GPU\", \"environment_gpu_label\": \"prod\", \"root_attribution\": \"automl\", \"attribution\": \"AutoML\", \"Orchestrator\": \"AutoML\", \"CancelUri\": \"https://southcentralus.experiments.azureml.net/jasmine/v1.0/subscriptions/a24a24d5-8d87-4c8a-99b6-91ed2d2df51f/resourceGroups/aml-quickstarts-137123/providers/Microsoft.MachineLearningServices/workspaces/quick-starts-ws-137123/experimentids/010d2344-6655-4927-8357-00047002de0e/cancel/AutoML_14a7c021-4812-4a2f-805c-07d30f839ab4\", \"ClientSdkVersion\": \"1.21.0\", \"snapshotId\": \"00000000-0000-0000-0000-000000000000\", \"SetupRunId\": \"AutoML_14a7c021-4812-4a2f-805c-07d30f839ab4_setup\", \"SetupRunContainerId\": \"dcid.AutoML_14a7c021-4812-4a2f-805c-07d30f839ab4_setup\", \"FeaturizationRunJsonPath\": \"featurizer_container.json\", \"FeaturizationRunId\": \"AutoML_14a7c021-4812-4a2f-805c-07d30f839ab4_featurize\", \"ProblemInfoJsonString\": \"{\\\"dataset_num_categorical\\\": 0, \\\"is_sparse\\\": true, \\\"subsampling\\\": false, \\\"dataset_classes\\\": 2, \\\"dataset_features\\\": 30, \\\"dataset_samples\\\": 4687, \\\"single_frequency_class_detected\\\": false}\", \"ModelExplainRunId\": \"AutoML_14a7c021-4812-4a2f-805c-07d30f839ab4_ModelExplain\"}, \"tags\": {\"model_explain_run\": \"best_run\", \"_aml_system_azureml.automlComponent\": \"AutoML\", \"pipeline_id\": \"\", \"score\": \"\", \"predicted_cost\": \"\", \"fit_time\": \"\", \"training_percent\": \"\", \"iteration\": \"\", \"run_preprocessor\": \"\", \"run_algorithm\": \"\", \"dynamic_whitelisting_iterations\": \"<25>;<30>;<35>;\", \"automl_best_child_run_id\": \"AutoML_14a7c021-4812-4a2f-805c-07d30f839ab4_38\"}, \"end_time_utc\": \"2021-02-03T20:27:57.746342Z\", \"status\": \"Completed\", \"log_files\": {}, \"log_groups\": [], \"run_duration\": \"0:22:15\"}, \"child_runs\": [{\"run_id\": \"AutoML_14a7c021-4812-4a2f-805c-07d30f839ab4_0\", \"run_number\": 6, \"metric\": null, \"status\": \"Completed\", \"run_type\": \"azureml.scriptrun\", \"training_percent\": \"100\", \"start_time\": \"2021-02-03T20:13:31.723945Z\", \"end_time\": \"2021-02-03T20:17:13.119405Z\", \"created_time\": \"2021-02-03T20:11:32.339863Z\", \"created_time_dt\": \"2021-02-03T20:11:32.339863Z\", \"duration\": \"0:05:40\", \"iteration\": \"0\", \"goal\": \"accuracy_max\", \"run_name\": \"MaxAbsScaler, LightGBM\", \"run_properties\": \"copy=True\", \"primary_metric\": 0.99594701, \"best_metric\": 0.99594701}, {\"run_id\": \"AutoML_14a7c021-4812-4a2f-805c-07d30f839ab4_4\", \"run_number\": 7, \"metric\": null, \"status\": \"Completed\", \"run_type\": \"azureml.scriptrun\", \"training_percent\": \"100\", \"start_time\": \"2021-02-03T20:12:50.010904Z\", \"end_time\": \"2021-02-03T20:13:47.644405Z\", \"created_time\": \"2021-02-03T20:11:32.421382Z\", \"created_time_dt\": \"2021-02-03T20:11:32.421382Z\", \"duration\": \"0:02:15\", \"iteration\": \"4\", \"goal\": \"accuracy_max\", \"run_name\": \"MaxAbsScaler, RandomForest\", \"run_properties\": \"copy=True\", \"primary_metric\": 0.9940253, \"best_metric\": 0.99594701}, {\"run_id\": \"AutoML_14a7c021-4812-4a2f-805c-07d30f839ab4_2\", \"run_number\": 8, \"metric\": null, \"status\": \"Completed\", \"run_type\": \"azureml.scriptrun\", \"training_percent\": \"100\", \"start_time\": \"2021-02-03T20:13:34.600838Z\", \"end_time\": \"2021-02-03T20:17:13.284141Z\", \"created_time\": \"2021-02-03T20:11:32.423965Z\", \"created_time_dt\": \"2021-02-03T20:11:32.423965Z\", \"duration\": \"0:05:40\", \"iteration\": \"2\", \"goal\": \"accuracy_max\", \"run_name\": \"MaxAbsScaler, RandomForest\", \"run_properties\": \"copy=True\", \"primary_metric\": 0.9929592, \"best_metric\": 0.99594701}, {\"run_id\": \"AutoML_14a7c021-4812-4a2f-805c-07d30f839ab4_1\", \"run_number\": 9, \"metric\": null, \"status\": \"Completed\", \"run_type\": \"azureml.scriptrun\", \"training_percent\": \"100\", \"start_time\": \"2021-02-03T20:13:32.9153Z\", \"end_time\": \"2021-02-03T20:19:09.068106Z\", \"created_time\": \"2021-02-03T20:11:32.423256Z\", \"created_time_dt\": \"2021-02-03T20:11:32.423256Z\", \"duration\": \"0:07:36\", \"iteration\": \"1\", \"goal\": \"accuracy_max\", \"run_name\": \"MaxAbsScaler, XGBoostClassifier\", \"run_properties\": \"copy=True\", \"primary_metric\": 0.99509345, \"best_metric\": 0.99594701}, {\"run_id\": \"AutoML_14a7c021-4812-4a2f-805c-07d30f839ab4_3\", \"run_number\": 10, \"metric\": null, \"status\": \"Completed\", \"run_type\": \"azureml.scriptrun\", \"training_percent\": \"100\", \"start_time\": \"2021-02-03T20:11:43.789629Z\", \"end_time\": \"2021-02-03T20:12:46.991246Z\", \"created_time\": \"2021-02-03T20:11:32.424111Z\", \"created_time_dt\": \"2021-02-03T20:11:32.424111Z\", \"duration\": \"0:01:14\", \"iteration\": \"3\", \"goal\": \"accuracy_max\", \"run_name\": \"MaxAbsScaler, RandomForest\", \"run_properties\": \"copy=True\", \"primary_metric\": 0.94304556, \"best_metric\": 0.99594701}, {\"run_id\": \"AutoML_14a7c021-4812-4a2f-805c-07d30f839ab4_5\", \"run_number\": 11, \"metric\": null, \"status\": \"Completed\", \"run_type\": \"azureml.scriptrun\", \"training_percent\": \"100\", \"start_time\": \"2021-02-03T20:13:47.931412Z\", \"end_time\": \"2021-02-03T20:14:43.922791Z\", \"created_time\": \"2021-02-03T20:12:51.566459Z\", \"created_time_dt\": \"2021-02-03T20:12:51.566459Z\", \"duration\": \"0:01:52\", \"iteration\": \"5\", \"goal\": \"accuracy_max\", \"run_name\": \"MaxAbsScaler, RandomForest\", \"run_properties\": \"copy=True\", \"primary_metric\": 0.9560333, \"best_metric\": 0.99594701}, {\"run_id\": \"AutoML_14a7c021-4812-4a2f-805c-07d30f839ab4_6\", \"run_number\": 12, \"metric\": null, \"status\": \"Completed\", \"run_type\": \"azureml.scriptrun\", \"training_percent\": \"100\", \"start_time\": \"2021-02-03T20:14:43.870462Z\", \"end_time\": \"2021-02-03T20:15:41.284653Z\", \"created_time\": \"2021-02-03T20:13:51.285643Z\", \"created_time_dt\": \"2021-02-03T20:13:51.285643Z\", \"duration\": \"0:01:49\", \"iteration\": \"6\", \"goal\": \"accuracy_max\", \"run_name\": \"SparseNormalizer, XGBoostClassifier\", \"run_properties\": \"<azureml.automl.runtime.shared.model_wrappers.SparseNormalizer object at 0x7fea07521438\", \"primary_metric\": 0.98762666, \"best_metric\": 0.99594701}, {\"run_id\": \"AutoML_14a7c021-4812-4a2f-805c-07d30f839ab4_7\", \"run_number\": 13, \"metric\": null, \"status\": \"Completed\", \"run_type\": \"azureml.scriptrun\", \"training_percent\": \"100\", \"start_time\": \"2021-02-03T20:15:45.452656Z\", \"end_time\": \"2021-02-03T20:16:42.059654Z\", \"created_time\": \"2021-02-03T20:14:47.330496Z\", \"created_time_dt\": \"2021-02-03T20:14:47.330496Z\", \"duration\": \"0:01:54\", \"iteration\": \"7\", \"goal\": \"accuracy_max\", \"run_name\": \"SparseNormalizer, XGBoostClassifier\", \"run_properties\": \"<azureml.automl.runtime.shared.model_wrappers.SparseNormalizer object at 0x7f233e9c2400\", \"primary_metric\": 0.98869276, \"best_metric\": 0.99594701}, {\"run_id\": \"AutoML_14a7c021-4812-4a2f-805c-07d30f839ab4_8\", \"run_number\": 14, \"metric\": null, \"status\": \"Completed\", \"run_type\": \"azureml.scriptrun\", \"training_percent\": \"100\", \"start_time\": \"2021-02-03T20:16:45.820257Z\", \"end_time\": \"2021-02-03T20:17:43.709205Z\", \"created_time\": \"2021-02-03T20:15:43.529625Z\", \"created_time_dt\": \"2021-02-03T20:15:43.529625Z\", \"duration\": \"0:02:00\", \"iteration\": \"8\", \"goal\": \"accuracy_max\", \"run_name\": \"MaxAbsScaler, LogisticRegression\", \"run_properties\": \"copy=True\", \"primary_metric\": 0.95114517, \"best_metric\": 0.99594701}, {\"run_id\": \"AutoML_14a7c021-4812-4a2f-805c-07d30f839ab4_9\", \"run_number\": 15, \"metric\": null, \"status\": \"Completed\", \"run_type\": \"azureml.scriptrun\", \"training_percent\": \"100\", \"start_time\": \"2021-02-03T20:17:16.081153Z\", \"end_time\": \"2021-02-03T20:18:11.117268Z\", \"created_time\": \"2021-02-03T20:16:44.703835Z\", \"created_time_dt\": \"2021-02-03T20:16:44.703835Z\", \"duration\": \"0:01:26\", \"iteration\": \"9\", \"goal\": \"accuracy_max\", \"run_name\": \"MaxAbsScaler, LightGBM\", \"run_properties\": \"copy=True\", \"primary_metric\": 0.83977513, \"best_metric\": 0.99594701}, {\"run_id\": \"AutoML_14a7c021-4812-4a2f-805c-07d30f839ab4_10\", \"run_number\": 16, \"metric\": null, \"status\": \"Completed\", \"run_type\": \"azureml.scriptrun\", \"training_percent\": \"100\", \"start_time\": \"2021-02-03T20:17:46.049565Z\", \"end_time\": \"2021-02-03T20:18:57.638969Z\", \"created_time\": \"2021-02-03T20:17:15.613133Z\", \"created_time_dt\": \"2021-02-03T20:17:15.613133Z\", \"duration\": \"0:01:42\", \"iteration\": \"10\", \"goal\": \"accuracy_max\", \"run_name\": \"MaxAbsScaler, ExtremeRandomTrees\", \"run_properties\": \"copy=True\", \"primary_metric\": 0.83892202, \"best_metric\": 0.99594701}, {\"run_id\": \"AutoML_14a7c021-4812-4a2f-805c-07d30f839ab4_11\", \"run_number\": 17, \"metric\": null, \"status\": \"Completed\", \"run_type\": \"azureml.scriptrun\", \"training_percent\": \"100\", \"start_time\": \"2021-02-03T20:17:29.141723Z\", \"end_time\": \"2021-02-03T20:18:24.301538Z\", \"created_time\": \"2021-02-03T20:17:15.740036Z\", \"created_time_dt\": \"2021-02-03T20:17:15.740036Z\", \"duration\": \"0:01:08\", \"iteration\": \"11\", \"goal\": \"accuracy_max\", \"run_name\": \"StandardScalerWrapper, LightGBM\", \"run_properties\": \"<azureml.automl.runtime.shared.model_wrappers.StandardScalerWrapper object at 0x7f6a39d981d0\", \"primary_metric\": 0.84020248, \"best_metric\": 0.99594701}, {\"run_id\": \"AutoML_14a7c021-4812-4a2f-805c-07d30f839ab4_12\", \"run_number\": 18, \"metric\": null, \"status\": \"Completed\", \"run_type\": \"azureml.scriptrun\", \"training_percent\": \"100\", \"start_time\": \"2021-02-03T20:18:15.617576Z\", \"end_time\": \"2021-02-03T20:19:14.214649Z\", \"created_time\": \"2021-02-03T20:17:46.064167Z\", \"created_time_dt\": \"2021-02-03T20:17:46.064167Z\", \"duration\": \"0:01:28\", \"iteration\": \"12\", \"goal\": \"accuracy_max\", \"run_name\": \"MaxAbsScaler, LightGBM\", \"run_properties\": \"copy=True\", \"primary_metric\": 0.86623302, \"best_metric\": 0.99594701}, {\"run_id\": \"AutoML_14a7c021-4812-4a2f-805c-07d30f839ab4_13\", \"run_number\": 19, \"metric\": null, \"status\": \"Completed\", \"run_type\": \"azureml.scriptrun\", \"training_percent\": \"100\", \"start_time\": \"2021-02-03T20:18:44.087012Z\", \"end_time\": \"2021-02-03T20:19:38.744372Z\", \"created_time\": \"2021-02-03T20:18:13.437042Z\", \"created_time_dt\": \"2021-02-03T20:18:13.437042Z\", \"duration\": \"0:01:25\", \"iteration\": \"13\", \"goal\": \"accuracy_max\", \"run_name\": \"SparseNormalizer, XGBoostClassifier\", \"run_properties\": \"<azureml.automl.runtime.shared.model_wrappers.SparseNormalizer object at 0x7fa8501265f8\", \"primary_metric\": 0.98613413, \"best_metric\": 0.99594701}, {\"run_id\": \"AutoML_14a7c021-4812-4a2f-805c-07d30f839ab4_14\", \"run_number\": 20, \"metric\": null, \"status\": \"Completed\", \"run_type\": \"azureml.scriptrun\", \"training_percent\": \"100\", \"start_time\": \"2021-02-03T20:19:01.095578Z\", \"end_time\": \"2021-02-03T20:20:07.997451Z\", \"created_time\": \"2021-02-03T20:18:35.853419Z\", \"created_time_dt\": \"2021-02-03T20:18:35.853419Z\", \"duration\": \"0:01:32\", \"iteration\": \"14\", \"goal\": \"accuracy_max\", \"run_name\": \"MaxAbsScaler, LightGBM\", \"run_properties\": \"copy=True\", \"primary_metric\": 0.92404944, \"best_metric\": 0.99594701}, {\"run_id\": \"AutoML_14a7c021-4812-4a2f-805c-07d30f839ab4_15\", \"run_number\": 21, \"metric\": null, \"status\": \"Completed\", \"run_type\": \"azureml.scriptrun\", \"training_percent\": \"100\", \"start_time\": \"2021-02-03T20:19:13.183312Z\", \"end_time\": \"2021-02-03T20:20:11.799496Z\", \"created_time\": \"2021-02-03T20:19:00.040914Z\", \"created_time_dt\": \"2021-02-03T20:19:00.040914Z\", \"duration\": \"0:01:11\", \"iteration\": \"15\", \"goal\": \"accuracy_max\", \"run_name\": \"MaxAbsScaler, ExtremeRandomTrees\", \"run_properties\": \"copy=True\", \"primary_metric\": 0.90911383, \"best_metric\": 0.99594701}, {\"run_id\": \"AutoML_14a7c021-4812-4a2f-805c-07d30f839ab4_16\", \"run_number\": 22, \"metric\": null, \"status\": \"Completed\", \"run_type\": \"azureml.scriptrun\", \"training_percent\": \"100\", \"start_time\": \"2021-02-03T20:19:25.367931Z\", \"end_time\": \"2021-02-03T20:20:14.773246Z\", \"created_time\": \"2021-02-03T20:19:11.785052Z\", \"created_time_dt\": \"2021-02-03T20:19:11.785052Z\", \"duration\": \"0:01:02\", \"iteration\": \"16\", \"goal\": \"accuracy_max\", \"run_name\": \"StandardScalerWrapper, RandomForest\", \"run_properties\": \"<azureml.automl.runtime.shared.model_wrappers.StandardScalerWrapper object at 0x7f52487d6e10\", \"primary_metric\": 0.99381276, \"best_metric\": 0.99594701}, {\"run_id\": \"AutoML_14a7c021-4812-4a2f-805c-07d30f839ab4_17\", \"run_number\": 23, \"metric\": null, \"status\": \"Completed\", \"run_type\": \"azureml.scriptrun\", \"training_percent\": \"100\", \"start_time\": \"2021-02-03T20:19:43.610969Z\", \"end_time\": \"2021-02-03T20:20:50.061958Z\", \"created_time\": \"2021-02-03T20:19:17.908505Z\", \"created_time_dt\": \"2021-02-03T20:19:17.908505Z\", \"duration\": \"0:01:32\", \"iteration\": \"17\", \"goal\": \"accuracy_max\", \"run_name\": \"SparseNormalizer, XGBoostClassifier\", \"run_properties\": \"<azureml.automl.runtime.shared.model_wrappers.SparseNormalizer object at 0x7f8d6877d0f0\", \"primary_metric\": 0.9682123, \"best_metric\": 0.99594701}, {\"run_id\": \"AutoML_14a7c021-4812-4a2f-805c-07d30f839ab4_18\", \"run_number\": 24, \"metric\": null, \"status\": \"Completed\", \"run_type\": \"azureml.scriptrun\", \"training_percent\": \"100\", \"start_time\": \"2021-02-03T20:20:10.214637Z\", \"end_time\": \"2021-02-03T20:21:10.995661Z\", \"created_time\": \"2021-02-03T20:19:41.144909Z\", \"created_time_dt\": \"2021-02-03T20:19:41.144909Z\", \"duration\": \"0:01:29\", \"iteration\": \"18\", \"goal\": \"accuracy_max\", \"run_name\": \"StandardScalerWrapper, LightGBM\", \"run_properties\": \"<azureml.automl.runtime.shared.model_wrappers.StandardScalerWrapper object at 0x7fc71f5f9f28\", \"primary_metric\": 0.99402712, \"best_metric\": 0.99594701}, {\"run_id\": \"AutoML_14a7c021-4812-4a2f-805c-07d30f839ab4_19\", \"run_number\": 25, \"metric\": null, \"status\": \"Completed\", \"run_type\": \"azureml.scriptrun\", \"training_percent\": \"100\", \"start_time\": \"2021-02-03T20:20:23.741802Z\", \"end_time\": \"2021-02-03T20:21:21.377108Z\", \"created_time\": \"2021-02-03T20:20:10.294391Z\", \"created_time_dt\": \"2021-02-03T20:20:10.294391Z\", \"duration\": \"0:01:11\", \"iteration\": \"19\", \"goal\": \"accuracy_max\", \"run_name\": \"SparseNormalizer, XGBoostClassifier\", \"run_properties\": \"<azureml.automl.runtime.shared.model_wrappers.SparseNormalizer object at 0x7f681e080978\", \"primary_metric\": 0.9880531, \"best_metric\": 0.99594701}, {\"run_id\": \"AutoML_14a7c021-4812-4a2f-805c-07d30f839ab4_20\", \"run_number\": 26, \"metric\": null, \"status\": \"Completed\", \"run_type\": \"azureml.scriptrun\", \"training_percent\": \"100\", \"start_time\": \"2021-02-03T20:20:29.12327Z\", \"end_time\": \"2021-02-03T20:21:23.299857Z\", \"created_time\": \"2021-02-03T20:20:15.51464Z\", \"created_time_dt\": \"2021-02-03T20:20:15.51464Z\", \"duration\": \"0:01:07\", \"iteration\": \"20\", \"goal\": \"accuracy_max\", \"run_name\": \"SparseNormalizer, XGBoostClassifier\", \"run_properties\": \"<azureml.automl.runtime.shared.model_wrappers.SparseNormalizer object at 0x7f30e403b630\", \"primary_metric\": 0.9729029, \"best_metric\": 0.99594701}, {\"run_id\": \"AutoML_14a7c021-4812-4a2f-805c-07d30f839ab4_21\", \"run_number\": 27, \"metric\": null, \"status\": \"Completed\", \"run_type\": \"azureml.scriptrun\", \"training_percent\": \"100\", \"start_time\": \"2021-02-03T20:20:51.003908Z\", \"end_time\": \"2021-02-03T20:21:46.183077Z\", \"created_time\": \"2021-02-03T20:20:20.742522Z\", \"created_time_dt\": \"2021-02-03T20:20:20.742522Z\", \"duration\": \"0:01:25\", \"iteration\": \"21\", \"goal\": \"accuracy_max\", \"run_name\": \"StandardScalerWrapper, XGBoostClassifier\", \"run_properties\": \"<azureml.automl.runtime.shared.model_wrappers.StandardScalerWrapper object at 0x7f61aeae4c18\", \"primary_metric\": 0.99487977, \"best_metric\": 0.99594701}, {\"run_id\": \"AutoML_14a7c021-4812-4a2f-805c-07d30f839ab4_22\", \"run_number\": 28, \"metric\": null, \"status\": \"Completed\", \"run_type\": \"azureml.scriptrun\", \"training_percent\": \"100\", \"start_time\": \"2021-02-03T20:21:15.253411Z\", \"end_time\": \"2021-02-03T20:22:19.972655Z\", \"created_time\": \"2021-02-03T20:20:52.480011Z\", \"created_time_dt\": \"2021-02-03T20:20:52.480011Z\", \"duration\": \"0:01:27\", \"iteration\": \"22\", \"goal\": \"accuracy_max\", \"run_name\": \"MaxAbsScaler, RandomForest\", \"run_properties\": \"copy=True\", \"primary_metric\": 0.99466564, \"best_metric\": 0.99594701}, {\"run_id\": \"AutoML_14a7c021-4812-4a2f-805c-07d30f839ab4_23\", \"run_number\": 29, \"metric\": null, \"status\": \"Completed\", \"run_type\": \"azureml.scriptrun\", \"training_percent\": \"100\", \"start_time\": \"2021-02-03T20:21:26.838413Z\", \"end_time\": \"2021-02-03T20:22:18.796117Z\", \"created_time\": \"2021-02-03T20:21:13.352401Z\", \"created_time_dt\": \"2021-02-03T20:21:13.352401Z\", \"duration\": \"0:01:05\", \"iteration\": \"23\", \"goal\": \"accuracy_max\", \"run_name\": \"StandardScalerWrapper, XGBoostClassifier\", \"run_properties\": \"<azureml.automl.runtime.shared.model_wrappers.StandardScalerWrapper object at 0x7f560919d6d8\", \"primary_metric\": 0.9946661, \"best_metric\": 0.99594701}, {\"run_id\": \"AutoML_14a7c021-4812-4a2f-805c-07d30f839ab4_24\", \"run_number\": 30, \"metric\": null, \"status\": \"Completed\", \"run_type\": \"azureml.scriptrun\", \"training_percent\": \"100\", \"start_time\": \"2021-02-03T20:21:35.810814Z\", \"end_time\": \"2021-02-03T20:22:31.355191Z\", \"created_time\": \"2021-02-03T20:21:23.832569Z\", \"created_time_dt\": \"2021-02-03T20:21:23.832569Z\", \"duration\": \"0:01:07\", \"iteration\": \"24\", \"goal\": \"accuracy_max\", \"run_name\": \"SparseNormalizer, XGBoostClassifier\", \"run_properties\": \"<azureml.automl.runtime.shared.model_wrappers.SparseNormalizer object at 0x7ff9db5926d8\", \"primary_metric\": 0.97397264, \"best_metric\": 0.99594701}, {\"run_id\": \"AutoML_14a7c021-4812-4a2f-805c-07d30f839ab4_25\", \"run_number\": 31, \"metric\": null, \"status\": \"Completed\", \"run_type\": \"azureml.scriptrun\", \"training_percent\": \"100\", \"start_time\": \"2021-02-03T20:22:41.400853Z\", \"end_time\": \"2021-02-03T20:23:35.157898Z\", \"created_time\": \"2021-02-03T20:21:28.705148Z\", \"created_time_dt\": \"2021-02-03T20:21:28.705148Z\", \"duration\": \"0:02:06\", \"iteration\": \"25\", \"goal\": \"accuracy_max\", \"run_name\": \"SparseNormalizer, LightGBM\", \"run_properties\": \"<azureml.automl.runtime.shared.model_wrappers.SparseNormalizer object at 0x7f875d923a58\", \"primary_metric\": 0.97034541, \"best_metric\": 0.99594701}, {\"run_id\": \"AutoML_14a7c021-4812-4a2f-805c-07d30f839ab4_26\", \"run_number\": 32, \"metric\": null, \"status\": \"Completed\", \"run_type\": \"azureml.scriptrun\", \"training_percent\": \"100\", \"start_time\": \"2021-02-03T20:22:38.990501Z\", \"end_time\": \"2021-02-03T20:23:34.326073Z\", \"created_time\": \"2021-02-03T20:21:48.564272Z\", \"created_time_dt\": \"2021-02-03T20:21:48.564272Z\", \"duration\": \"0:01:45\", \"iteration\": \"26\", \"goal\": \"accuracy_max\", \"run_name\": \"StandardScalerWrapper, XGBoostClassifier\", \"run_properties\": \"<azureml.automl.runtime.shared.model_wrappers.StandardScalerWrapper object at 0x7f297f74d5c0\", \"primary_metric\": 0.99125344, \"best_metric\": 0.99594701}, {\"run_id\": \"AutoML_14a7c021-4812-4a2f-805c-07d30f839ab4_27\", \"run_number\": 33, \"metric\": null, \"status\": \"Completed\", \"run_type\": \"azureml.scriptrun\", \"training_percent\": \"100\", \"start_time\": \"2021-02-03T20:22:37.962997Z\", \"end_time\": \"2021-02-03T20:23:31.213642Z\", \"created_time\": \"2021-02-03T20:22:20.981908Z\", \"created_time_dt\": \"2021-02-03T20:22:20.981908Z\", \"duration\": \"0:01:10\", \"iteration\": \"27\", \"goal\": \"accuracy_max\", \"run_name\": \"SparseNormalizer, LightGBM\", \"run_properties\": \"<azureml.automl.runtime.shared.model_wrappers.SparseNormalizer object at 0x7f20c372c438\", \"primary_metric\": 0.96351942, \"best_metric\": 0.99594701}, {\"run_id\": \"AutoML_14a7c021-4812-4a2f-805c-07d30f839ab4_28\", \"run_number\": 34, \"metric\": null, \"status\": \"Completed\", \"run_type\": \"azureml.scriptrun\", \"training_percent\": \"100\", \"start_time\": \"2021-02-03T20:22:40.191657Z\", \"end_time\": \"2021-02-03T20:23:39.653136Z\", \"created_time\": \"2021-02-03T20:22:25.26885Z\", \"created_time_dt\": \"2021-02-03T20:22:25.26885Z\", \"duration\": \"0:01:14\", \"iteration\": \"28\", \"goal\": \"accuracy_max\", \"run_name\": \"StandardScalerWrapper, LightGBM\", \"run_properties\": \"<azureml.automl.runtime.shared.model_wrappers.StandardScalerWrapper object at 0x7f657f10d6a0\", \"primary_metric\": 0.99423943, \"best_metric\": 0.99594701}, {\"run_id\": \"AutoML_14a7c021-4812-4a2f-805c-07d30f839ab4_29\", \"run_number\": 35, \"metric\": null, \"status\": \"Completed\", \"run_type\": \"azureml.scriptrun\", \"training_percent\": \"100\", \"start_time\": \"2021-02-03T20:23:34.75939Z\", \"end_time\": \"2021-02-03T20:24:32.218958Z\", \"created_time\": \"2021-02-03T20:22:34.189101Z\", \"created_time_dt\": \"2021-02-03T20:22:34.189101Z\", \"duration\": \"0:01:58\", \"iteration\": \"29\", \"goal\": \"accuracy_max\", \"run_name\": \"SparseNormalizer, XGBoostClassifier\", \"run_properties\": \"<azureml.automl.runtime.shared.model_wrappers.SparseNormalizer object at 0x7f36b528fa20\", \"primary_metric\": 0.98762689, \"best_metric\": 0.99594701}, {\"run_id\": \"AutoML_14a7c021-4812-4a2f-805c-07d30f839ab4_30\", \"run_number\": 36, \"metric\": null, \"status\": \"Completed\", \"run_type\": \"azureml.scriptrun\", \"training_percent\": \"100\", \"start_time\": \"2021-02-03T20:23:45.181823Z\", \"end_time\": \"2021-02-03T20:24:40.992566Z\", \"created_time\": \"2021-02-03T20:23:34.845085Z\", \"created_time_dt\": \"2021-02-03T20:23:34.845085Z\", \"duration\": \"0:01:06\", \"iteration\": \"30\", \"goal\": \"accuracy_max\", \"run_name\": \"StandardScalerWrapper, LightGBM\", \"run_properties\": \"<azureml.automl.runtime.shared.model_wrappers.StandardScalerWrapper object at 0x7f4ce5f8e438\", \"primary_metric\": 0.99423966, \"best_metric\": 0.99594701}, {\"run_id\": \"AutoML_14a7c021-4812-4a2f-805c-07d30f839ab4_31\", \"run_number\": 37, \"metric\": null, \"status\": \"Completed\", \"run_type\": \"azureml.scriptrun\", \"training_percent\": \"100\", \"start_time\": \"2021-02-03T20:23:50.880809Z\", \"end_time\": \"2021-02-03T20:24:34.781003Z\", \"created_time\": \"2021-02-03T20:23:38.923943Z\", \"created_time_dt\": \"2021-02-03T20:23:38.923943Z\", \"duration\": \"0:00:55\", \"iteration\": \"31\", \"goal\": \"accuracy_max\", \"run_name\": \"StandardScalerWrapper, LightGBM\", \"run_properties\": \"<azureml.automl.runtime.shared.model_wrappers.StandardScalerWrapper object at 0x7f29e8201160\", \"primary_metric\": 0.98805265, \"best_metric\": 0.99594701}, {\"run_id\": \"AutoML_14a7c021-4812-4a2f-805c-07d30f839ab4_32\", \"run_number\": 38, \"metric\": null, \"status\": \"Completed\", \"run_type\": \"azureml.scriptrun\", \"training_percent\": \"100\", \"start_time\": \"2021-02-03T20:23:50.224244Z\", \"end_time\": \"2021-02-03T20:24:39.634476Z\", \"created_time\": \"2021-02-03T20:23:39.045812Z\", \"created_time_dt\": \"2021-02-03T20:23:39.045812Z\", \"duration\": \"0:01:00\", \"iteration\": \"32\", \"goal\": \"accuracy_max\", \"run_name\": \"StandardScalerWrapper, XGBoostClassifier\", \"run_properties\": \"<azureml.automl.runtime.shared.model_wrappers.StandardScalerWrapper object at 0x7fb2fa759be0\", \"primary_metric\": 0.99423943, \"best_metric\": 0.99594701}, {\"run_id\": \"AutoML_14a7c021-4812-4a2f-805c-07d30f839ab4_33\", \"run_number\": 39, \"metric\": null, \"status\": \"Completed\", \"run_type\": \"azureml.scriptrun\", \"training_percent\": \"100\", \"start_time\": \"2021-02-03T20:24:32.902621Z\", \"end_time\": \"2021-02-03T20:25:31.1254Z\", \"created_time\": \"2021-02-03T20:23:43.056327Z\", \"created_time_dt\": \"2021-02-03T20:23:43.056327Z\", \"duration\": \"0:01:48\", \"iteration\": \"33\", \"goal\": \"accuracy_max\", \"run_name\": \"SparseNormalizer, XGBoostClassifier\", \"run_properties\": \"<azureml.automl.runtime.shared.model_wrappers.SparseNormalizer object at 0x7f1263349e48\", \"primary_metric\": 0.98464068, \"best_metric\": 0.99594701}, {\"run_id\": \"AutoML_14a7c021-4812-4a2f-805c-07d30f839ab4_34\", \"run_number\": 40, \"metric\": null, \"status\": \"Canceled\", \"run_type\": \"azureml.scriptrun\", \"training_percent\": \"100\", \"start_time\": \"2021-02-03T20:24:46.571744Z\", \"end_time\": \"2021-02-03T20:25:40.215313Z\", \"created_time\": \"2021-02-03T20:24:35.062136Z\", \"created_time_dt\": \"2021-02-03T20:24:35.062136Z\", \"duration\": \"0:01:05\", \"iteration\": \"34\", \"goal\": \"accuracy_max\", \"run_name\": \"MaxAbsScaler, LogisticRegression\", \"run_properties\": \"copy=True\", \"primary_metric\": 0.95071828, \"best_metric\": 0.99594701}, {\"run_id\": \"AutoML_14a7c021-4812-4a2f-805c-07d30f839ab4_35\", \"run_number\": 41, \"metric\": null, \"status\": \"Canceled\", \"run_type\": \"azureml.scriptrun\", \"training_percent\": \"100\", \"start_time\": \"2021-02-03T20:24:53.783493Z\", \"end_time\": \"2021-02-03T20:25:40.076121Z\", \"created_time\": \"2021-02-03T20:24:40.894028Z\", \"created_time_dt\": \"2021-02-03T20:24:40.894028Z\", \"duration\": \"0:00:59\", \"iteration\": \"35\", \"goal\": \"accuracy_max\", \"run_name\": \"TruncatedSVDWrapper, LightGBM\", \"run_properties\": \"n_components=0.01, random_state=None\", \"primary_metric\": 0.83892202, \"best_metric\": 0.99594701}, {\"run_id\": \"AutoML_14a7c021-4812-4a2f-805c-07d30f839ab4_36\", \"run_number\": 42, \"metric\": null, \"status\": \"Canceled\", \"run_type\": \"azureml.scriptrun\", \"training_percent\": \"100\", \"start_time\": \"2021-02-03T20:24:46.101756Z\", \"end_time\": \"2021-02-03T20:25:40.492895Z\", \"created_time\": \"2021-02-03T20:24:46.101756Z\", \"created_time_dt\": \"2021-02-03T20:24:46.101756Z\", \"duration\": \"0:00:54\", \"iteration\": \"36\", \"goal\": null, \"run_name\": \"Canceled\", \"run_properties\": null}, {\"run_id\": \"AutoML_14a7c021-4812-4a2f-805c-07d30f839ab4_37\", \"run_number\": 43, \"metric\": null, \"status\": \"Canceled\", \"run_type\": \"azureml.scriptrun\", \"training_percent\": \"100\", \"start_time\": \"2021-02-03T20:24:59.578025Z\", \"end_time\": \"2021-02-03T20:25:40.382916Z\", \"created_time\": \"2021-02-03T20:24:46.214224Z\", \"created_time_dt\": \"2021-02-03T20:24:46.214224Z\", \"duration\": \"0:00:54\", \"iteration\": \"37\", \"goal\": \"accuracy_max\", \"run_name\": \"StandardScalerWrapper, XGBoostClassifier\", \"run_properties\": \"<azureml.automl.runtime.shared.model_wrappers.StandardScalerWrapper object at 0x7f6c7e290748\", \"primary_metric\": 0.9944531, \"best_metric\": 0.99594701}, {\"run_id\": \"AutoML_14a7c021-4812-4a2f-805c-07d30f839ab4_38\", \"run_number\": 44, \"metric\": null, \"status\": \"Completed\", \"run_type\": \"azureml.scriptrun\", \"training_percent\": \"100\", \"start_time\": \"2021-02-03T20:25:57.107027Z\", \"end_time\": \"2021-02-03T20:27:32.230318Z\", \"created_time\": \"2021-02-03T20:25:43.10765Z\", \"created_time_dt\": \"2021-02-03T20:25:43.10765Z\", \"duration\": \"0:01:49\", \"iteration\": \"38\", \"goal\": \"accuracy_max\", \"run_name\": \"VotingEnsemble\", \"run_properties\": \"classification_labels=None,\\n                              estimators=[('0',\\n                                           Pipeline(memory=None,\\n                                                    steps=[('maxabsscaler',\\n                                                            MaxAbsScaler(copy=True\", \"primary_metric\": 0.99616, \"best_metric\": 0.99616}, {\"run_id\": \"AutoML_14a7c021-4812-4a2f-805c-07d30f839ab4_39\", \"run_number\": 45, \"metric\": null, \"status\": \"Completed\", \"run_type\": \"azureml.scriptrun\", \"training_percent\": \"100\", \"start_time\": \"2021-02-03T20:25:55.831133Z\", \"end_time\": \"2021-02-03T20:27:42.595889Z\", \"created_time\": \"2021-02-03T20:25:43.110725Z\", \"created_time_dt\": \"2021-02-03T20:25:43.110725Z\", \"duration\": \"0:01:59\", \"iteration\": \"39\", \"goal\": \"accuracy_max\", \"run_name\": \"StackEnsemble\", \"run_properties\": \"base_learners=[('0',\\n                                        Pipeline(memory=None,\\n                                                 steps=[('maxabsscaler',\\n                                                         MaxAbsScaler(copy=True\", \"primary_metric\": 0.99573333, \"best_metric\": 0.99616}], \"children_metrics\": {\"categories\": [0], \"series\": {\"precision_score_macro\": [{\"categories\": [\"0\", \"1\", \"2\", \"3\", \"4\", \"5\", \"6\", \"7\", \"8\", \"9\", \"10\", \"11\", \"12\", \"13\", \"14\", \"15\", \"16\", \"17\", \"18\", \"19\", \"20\", \"21\", \"22\", \"23\", \"24\", \"25\", \"26\", \"27\", \"28\", \"29\", \"30\", \"31\", \"32\", \"33\", \"34\", \"35\", \"37\", \"38\", \"39\"], \"mode\": \"markers\", \"name\": \"precision_score_macro\", \"stepped\": false, \"type\": \"scatter\", \"data\": [0.993673541445299, 0.9931408315683846, 0.9918547505843233, 0.9685799905245263, 0.9841636888883627, 0.9266189581133238, 0.9810030588683987, 0.9828163771522546, 0.9143735888713053, 0.6198208624090358, 0.41946101175779893, 0.7200066203142335, 0.9312537859249417, 0.9843933715980313, 0.9433082272656405, 0.9379890563957194, 0.990626657609333, 0.9661530768264083, 0.9919414837354527, 0.9835997510283925, 0.9722936430582049, 0.9930075384421231, 0.9900120094468827, 0.9912633384749079, 0.9635449023028377, 0.9638786660620273, 0.990039447313017, 0.9574861665070828, 0.9914470568102608, 0.9832099524024601, 0.9932359256389045, 0.9901031906821904, 0.9926225805113097, 0.9811239857142736, 0.915377360006475, 0.41946101175779893, 0.9921834665588726, 0.9943692938936177, 0.9936065678949012]}, {\"categories\": [\"0\", \"1\", \"2\", \"3\", \"4\", \"5\", \"6\", \"7\", \"8\", \"9\", \"10\", \"11\", \"12\", \"13\", \"14\", \"15\", \"16\", \"17\", \"18\", \"19\", \"20\", \"21\", \"22\", \"23\", \"24\", \"25\", \"26\", \"27\", \"28\", \"29\", \"30\", \"31\", \"32\", \"33\", \"34\", \"35\", \"37\", \"38\", \"39\"], \"mode\": \"lines\", \"name\": \"precision_score_macro_max\", \"stepped\": true, \"type\": \"scatter\", \"data\": [0.993673541445299, 0.993673541445299, 0.993673541445299, 0.993673541445299, 0.993673541445299, 0.993673541445299, 0.993673541445299, 0.993673541445299, 0.993673541445299, 0.993673541445299, 0.993673541445299, 0.993673541445299, 0.993673541445299, 0.993673541445299, 0.993673541445299, 0.993673541445299, 0.993673541445299, 0.993673541445299, 0.993673541445299, 0.993673541445299, 0.993673541445299, 0.993673541445299, 0.993673541445299, 0.993673541445299, 0.993673541445299, 0.993673541445299, 0.993673541445299, 0.993673541445299, 0.993673541445299, 0.993673541445299, 0.993673541445299, 0.993673541445299, 0.993673541445299, 0.993673541445299, 0.993673541445299, 0.993673541445299, 0.993673541445299, 0.9943692938936177, 0.9943692938936177]}], \"precision_score_weighted\": [{\"categories\": [\"0\", \"1\", \"2\", \"3\", \"4\", \"5\", \"6\", \"7\", \"8\", \"9\", \"10\", \"11\", \"12\", \"13\", \"14\", \"15\", \"16\", \"17\", \"18\", \"19\", \"20\", \"21\", \"22\", \"23\", \"24\", \"25\", \"26\", \"27\", \"28\", \"29\", \"30\", \"31\", \"32\", \"33\", \"34\", \"35\", \"37\", \"38\", \"39\"], \"mode\": \"markers\", \"name\": \"precision_score_weighted\", \"stepped\": false, \"type\": \"scatter\", \"data\": [0.9959878247507945, 0.9951291870872361, 0.9929737306031307, 0.9494926061773852, 0.9941800870752706, 0.9772641624818135, 0.9876085715159484, 0.9887214921542344, 0.9505814190836459, 0.7658379682051516, 0.704008055061147, 0.7962561017122015, 0.8848856536545829, 0.9861656324322153, 0.9274962169388262, 0.9152226729229236, 0.9938733533718818, 0.9681187309695616, 0.9940586294706042, 0.9880486814897969, 0.9729013551298877, 0.9948996899250823, 0.9947047173896493, 0.9947446631763309, 0.9736984110335734, 0.970152401824684, 0.9912941693859079, 0.9631447399025115, 0.9942687452720567, 0.9876145355080048, 0.9942780567758712, 0.9881626398575225, 0.9942644222676998, 0.984687609454349, 0.9500175817796486, 0.704008055061147, 0.9945051619713047, 0.9961784693493649, 0.99575998002119]}, {\"categories\": [\"0\", \"1\", \"2\", \"3\", \"4\", \"5\", \"6\", \"7\", \"8\", \"9\", \"10\", \"11\", \"12\", \"13\", \"14\", \"15\", \"16\", \"17\", \"18\", \"19\", \"20\", \"21\", \"22\", \"23\", \"24\", \"25\", \"26\", \"27\", \"28\", \"29\", \"30\", \"31\", \"32\", \"33\", \"34\", \"35\", \"37\", \"38\", \"39\"], \"mode\": \"lines\", \"name\": \"precision_score_weighted_max\", \"stepped\": true, \"type\": \"scatter\", \"data\": [0.9959878247507945, 0.9959878247507945, 0.9959878247507945, 0.9959878247507945, 0.9959878247507945, 0.9959878247507945, 0.9959878247507945, 0.9959878247507945, 0.9959878247507945, 0.9959878247507945, 0.9959878247507945, 0.9959878247507945, 0.9959878247507945, 0.9959878247507945, 0.9959878247507945, 0.9959878247507945, 0.9959878247507945, 0.9959878247507945, 0.9959878247507945, 0.9959878247507945, 0.9959878247507945, 0.9959878247507945, 0.9959878247507945, 0.9959878247507945, 0.9959878247507945, 0.9959878247507945, 0.9959878247507945, 0.9959878247507945, 0.9959878247507945, 0.9959878247507945, 0.9959878247507945, 0.9959878247507945, 0.9959878247507945, 0.9959878247507945, 0.9959878247507945, 0.9959878247507945, 0.9959878247507945, 0.9961784693493649, 0.9961784693493649]}], \"f1_score_micro\": [{\"categories\": [\"0\", \"1\", \"2\", \"3\", \"4\", \"5\", \"6\", \"7\", \"8\", \"9\", \"10\", \"11\", \"12\", \"13\", \"14\", \"15\", \"16\", \"17\", \"18\", \"19\", \"20\", \"21\", \"22\", \"23\", \"24\", \"25\", \"26\", \"27\", \"28\", \"29\", \"30\", \"31\", \"32\", \"33\", \"34\", \"35\", \"37\", \"38\", \"39\"], \"mode\": \"markers\", \"name\": \"f1_score_micro\", \"stepped\": false, \"type\": \"scatter\", \"data\": [0.9959470068471485, 0.995093445715469, 0.9929592015528396, 0.9430455589107367, 0.994025299633863, 0.9560332959383597, 0.9876266631471398, 0.9886927612281632, 0.9511451736590717, 0.8397751295360368, 0.8389220235155979, 0.8402024789909273, 0.8662330215062818, 0.9861341258337069, 0.9240494432851749, 0.909113830147934, 0.9938127626845192, 0.9682123002914989, 0.9940271200788253, 0.9880531023795491, 0.9729029042923818, 0.9948797709880237, 0.9946656411493379, 0.9946660962605784, 0.9739726432633296, 0.9703454066760268, 0.9912534446232021, 0.9635194207344131, 0.9942394294725488, 0.9876268907027601, 0.9942396570281691, 0.9880526472683085, 0.9942394294725488, 0.984640678297793, 0.9507182793154216, 0.8389220235155979, 0.9944531041999941, 0.9961599989077332, 0.9957333321197034]}, {\"categories\": [\"0\", \"1\", \"2\", \"3\", \"4\", \"5\", \"6\", \"7\", \"8\", \"9\", \"10\", \"11\", \"12\", \"13\", \"14\", \"15\", \"16\", \"17\", \"18\", \"19\", \"20\", \"21\", \"22\", \"23\", \"24\", \"25\", \"26\", \"27\", \"28\", \"29\", \"30\", \"31\", \"32\", \"33\", \"34\", \"35\", \"37\", \"38\", \"39\"], \"mode\": \"lines\", \"name\": \"f1_score_micro_max\", \"stepped\": true, \"type\": \"scatter\", \"data\": [0.9959470068471485, 0.9959470068471485, 0.9959470068471485, 0.9959470068471485, 0.9959470068471485, 0.9959470068471485, 0.9959470068471485, 0.9959470068471485, 0.9959470068471485, 0.9959470068471485, 0.9959470068471485, 0.9959470068471485, 0.9959470068471485, 0.9959470068471485, 0.9959470068471485, 0.9959470068471485, 0.9959470068471485, 0.9959470068471485, 0.9959470068471485, 0.9959470068471485, 0.9959470068471485, 0.9959470068471485, 0.9959470068471485, 0.9959470068471485, 0.9959470068471485, 0.9959470068471485, 0.9959470068471485, 0.9959470068471485, 0.9959470068471485, 0.9959470068471485, 0.9959470068471485, 0.9959470068471485, 0.9959470068471485, 0.9959470068471485, 0.9959470068471485, 0.9959470068471485, 0.9959470068471485, 0.9961599989077332, 0.9961599989077332]}], \"accuracy\": [{\"categories\": [\"0\", \"1\", \"2\", \"3\", \"4\", \"5\", \"6\", \"7\", \"8\", \"9\", \"10\", \"11\", \"12\", \"13\", \"14\", \"15\", \"16\", \"17\", \"18\", \"19\", \"20\", \"21\", \"22\", \"23\", \"24\", \"25\", \"26\", \"27\", \"28\", \"29\", \"30\", \"31\", \"32\", \"33\", \"34\", \"35\", \"37\", \"38\", \"39\"], \"mode\": \"markers\", \"name\": \"accuracy\", \"stepped\": false, \"type\": \"scatter\", \"data\": [0.9959470068471485, 0.995093445715469, 0.9929592015528396, 0.9430455589107367, 0.994025299633863, 0.9560332959383597, 0.9876266631471398, 0.9886927612281632, 0.9511451736590717, 0.8397751295360368, 0.8389220235155979, 0.8402024789909273, 0.8662330215062818, 0.9861341258337069, 0.9240494432851749, 0.909113830147934, 0.9938127626845192, 0.9682123002914989, 0.9940271200788253, 0.9880531023795491, 0.9729029042923818, 0.9948797709880237, 0.9946656411493379, 0.9946660962605784, 0.9739726432633296, 0.9703454066760268, 0.9912534446232021, 0.9635194207344131, 0.9942394294725488, 0.9876268907027601, 0.9942396570281691, 0.9880526472683085, 0.9942394294725488, 0.984640678297793, 0.9507182793154216, 0.8389220235155979, 0.9944531041999941, 0.9961599989077332, 0.9957333321197034]}, {\"categories\": [\"0\", \"1\", \"2\", \"3\", \"4\", \"5\", \"6\", \"7\", \"8\", \"9\", \"10\", \"11\", \"12\", \"13\", \"14\", \"15\", \"16\", \"17\", \"18\", \"19\", \"20\", \"21\", \"22\", \"23\", \"24\", \"25\", \"26\", \"27\", \"28\", \"29\", \"30\", \"31\", \"32\", \"33\", \"34\", \"35\", \"37\", \"38\", \"39\"], \"mode\": \"lines\", \"name\": \"accuracy_max\", \"stepped\": true, \"type\": \"scatter\", \"data\": [0.9959470068471485, 0.9959470068471485, 0.9959470068471485, 0.9959470068471485, 0.9959470068471485, 0.9959470068471485, 0.9959470068471485, 0.9959470068471485, 0.9959470068471485, 0.9959470068471485, 0.9959470068471485, 0.9959470068471485, 0.9959470068471485, 0.9959470068471485, 0.9959470068471485, 0.9959470068471485, 0.9959470068471485, 0.9959470068471485, 0.9959470068471485, 0.9959470068471485, 0.9959470068471485, 0.9959470068471485, 0.9959470068471485, 0.9959470068471485, 0.9959470068471485, 0.9959470068471485, 0.9959470068471485, 0.9959470068471485, 0.9959470068471485, 0.9959470068471485, 0.9959470068471485, 0.9959470068471485, 0.9959470068471485, 0.9959470068471485, 0.9959470068471485, 0.9959470068471485, 0.9959470068471485, 0.9961599989077332, 0.9961599989077332]}], \"f1_score_macro\": [{\"categories\": [\"0\", \"1\", \"2\", \"3\", \"4\", \"5\", \"6\", \"7\", \"8\", \"9\", \"10\", \"11\", \"12\", \"13\", \"14\", \"15\", \"16\", \"17\", \"18\", \"19\", \"20\", \"21\", \"22\", \"23\", \"24\", \"25\", \"26\", \"27\", \"28\", \"29\", \"30\", \"31\", \"32\", \"33\", \"34\", \"35\", \"37\", \"38\", \"39\"], \"mode\": \"markers\", \"name\": \"f1_score_macro\", \"stepped\": false, \"type\": \"scatter\", \"data\": [0.9925085124906066, 0.9908518484100682, 0.9868228006454116, 0.8605747191849815, 0.9889076247535599, 0.9365335840991941, 0.9768494016933275, 0.9789177530588233, 0.9088823807671502, 0.46169418271337187, 0.45616799589599316, 0.4649063816170134, 0.608441144535292, 0.974001473039848, 0.8278555018145676, 0.7772020620651812, 0.9882919999802919, 0.9384151505940436, 0.9889536551412867, 0.9777233954759552, 0.9470259511642555, 0.9904029776691597, 0.9899192587923838, 0.9899618588330009, 0.9510792444660126, 0.9432787832454418, 0.9836962777519318, 0.9291098042477117, 0.9890845729656264, 0.9769046998513552, 0.9891210887942934, 0.97741388244646, 0.9890133373591817, 0.9712668965482933, 0.9075530976646473, 0.45616799589599316, 0.9895710392908488, 0.9928644568869538, 0.9920790546663308]}, {\"categories\": [\"0\", \"1\", \"2\", \"3\", \"4\", \"5\", \"6\", \"7\", \"8\", \"9\", \"10\", \"11\", \"12\", \"13\", \"14\", \"15\", \"16\", \"17\", \"18\", \"19\", \"20\", \"21\", \"22\", \"23\", \"24\", \"25\", \"26\", \"27\", \"28\", \"29\", \"30\", \"31\", \"32\", \"33\", \"34\", \"35\", \"37\", \"38\", \"39\"], \"mode\": \"lines\", \"name\": \"f1_score_macro_max\", \"stepped\": true, \"type\": \"scatter\", \"data\": [0.9925085124906066, 0.9925085124906066, 0.9925085124906066, 0.9925085124906066, 0.9925085124906066, 0.9925085124906066, 0.9925085124906066, 0.9925085124906066, 0.9925085124906066, 0.9925085124906066, 0.9925085124906066, 0.9925085124906066, 0.9925085124906066, 0.9925085124906066, 0.9925085124906066, 0.9925085124906066, 0.9925085124906066, 0.9925085124906066, 0.9925085124906066, 0.9925085124906066, 0.9925085124906066, 0.9925085124906066, 0.9925085124906066, 0.9925085124906066, 0.9925085124906066, 0.9925085124906066, 0.9925085124906066, 0.9925085124906066, 0.9925085124906066, 0.9925085124906066, 0.9925085124906066, 0.9925085124906066, 0.9925085124906066, 0.9925085124906066, 0.9925085124906066, 0.9925085124906066, 0.9925085124906066, 0.9928644568869538, 0.9928644568869538]}], \"recall_score_macro\": [{\"categories\": [\"0\", \"1\", \"2\", \"3\", \"4\", \"5\", \"6\", \"7\", \"8\", \"9\", \"10\", \"11\", \"12\", \"13\", \"14\", \"15\", \"16\", \"17\", \"18\", \"19\", \"20\", \"21\", \"22\", \"23\", \"24\", \"25\", \"26\", \"27\", \"28\", \"29\", \"30\", \"31\", \"32\", \"33\", \"34\", \"35\", \"37\", \"38\", \"39\"], \"mode\": \"markers\", \"name\": \"recall_score_macro\", \"stepped\": false, \"type\": \"scatter\", \"data\": [0.9915031012818881, 0.9887390563038915, 0.9820502697874884, 0.8343091228968778, 0.9938817948020858, 0.9710599543042843, 0.9729457513952792, 0.9753084756732022, 0.9037594751455498, 0.5026999316473001, 0.5, 0.504280769622315, 0.5855598452046145, 0.9646093346115618, 0.7722025806737502, 0.7221549400569932, 0.9862179994510563, 0.9153799201996401, 0.9861781474942928, 0.9722341481572435, 0.92574572764441, 0.9879497042869211, 0.9899207933948538, 0.9889202523405427, 0.9396800788792543, 0.9255305879978776, 0.9778686170527966, 0.9057119344490439, 0.9869158401729363, 0.97101325777517, 0.9852983222038058, 0.96584892055133, 0.9856491217787742, 0.9624744650175205, 0.9004959824227982, 0.5, 0.9871962384781268, 0.9914460682138797, 0.9906691665441208]}, {\"categories\": [\"0\", \"1\", \"2\", \"3\", \"4\", \"5\", \"6\", \"7\", \"8\", \"9\", \"10\", \"11\", \"12\", \"13\", \"14\", \"15\", \"16\", \"17\", \"18\", \"19\", \"20\", \"21\", \"22\", \"23\", \"24\", \"25\", \"26\", \"27\", \"28\", \"29\", \"30\", \"31\", \"32\", \"33\", \"34\", \"35\", \"37\", \"38\", \"39\"], \"mode\": \"lines\", \"name\": \"recall_score_macro_max\", \"stepped\": true, \"type\": \"scatter\", \"data\": [0.9915031012818881, 0.9915031012818881, 0.9915031012818881, 0.9915031012818881, 0.9938817948020858, 0.9938817948020858, 0.9938817948020858, 0.9938817948020858, 0.9938817948020858, 0.9938817948020858, 0.9938817948020858, 0.9938817948020858, 0.9938817948020858, 0.9938817948020858, 0.9938817948020858, 0.9938817948020858, 0.9938817948020858, 0.9938817948020858, 0.9938817948020858, 0.9938817948020858, 0.9938817948020858, 0.9938817948020858, 0.9938817948020858, 0.9938817948020858, 0.9938817948020858, 0.9938817948020858, 0.9938817948020858, 0.9938817948020858, 0.9938817948020858, 0.9938817948020858, 0.9938817948020858, 0.9938817948020858, 0.9938817948020858, 0.9938817948020858, 0.9938817948020858, 0.9938817948020858, 0.9938817948020858, 0.9938817948020858, 0.9938817948020858]}], \"AUC_macro\": [{\"categories\": [\"0\", \"1\", \"2\", \"3\", \"4\", \"5\", \"6\", \"7\", \"8\", \"9\", \"10\", \"11\", \"12\", \"13\", \"14\", \"15\", \"16\", \"17\", \"18\", \"19\", \"20\", \"21\", \"22\", \"23\", \"24\", \"25\", \"26\", \"27\", \"28\", \"29\", \"30\", \"31\", \"32\", \"33\", \"34\", \"35\", \"37\", \"38\", \"39\"], \"mode\": \"markers\", \"name\": \"AUC_macro\", \"stepped\": false, \"type\": \"scatter\", \"data\": [0.9993010395780283, 0.9997647154977154, 0.9983996961572327, 0.9953847064720609, 0.998759350822013, 0.9960143564830313, 0.9989812138361114, 0.9990308954268634, 0.9852618149282341, 0.9956634829440105, 0.9465973555796523, 0.9930458878051581, 0.9958258848162093, 0.9934171340775798, 0.9797986686542324, 0.9839423865911281, 0.9977811907539416, 0.9938680112897597, 0.999593376117294, 0.9978315929850148, 0.9939028049091065, 0.9995573103010813, 0.9992609419595668, 0.9992225396153787, 0.9941771911243578, 0.9906178067031643, 0.9967576430486407, 0.9937247471271939, 0.9992925976722409, 0.9983565241374872, 0.9993229449680221, 0.9989852737092443, 0.9995387741801289, 0.9889176695753488, 0.9840559465500205, 0.5645789407324994, 0.9994191693063966, 0.9998654961566016, 0.9995871898466513]}, {\"categories\": [\"0\", \"1\", \"2\", \"3\", \"4\", \"5\", \"6\", \"7\", \"8\", \"9\", \"10\", \"11\", \"12\", \"13\", \"14\", \"15\", \"16\", \"17\", \"18\", \"19\", \"20\", \"21\", \"22\", \"23\", \"24\", \"25\", \"26\", \"27\", \"28\", \"29\", \"30\", \"31\", \"32\", \"33\", \"34\", \"35\", \"37\", \"38\", \"39\"], \"mode\": \"lines\", \"name\": \"AUC_macro_max\", \"stepped\": true, \"type\": \"scatter\", \"data\": [0.9993010395780283, 0.9997647154977154, 0.9997647154977154, 0.9997647154977154, 0.9997647154977154, 0.9997647154977154, 0.9997647154977154, 0.9997647154977154, 0.9997647154977154, 0.9997647154977154, 0.9997647154977154, 0.9997647154977154, 0.9997647154977154, 0.9997647154977154, 0.9997647154977154, 0.9997647154977154, 0.9997647154977154, 0.9997647154977154, 0.9997647154977154, 0.9997647154977154, 0.9997647154977154, 0.9997647154977154, 0.9997647154977154, 0.9997647154977154, 0.9997647154977154, 0.9997647154977154, 0.9997647154977154, 0.9997647154977154, 0.9997647154977154, 0.9997647154977154, 0.9997647154977154, 0.9997647154977154, 0.9997647154977154, 0.9997647154977154, 0.9997647154977154, 0.9997647154977154, 0.9997647154977154, 0.9998654961566016, 0.9998654961566016]}], \"AUC_micro\": [{\"categories\": [\"0\", \"1\", \"2\", \"3\", \"4\", \"5\", \"6\", \"7\", \"8\", \"9\", \"10\", \"11\", \"12\", \"13\", \"14\", \"15\", \"16\", \"17\", \"18\", \"19\", \"20\", \"21\", \"22\", \"23\", \"24\", \"25\", \"26\", \"27\", \"28\", \"29\", \"30\", \"31\", \"32\", \"33\", \"34\", \"35\", \"37\", \"38\", \"39\"], \"mode\": \"markers\", \"name\": \"AUC_micro\", \"stepped\": false, \"type\": \"scatter\", \"data\": [0.9996637584054886, 0.9997774134609683, 0.9989925297467099, 0.9887795997776015, 0.9986992457020067, 0.984785877438617, 0.9993874602142363, 0.9994804710479928, 0.9920712063204589, 0.9726827226824156, 0.9593036613840631, 0.9719806162253514, 0.974835207350168, 0.9971628261738896, 0.9822049248301286, 0.9776127422726724, 0.9988267396666114, 0.9951838466366396, 0.9997471589834742, 0.9988962239057283, 0.9961270802684424, 0.9997453497028751, 0.9996800841652143, 0.9996144164303358, 0.996963798755049, 0.9945857682313157, 0.9982772302747069, 0.9939384646016871, 0.9996355220744363, 0.9991730677454314, 0.9984006264154355, 0.9985271691362069, 0.9996922153746626, 0.9957389941311791, 0.9914126119209611, 0.8558396525714628, 0.9996421403665376, 0.9998985878079582, 0.9994634936898248]}, {\"categories\": [\"0\", \"1\", \"2\", \"3\", \"4\", \"5\", \"6\", \"7\", \"8\", \"9\", \"10\", \"11\", \"12\", \"13\", \"14\", \"15\", \"16\", \"17\", \"18\", \"19\", \"20\", \"21\", \"22\", \"23\", \"24\", \"25\", \"26\", \"27\", \"28\", \"29\", \"30\", \"31\", \"32\", \"33\", \"34\", \"35\", \"37\", \"38\", \"39\"], \"mode\": \"lines\", \"name\": \"AUC_micro_max\", \"stepped\": true, \"type\": \"scatter\", \"data\": [0.9996637584054886, 0.9997774134609683, 0.9997774134609683, 0.9997774134609683, 0.9997774134609683, 0.9997774134609683, 0.9997774134609683, 0.9997774134609683, 0.9997774134609683, 0.9997774134609683, 0.9997774134609683, 0.9997774134609683, 0.9997774134609683, 0.9997774134609683, 0.9997774134609683, 0.9997774134609683, 0.9997774134609683, 0.9997774134609683, 0.9997774134609683, 0.9997774134609683, 0.9997774134609683, 0.9997774134609683, 0.9997774134609683, 0.9997774134609683, 0.9997774134609683, 0.9997774134609683, 0.9997774134609683, 0.9997774134609683, 0.9997774134609683, 0.9997774134609683, 0.9997774134609683, 0.9997774134609683, 0.9997774134609683, 0.9997774134609683, 0.9997774134609683, 0.9997774134609683, 0.9997774134609683, 0.9998985878079582, 0.9998985878079582]}], \"f1_score_weighted\": [{\"categories\": [\"0\", \"1\", \"2\", \"3\", \"4\", \"5\", \"6\", \"7\", \"8\", \"9\", \"10\", \"11\", \"12\", \"13\", \"14\", \"15\", \"16\", \"17\", \"18\", \"19\", \"20\", \"21\", \"22\", \"23\", \"24\", \"25\", \"26\", \"27\", \"28\", \"29\", \"30\", \"31\", \"32\", \"33\", \"34\", \"35\", \"37\", \"38\", \"39\"], \"mode\": \"markers\", \"name\": \"f1_score_weighted\", \"stepped\": false, \"type\": \"scatter\", \"data\": [0.9959382624351095, 0.9950787684814941, 0.9929180214248887, 0.9303182765953759, 0.9940630614825807, 0.9612953419029473, 0.9875710557347169, 0.9886527911028636, 0.9507885959517312, 0.7675433737462187, 0.7655080552392092, 0.7685682807034342, 0.8235193508526113, 0.9859513564438297, 0.915017687232984, 0.8939177873179883, 0.9937962856599676, 0.9672938624038997, 0.9940025195578915, 0.9879787766673072, 0.9721782283398465, 0.9948617451200461, 0.9946691725212291, 0.9946599109519718, 0.9736470335797922, 0.9697210913484066, 0.9911814187030418, 0.9624079632196496, 0.9942186287487329, 0.9875426834862278, 0.9942062438106103, 0.9878944886612346, 0.9942074530383636, 0.9844496503193394, 0.9502096162822633, 0.7655080552392092, 0.9944362420229667, 0.996153225485552, 0.9957247786624125]}, {\"categories\": [\"0\", \"1\", \"2\", \"3\", \"4\", \"5\", \"6\", \"7\", \"8\", \"9\", \"10\", \"11\", \"12\", \"13\", \"14\", \"15\", \"16\", \"17\", \"18\", \"19\", \"20\", \"21\", \"22\", \"23\", \"24\", \"25\", \"26\", \"27\", \"28\", \"29\", \"30\", \"31\", \"32\", \"33\", \"34\", \"35\", \"37\", \"38\", \"39\"], \"mode\": \"lines\", \"name\": \"f1_score_weighted_max\", \"stepped\": true, \"type\": \"scatter\", \"data\": [0.9959382624351095, 0.9959382624351095, 0.9959382624351095, 0.9959382624351095, 0.9959382624351095, 0.9959382624351095, 0.9959382624351095, 0.9959382624351095, 0.9959382624351095, 0.9959382624351095, 0.9959382624351095, 0.9959382624351095, 0.9959382624351095, 0.9959382624351095, 0.9959382624351095, 0.9959382624351095, 0.9959382624351095, 0.9959382624351095, 0.9959382624351095, 0.9959382624351095, 0.9959382624351095, 0.9959382624351095, 0.9959382624351095, 0.9959382624351095, 0.9959382624351095, 0.9959382624351095, 0.9959382624351095, 0.9959382624351095, 0.9959382624351095, 0.9959382624351095, 0.9959382624351095, 0.9959382624351095, 0.9959382624351095, 0.9959382624351095, 0.9959382624351095, 0.9959382624351095, 0.9959382624351095, 0.996153225485552, 0.996153225485552]}], \"AUC_weighted\": [{\"categories\": [\"0\", \"1\", \"2\", \"3\", \"4\", \"5\", \"6\", \"7\", \"8\", \"9\", \"10\", \"11\", \"12\", \"13\", \"14\", \"15\", \"16\", \"17\", \"18\", \"19\", \"20\", \"21\", \"22\", \"23\", \"24\", \"25\", \"26\", \"27\", \"28\", \"29\", \"30\", \"31\", \"32\", \"33\", \"34\", \"35\", \"37\", \"38\", \"39\"], \"mode\": \"markers\", \"name\": \"AUC_weighted\", \"stepped\": false, \"type\": \"scatter\", \"data\": [0.9993010395780283, 0.9997647154977154, 0.9983996961572327, 0.9953847064720609, 0.9987593508220132, 0.9960143564830313, 0.9989812138361112, 0.9990308954268634, 0.9852618149282341, 0.9956634829440105, 0.9465973555796523, 0.9930458878051583, 0.9958258848162093, 0.9934171340775798, 0.9797986686542324, 0.9839423865911281, 0.9977811907539416, 0.9938680112897597, 0.999593376117294, 0.9978315929850148, 0.9939028049091065, 0.9995573103010813, 0.9992609419595668, 0.9992225396153787, 0.9941771911243578, 0.9906178067031643, 0.9967576430486407, 0.9937247471271939, 0.9992925976722409, 0.9983565241374874, 0.9993229449680221, 0.9989852737092443, 0.9995387741801289, 0.9889176695753485, 0.9840559465500205, 0.5645789407324994, 0.9994191693063966, 0.9998654961566016, 0.9995871898466513]}, {\"categories\": [\"0\", \"1\", \"2\", \"3\", \"4\", \"5\", \"6\", \"7\", \"8\", \"9\", \"10\", \"11\", \"12\", \"13\", \"14\", \"15\", \"16\", \"17\", \"18\", \"19\", \"20\", \"21\", \"22\", \"23\", \"24\", \"25\", \"26\", \"27\", \"28\", \"29\", \"30\", \"31\", \"32\", \"33\", \"34\", \"35\", \"37\", \"38\", \"39\"], \"mode\": \"lines\", \"name\": \"AUC_weighted_max\", \"stepped\": true, \"type\": \"scatter\", \"data\": [0.9993010395780283, 0.9997647154977154, 0.9997647154977154, 0.9997647154977154, 0.9997647154977154, 0.9997647154977154, 0.9997647154977154, 0.9997647154977154, 0.9997647154977154, 0.9997647154977154, 0.9997647154977154, 0.9997647154977154, 0.9997647154977154, 0.9997647154977154, 0.9997647154977154, 0.9997647154977154, 0.9997647154977154, 0.9997647154977154, 0.9997647154977154, 0.9997647154977154, 0.9997647154977154, 0.9997647154977154, 0.9997647154977154, 0.9997647154977154, 0.9997647154977154, 0.9997647154977154, 0.9997647154977154, 0.9997647154977154, 0.9997647154977154, 0.9997647154977154, 0.9997647154977154, 0.9997647154977154, 0.9997647154977154, 0.9997647154977154, 0.9997647154977154, 0.9997647154977154, 0.9997647154977154, 0.9998654961566016, 0.9998654961566016]}], \"average_precision_score_weighted\": [{\"categories\": [\"0\", \"1\", \"2\", \"3\", \"4\", \"5\", \"6\", \"7\", \"8\", \"9\", \"10\", \"11\", \"12\", \"13\", \"14\", \"15\", \"16\", \"17\", \"18\", \"19\", \"20\", \"21\", \"22\", \"23\", \"24\", \"25\", \"26\", \"27\", \"28\", \"29\", \"30\", \"31\", \"32\", \"33\", \"34\", \"35\", \"37\", \"38\", \"39\"], \"mode\": \"markers\", \"name\": \"average_precision_score_weighted\", \"stepped\": false, \"type\": \"scatter\", \"data\": [0.9995740502651402, 0.9997974615007298, 0.9988536360175597, 0.996829931137996, 0.9990313757988915, 0.9947006773181941, 0.999028542532956, 0.9991764708071142, 0.9868514718333022, 0.9970923640988414, 0.9613240663186767, 0.9950423628275165, 0.9970881750407671, 0.9957381193799918, 0.9834030667053867, 0.984717800802532, 0.9975318700938176, 0.9947619829174293, 0.9996428593912992, 0.9983837615119752, 0.9953771307823935, 0.9994482536106292, 0.9994657753993768, 0.9994713719532209, 0.9952750842949836, 0.9928622739170285, 0.9976564549538909, 0.9941562141210708, 0.9995196050644098, 0.9988023503520317, 0.9987685018887452, 0.9992973239768359, 0.9995348801050529, 0.992953541075263, 0.9858085825883499, 0.7651903075310346, 0.9996176880571713, 0.9998719513328457, 0.9994152735256895]}, {\"categories\": [\"0\", \"1\", \"2\", \"3\", \"4\", \"5\", \"6\", \"7\", \"8\", \"9\", \"10\", \"11\", \"12\", \"13\", \"14\", \"15\", \"16\", \"17\", \"18\", \"19\", \"20\", \"21\", \"22\", \"23\", \"24\", \"25\", \"26\", \"27\", \"28\", \"29\", \"30\", \"31\", \"32\", \"33\", \"34\", \"35\", \"37\", \"38\", \"39\"], \"mode\": \"lines\", \"name\": \"average_precision_score_weighted_max\", \"stepped\": true, \"type\": \"scatter\", \"data\": [0.9995740502651402, 0.9997974615007298, 0.9997974615007298, 0.9997974615007298, 0.9997974615007298, 0.9997974615007298, 0.9997974615007298, 0.9997974615007298, 0.9997974615007298, 0.9997974615007298, 0.9997974615007298, 0.9997974615007298, 0.9997974615007298, 0.9997974615007298, 0.9997974615007298, 0.9997974615007298, 0.9997974615007298, 0.9997974615007298, 0.9997974615007298, 0.9997974615007298, 0.9997974615007298, 0.9997974615007298, 0.9997974615007298, 0.9997974615007298, 0.9997974615007298, 0.9997974615007298, 0.9997974615007298, 0.9997974615007298, 0.9997974615007298, 0.9997974615007298, 0.9997974615007298, 0.9997974615007298, 0.9997974615007298, 0.9997974615007298, 0.9997974615007298, 0.9997974615007298, 0.9997974615007298, 0.9998719513328457, 0.9998719513328457]}], \"average_precision_score_micro\": [{\"categories\": [\"0\", \"1\", \"2\", \"3\", \"4\", \"5\", \"6\", \"7\", \"8\", \"9\", \"10\", \"11\", \"12\", \"13\", \"14\", \"15\", \"16\", \"17\", \"18\", \"19\", \"20\", \"21\", \"22\", \"23\", \"24\", \"25\", \"26\", \"27\", \"28\", \"29\", \"30\", \"31\", \"32\", \"33\", \"34\", \"35\", \"37\", \"38\", \"39\"], \"mode\": \"markers\", \"name\": \"average_precision_score_micro\", \"stepped\": false, \"type\": \"scatter\", \"data\": [0.9996509750645497, 0.9997818643465417, 0.9990024968099671, 0.9894041758577146, 0.9986955182989851, 0.985610267450556, 0.9993977477536025, 0.9994884022722959, 0.9923528097354417, 0.9746202884399049, 0.961848162710918, 0.9739374635658351, 0.9764995752367949, 0.9964354978496047, 0.9829588230663839, 0.9788631174866765, 0.9987951122484071, 0.9952947429825393, 0.9997509233060743, 0.9988651170639997, 0.996007674953308, 0.9996702776839737, 0.9995662140725189, 0.9995934851702207, 0.9969878216486452, 0.9947045646196886, 0.9982360334965289, 0.9941158190117294, 0.9995543260847339, 0.9991766000674949, 0.9983590523544636, 0.9985390444475986, 0.9996973722409223, 0.9942597364272772, 0.9917231428098517, 0.8368438170848383, 0.9996414708643272, 0.9998994767391606, 0.9990423844354026]}, {\"categories\": [\"0\", \"1\", \"2\", \"3\", \"4\", \"5\", \"6\", \"7\", \"8\", \"9\", \"10\", \"11\", \"12\", \"13\", \"14\", \"15\", \"16\", \"17\", \"18\", \"19\", \"20\", \"21\", \"22\", \"23\", \"24\", \"25\", \"26\", \"27\", \"28\", \"29\", \"30\", \"31\", \"32\", \"33\", \"34\", \"35\", \"37\", \"38\", \"39\"], \"mode\": \"lines\", \"name\": \"average_precision_score_micro_max\", \"stepped\": true, \"type\": \"scatter\", \"data\": [0.9996509750645497, 0.9997818643465417, 0.9997818643465417, 0.9997818643465417, 0.9997818643465417, 0.9997818643465417, 0.9997818643465417, 0.9997818643465417, 0.9997818643465417, 0.9997818643465417, 0.9997818643465417, 0.9997818643465417, 0.9997818643465417, 0.9997818643465417, 0.9997818643465417, 0.9997818643465417, 0.9997818643465417, 0.9997818643465417, 0.9997818643465417, 0.9997818643465417, 0.9997818643465417, 0.9997818643465417, 0.9997818643465417, 0.9997818643465417, 0.9997818643465417, 0.9997818643465417, 0.9997818643465417, 0.9997818643465417, 0.9997818643465417, 0.9997818643465417, 0.9997818643465417, 0.9997818643465417, 0.9997818643465417, 0.9997818643465417, 0.9997818643465417, 0.9997818643465417, 0.9997818643465417, 0.9998994767391606, 0.9998994767391606]}], \"norm_macro_recall\": [{\"categories\": [\"0\", \"1\", \"2\", \"3\", \"4\", \"5\", \"6\", \"7\", \"8\", \"9\", \"10\", \"11\", \"12\", \"13\", \"14\", \"15\", \"16\", \"17\", \"18\", \"19\", \"20\", \"21\", \"22\", \"23\", \"24\", \"25\", \"26\", \"27\", \"28\", \"29\", \"30\", \"31\", \"32\", \"33\", \"34\", \"35\", \"37\", \"38\", \"39\"], \"mode\": \"markers\", \"name\": \"norm_macro_recall\", \"stepped\": false, \"type\": \"scatter\", \"data\": [0.9830062025637762, 0.977478112607783, 0.9641005395749769, 0.6686182457937557, 0.9877635896041719, 0.9421199086085688, 0.9458915027905583, 0.9506169513464048, 0.8075189502910994, 0.005399863294600138, 0.0, 0.008561539244629967, 0.17111969040922884, 0.9292186692231237, 0.5444051613475006, 0.4443098801139863, 0.9724359989021123, 0.8307598403992804, 0.9723562949885857, 0.944468296314487, 0.8514914552888196, 0.975899408573842, 0.9798415867897073, 0.9778405046810853, 0.8793601577585086, 0.8510611759957551, 0.9557372341055931, 0.8114238688980878, 0.9738316803458726, 0.9420265155503402, 0.9705966444076115, 0.9316978411026599, 0.9712982435575483, 0.9249489300350413, 0.8009919648455964, 0.0, 0.9743924769562534, 0.9828921364277594, 0.9813383330882418]}, {\"categories\": [\"0\", \"1\", \"2\", \"3\", \"4\", \"5\", \"6\", \"7\", \"8\", \"9\", \"10\", \"11\", \"12\", \"13\", \"14\", \"15\", \"16\", \"17\", \"18\", \"19\", \"20\", \"21\", \"22\", \"23\", \"24\", \"25\", \"26\", \"27\", \"28\", \"29\", \"30\", \"31\", \"32\", \"33\", \"34\", \"35\", \"37\", \"38\", \"39\"], \"mode\": \"lines\", \"name\": \"norm_macro_recall_max\", \"stepped\": true, \"type\": \"scatter\", \"data\": [0.9830062025637762, 0.9830062025637762, 0.9830062025637762, 0.9830062025637762, 0.9877635896041719, 0.9877635896041719, 0.9877635896041719, 0.9877635896041719, 0.9877635896041719, 0.9877635896041719, 0.9877635896041719, 0.9877635896041719, 0.9877635896041719, 0.9877635896041719, 0.9877635896041719, 0.9877635896041719, 0.9877635896041719, 0.9877635896041719, 0.9877635896041719, 0.9877635896041719, 0.9877635896041719, 0.9877635896041719, 0.9877635896041719, 0.9877635896041719, 0.9877635896041719, 0.9877635896041719, 0.9877635896041719, 0.9877635896041719, 0.9877635896041719, 0.9877635896041719, 0.9877635896041719, 0.9877635896041719, 0.9877635896041719, 0.9877635896041719, 0.9877635896041719, 0.9877635896041719, 0.9877635896041719, 0.9877635896041719, 0.9877635896041719]}], \"average_precision_score_macro\": [{\"categories\": [\"0\", \"1\", \"2\", \"3\", \"4\", \"5\", \"6\", \"7\", \"8\", \"9\", \"10\", \"11\", \"12\", \"13\", \"14\", \"15\", \"16\", \"17\", \"18\", \"19\", \"20\", \"21\", \"22\", \"23\", \"24\", \"25\", \"26\", \"27\", \"28\", \"29\", \"30\", \"31\", \"32\", \"33\", \"34\", \"35\", \"37\", \"38\", \"39\"], \"mode\": \"markers\", \"name\": \"average_precision_score_macro\", \"stepped\": false, \"type\": \"scatter\", \"data\": [0.9991696177833861, 0.999527810745181, 0.9971716255050375, 0.9926460471092089, 0.9976821077312126, 0.9844605306812285, 0.9973850693546543, 0.9978352551912621, 0.9652934974291367, 0.9929032229300866, 0.9029507958118131, 0.9874882595791729, 0.9927295053990406, 0.9919901213468778, 0.9564265172442751, 0.9588656477800072, 0.9930683729263198, 0.9863286868834062, 0.9991688344086131, 0.9960595928578904, 0.9887190482258635, 0.9987709638105227, 0.9990479447774842, 0.9989472166159299, 0.988080960136774, 0.9819161308613591, 0.9944095580399175, 0.9846872613824955, 0.9991189036820998, 0.9970150008228845, 0.996460530521183, 0.9983935425379908, 0.9987007438858487, 0.9876381275648377, 0.9625411732999778, 0.5401726360405581, 0.9991973038855967, 0.9996781377395372, 0.9985222879915753]}, {\"categories\": [\"0\", \"1\", \"2\", \"3\", \"4\", \"5\", \"6\", \"7\", \"8\", \"9\", \"10\", \"11\", \"12\", \"13\", \"14\", \"15\", \"16\", \"17\", \"18\", \"19\", \"20\", \"21\", \"22\", \"23\", \"24\", \"25\", \"26\", \"27\", \"28\", \"29\", \"30\", \"31\", \"32\", \"33\", \"34\", \"35\", \"37\", \"38\", \"39\"], \"mode\": \"lines\", \"name\": \"average_precision_score_macro_max\", \"stepped\": true, \"type\": \"scatter\", \"data\": [0.9991696177833861, 0.999527810745181, 0.999527810745181, 0.999527810745181, 0.999527810745181, 0.999527810745181, 0.999527810745181, 0.999527810745181, 0.999527810745181, 0.999527810745181, 0.999527810745181, 0.999527810745181, 0.999527810745181, 0.999527810745181, 0.999527810745181, 0.999527810745181, 0.999527810745181, 0.999527810745181, 0.999527810745181, 0.999527810745181, 0.999527810745181, 0.999527810745181, 0.999527810745181, 0.999527810745181, 0.999527810745181, 0.999527810745181, 0.999527810745181, 0.999527810745181, 0.999527810745181, 0.999527810745181, 0.999527810745181, 0.999527810745181, 0.999527810745181, 0.999527810745181, 0.999527810745181, 0.999527810745181, 0.999527810745181, 0.9996781377395372, 0.9996781377395372]}], \"balanced_accuracy\": [{\"categories\": [\"0\", \"1\", \"2\", \"3\", \"4\", \"5\", \"6\", \"7\", \"8\", \"9\", \"10\", \"11\", \"12\", \"13\", \"14\", \"15\", \"16\", \"17\", \"18\", \"19\", \"20\", \"21\", \"22\", \"23\", \"24\", \"25\", \"26\", \"27\", \"28\", \"29\", \"30\", \"31\", \"32\", \"33\", \"34\", \"35\", \"37\", \"38\", \"39\"], \"mode\": \"markers\", \"name\": \"balanced_accuracy\", \"stepped\": false, \"type\": \"scatter\", \"data\": [0.9915031012818881, 0.9887390563038915, 0.9820502697874884, 0.8343091228968778, 0.9938817948020858, 0.9710599543042843, 0.9729457513952792, 0.9753084756732022, 0.9037594751455498, 0.5026999316473001, 0.5, 0.504280769622315, 0.5855598452046145, 0.9646093346115618, 0.7722025806737502, 0.7221549400569932, 0.9862179994510563, 0.9153799201996401, 0.9861781474942928, 0.9722341481572435, 0.92574572764441, 0.9879497042869211, 0.9899207933948538, 0.9889202523405427, 0.9396800788792543, 0.9255305879978776, 0.9778686170527966, 0.9057119344490439, 0.9869158401729363, 0.97101325777517, 0.9852983222038058, 0.96584892055133, 0.9856491217787742, 0.9624744650175205, 0.9004959824227982, 0.5, 0.9871962384781268, 0.9914460682138797, 0.9906691665441208]}, {\"categories\": [\"0\", \"1\", \"2\", \"3\", \"4\", \"5\", \"6\", \"7\", \"8\", \"9\", \"10\", \"11\", \"12\", \"13\", \"14\", \"15\", \"16\", \"17\", \"18\", \"19\", \"20\", \"21\", \"22\", \"23\", \"24\", \"25\", \"26\", \"27\", \"28\", \"29\", \"30\", \"31\", \"32\", \"33\", \"34\", \"35\", \"37\", \"38\", \"39\"], \"mode\": \"lines\", \"name\": \"balanced_accuracy_max\", \"stepped\": true, \"type\": \"scatter\", \"data\": [0.9915031012818881, 0.9915031012818881, 0.9915031012818881, 0.9915031012818881, 0.9938817948020858, 0.9938817948020858, 0.9938817948020858, 0.9938817948020858, 0.9938817948020858, 0.9938817948020858, 0.9938817948020858, 0.9938817948020858, 0.9938817948020858, 0.9938817948020858, 0.9938817948020858, 0.9938817948020858, 0.9938817948020858, 0.9938817948020858, 0.9938817948020858, 0.9938817948020858, 0.9938817948020858, 0.9938817948020858, 0.9938817948020858, 0.9938817948020858, 0.9938817948020858, 0.9938817948020858, 0.9938817948020858, 0.9938817948020858, 0.9938817948020858, 0.9938817948020858, 0.9938817948020858, 0.9938817948020858, 0.9938817948020858, 0.9938817948020858, 0.9938817948020858, 0.9938817948020858, 0.9938817948020858, 0.9938817948020858, 0.9938817948020858]}], \"precision_score_micro\": [{\"categories\": [\"0\", \"1\", \"2\", \"3\", \"4\", \"5\", \"6\", \"7\", \"8\", \"9\", \"10\", \"11\", \"12\", \"13\", \"14\", \"15\", \"16\", \"17\", \"18\", \"19\", \"20\", \"21\", \"22\", \"23\", \"24\", \"25\", \"26\", \"27\", \"28\", \"29\", \"30\", \"31\", \"32\", \"33\", \"34\", \"35\", \"37\", \"38\", \"39\"], \"mode\": \"markers\", \"name\": \"precision_score_micro\", \"stepped\": false, \"type\": \"scatter\", \"data\": [0.9959470068471485, 0.995093445715469, 0.9929592015528396, 0.9430455589107367, 0.994025299633863, 0.9560332959383597, 0.9876266631471398, 0.9886927612281632, 0.9511451736590717, 0.8397751295360368, 0.8389220235155979, 0.8402024789909273, 0.8662330215062818, 0.9861341258337069, 0.9240494432851749, 0.909113830147934, 0.9938127626845192, 0.9682123002914989, 0.9940271200788253, 0.9880531023795491, 0.9729029042923818, 0.9948797709880237, 0.9946656411493379, 0.9946660962605784, 0.9739726432633296, 0.9703454066760268, 0.9912534446232021, 0.9635194207344131, 0.9942394294725488, 0.9876268907027601, 0.9942396570281691, 0.9880526472683085, 0.9942394294725488, 0.984640678297793, 0.9507182793154216, 0.8389220235155979, 0.9944531041999941, 0.9961599989077332, 0.9957333321197034]}, {\"categories\": [\"0\", \"1\", \"2\", \"3\", \"4\", \"5\", \"6\", \"7\", \"8\", \"9\", \"10\", \"11\", \"12\", \"13\", \"14\", \"15\", \"16\", \"17\", \"18\", \"19\", \"20\", \"21\", \"22\", \"23\", \"24\", \"25\", \"26\", \"27\", \"28\", \"29\", \"30\", \"31\", \"32\", \"33\", \"34\", \"35\", \"37\", \"38\", \"39\"], \"mode\": \"lines\", \"name\": \"precision_score_micro_max\", \"stepped\": true, \"type\": \"scatter\", \"data\": [0.9959470068471485, 0.9959470068471485, 0.9959470068471485, 0.9959470068471485, 0.9959470068471485, 0.9959470068471485, 0.9959470068471485, 0.9959470068471485, 0.9959470068471485, 0.9959470068471485, 0.9959470068471485, 0.9959470068471485, 0.9959470068471485, 0.9959470068471485, 0.9959470068471485, 0.9959470068471485, 0.9959470068471485, 0.9959470068471485, 0.9959470068471485, 0.9959470068471485, 0.9959470068471485, 0.9959470068471485, 0.9959470068471485, 0.9959470068471485, 0.9959470068471485, 0.9959470068471485, 0.9959470068471485, 0.9959470068471485, 0.9959470068471485, 0.9959470068471485, 0.9959470068471485, 0.9959470068471485, 0.9959470068471485, 0.9959470068471485, 0.9959470068471485, 0.9959470068471485, 0.9959470068471485, 0.9961599989077332, 0.9961599989077332]}], \"weighted_accuracy\": [{\"categories\": [\"0\", \"1\", \"2\", \"3\", \"4\", \"5\", \"6\", \"7\", \"8\", \"9\", \"10\", \"11\", \"12\", \"13\", \"14\", \"15\", \"16\", \"17\", \"18\", \"19\", \"20\", \"21\", \"22\", \"23\", \"24\", \"25\", \"26\", \"27\", \"28\", \"29\", \"30\", \"31\", \"32\", \"33\", \"34\", \"35\", \"37\", \"38\", \"39\"], \"mode\": \"markers\", \"name\": \"weighted_accuracy\", \"stepped\": false, \"type\": \"scatter\", \"data\": [0.9976886094667048, 0.997509197877734, 0.9970384287072445, 0.9859785187986769, 0.9941233199161793, 0.951191740877422, 0.9930761997577735, 0.9937001914490164, 0.9688018387053526, 0.9641431448606248, 0.9639583477629957, 0.964216160672963, 0.9699853535519134, 0.9942525399779761, 0.9801946613484602, 0.9776143523906873, 0.9966554946359146, 0.9878562713342639, 0.9970503802868806, 0.9939416048896964, 0.9902103037455416, 0.9974732859792785, 0.9964506484918175, 0.9968378709532913, 0.986613655537818, 0.98697503218746, 0.9962398350904902, 0.9850148655376223, 0.9969528230751366, 0.9938404078333622, 0.9975391933255728, 0.9963091726977842, 0.9973601645821335, 0.9931083245351188, 0.9694871717010838, 0.9639583477629957, 0.9971807625813742, 0.997947656288436, 0.9976536655697054]}, {\"categories\": [\"0\", \"1\", \"2\", \"3\", \"4\", \"5\", \"6\", \"7\", \"8\", \"9\", \"10\", \"11\", \"12\", \"13\", \"14\", \"15\", \"16\", \"17\", \"18\", \"19\", \"20\", \"21\", \"22\", \"23\", \"24\", \"25\", \"26\", \"27\", \"28\", \"29\", \"30\", \"31\", \"32\", \"33\", \"34\", \"35\", \"37\", \"38\", \"39\"], \"mode\": \"lines\", \"name\": \"weighted_accuracy_max\", \"stepped\": true, \"type\": \"scatter\", \"data\": [0.9976886094667048, 0.9976886094667048, 0.9976886094667048, 0.9976886094667048, 0.9976886094667048, 0.9976886094667048, 0.9976886094667048, 0.9976886094667048, 0.9976886094667048, 0.9976886094667048, 0.9976886094667048, 0.9976886094667048, 0.9976886094667048, 0.9976886094667048, 0.9976886094667048, 0.9976886094667048, 0.9976886094667048, 0.9976886094667048, 0.9976886094667048, 0.9976886094667048, 0.9976886094667048, 0.9976886094667048, 0.9976886094667048, 0.9976886094667048, 0.9976886094667048, 0.9976886094667048, 0.9976886094667048, 0.9976886094667048, 0.9976886094667048, 0.9976886094667048, 0.9976886094667048, 0.9976886094667048, 0.9976886094667048, 0.9976886094667048, 0.9976886094667048, 0.9976886094667048, 0.9976886094667048, 0.997947656288436, 0.997947656288436]}], \"log_loss\": [{\"categories\": [\"0\", \"1\", \"2\", \"3\", \"4\", \"5\", \"6\", \"7\", \"8\", \"9\", \"10\", \"11\", \"12\", \"13\", \"14\", \"15\", \"16\", \"17\", \"18\", \"19\", \"20\", \"21\", \"22\", \"23\", \"24\", \"25\", \"26\", \"27\", \"28\", \"29\", \"30\", \"31\", \"32\", \"33\", \"34\", \"35\", \"37\", \"38\", \"39\"], \"mode\": \"markers\", \"name\": \"log_loss\", \"stepped\": false, \"type\": \"scatter\", \"data\": [0.020314216473189053, 0.013045169147269423, 0.09731350786482106, 0.16964765726724632, 0.14518927225687114, 0.28118043628413536, 0.03223748680581925, 0.028389891710278913, 0.11388209363341331, 0.2728051222215406, 0.29169677151593404, 0.283763150935106, 0.24194071264087333, 0.2354228721137574, 0.20591989952561257, 0.22409725954753737, 0.038686084245012756, 0.16435685119913584, 0.01433040701873076, 0.07659631545559481, 0.2887952307157811, 0.2080474323744157, 0.020173445237174917, 0.06995546591743287, 0.11882912376787398, 0.10352040084034683, 0.04279674756949842, 0.16028909096967459, 0.0469749508748493, 0.03925504964799979, 0.18582110345971745, 0.11218533990673867, 0.2373873734764435, 0.22841089356809005, 0.11940685700994236, 0.43779121635383733, 0.01545308242407881, 0.05581630085627652, 0.017125065564141943]}, {\"categories\": [\"0\", \"1\", \"2\", \"3\", \"4\", \"5\", \"6\", \"7\", \"8\", \"9\", \"10\", \"11\", \"12\", \"13\", \"14\", \"15\", \"16\", \"17\", \"18\", \"19\", \"20\", \"21\", \"22\", \"23\", \"24\", \"25\", \"26\", \"27\", \"28\", \"29\", \"30\", \"31\", \"32\", \"33\", \"34\", \"35\", \"37\", \"38\", \"39\"], \"mode\": \"lines\", \"name\": \"log_loss_min\", \"stepped\": true, \"type\": \"scatter\", \"data\": [0.020314216473189053, 0.013045169147269423, 0.013045169147269423, 0.013045169147269423, 0.013045169147269423, 0.013045169147269423, 0.013045169147269423, 0.013045169147269423, 0.013045169147269423, 0.013045169147269423, 0.013045169147269423, 0.013045169147269423, 0.013045169147269423, 0.013045169147269423, 0.013045169147269423, 0.013045169147269423, 0.013045169147269423, 0.013045169147269423, 0.013045169147269423, 0.013045169147269423, 0.013045169147269423, 0.013045169147269423, 0.013045169147269423, 0.013045169147269423, 0.013045169147269423, 0.013045169147269423, 0.013045169147269423, 0.013045169147269423, 0.013045169147269423, 0.013045169147269423, 0.013045169147269423, 0.013045169147269423, 0.013045169147269423, 0.013045169147269423, 0.013045169147269423, 0.013045169147269423, 0.013045169147269423, 0.013045169147269423, 0.013045169147269423]}], \"matthews_correlation\": [{\"categories\": [\"0\", \"1\", \"2\", \"3\", \"4\", \"5\", \"6\", \"7\", \"8\", \"9\", \"10\", \"11\", \"12\", \"13\", \"14\", \"15\", \"16\", \"17\", \"18\", \"19\", \"20\", \"21\", \"22\", \"23\", \"24\", \"25\", \"26\", \"27\", \"28\", \"29\", \"30\", \"31\", \"32\", \"33\", \"34\", \"35\", \"37\", \"38\", \"39\"], \"mode\": \"markers\", \"name\": \"matthews_correlation\", \"stepped\": false, \"type\": \"scatter\", \"data\": [0.9851259401708884, 0.9818241108918544, 0.9738232721238873, 0.7682081936959552, 0.9779709701575001, 0.8926362696922892, 0.9538700879663896, 0.9580341175923017, 0.8180258657054502, 0.04163417477933924, 0.0, 0.06441644113473374, 0.38250426410300237, 0.9486968654433282, 0.6946502947448366, 0.6201085896463111, 0.9767609263920374, 0.8800269936595914, 0.9780535939794704, 0.9557116230665661, 0.8967476610071902, 0.9809093288525874, 0.9799019180652998, 0.9800992588135081, 0.9028789926320968, 0.8884997258520674, 0.9677410707511666, 0.8616090518068169, 0.9783011468320645, 0.9540934223120647, 0.9784401489983635, 0.9555986817409705, 0.9781931253044973, 0.9432752908790027, 0.8156505904859059, 0.0, 0.9793035425072061, 0.9857880662400167, 0.9842386624737648]}, {\"categories\": [\"0\", \"1\", \"2\", \"3\", \"4\", \"5\", \"6\", \"7\", \"8\", \"9\", \"10\", \"11\", \"12\", \"13\", \"14\", \"15\", \"16\", \"17\", \"18\", \"19\", \"20\", \"21\", \"22\", \"23\", \"24\", \"25\", \"26\", \"27\", \"28\", \"29\", \"30\", \"31\", \"32\", \"33\", \"34\", \"35\", \"37\", \"38\", \"39\"], \"mode\": \"lines\", \"name\": \"matthews_correlation_max\", \"stepped\": true, \"type\": \"scatter\", \"data\": [0.9851259401708884, 0.9851259401708884, 0.9851259401708884, 0.9851259401708884, 0.9851259401708884, 0.9851259401708884, 0.9851259401708884, 0.9851259401708884, 0.9851259401708884, 0.9851259401708884, 0.9851259401708884, 0.9851259401708884, 0.9851259401708884, 0.9851259401708884, 0.9851259401708884, 0.9851259401708884, 0.9851259401708884, 0.9851259401708884, 0.9851259401708884, 0.9851259401708884, 0.9851259401708884, 0.9851259401708884, 0.9851259401708884, 0.9851259401708884, 0.9851259401708884, 0.9851259401708884, 0.9851259401708884, 0.9851259401708884, 0.9851259401708884, 0.9851259401708884, 0.9851259401708884, 0.9851259401708884, 0.9851259401708884, 0.9851259401708884, 0.9851259401708884, 0.9851259401708884, 0.9851259401708884, 0.9857880662400167, 0.9857880662400167]}], \"recall_score_weighted\": [{\"categories\": [\"0\", \"1\", \"2\", \"3\", \"4\", \"5\", \"6\", \"7\", \"8\", \"9\", \"10\", \"11\", \"12\", \"13\", \"14\", \"15\", \"16\", \"17\", \"18\", \"19\", \"20\", \"21\", \"22\", \"23\", \"24\", \"25\", \"26\", \"27\", \"28\", \"29\", \"30\", \"31\", \"32\", \"33\", \"34\", \"35\", \"37\", \"38\", \"39\"], \"mode\": \"markers\", \"name\": \"recall_score_weighted\", \"stepped\": false, \"type\": \"scatter\", \"data\": [0.9959470068471485, 0.995093445715469, 0.9929592015528396, 0.9430455589107367, 0.994025299633863, 0.9560332959383597, 0.9876266631471398, 0.9886927612281632, 0.9511451736590717, 0.8397751295360368, 0.8389220235155979, 0.8402024789909273, 0.8662330215062818, 0.9861341258337069, 0.9240494432851749, 0.909113830147934, 0.9938127626845192, 0.9682123002914989, 0.9940271200788253, 0.9880531023795491, 0.9729029042923818, 0.9948797709880237, 0.9946656411493379, 0.9946660962605784, 0.9739726432633296, 0.9703454066760268, 0.9912534446232021, 0.9635194207344131, 0.9942394294725488, 0.9876268907027601, 0.9942396570281691, 0.9880526472683085, 0.9942394294725488, 0.984640678297793, 0.9507182793154216, 0.8389220235155979, 0.9944531041999941, 0.9961599989077332, 0.9957333321197034]}, {\"categories\": [\"0\", \"1\", \"2\", \"3\", \"4\", \"5\", \"6\", \"7\", \"8\", \"9\", \"10\", \"11\", \"12\", \"13\", \"14\", \"15\", \"16\", \"17\", \"18\", \"19\", \"20\", \"21\", \"22\", \"23\", \"24\", \"25\", \"26\", \"27\", \"28\", \"29\", \"30\", \"31\", \"32\", \"33\", \"34\", \"35\", \"37\", \"38\", \"39\"], \"mode\": \"lines\", \"name\": \"recall_score_weighted_max\", \"stepped\": true, \"type\": \"scatter\", \"data\": [0.9959470068471485, 0.9959470068471485, 0.9959470068471485, 0.9959470068471485, 0.9959470068471485, 0.9959470068471485, 0.9959470068471485, 0.9959470068471485, 0.9959470068471485, 0.9959470068471485, 0.9959470068471485, 0.9959470068471485, 0.9959470068471485, 0.9959470068471485, 0.9959470068471485, 0.9959470068471485, 0.9959470068471485, 0.9959470068471485, 0.9959470068471485, 0.9959470068471485, 0.9959470068471485, 0.9959470068471485, 0.9959470068471485, 0.9959470068471485, 0.9959470068471485, 0.9959470068471485, 0.9959470068471485, 0.9959470068471485, 0.9959470068471485, 0.9959470068471485, 0.9959470068471485, 0.9959470068471485, 0.9959470068471485, 0.9959470068471485, 0.9959470068471485, 0.9959470068471485, 0.9959470068471485, 0.9961599989077332, 0.9961599989077332]}], \"recall_score_micro\": [{\"categories\": [\"0\", \"1\", \"2\", \"3\", \"4\", \"5\", \"6\", \"7\", \"8\", \"9\", \"10\", \"11\", \"12\", \"13\", \"14\", \"15\", \"16\", \"17\", \"18\", \"19\", \"20\", \"21\", \"22\", \"23\", \"24\", \"25\", \"26\", \"27\", \"28\", \"29\", \"30\", \"31\", \"32\", \"33\", \"34\", \"35\", \"37\", \"38\", \"39\"], \"mode\": \"markers\", \"name\": \"recall_score_micro\", \"stepped\": false, \"type\": \"scatter\", \"data\": [0.9959470068471485, 0.995093445715469, 0.9929592015528396, 0.9430455589107367, 0.994025299633863, 0.9560332959383597, 0.9876266631471398, 0.9886927612281632, 0.9511451736590717, 0.8397751295360368, 0.8389220235155979, 0.8402024789909273, 0.8662330215062818, 0.9861341258337069, 0.9240494432851749, 0.909113830147934, 0.9938127626845192, 0.9682123002914989, 0.9940271200788253, 0.9880531023795491, 0.9729029042923818, 0.9948797709880237, 0.9946656411493379, 0.9946660962605784, 0.9739726432633296, 0.9703454066760268, 0.9912534446232021, 0.9635194207344131, 0.9942394294725488, 0.9876268907027601, 0.9942396570281691, 0.9880526472683085, 0.9942394294725488, 0.984640678297793, 0.9507182793154216, 0.8389220235155979, 0.9944531041999941, 0.9961599989077332, 0.9957333321197034]}, {\"categories\": [\"0\", \"1\", \"2\", \"3\", \"4\", \"5\", \"6\", \"7\", \"8\", \"9\", \"10\", \"11\", \"12\", \"13\", \"14\", \"15\", \"16\", \"17\", \"18\", \"19\", \"20\", \"21\", \"22\", \"23\", \"24\", \"25\", \"26\", \"27\", \"28\", \"29\", \"30\", \"31\", \"32\", \"33\", \"34\", \"35\", \"37\", \"38\", \"39\"], \"mode\": \"lines\", \"name\": \"recall_score_micro_max\", \"stepped\": true, \"type\": \"scatter\", \"data\": [0.9959470068471485, 0.9959470068471485, 0.9959470068471485, 0.9959470068471485, 0.9959470068471485, 0.9959470068471485, 0.9959470068471485, 0.9959470068471485, 0.9959470068471485, 0.9959470068471485, 0.9959470068471485, 0.9959470068471485, 0.9959470068471485, 0.9959470068471485, 0.9959470068471485, 0.9959470068471485, 0.9959470068471485, 0.9959470068471485, 0.9959470068471485, 0.9959470068471485, 0.9959470068471485, 0.9959470068471485, 0.9959470068471485, 0.9959470068471485, 0.9959470068471485, 0.9959470068471485, 0.9959470068471485, 0.9959470068471485, 0.9959470068471485, 0.9959470068471485, 0.9959470068471485, 0.9959470068471485, 0.9959470068471485, 0.9959470068471485, 0.9959470068471485, 0.9959470068471485, 0.9959470068471485, 0.9961599989077332, 0.9961599989077332]}]}, \"metricName\": null, \"primaryMetricName\": \"accuracy\", \"showLegend\": false}, \"run_metrics\": [{\"name\": \"experiment_status\", \"run_id\": \"AutoML_14a7c021-4812-4a2f-805c-07d30f839ab4\", \"categories\": [0, 1, 2, 3, 4, 5, 6], \"series\": [{\"data\": [\"DatasetEvaluation\", \"FeaturesGeneration\", \"DatasetFeaturization\", \"DatasetFeaturizationCompleted\", \"DatasetBalancing\", \"DatasetCrossValidationSplit\", \"ModelSelection\"]}]}, {\"name\": \"experiment_status_description\", \"run_id\": \"AutoML_14a7c021-4812-4a2f-805c-07d30f839ab4\", \"categories\": [0, 1, 2, 3, 4, 5, 6], \"series\": [{\"data\": [\"Gathering dataset statistics.\", \"Generating features for the dataset.\", \"Beginning to fit featurizers and featurize the dataset.\", \"Completed fit featurizers and featurizing the dataset.\", \"Performing class balancing sweeping\", \"Generating individually featurized CV splits.\", \"Beginning model selection.\"]}]}, {\"name\": \"AUC_micro\", \"run_id\": \"AutoML_14a7c021-4812-4a2f-805c-07d30f839ab4\", \"categories\": [0], \"series\": [{\"data\": [0.9998985878079582]}]}, {\"name\": \"accuracy\", \"run_id\": \"AutoML_14a7c021-4812-4a2f-805c-07d30f839ab4\", \"categories\": [0], \"series\": [{\"data\": [0.9961599989077332]}]}, {\"name\": \"average_precision_score_macro\", \"run_id\": \"AutoML_14a7c021-4812-4a2f-805c-07d30f839ab4\", \"categories\": [0], \"series\": [{\"data\": [0.9996781377395372]}]}, {\"name\": \"average_precision_score_weighted\", \"run_id\": \"AutoML_14a7c021-4812-4a2f-805c-07d30f839ab4\", \"categories\": [0], \"series\": [{\"data\": [0.9998719513328457]}]}, {\"name\": \"AUC_weighted\", \"run_id\": \"AutoML_14a7c021-4812-4a2f-805c-07d30f839ab4\", \"categories\": [0], \"series\": [{\"data\": [0.9998654961566016]}]}, {\"name\": \"recall_score_micro\", \"run_id\": \"AutoML_14a7c021-4812-4a2f-805c-07d30f839ab4\", \"categories\": [0], \"series\": [{\"data\": [0.9961599989077332]}]}, {\"name\": \"f1_score_weighted\", \"run_id\": \"AutoML_14a7c021-4812-4a2f-805c-07d30f839ab4\", \"categories\": [0], \"series\": [{\"data\": [0.996153225485552]}]}, {\"name\": \"matthews_correlation\", \"run_id\": \"AutoML_14a7c021-4812-4a2f-805c-07d30f839ab4\", \"categories\": [0], \"series\": [{\"data\": [0.9857880662400167]}]}, {\"name\": \"precision_score_weighted\", \"run_id\": \"AutoML_14a7c021-4812-4a2f-805c-07d30f839ab4\", \"categories\": [0], \"series\": [{\"data\": [0.9961784693493649]}]}, {\"name\": \"log_loss\", \"run_id\": \"AutoML_14a7c021-4812-4a2f-805c-07d30f839ab4\", \"categories\": [0], \"series\": [{\"data\": [0.05581630085627652]}]}, {\"name\": \"balanced_accuracy\", \"run_id\": \"AutoML_14a7c021-4812-4a2f-805c-07d30f839ab4\", \"categories\": [0], \"series\": [{\"data\": [0.9914460682138797]}]}, {\"name\": \"f1_score_macro\", \"run_id\": \"AutoML_14a7c021-4812-4a2f-805c-07d30f839ab4\", \"categories\": [0], \"series\": [{\"data\": [0.9928644568869538]}]}, {\"name\": \"AUC_macro\", \"run_id\": \"AutoML_14a7c021-4812-4a2f-805c-07d30f839ab4\", \"categories\": [0], \"series\": [{\"data\": [0.9998654961566016]}]}, {\"name\": \"norm_macro_recall\", \"run_id\": \"AutoML_14a7c021-4812-4a2f-805c-07d30f839ab4\", \"categories\": [0], \"series\": [{\"data\": [0.9828921364277594]}]}, {\"name\": \"recall_score_weighted\", \"run_id\": \"AutoML_14a7c021-4812-4a2f-805c-07d30f839ab4\", \"categories\": [0], \"series\": [{\"data\": [0.9961599989077332]}]}, {\"name\": \"precision_score_macro\", \"run_id\": \"AutoML_14a7c021-4812-4a2f-805c-07d30f839ab4\", \"categories\": [0], \"series\": [{\"data\": [0.9943692938936177]}]}, {\"name\": \"average_precision_score_micro\", \"run_id\": \"AutoML_14a7c021-4812-4a2f-805c-07d30f839ab4\", \"categories\": [0], \"series\": [{\"data\": [0.9998994767391606]}]}, {\"name\": \"weighted_accuracy\", \"run_id\": \"AutoML_14a7c021-4812-4a2f-805c-07d30f839ab4\", \"categories\": [0], \"series\": [{\"data\": [0.997947656288436]}]}, {\"name\": \"recall_score_macro\", \"run_id\": \"AutoML_14a7c021-4812-4a2f-805c-07d30f839ab4\", \"categories\": [0], \"series\": [{\"data\": [0.9914460682138797]}]}, {\"name\": \"precision_score_micro\", \"run_id\": \"AutoML_14a7c021-4812-4a2f-805c-07d30f839ab4\", \"categories\": [0], \"series\": [{\"data\": [0.9961599989077332]}]}, {\"name\": \"f1_score_micro\", \"run_id\": \"AutoML_14a7c021-4812-4a2f-805c-07d30f839ab4\", \"categories\": [0], \"series\": [{\"data\": [0.9961599989077332]}]}], \"run_logs\": \"\\nRun is completed.\", \"graph\": {}, \"widget_settings\": {\"childWidgetDisplay\": \"popup\", \"send_telemetry\": false, \"log_level\": \"INFO\", \"sdk_version\": \"1.20.0\"}, \"loading\": false}"
     },
     "metadata": {},
     "output_type": "display_data"
    }
   ],
   "source": [
    "RunDetails(automl_run).show()"
   ]
  },
  {
   "cell_type": "code",
   "execution_count": 10,
   "metadata": {
    "collapsed": true,
    "gather": {
     "logged": 1612384317188
    },
    "jupyter": {
     "outputs_hidden": false,
     "source_hidden": false
    },
    "nteract": {
     "transient": {
      "deleting": false
     }
    }
   },
   "outputs": [
    {
     "name": "stdout",
     "output_type": "stream",
     "text": [
      "\n",
      "\n",
      "****************************************************************************************************\n",
      "DATA GUARDRAILS: \n",
      "\n",
      "TYPE:         Class balancing detection\n",
      "STATUS:       ALERTED\n",
      "DESCRIPTION:  To decrease model bias, please cancel the current run and fix balancing problem.\n",
      "              Learn more about imbalanced data: https://aka.ms/AutomatedMLImbalancedData\n",
      "DETAILS:      Imbalanced data can lead to a falsely perceived positive effect of a model's accuracy because the input data has bias towards one class.\n",
      "+---------------------------------+---------------------------------+--------------------------------------+\n",
      "|Size of the smallest class       |Name/Label of the smallest class |Number of samples in the training data|\n",
      "+=================================+=================================+======================================+\n",
      "|755                              |1                                |4687                                  |\n",
      "+---------------------------------+---------------------------------+--------------------------------------+\n",
      "\n",
      "****************************************************************************************************\n",
      "\n",
      "TYPE:         Missing feature values imputation\n",
      "STATUS:       PASSED\n",
      "DESCRIPTION:  No feature missing values were detected in the training data.\n",
      "              Learn more about missing value imputation: https://aka.ms/AutomatedMLFeaturization\n",
      "\n",
      "****************************************************************************************************\n",
      "\n",
      "TYPE:         High cardinality feature detection\n",
      "STATUS:       PASSED\n",
      "DESCRIPTION:  Your inputs were analyzed, and no high cardinality features were detected.\n",
      "              Learn more about high cardinality feature handling: https://aka.ms/AutomatedMLFeaturization\n",
      "\n",
      "****************************************************************************************************\n",
      "\n",
      "****************************************************************************************************\n",
      "ITERATION: The iteration being evaluated.\n",
      "PIPELINE: A summary description of the pipeline being evaluated.\n",
      "DURATION: Time taken for the current iteration.\n",
      "METRIC: The result of computing score on the fitted pipeline.\n",
      "BEST: The best observed score thus far.\n",
      "****************************************************************************************************\n",
      "\n",
      " ITERATION   PIPELINE                                       DURATION      METRIC      BEST\n",
      "         0   MaxAbsScaler LightGBM                          0:03:41       0.9959    0.9959\n",
      "         1   MaxAbsScaler XGBoostClassifier                 0:05:36       0.9951    0.9959\n",
      "         2   MaxAbsScaler RandomForest                      0:03:39       0.9930    0.9959\n",
      "         3   MaxAbsScaler RandomForest                      0:01:03       0.9430    0.9959\n",
      "         4   MaxAbsScaler RandomForest                      0:00:58       0.9940    0.9959\n",
      "         5   MaxAbsScaler RandomForest                      0:00:56       0.9560    0.9959\n",
      "         6   SparseNormalizer XGBoostClassifier             0:00:57       0.9876    0.9959\n",
      "         7   SparseNormalizer XGBoostClassifier             0:00:57       0.9887    0.9959\n",
      "         8   MaxAbsScaler LogisticRegression                0:00:58       0.9511    0.9959\n",
      "         9   MaxAbsScaler LightGBM                          0:00:55       0.8398    0.9959\n",
      "        10   MaxAbsScaler ExtremeRandomTrees                0:01:12       0.8389    0.9959\n",
      "        11   StandardScalerWrapper LightGBM                 0:00:55       0.8402    0.9959\n",
      "        12   MaxAbsScaler LightGBM                          0:00:59       0.8662    0.9959\n",
      "        13   SparseNormalizer XGBoostClassifier             0:00:55       0.9861    0.9959\n",
      "        14   MaxAbsScaler LightGBM                          0:01:07       0.9240    0.9959\n",
      "        15   MaxAbsScaler ExtremeRandomTrees                0:00:59       0.9091    0.9959\n",
      "        16   StandardScalerWrapper RandomForest             0:00:49       0.9938    0.9959\n",
      "        17   SparseNormalizer XGBoostClassifier             0:01:06       0.9682    0.9959\n",
      "        18   StandardScalerWrapper LightGBM                 0:01:01       0.9940    0.9959\n",
      "        19   SparseNormalizer XGBoostClassifier             0:00:58       0.9881    0.9959\n",
      "        20   SparseNormalizer XGBoostClassifier             0:00:54       0.9729    0.9959\n",
      "        21   StandardScalerWrapper XGBoostClassifier        0:00:55       0.9949    0.9959\n",
      "        22   MaxAbsScaler RandomForest                      0:01:05       0.9947    0.9959\n",
      "        23   StandardScalerWrapper XGBoostClassifier        0:00:52       0.9947    0.9959\n",
      "        24   SparseNormalizer XGBoostClassifier             0:00:56       0.9740    0.9959\n",
      "        25   SparseNormalizer LightGBM                      0:00:54       0.9703    0.9959\n",
      "        26   StandardScalerWrapper XGBoostClassifier        0:00:55       0.9913    0.9959\n",
      "        27   SparseNormalizer LightGBM                      0:00:53       0.9635    0.9959\n",
      "        28   StandardScalerWrapper LightGBM                 0:00:59       0.9942    0.9959\n",
      "        29   SparseNormalizer XGBoostClassifier             0:00:57       0.9876    0.9959\n",
      "        30   StandardScalerWrapper LightGBM                 0:00:56       0.9942    0.9959\n",
      "        31   StandardScalerWrapper LightGBM                 0:00:44       0.9881    0.9959\n",
      "        32   StandardScalerWrapper XGBoostClassifier        0:00:49       0.9942    0.9959\n",
      "        33   SparseNormalizer XGBoostClassifier             0:00:58       0.9846    0.9959\n",
      "        34   MaxAbsScaler LogisticRegression                0:00:54       0.9507    0.9959\n",
      "        35   TruncatedSVDWrapper LightGBM                   0:00:46       0.8389    0.9959\n",
      "        36                                                  0:00:54          nan    0.9959\n",
      "        37   StandardScalerWrapper XGBoostClassifier        0:00:41       0.9945    0.9959\n",
      "        38    VotingEnsemble                                0:01:35       0.9962    0.9962\n",
      "        39    StackEnsemble                                 0:01:47       0.9957    0.9962\n"
     ]
    },
    {
     "data": {
      "text/plain": [
       "{'runId': 'AutoML_14a7c021-4812-4a2f-805c-07d30f839ab4',\n",
       " 'target': 'cpu-cluster',\n",
       " 'status': 'Completed',\n",
       " 'startTimeUtc': '2021-02-03T20:05:59.325206Z',\n",
       " 'endTimeUtc': '2021-02-03T20:27:57.746342Z',\n",
       " 'properties': {'num_iterations': '1000',\n",
       "  'training_type': 'TrainFull',\n",
       "  'acquisition_function': 'EI',\n",
       "  'primary_metric': 'accuracy',\n",
       "  'train_split': '0',\n",
       "  'acquisition_parameter': '0',\n",
       "  'num_cross_validation': '5',\n",
       "  'target': 'cpu-cluster',\n",
       "  'AMLSettingsJsonString': '{\"path\":null,\"name\":\"capstone_automl\",\"subscription_id\":\"a24a24d5-8d87-4c8a-99b6-91ed2d2df51f\",\"resource_group\":\"aml-quickstarts-137123\",\"workspace_name\":\"quick-starts-ws-137123\",\"region\":\"southcentralus\",\"compute_target\":\"cpu-cluster\",\"spark_service\":null,\"azure_service\":\"remote\",\"many_models\":false,\"pipeline_fetch_max_batch_size\":1,\"iterations\":1000,\"primary_metric\":\"accuracy\",\"task_type\":\"classification\",\"data_script\":null,\"validation_size\":0.0,\"n_cross_validations\":5,\"y_min\":null,\"y_max\":null,\"num_classes\":null,\"featurization\":\"auto\",\"_ignore_package_version_incompatibilities\":false,\"is_timeseries\":false,\"max_cores_per_iteration\":1,\"max_concurrent_iterations\":5,\"iteration_timeout_minutes\":null,\"mem_in_mb\":null,\"enforce_time_on_windows\":false,\"experiment_timeout_minutes\":30,\"experiment_exit_score\":null,\"whitelist_models\":null,\"blacklist_algos\":[\"TensorFlowLinearClassifier\",\"TensorFlowDNN\"],\"supported_models\":[\"LinearSVM\",\"ExtremeRandomTrees\",\"TensorFlowDNN\",\"SVM\",\"KNN\",\"MultinomialNaiveBayes\",\"GradientBoosting\",\"RandomForest\",\"AveragedPerceptronClassifier\",\"TensorFlowLinearClassifier\",\"DecisionTree\",\"LightGBM\",\"XGBoostClassifier\",\"LogisticRegression\",\"BernoulliNaiveBayes\",\"SGD\"],\"auto_blacklist\":true,\"blacklist_samples_reached\":false,\"exclude_nan_labels\":true,\"verbosity\":20,\"_debug_log\":\"azureml_automl.log\",\"show_warnings\":false,\"model_explainability\":true,\"service_url\":null,\"sdk_url\":null,\"sdk_packages\":null,\"enable_onnx_compatible_models\":false,\"enable_split_onnx_featurizer_estimator_models\":false,\"vm_type\":\"STANDARD_D2_V2\",\"telemetry_verbosity\":20,\"send_telemetry\":true,\"enable_dnn\":false,\"scenario\":\"SDK-1.13.0\",\"environment_label\":null,\"force_text_dnn\":false,\"enable_feature_sweeping\":true,\"enable_early_stopping\":true,\"early_stopping_n_iters\":10,\"metrics\":null,\"enable_ensembling\":true,\"enable_stack_ensembling\":true,\"ensemble_iterations\":15,\"enable_tf\":false,\"enable_subsampling\":null,\"subsample_seed\":null,\"enable_nimbusml\":false,\"enable_streaming\":false,\"force_streaming\":false,\"track_child_runs\":true,\"allowed_private_models\":[],\"label_column_name\":\"Hazardous\",\"weight_column_name\":null,\"cv_split_column_names\":null,\"enable_local_managed\":false,\"_local_managed_run_id\":null,\"cost_mode\":1,\"lag_length\":0,\"metric_operation\":\"maximize\",\"preprocess\":true}',\n",
       "  'DataPrepJsonString': '{\\\\\"training_data\\\\\": \\\\\"{\\\\\\\\\\\\\"blocks\\\\\\\\\\\\\": [{\\\\\\\\\\\\\"id\\\\\\\\\\\\\": \\\\\\\\\\\\\"e362512e-bf00-43d0-bff9-ff792de028f6\\\\\\\\\\\\\", \\\\\\\\\\\\\"type\\\\\\\\\\\\\": \\\\\\\\\\\\\"Microsoft.DPrep.GetDatastoreFilesBlock\\\\\\\\\\\\\", \\\\\\\\\\\\\"arguments\\\\\\\\\\\\\": {\\\\\\\\\\\\\"datastores\\\\\\\\\\\\\": [{\\\\\\\\\\\\\"datastoreName\\\\\\\\\\\\\": \\\\\\\\\\\\\"workspaceblobstore\\\\\\\\\\\\\", \\\\\\\\\\\\\"path\\\\\\\\\\\\\": \\\\\\\\\\\\\"managed-dataset/df3c3c5e-debf-4e25-9109-00a5dbb754c4/\\\\\\\\\\\\\", \\\\\\\\\\\\\"resourceGroup\\\\\\\\\\\\\": \\\\\\\\\\\\\"aml-quickstarts-137123\\\\\\\\\\\\\", \\\\\\\\\\\\\"subscription\\\\\\\\\\\\\": \\\\\\\\\\\\\"a24a24d5-8d87-4c8a-99b6-91ed2d2df51f\\\\\\\\\\\\\", \\\\\\\\\\\\\"workspaceName\\\\\\\\\\\\\": \\\\\\\\\\\\\"quick-starts-ws-137123\\\\\\\\\\\\\"}]}, \\\\\\\\\\\\\"localData\\\\\\\\\\\\\": {}, \\\\\\\\\\\\\"isEnabled\\\\\\\\\\\\\": true, \\\\\\\\\\\\\"name\\\\\\\\\\\\\": null, \\\\\\\\\\\\\"annotation\\\\\\\\\\\\\": null}, {\\\\\\\\\\\\\"id\\\\\\\\\\\\\": \\\\\\\\\\\\\"8ba7b9e9-6988-42fb-9c69-68f5f29a3613\\\\\\\\\\\\\", \\\\\\\\\\\\\"type\\\\\\\\\\\\\": \\\\\\\\\\\\\"Microsoft.DPrep.ReadParquetFileBlock\\\\\\\\\\\\\", \\\\\\\\\\\\\"arguments\\\\\\\\\\\\\": {\\\\\\\\\\\\\"preview\\\\\\\\\\\\\": false}, \\\\\\\\\\\\\"localData\\\\\\\\\\\\\": {}, \\\\\\\\\\\\\"isEnabled\\\\\\\\\\\\\": true, \\\\\\\\\\\\\"name\\\\\\\\\\\\\": null, \\\\\\\\\\\\\"annotation\\\\\\\\\\\\\": null}, {\\\\\\\\\\\\\"id\\\\\\\\\\\\\": \\\\\\\\\\\\\"c9bcd2ed-f5f3-4b55-b368-cd660d682460\\\\\\\\\\\\\", \\\\\\\\\\\\\"type\\\\\\\\\\\\\": \\\\\\\\\\\\\"Microsoft.DPrep.DropColumnsBlock\\\\\\\\\\\\\", \\\\\\\\\\\\\"arguments\\\\\\\\\\\\\": {\\\\\\\\\\\\\"columns\\\\\\\\\\\\\": {\\\\\\\\\\\\\"type\\\\\\\\\\\\\": 0, \\\\\\\\\\\\\"details\\\\\\\\\\\\\": {\\\\\\\\\\\\\"selectedColumns\\\\\\\\\\\\\": [\\\\\\\\\\\\\"Path\\\\\\\\\\\\\"]}}}, \\\\\\\\\\\\\"localData\\\\\\\\\\\\\": {}, \\\\\\\\\\\\\"isEnabled\\\\\\\\\\\\\": true, \\\\\\\\\\\\\"name\\\\\\\\\\\\\": null, \\\\\\\\\\\\\"annotation\\\\\\\\\\\\\": null}], \\\\\\\\\\\\\"inspectors\\\\\\\\\\\\\": [], \\\\\\\\\\\\\"meta\\\\\\\\\\\\\": {\\\\\\\\\\\\\"savedDatasetId\\\\\\\\\\\\\": \\\\\\\\\\\\\"ef90df34-2ddf-43a3-8ed3-a2cb9ffa9a87\\\\\\\\\\\\\", \\\\\\\\\\\\\"datasetType\\\\\\\\\\\\\": \\\\\\\\\\\\\"tabular\\\\\\\\\\\\\", \\\\\\\\\\\\\"subscriptionId\\\\\\\\\\\\\": \\\\\\\\\\\\\"a24a24d5-8d87-4c8a-99b6-91ed2d2df51f\\\\\\\\\\\\\", \\\\\\\\\\\\\"workspaceId\\\\\\\\\\\\\": \\\\\\\\\\\\\"e9712117-0618-46a3-86b5-cbc5941e1b46\\\\\\\\\\\\\", \\\\\\\\\\\\\"workspaceLocation\\\\\\\\\\\\\": \\\\\\\\\\\\\"southcentralus\\\\\\\\\\\\\"}}\\\\\", \\\\\"activities\\\\\": 0}',\n",
       "  'EnableSubsampling': None,\n",
       "  'runTemplate': 'AutoML',\n",
       "  'azureml.runsource': 'automl',\n",
       "  'display_task_type': 'classification',\n",
       "  'dependencies_versions': '{\"azureml-widgets\": \"1.20.0\", \"azureml-train\": \"1.20.0\", \"azureml-train-restclients-hyperdrive\": \"1.20.0\", \"azureml-train-core\": \"1.20.0\", \"azureml-train-automl\": \"1.20.0\", \"azureml-train-automl-runtime\": \"1.20.0\", \"azureml-train-automl-client\": \"1.20.0\", \"azureml-tensorboard\": \"1.20.0\", \"azureml-telemetry\": \"1.20.0\", \"azureml-sdk\": \"1.20.0\", \"azureml-samples\": \"0+unknown\", \"azureml-pipeline\": \"1.20.0\", \"azureml-pipeline-steps\": \"1.20.0\", \"azureml-pipeline-core\": \"1.20.0\", \"azureml-opendatasets\": \"1.20.0\", \"azureml-model-management-sdk\": \"1.0.1b6.post1\", \"azureml-mlflow\": \"1.20.0.post1\", \"azureml-interpret\": \"1.20.0\", \"azureml-explain-model\": \"1.20.0\", \"azureml-defaults\": \"1.20.0\", \"azureml-dataset-runtime\": \"1.20.0\", \"azureml-dataprep\": \"2.7.3\", \"azureml-dataprep-rslex\": \"1.5.0\", \"azureml-dataprep-native\": \"27.0.0\", \"azureml-datadrift\": \"1.20.0\", \"azureml-core\": \"1.20.0\", \"azureml-contrib-services\": \"1.20.0\", \"azureml-contrib-server\": \"1.20.0\", \"azureml-contrib-reinforcementlearning\": \"1.20.0\", \"azureml-contrib-pipeline-steps\": \"1.20.0\", \"azureml-contrib-notebook\": \"1.20.0\", \"azureml-contrib-interpret\": \"1.20.0\", \"azureml-contrib-gbdt\": \"1.20.0\", \"azureml-contrib-fairness\": \"1.20.0\", \"azureml-contrib-dataset\": \"1.20.0\", \"azureml-cli-common\": \"1.20.0\", \"azureml-automl-runtime\": \"1.20.0\", \"azureml-automl-core\": \"1.20.0\", \"azureml-accel-models\": \"1.20.0\"}',\n",
       "  '_aml_system_scenario_identification': 'Remote.Parent',\n",
       "  'ClientType': 'SDK',\n",
       "  'environment_cpu_name': 'AzureML-AutoML',\n",
       "  'environment_cpu_label': 'prod',\n",
       "  'environment_gpu_name': 'AzureML-AutoML-GPU',\n",
       "  'environment_gpu_label': 'prod',\n",
       "  'root_attribution': 'automl',\n",
       "  'attribution': 'AutoML',\n",
       "  'Orchestrator': 'AutoML',\n",
       "  'CancelUri': 'https://southcentralus.experiments.azureml.net/jasmine/v1.0/subscriptions/a24a24d5-8d87-4c8a-99b6-91ed2d2df51f/resourceGroups/aml-quickstarts-137123/providers/Microsoft.MachineLearningServices/workspaces/quick-starts-ws-137123/experimentids/010d2344-6655-4927-8357-00047002de0e/cancel/AutoML_14a7c021-4812-4a2f-805c-07d30f839ab4',\n",
       "  'ClientSdkVersion': '1.21.0',\n",
       "  'snapshotId': '00000000-0000-0000-0000-000000000000',\n",
       "  'SetupRunId': 'AutoML_14a7c021-4812-4a2f-805c-07d30f839ab4_setup',\n",
       "  'SetupRunContainerId': 'dcid.AutoML_14a7c021-4812-4a2f-805c-07d30f839ab4_setup',\n",
       "  'FeaturizationRunJsonPath': 'featurizer_container.json',\n",
       "  'FeaturizationRunId': 'AutoML_14a7c021-4812-4a2f-805c-07d30f839ab4_featurize',\n",
       "  'ProblemInfoJsonString': '{\"dataset_num_categorical\": 0, \"is_sparse\": true, \"subsampling\": false, \"dataset_classes\": 2, \"dataset_features\": 30, \"dataset_samples\": 4687, \"single_frequency_class_detected\": false}',\n",
       "  'ModelExplainRunId': 'AutoML_14a7c021-4812-4a2f-805c-07d30f839ab4_ModelExplain'},\n",
       " 'inputDatasets': [{'dataset': {'id': 'ef90df34-2ddf-43a3-8ed3-a2cb9ffa9a87'}, 'consumptionDetails': {'type': 'RunInput', 'inputName': 'training_data', 'mechanism': 'Direct'}}],\n",
       " 'outputDatasets': [],\n",
       " 'logFiles': {},\n",
       " 'submittedBy': 'ODL_User 137123'}"
      ]
     },
     "execution_count": 10,
     "metadata": {},
     "output_type": "execute_result"
    }
   ],
   "source": [
    "automl_run.wait_for_completion(show_output=False)"
   ]
  },
  {
   "cell_type": "markdown",
   "metadata": {},
   "source": [
    "## Best Model\n",
    "In the cell below, we are retrieving the best model from the AutoML experiment using `get_output()` method. Further, we are displaying the details associated with the best AutoML run and they are:\n",
    "1. Run ID\n",
    "2. Status\n",
    "3. Accuracy\n",
    "4. Model Steps\n",
    "5. Files uploaded during the run"
   ]
  },
  {
   "cell_type": "code",
   "execution_count": 11,
   "metadata": {
    "gather": {
     "logged": 1612384528080
    },
    "jupyter": {
     "outputs_hidden": false,
     "source_hidden": false
    },
    "nteract": {
     "transient": {
      "deleting": false
     }
    }
   },
   "outputs": [
    {
     "name": "stderr",
     "output_type": "stream",
     "text": [
      "WARNING:root:The version of the SDK does not match the version the model was trained on.\n",
      "WARNING:root:The consistency in the result may not be guaranteed.\n",
      "WARNING:root:Package:azureml-automl-core, training version:1.21.0, current version:1.20.0\n",
      "Package:azureml-automl-runtime, training version:1.21.0, current version:1.20.0\n",
      "Package:azureml-core, training version:1.21.0.post1, current version:1.20.0\n",
      "Package:azureml-dataprep, training version:2.8.2, current version:2.7.3\n",
      "Package:azureml-dataprep-native, training version:28.0.0, current version:27.0.0\n",
      "Package:azureml-dataprep-rslex, training version:1.6.0, current version:1.5.0\n",
      "Package:azureml-dataset-runtime, training version:1.21.0, current version:1.20.0\n",
      "Package:azureml-defaults, training version:1.21.0, current version:1.20.0\n",
      "Package:azureml-interpret, training version:1.21.0, current version:1.20.0\n",
      "Package:azureml-pipeline-core, training version:1.21.0, current version:1.20.0\n",
      "Package:azureml-telemetry, training version:1.21.0, current version:1.20.0\n",
      "Package:azureml-train-automl-client, training version:1.21.0, current version:1.20.0\n",
      "Package:azureml-train-automl-runtime, training version:1.21.0, current version:1.20.0\n",
      "WARNING:root:Please ensure the version of your local conda dependencies match the version on which your model was trained in order to properly retrieve your model.\n"
     ]
    },
    {
     "name": "stdout",
     "output_type": "stream",
     "text": [
      "Run(Experiment: capstone_automl,\n",
      "Id: AutoML_14a7c021-4812-4a2f-805c-07d30f839ab4_38,\n",
      "Type: azureml.scriptrun,\n",
      "Status: Completed)\n",
      "0.9961599989077332\n"
     ]
    }
   ],
   "source": [
    "#TODO: Save the best model\n",
    "\n",
    "best_automl_run, model = automl_run.get_output()\n",
    "\n",
    "print(best_automl_run)\n",
    "\n",
    "print(best_automl_run.get_metrics()['accuracy'])\n"
   ]
  },
  {
   "cell_type": "code",
   "execution_count": 12,
   "metadata": {
    "collapsed": true,
    "gather": {
     "logged": 1612384551236
    },
    "jupyter": {
     "outputs_hidden": false,
     "source_hidden": false
    },
    "nteract": {
     "transient": {
      "deleting": false
     }
    }
   },
   "outputs": [
    {
     "data": {
      "text/plain": [
       "[('datatransformer',\n",
       "  DataTransformer(enable_dnn=None, enable_feature_sweeping=None,\n",
       "                  feature_sweeping_config=None, feature_sweeping_timeout=None,\n",
       "                  featurization_config=None, force_text_dnn=None,\n",
       "                  is_cross_validation=None, is_onnx_compatible=None, logger=None,\n",
       "                  observer=None, task=None, working_dir=None)),\n",
       " ('prefittedsoftvotingclassifier',\n",
       "  PreFittedSoftVotingClassifier(classification_labels=None,\n",
       "                                estimators=[('0',\n",
       "                                             Pipeline(memory=None,\n",
       "                                                      steps=[('maxabsscaler',\n",
       "                                                              MaxAbsScaler(copy=True)),\n",
       "                                                             ('lightgbmclassifier',\n",
       "                                                              LightGBMClassifier(boosting_type='gbdt',\n",
       "                                                                                 class_weight=None,\n",
       "                                                                                 colsample_bytree=1.0,\n",
       "                                                                                 importance_type='split',\n",
       "                                                                                 learning_rate=0.1,\n",
       "                                                                                 max_depth=-1,\n",
       "                                                                                 min_child_samples=20,\n",
       "                                                                                 min_child_weight=0.001,\n",
       "                                                                                 min_spl...\n",
       "                                                                                reg_alpha=0,\n",
       "                                                                                reg_lambda=2.0833333333333335,\n",
       "                                                                                scale_pos_weight=1,\n",
       "                                                                                seed=None,\n",
       "                                                                                silent=None,\n",
       "                                                                                subsample=1,\n",
       "                                                                                tree_method='auto',\n",
       "                                                                                verbose=-10,\n",
       "                                                                                verbosity=0))],\n",
       "                                                      verbose=False))],\n",
       "                                flatten_transform=None,\n",
       "                                weights=[0.15384615384615385, 0.15384615384615385,\n",
       "                                         0.07692307692307693, 0.15384615384615385,\n",
       "                                         0.07692307692307693, 0.07692307692307693,\n",
       "                                         0.07692307692307693,\n",
       "                                         0.23076923076923078]))]"
      ]
     },
     "execution_count": 12,
     "metadata": {},
     "output_type": "execute_result"
    }
   ],
   "source": [
    "model.steps"
   ]
  },
  {
   "cell_type": "code",
   "execution_count": 13,
   "metadata": {
    "gather": {
     "logged": 1612384562983
    }
   },
   "outputs": [
    {
     "name": "stdout",
     "output_type": "stream",
     "text": [
      "\n",
      " ['accuracy_table', 'automl_driver.py', 'azureml-logs/55_azureml-execution-tvmps_eda92d709739e22f2e8334dabd6a328b41d96759deed3ad03f3b041003188629_d.txt', 'azureml-logs/65_job_prep-tvmps_eda92d709739e22f2e8334dabd6a328b41d96759deed3ad03f3b041003188629_d.txt', 'azureml-logs/70_driver_log.txt', 'azureml-logs/75_job_post-tvmps_eda92d709739e22f2e8334dabd6a328b41d96759deed3ad03f3b041003188629_d.txt', 'azureml-logs/process_info.json', 'azureml-logs/process_status.json', 'confusion_matrix', 'logs/azureml/104_azureml.log', 'logs/azureml/azureml_automl.log', 'logs/azureml/job_prep_azureml.log', 'logs/azureml/job_release_azureml.log', 'outputs/conda_env_v_1_0_0.yml', 'outputs/env_dependencies.json', 'outputs/internal_cross_validated_models.pkl', 'outputs/model.pkl', 'outputs/pipeline_graph.json', 'outputs/scoring_file_v_1_0_0.py']\n"
     ]
    }
   ],
   "source": [
    "# list the model files uploaded during the run\n",
    "\n",
    "print(\"\\n\", best_automl_run.get_file_names())"
   ]
  },
  {
   "cell_type": "markdown",
   "metadata": {},
   "source": [
    "## Model Deployment\n",
    "\n",
    "Since this is the best of the two models we have we will go further with the deployment of this model.\n",
    "\n",
    "In the cell below, we register the model."
   ]
  },
  {
   "cell_type": "code",
   "execution_count": 14,
   "metadata": {
    "gather": {
     "logged": 1612384580853
    },
    "jupyter": {
     "outputs_hidden": false,
     "source_hidden": false
    },
    "nteract": {
     "transient": {
      "deleting": false
     }
    }
   },
   "outputs": [],
   "source": [
    "registered_model = best_automl_run.register_model(model_name='automl-model', model_path='outputs/model.pkl')"
   ]
  },
  {
   "cell_type": "markdown",
   "metadata": {},
   "source": [
    "In the cell below, we download the `model.pkl` and `scoring_file_v_1_0_0.py` as `scoring.py` so that we can use them for inferencing purpose in the next step."
   ]
  },
  {
   "cell_type": "code",
   "execution_count": 15,
   "metadata": {
    "collapsed": true,
    "gather": {
     "logged": 1612384637026
    },
    "jupyter": {
     "outputs_hidden": false,
     "source_hidden": false
    },
    "nteract": {
     "transient": {
      "deleting": false
     }
    }
   },
   "outputs": [],
   "source": [
    "best_automl_run.download_file('outputs/scoring_file_v_1_0_0.py', 'score.py')\n",
    "best_automl_run.download_file('outputs/model.pkl', 'automl_model.pkl')"
   ]
  },
  {
   "cell_type": "markdown",
   "metadata": {},
   "source": [
    "In the cell below, we create an inference config."
   ]
  },
  {
   "cell_type": "code",
   "execution_count": 16,
   "metadata": {
    "gather": {
     "logged": 1612384780544
    }
   },
   "outputs": [],
   "source": [
    "inference_config = InferenceConfig(entry_script='score.py', environment=best_automl_run.get_environment())"
   ]
  },
  {
   "cell_type": "markdown",
   "metadata": {},
   "source": [
    "In the cell below, we deploy the model as a webservice named `asteroid-classification` and retrieve the deploy state alongwith the HTTP API to interact with the deployed model."
   ]
  },
  {
   "cell_type": "code",
   "execution_count": 19,
   "metadata": {
    "gather": {
     "logged": 1612385139613
    }
   },
   "outputs": [
    {
     "name": "stdout",
     "output_type": "stream",
     "text": [
      "Tips: You can try get_logs(): https://aka.ms/debugimage#dockerlog or local deployment: https://aka.ms/debugimage#debug-locally to debug if deployment takes longer than 10 minutes.\n",
      "Running..............................................\n",
      "Succeeded\n",
      "ACI service creation operation finished, operation \"Succeeded\"\n",
      "Healthy\n",
      "http://e372db09-a692-4219-abb9-6efd2dcb9ef1.southcentralus.azurecontainer.io/score\n"
     ]
    }
   ],
   "source": [
    "service_name = 'asteroid-classification'\n",
    "\n",
    "service = Model.deploy(ws, service_name, [registered_model], inference_config, overwrite=True)\n",
    "service.wait_for_deployment(show_output=True)\n",
    "\n",
    "print(service.state)\n",
    "print(service.scoring_uri)"
   ]
  },
  {
   "cell_type": "markdown",
   "metadata": {},
   "source": [
    "### ***In the following cell we implement one of the stand out suggestions. This line of code will enable logging in our deployed web service.***"
   ]
  },
  {
   "cell_type": "code",
   "execution_count": 20,
   "metadata": {
    "collapsed": true,
    "gather": {
     "logged": 1612385173189
    },
    "jupyter": {
     "outputs_hidden": false,
     "source_hidden": false
    },
    "nteract": {
     "transient": {
      "deleting": false
     }
    }
   },
   "outputs": [],
   "source": [
    "service.update(enable_app_insights=True)"
   ]
  },
  {
   "cell_type": "markdown",
   "metadata": {},
   "source": [
    "In the cell below, we are creating a sample data for testing our deployed service."
   ]
  },
  {
   "cell_type": "code",
   "execution_count": 29,
   "metadata": {
    "collapsed": true,
    "gather": {
     "logged": 1612386613535
    },
    "jupyter": {
     "outputs_hidden": false,
     "source_hidden": false
    },
    "nteract": {
     "transient": {
      "deleting": false
     }
    }
   },
   "outputs": [],
   "source": [
    "df=dataset.to_pandas_dataframe()\n",
    "\n",
    "Hazardous=df.pop('Hazardous')\n",
    "\n",
    "keys=[]\n",
    "\n",
    "for col in df.columns:\n",
    "    keys.append(col)\n",
    "\n",
    "data={'data':[dict(zip(keys, df.iloc[0].tolist()))]}"
   ]
  },
  {
   "cell_type": "markdown",
   "metadata": {},
   "source": [
    "### In the following two cells we will be testing our deployed model by two different ways."
   ]
  },
  {
   "cell_type": "markdown",
   "metadata": {
    "collapsed": true,
    "gather": {
     "logged": 1598431657736
    },
    "jupyter": {
     "outputs_hidden": false,
     "source_hidden": false
    },
    "nteract": {
     "transient": {
      "deleting": false
     }
    }
   },
   "source": [
    "**This is the first method.** We send a request to the web service we deployed using `requests.post()` method."
   ]
  },
  {
   "cell_type": "code",
   "execution_count": 32,
   "metadata": {
    "gather": {
     "logged": 1612386649709
    }
   },
   "outputs": [
    {
     "name": "stdout",
     "output_type": "stream",
     "text": [
      "{\"result\": [1]}\n"
     ]
    }
   ],
   "source": [
    "scoring_uri=service.scoring_uri\n",
    "\n",
    "input_data = json.dumps(data)\n",
    "with open(\"data.json\", \"w\") as _f:\n",
    "    _f.write(input_data)\n",
    "\n",
    "# Set the content type\n",
    "headers = {'Content-Type': 'application/json'}\n",
    "\n",
    "# Make the request and display the response\n",
    "response = requests.post(scoring_uri, input_data, headers=headers)\n",
    "print(response.json())"
   ]
  },
  {
   "cell_type": "markdown",
   "metadata": {},
   "source": [
    "**This is the second method.** We send a request to the web service we deployed using `service.run()` method."
   ]
  },
  {
   "cell_type": "code",
   "execution_count": 33,
   "metadata": {
    "gather": {
     "logged": 1612386662006
    },
    "jupyter": {
     "outputs_hidden": false,
     "source_hidden": false
    },
    "nteract": {
     "transient": {
      "deleting": false
     }
    }
   },
   "outputs": [
    {
     "name": "stdout",
     "output_type": "stream",
     "text": [
      "{\"result\": [1]}\n"
     ]
    }
   ],
   "source": [
    "prediction = service.run(input_data)\n",
    "\n",
    "print(prediction)"
   ]
  },
  {
   "cell_type": "markdown",
   "metadata": {
    "collapsed": true,
    "gather": {
     "logged": 1598432765711
    },
    "jupyter": {
     "outputs_hidden": false,
     "source_hidden": false
    },
    "nteract": {
     "transient": {
      "deleting": false
     }
    }
   },
   "source": [
    "In the cell below, we print the logs of the web service."
   ]
  },
  {
   "cell_type": "code",
   "execution_count": 34,
   "metadata": {
    "gather": {
     "logged": 1612386670866
    },
    "jupyter": {
     "outputs_hidden": false,
     "source_hidden": false
    },
    "nteract": {
     "transient": {
      "deleting": false
     }
    }
   },
   "outputs": [
    {
     "name": "stdout",
     "output_type": "stream",
     "text": [
      "2021-02-03T20:46:23,970089479+00:00 - iot-server/run \n",
      "2021-02-03T20:46:23,970347292+00:00 - gunicorn/run \n",
      "2021-02-03T20:46:24,070191333+00:00 - rsyslog/run \n",
      "2021-02-03T20:46:24,072157935+00:00 - nginx/run \n",
      "/usr/sbin/nginx: /azureml-envs/azureml_20a8278aa8b20dd48cc50f56a6d2586c/lib/libcrypto.so.1.0.0: no version information available (required by /usr/sbin/nginx)\n",
      "/usr/sbin/nginx: /azureml-envs/azureml_20a8278aa8b20dd48cc50f56a6d2586c/lib/libcrypto.so.1.0.0: no version information available (required by /usr/sbin/nginx)\n",
      "/usr/sbin/nginx: /azureml-envs/azureml_20a8278aa8b20dd48cc50f56a6d2586c/lib/libssl.so.1.0.0: no version information available (required by /usr/sbin/nginx)\n",
      "/usr/sbin/nginx: /azureml-envs/azureml_20a8278aa8b20dd48cc50f56a6d2586c/lib/libssl.so.1.0.0: no version information available (required by /usr/sbin/nginx)\n",
      "/usr/sbin/nginx: /azureml-envs/azureml_20a8278aa8b20dd48cc50f56a6d2586c/lib/libssl.so.1.0.0: no version information available (required by /usr/sbin/nginx)\n",
      "rsyslogd: /azureml-envs/azureml_20a8278aa8b20dd48cc50f56a6d2586c/lib/libuuid.so.1: no version information available (required by rsyslogd)\n",
      "EdgeHubConnectionString and IOTEDGE_IOTHUBHOSTNAME are not set. Exiting...\n",
      "2021-02-03T20:46:26,273585389+00:00 - iot-server/finish 1 0\n",
      "2021-02-03T20:46:26,373946756+00:00 - Exit code 1 is normal. Not restarting iot-server.\n",
      "Starting gunicorn 19.9.0\n",
      "Listening at: http://127.0.0.1:31311 (14)\n",
      "Using worker: sync\n",
      "worker timeout is set to 300\n",
      "Booting worker with pid: 42\n",
      "SPARK_HOME not set. Skipping PySpark Initialization.\n",
      "Generating new fontManager, this may take some time...\n",
      "Initializing logger\n",
      "2021-02-03 20:46:39,576 | root | INFO | Starting up app insights client\n",
      "2021-02-03 20:46:39,576 | root | INFO | Starting up request id generator\n",
      "2021-02-03 20:46:39,576 | root | INFO | Starting up app insight hooks\n",
      "2021-02-03 20:46:39,576 | root | INFO | Invoking user's init function\n",
      "2021-02-03 20:47:04,973 | root | INFO | Users's init has completed successfully\n",
      "2021-02-03 20:47:04,976 | root | INFO | Skipping middleware: dbg_model_info as it's not enabled.\n",
      "2021-02-03 20:47:05,069 | root | INFO | Skipping middleware: dbg_resource_usage as it's not enabled.\n",
      "2021-02-03 20:47:05,070 | root | INFO | Scoring timeout is found from os.environ: 60000 ms\n",
      "2021-02-03 20:47:15,397 | root | INFO | 200\n",
      "127.0.0.1 - - [03/Feb/2021:20:47:15 +0000] \"GET /swagger.json HTTP/1.0\" 200 3809 \"-\" \"Go-http-client/1.1\"\n",
      "2021-02-03 20:47:48,914 | root | INFO | Validation Request Content-Type\n",
      "2021-02-03 20:47:48,915 | root | INFO | Scoring Timer is set to 60.0 seconds\n",
      "2021-02-03 20:47:48,970 | root | INFO | 200\n",
      "127.0.0.1 - - [03/Feb/2021:20:47:48 +0000] \"POST /score HTTP/1.0\" 200 672 \"-\" \"python-requests/2.25.1\"\n",
      "2021-02-03 20:48:08,913 | root | INFO | Validation Request Content-Type\n",
      "2021-02-03 20:48:08,913 | root | INFO | Scoring Timer is set to 60.0 seconds\n",
      "2021-02-03 20:48:08,924 | root | INFO | 200\n",
      "127.0.0.1 - - [03/Feb/2021:20:48:08 +0000] \"POST /score HTTP/1.0\" 200 672 \"-\" \"python-requests/2.25.1\"\n",
      "2021-02-03 20:52:14,298 | root | INFO | 200\n",
      "127.0.0.1 - - [03/Feb/2021:20:52:14 +0000] \"GET /swagger.json HTTP/1.0\" 200 3809 \"-\" \"Go-http-client/1.1\"\n",
      "2021-02-03 20:52:14,657 | root | INFO | 200\n",
      "127.0.0.1 - - [03/Feb/2021:20:52:14 +0000] \"GET /swagger.json HTTP/1.0\" 200 3809 \"-\" \"Go-http-client/1.1\"\n",
      "2021-02-03 20:52:41,148 | root | INFO | 200\n",
      "127.0.0.1 - - [03/Feb/2021:20:52:41 +0000] \"GET /swagger.json HTTP/1.0\" 200 3809 \"-\" \"Mozilla/5.0 (Windows NT 10.0; Win64; x64) AppleWebKit/537.36 (KHTML, like Gecko) Chrome/87.0.4280.88 Safari/537.36\"\n",
      "127.0.0.1 - - [03/Feb/2021:20:52:41 +0000] \"GET /favicon.ico HTTP/1.0\" 404 232 \"http://e372db09-a692-4219-abb9-6efd2dcb9ef1.southcentralus.azurecontainer.io/swagger.json\" \"Mozilla/5.0 (Windows NT 10.0; Win64; x64) AppleWebKit/537.36 (KHTML, like Gecko) Chrome/87.0.4280.88 Safari/537.36\"\n",
      "2021-02-03 21:10:47,130 | root | INFO | Validation Request Content-Type\n",
      "2021-02-03 21:10:47,131 | root | INFO | Scoring Timer is set to 60.0 seconds\n",
      "2021-02-03 21:10:49,570 | root | INFO | 200\n",
      "127.0.0.1 - - [03/Feb/2021:21:10:49 +0000] \"POST /score HTTP/1.0\" 200 19 \"-\" \"python-requests/2.25.1\"\n",
      "2021-02-03 21:10:59,191 | root | INFO | Validation Request Content-Type\n",
      "2021-02-03 21:10:59,191 | root | INFO | Scoring Timer is set to 60.0 seconds\n",
      "2021-02-03 21:11:01,970 | root | INFO | 200\n",
      "127.0.0.1 - - [03/Feb/2021:21:11:02 +0000] \"POST /score HTTP/1.0\" 200 19 \"-\" \"python-requests/2.25.1\"\n",
      "\n"
     ]
    }
   ],
   "source": [
    "logs = service.get_logs()\n",
    "\n",
    "for line in logs.split('\\n'):\n",
    "    print(line)"
   ]
  },
  {
   "cell_type": "markdown",
   "metadata": {},
   "source": [
    "In the cell below, we delete the service."
   ]
  },
  {
   "cell_type": "code",
   "execution_count": 35,
   "metadata": {
    "gather": {
     "logged": 1612386702311
    }
   },
   "outputs": [],
   "source": [
    "service.delete()"
   ]
  },
  {
   "cell_type": "markdown",
   "metadata": {},
   "source": [
    "In the cell below, we delete the previously created compute cluster to avoid the unnecessary comsumption of resources."
   ]
  },
  {
   "cell_type": "code",
   "execution_count": 36,
   "metadata": {
    "gather": {
     "logged": 1612386706952
    }
   },
   "outputs": [
    {
     "name": "stdout",
     "output_type": "stream",
     "text": [
      "Current provisioning state of AmlCompute is \"Deleting\"\n",
      "\n",
      "Current provisioning state of AmlCompute is \"Deleting\"\n",
      "\n",
      "Current provisioning state of AmlCompute is \"Deleting\"\n",
      "\n"
     ]
    }
   ],
   "source": [
    "aml_compute.delete()"
   ]
  }
 ],
 "metadata": {
  "kernel_info": {
   "name": "python3"
  },
  "kernelspec": {
   "display_name": "Python 3",
   "language": "python",
   "name": "python3"
  },
  "language_info": {
   "codemirror_mode": {
    "name": "ipython",
    "version": 3
   },
   "file_extension": ".py",
   "mimetype": "text/x-python",
   "name": "python",
   "nbconvert_exporter": "python",
   "pygments_lexer": "ipython3",
   "version": "3.8.5"
  },
  "nteract": {
   "version": "nteract-front-end@1.0.0"
  }
 },
 "nbformat": 4,
 "nbformat_minor": 2
}
